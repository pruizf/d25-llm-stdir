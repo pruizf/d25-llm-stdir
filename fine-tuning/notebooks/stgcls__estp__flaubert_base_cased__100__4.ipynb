{
 "cells": [
  {
   "cell_type": "markdown",
   "metadata": {
    "id": "4h58qK_cWCUq"
   },
   "source": [
    "This one is getting ./AS13_reduc/data/AS13_stgdir_labelGeneric.csv"
   ]
  },
  {
   "cell_type": "code",
   "execution_count": 1,
   "metadata": {
    "executionInfo": {
     "elapsed": 6475,
     "status": "ok",
     "timestamp": 1731974983650,
     "user": {
      "displayName": "Pablo Ruiz",
      "userId": "14891062942456279353"
     },
     "user_tz": -60
    },
    "id": "PA4QPz-_1elp"
   },
   "outputs": [],
   "source": [
    "%%capture\n",
    "!pip install codecarbon"
   ]
  },
  {
   "cell_type": "code",
   "execution_count": 2,
   "metadata": {
    "executionInfo": {
     "elapsed": 9,
     "status": "ok",
     "timestamp": 1731974983652,
     "user": {
      "displayName": "Pablo Ruiz",
      "userId": "14891062942456279353"
     },
     "user_tz": -60
    },
    "id": "j4F4-d1WYtN6"
   },
   "outputs": [],
   "source": [
    "#!pip uninstall wandb"
   ]
  },
  {
   "cell_type": "code",
   "execution_count": 3,
   "metadata": {
    "colab": {
     "base_uri": "https://localhost:8080/"
    },
    "executionInfo": {
     "elapsed": 2747,
     "status": "ok",
     "timestamp": 1731974986391,
     "user": {
      "displayName": "Pablo Ruiz",
      "userId": "14891062942456279353"
     },
     "user_tz": -60
    },
    "id": "91i-w5LE7OaO",
    "outputId": "5c19daca-c00e-492b-a008-42a347bbc814"
   },
   "outputs": [
    {
     "name": "stdout",
     "output_type": "stream",
     "text": [
      "Requirement already satisfied: accelerate in /usr/local/lib/python3.10/dist-packages (1.1.1)\n",
      "Requirement already satisfied: huggingface-hub>=0.21.0 in /usr/local/lib/python3.10/dist-packages (from accelerate) (0.26.2)\n",
      "Requirement already satisfied: numpy<3.0.0,>=1.17 in /usr/local/lib/python3.10/dist-packages (from accelerate) (1.26.4)\n",
      "Requirement already satisfied: packaging>=20.0 in /usr/local/lib/python3.10/dist-packages (from accelerate) (24.2)\n",
      "Requirement already satisfied: psutil in /usr/local/lib/python3.10/dist-packages (from accelerate) (5.9.5)\n",
      "Requirement already satisfied: pyyaml in /usr/local/lib/python3.10/dist-packages (from accelerate) (6.0.2)\n",
      "Requirement already satisfied: safetensors>=0.4.3 in /usr/local/lib/python3.10/dist-packages (from accelerate) (0.4.5)\n",
      "Requirement already satisfied: torch>=1.10.0 in /usr/local/lib/python3.10/dist-packages (from accelerate) (2.5.1+cu121)\n",
      "Requirement already satisfied: filelock in /usr/local/lib/python3.10/dist-packages (from huggingface-hub>=0.21.0->accelerate) (3.16.1)\n",
      "Requirement already satisfied: fsspec>=2023.5.0 in /usr/local/lib/python3.10/dist-packages (from huggingface-hub>=0.21.0->accelerate) (2024.10.0)\n",
      "Requirement already satisfied: requests in /usr/local/lib/python3.10/dist-packages (from huggingface-hub>=0.21.0->accelerate) (2.32.3)\n",
      "Requirement already satisfied: tqdm>=4.42.1 in /usr/local/lib/python3.10/dist-packages (from huggingface-hub>=0.21.0->accelerate) (4.66.6)\n",
      "Requirement already satisfied: typing-extensions>=3.7.4.3 in /usr/local/lib/python3.10/dist-packages (from huggingface-hub>=0.21.0->accelerate) (4.12.2)\n",
      "Requirement already satisfied: networkx in /usr/local/lib/python3.10/dist-packages (from torch>=1.10.0->accelerate) (3.4.2)\n",
      "Requirement already satisfied: jinja2 in /usr/local/lib/python3.10/dist-packages (from torch>=1.10.0->accelerate) (3.1.4)\n",
      "Requirement already satisfied: sympy==1.13.1 in /usr/local/lib/python3.10/dist-packages (from torch>=1.10.0->accelerate) (1.13.1)\n",
      "Requirement already satisfied: mpmath<1.4,>=1.1.0 in /usr/local/lib/python3.10/dist-packages (from sympy==1.13.1->torch>=1.10.0->accelerate) (1.3.0)\n",
      "Requirement already satisfied: MarkupSafe>=2.0 in /usr/local/lib/python3.10/dist-packages (from jinja2->torch>=1.10.0->accelerate) (3.0.2)\n",
      "Requirement already satisfied: charset-normalizer<4,>=2 in /usr/local/lib/python3.10/dist-packages (from requests->huggingface-hub>=0.21.0->accelerate) (3.4.0)\n",
      "Requirement already satisfied: idna<4,>=2.5 in /usr/local/lib/python3.10/dist-packages (from requests->huggingface-hub>=0.21.0->accelerate) (3.10)\n",
      "Requirement already satisfied: urllib3<3,>=1.21.1 in /usr/local/lib/python3.10/dist-packages (from requests->huggingface-hub>=0.21.0->accelerate) (2.2.3)\n",
      "Requirement already satisfied: certifi>=2017.4.17 in /usr/local/lib/python3.10/dist-packages (from requests->huggingface-hub>=0.21.0->accelerate) (2024.8.30)\n"
     ]
    }
   ],
   "source": [
    "# run this first cell and then do \"restart and run all\" from the run menu\n",
    "!pip install -U accelerate"
   ]
  },
  {
   "cell_type": "code",
   "execution_count": 4,
   "metadata": {
    "colab": {
     "base_uri": "https://localhost:8080/"
    },
    "executionInfo": {
     "elapsed": 2404,
     "status": "ok",
     "timestamp": 1731974988786,
     "user": {
      "displayName": "Pablo Ruiz",
      "userId": "14891062942456279353"
     },
     "user_tz": -60
    },
    "id": "VfxX-HxAtGr6",
    "outputId": "9c7ec204-915e-44b6-f838-6570d7ce902b"
   },
   "outputs": [
    {
     "name": "stdout",
     "output_type": "stream",
     "text": [
      "Collecting sacremoses\n",
      "  Downloading sacremoses-0.1.1-py3-none-any.whl.metadata (8.3 kB)\n",
      "Requirement already satisfied: regex in /usr/local/lib/python3.10/dist-packages (from sacremoses) (2024.9.11)\n",
      "Requirement already satisfied: click in /usr/local/lib/python3.10/dist-packages (from sacremoses) (8.1.7)\n",
      "Requirement already satisfied: joblib in /usr/local/lib/python3.10/dist-packages (from sacremoses) (1.4.2)\n",
      "Requirement already satisfied: tqdm in /usr/local/lib/python3.10/dist-packages (from sacremoses) (4.66.6)\n",
      "Downloading sacremoses-0.1.1-py3-none-any.whl (897 kB)\n",
      "\u001b[?25l   \u001b[90m━━━━━━━━━━━━━━━━━━━━━━━━━━━━━━━━━━━━━━━━\u001b[0m \u001b[32m0.0/897.5 kB\u001b[0m \u001b[31m?\u001b[0m eta \u001b[36m-:--:--\u001b[0m\r",
      "\u001b[2K   \u001b[91m━━━━━━━━━━━━━━━━━━━━━\u001b[0m\u001b[90m╺\u001b[0m\u001b[90m━━━━━━━━━━━━━━━━━━\u001b[0m \u001b[32m481.3/897.5 kB\u001b[0m \u001b[31m14.3 MB/s\u001b[0m eta \u001b[36m0:00:01\u001b[0m\r",
      "\u001b[2K   \u001b[90m━━━━━━━━━━━━━━━━━━━━━━━━━━━━━━━━━━━━━━━━\u001b[0m \u001b[32m897.5/897.5 kB\u001b[0m \u001b[31m17.4 MB/s\u001b[0m eta \u001b[36m0:00:00\u001b[0m\n",
      "\u001b[?25hInstalling collected packages: sacremoses\n",
      "Successfully installed sacremoses-0.1.1\n"
     ]
    }
   ],
   "source": [
    "# Flaubert asks for this\n",
    "!pip install sacremoses"
   ]
  },
  {
   "cell_type": "code",
   "execution_count": 5,
   "metadata": {
    "executionInfo": {
     "elapsed": 7,
     "status": "ok",
     "timestamp": 1731974988786,
     "user": {
      "displayName": "Pablo Ruiz",
      "userId": "14891062942456279353"
     },
     "user_tz": -60
    },
    "id": "fXocg9Zp52uh"
   },
   "outputs": [],
   "source": [
    "import os\n",
    "os.environ[\"WANDB_MODE\"] = \"disabled\"\n",
    "\n",
    "##### CONFIG ####\n",
    "\n",
    "dataset_name = \"AS13_stgdir_labelGeneric\"\n",
    "\n",
    "model_dict = {1: \"camembert-base\", 2: \"cmarkea/distilcamembert-base\", 3: \"bert-base-multilingual-cased\", 4: \"distilbert-base-multilingual-cased\",\n",
    "              5: \"bert-base-multilingual-uncased\", 6: \"distilbert-base-multilingual-uncased\",\n",
    "              7: \"flaubert/flaubert_base_cased\", 8: \"flaubert/flaubert_base_uncased\"}\n",
    "\n",
    "model_key = 7\n",
    "model_ckpt = model_dict[model_key]\n",
    "fraction_kept = 100 # can only be 100, 50, 25, 10, 5\n",
    "run_number = 4\n",
    "\n",
    "batch_size = 16\n",
    "max_epochs = 40\n",
    "assert not(fraction_kept < 50 and max_epochs < 10)\n",
    "\n",
    "use_drive = False\n",
    "use_drive_for_cm = True\n",
    "save_model = False\n",
    "\n",
    "# output dir format (below)\n",
    "#output_dir=f\"{model_ckpt}__finetuned__{dataset_name}__{fraction_kept}__{run_number}\""
   ]
  },
  {
   "cell_type": "code",
   "execution_count": 10,
   "metadata": {
    "colab": {
     "base_uri": "https://localhost:8080/"
    },
    "executionInfo": {
     "elapsed": 1968,
     "status": "ok",
     "timestamp": 1731975336376,
     "user": {
      "displayName": "Pablo Ruiz",
      "userId": "14891062942456279353"
     },
     "user_tz": -60
    },
    "id": "ScQinG_O1h0N",
    "outputId": "ece32832-7bf4-4bcf-f274-46e93891e9f4"
   },
   "outputs": [
    {
     "name": "stdout",
     "output_type": "stream",
     "text": [
      "Drive already mounted at /content/drive; to attempt to forcibly remount, call drive.mount(\"/content/drive\", force_remount=True).\n"
     ]
    }
   ],
   "source": [
    "import os\n",
    "if use_drive_for_cm:\n",
    "  from google.colab import drive\n",
    "  drive.mount(\"/content/drive\")\n",
    "  out_dir = \"/content/drive/MyDrive/___tests_ft_d25\"\n",
    "  model_outname = model_ckpt.replace(\"/\", \"-\")\n",
    "  out_exp = os.path.join(f\"stgcls_reps__{model_outname}__{str.zfill(str(fraction_kept), 3)}__{run_number}\")\n",
    "  out_dir_exp = os.path.join(out_dir, out_exp)\n",
    "  if not os.path.exists(out_dir_exp):\n",
    "    os.mkdir(out_dir_exp)"
   ]
  },
  {
   "cell_type": "code",
   "execution_count": 11,
   "metadata": {
    "colab": {
     "base_uri": "https://localhost:8080/"
    },
    "executionInfo": {
     "elapsed": 255,
     "status": "ok",
     "timestamp": 1731975352397,
     "user": {
      "displayName": "Pablo Ruiz",
      "userId": "14891062942456279353"
     },
     "user_tz": -60
    },
    "id": "cM8CXpaC3iPm",
    "outputId": "6b6b2676-0352-4f31-9695-dcabeb491929"
   },
   "outputs": [
    {
     "name": "stdout",
     "output_type": "stream",
     "text": [
      "___d25-exps  stgcls_reps__flaubert-flaubert_base_cased__100__4\n"
     ]
    }
   ],
   "source": [
    "!ls /content/drive/MyDrive/___tests_ft_d25"
   ]
  },
  {
   "cell_type": "code",
   "execution_count": 12,
   "metadata": {
    "executionInfo": {
     "elapsed": 377,
     "status": "ok",
     "timestamp": 1731975353072,
     "user": {
      "displayName": "Pablo Ruiz",
      "userId": "14891062942456279353"
     },
     "user_tz": -60
    },
    "id": "-DUtQKJO98Bk"
   },
   "outputs": [],
   "source": [
    "assert fraction_kept in [100*x for x in (1, 0.5, 0.25, 0.1, 0.05)]\n",
    "assert run_number in (1, 2, 3, 4, 5)"
   ]
  },
  {
   "cell_type": "code",
   "execution_count": 13,
   "metadata": {
    "executionInfo": {
     "elapsed": 15,
     "status": "ok",
     "timestamp": 1731975353073,
     "user": {
      "displayName": "Pablo Ruiz",
      "userId": "14891062942456279353"
     },
     "user_tz": -60
    },
    "id": "O1LSZd4CEl-U"
   },
   "outputs": [],
   "source": [
    "# fraction kept to color map\n",
    "clrmap_dict = {100: \"Greens\", 50: \"Blues\", 25: \"Purples\", 10: \"Oranges\", 5: \"Reds\"}\n",
    "assert fraction_kept in clrmap_dict"
   ]
  },
  {
   "cell_type": "code",
   "execution_count": 14,
   "metadata": {
    "colab": {
     "base_uri": "https://localhost:8080/"
    },
    "executionInfo": {
     "elapsed": 14,
     "status": "ok",
     "timestamp": 1731975353073,
     "user": {
      "displayName": "Pablo Ruiz",
      "userId": "14891062942456279353"
     },
     "user_tz": -60
    },
    "id": "hVCb0q68jf8u",
    "outputId": "626cecfb-d98a-46fa-a56f-f5fc5b8c45ad"
   },
   "outputs": [
    {
     "name": "stdout",
     "output_type": "stream",
     "text": [
      "Python 3.10.12\n"
     ]
    }
   ],
   "source": [
    "!python --version"
   ]
  },
  {
   "cell_type": "code",
   "execution_count": 15,
   "metadata": {
    "executionInfo": {
     "elapsed": 5,
     "status": "ok",
     "timestamp": 1731975353073,
     "user": {
      "displayName": "Pablo Ruiz",
      "userId": "14891062942456279353"
     },
     "user_tz": -60
    },
    "id": "DVadEZwvQLc1"
   },
   "outputs": [],
   "source": [
    "!mkdir data"
   ]
  },
  {
   "cell_type": "code",
   "execution_count": 16,
   "metadata": {
    "colab": {
     "base_uri": "https://localhost:8080/"
    },
    "executionInfo": {
     "elapsed": 2505,
     "status": "ok",
     "timestamp": 1731975355574,
     "user": {
      "displayName": "Pablo Ruiz",
      "userId": "14891062942456279353"
     },
     "user_tz": -60
    },
    "id": "nOiT_b0Kie1S",
    "outputId": "e9a8e36a-e540-4d8a-8d69-b5f0d608101d"
   },
   "outputs": [
    {
     "name": "stdout",
     "output_type": "stream",
     "text": [
      "Requirement already satisfied: transformers in /usr/local/lib/python3.10/dist-packages (4.46.2)\n",
      "Requirement already satisfied: filelock in /usr/local/lib/python3.10/dist-packages (from transformers) (3.16.1)\n",
      "Requirement already satisfied: huggingface-hub<1.0,>=0.23.2 in /usr/local/lib/python3.10/dist-packages (from transformers) (0.26.2)\n",
      "Requirement already satisfied: numpy>=1.17 in /usr/local/lib/python3.10/dist-packages (from transformers) (1.26.4)\n",
      "Requirement already satisfied: packaging>=20.0 in /usr/local/lib/python3.10/dist-packages (from transformers) (24.2)\n",
      "Requirement already satisfied: pyyaml>=5.1 in /usr/local/lib/python3.10/dist-packages (from transformers) (6.0.2)\n",
      "Requirement already satisfied: regex!=2019.12.17 in /usr/local/lib/python3.10/dist-packages (from transformers) (2024.9.11)\n",
      "Requirement already satisfied: requests in /usr/local/lib/python3.10/dist-packages (from transformers) (2.32.3)\n",
      "Requirement already satisfied: safetensors>=0.4.1 in /usr/local/lib/python3.10/dist-packages (from transformers) (0.4.5)\n",
      "Requirement already satisfied: tokenizers<0.21,>=0.20 in /usr/local/lib/python3.10/dist-packages (from transformers) (0.20.3)\n",
      "Requirement already satisfied: tqdm>=4.27 in /usr/local/lib/python3.10/dist-packages (from transformers) (4.66.6)\n",
      "Requirement already satisfied: fsspec>=2023.5.0 in /usr/local/lib/python3.10/dist-packages (from huggingface-hub<1.0,>=0.23.2->transformers) (2024.10.0)\n",
      "Requirement already satisfied: typing-extensions>=3.7.4.3 in /usr/local/lib/python3.10/dist-packages (from huggingface-hub<1.0,>=0.23.2->transformers) (4.12.2)\n",
      "Requirement already satisfied: charset-normalizer<4,>=2 in /usr/local/lib/python3.10/dist-packages (from requests->transformers) (3.4.0)\n",
      "Requirement already satisfied: idna<4,>=2.5 in /usr/local/lib/python3.10/dist-packages (from requests->transformers) (3.10)\n",
      "Requirement already satisfied: urllib3<3,>=1.21.1 in /usr/local/lib/python3.10/dist-packages (from requests->transformers) (2.2.3)\n",
      "Requirement already satisfied: certifi>=2017.4.17 in /usr/local/lib/python3.10/dist-packages (from requests->transformers) (2024.8.30)\n"
     ]
    }
   ],
   "source": [
    "! pip install transformers"
   ]
  },
  {
   "cell_type": "code",
   "execution_count": 17,
   "metadata": {
    "colab": {
     "base_uri": "https://localhost:8080/"
    },
    "executionInfo": {
     "elapsed": 4284,
     "status": "ok",
     "timestamp": 1731975359850,
     "user": {
      "displayName": "Pablo Ruiz",
      "userId": "14891062942456279353"
     },
     "user_tz": -60
    },
    "id": "DxMx3WDolLON",
    "outputId": "2e9c6af3-d294-4cee-ee26-f91704215c56"
   },
   "outputs": [
    {
     "name": "stdout",
     "output_type": "stream",
     "text": [
      "Collecting datasets\n",
      "  Downloading datasets-3.1.0-py3-none-any.whl.metadata (20 kB)\n",
      "Requirement already satisfied: filelock in /usr/local/lib/python3.10/dist-packages (from datasets) (3.16.1)\n",
      "Requirement already satisfied: numpy>=1.17 in /usr/local/lib/python3.10/dist-packages (from datasets) (1.26.4)\n",
      "Requirement already satisfied: pyarrow>=15.0.0 in /usr/local/lib/python3.10/dist-packages (from datasets) (17.0.0)\n",
      "Collecting dill<0.3.9,>=0.3.0 (from datasets)\n",
      "  Downloading dill-0.3.8-py3-none-any.whl.metadata (10 kB)\n",
      "Requirement already satisfied: pandas in /usr/local/lib/python3.10/dist-packages (from datasets) (2.2.2)\n",
      "Requirement already satisfied: requests>=2.32.2 in /usr/local/lib/python3.10/dist-packages (from datasets) (2.32.3)\n",
      "Requirement already satisfied: tqdm>=4.66.3 in /usr/local/lib/python3.10/dist-packages (from datasets) (4.66.6)\n",
      "Collecting xxhash (from datasets)\n",
      "  Downloading xxhash-3.5.0-cp310-cp310-manylinux_2_17_x86_64.manylinux2014_x86_64.whl.metadata (12 kB)\n",
      "Collecting multiprocess<0.70.17 (from datasets)\n",
      "  Downloading multiprocess-0.70.16-py310-none-any.whl.metadata (7.2 kB)\n",
      "Collecting fsspec<=2024.9.0,>=2023.1.0 (from fsspec[http]<=2024.9.0,>=2023.1.0->datasets)\n",
      "  Downloading fsspec-2024.9.0-py3-none-any.whl.metadata (11 kB)\n",
      "Requirement already satisfied: aiohttp in /usr/local/lib/python3.10/dist-packages (from datasets) (3.11.1)\n",
      "Requirement already satisfied: huggingface-hub>=0.23.0 in /usr/local/lib/python3.10/dist-packages (from datasets) (0.26.2)\n",
      "Requirement already satisfied: packaging in /usr/local/lib/python3.10/dist-packages (from datasets) (24.2)\n",
      "Requirement already satisfied: pyyaml>=5.1 in /usr/local/lib/python3.10/dist-packages (from datasets) (6.0.2)\n",
      "Requirement already satisfied: aiohappyeyeballs>=2.3.0 in /usr/local/lib/python3.10/dist-packages (from aiohttp->datasets) (2.4.3)\n",
      "Requirement already satisfied: aiosignal>=1.1.2 in /usr/local/lib/python3.10/dist-packages (from aiohttp->datasets) (1.3.1)\n",
      "Requirement already satisfied: attrs>=17.3.0 in /usr/local/lib/python3.10/dist-packages (from aiohttp->datasets) (24.2.0)\n",
      "Requirement already satisfied: frozenlist>=1.1.1 in /usr/local/lib/python3.10/dist-packages (from aiohttp->datasets) (1.5.0)\n",
      "Requirement already satisfied: multidict<7.0,>=4.5 in /usr/local/lib/python3.10/dist-packages (from aiohttp->datasets) (6.1.0)\n",
      "Requirement already satisfied: propcache>=0.2.0 in /usr/local/lib/python3.10/dist-packages (from aiohttp->datasets) (0.2.0)\n",
      "Requirement already satisfied: yarl<2.0,>=1.17.0 in /usr/local/lib/python3.10/dist-packages (from aiohttp->datasets) (1.17.1)\n",
      "Requirement already satisfied: async-timeout<6.0,>=4.0 in /usr/local/lib/python3.10/dist-packages (from aiohttp->datasets) (4.0.3)\n",
      "Requirement already satisfied: typing-extensions>=3.7.4.3 in /usr/local/lib/python3.10/dist-packages (from huggingface-hub>=0.23.0->datasets) (4.12.2)\n",
      "Requirement already satisfied: charset-normalizer<4,>=2 in /usr/local/lib/python3.10/dist-packages (from requests>=2.32.2->datasets) (3.4.0)\n",
      "Requirement already satisfied: idna<4,>=2.5 in /usr/local/lib/python3.10/dist-packages (from requests>=2.32.2->datasets) (3.10)\n",
      "Requirement already satisfied: urllib3<3,>=1.21.1 in /usr/local/lib/python3.10/dist-packages (from requests>=2.32.2->datasets) (2.2.3)\n",
      "Requirement already satisfied: certifi>=2017.4.17 in /usr/local/lib/python3.10/dist-packages (from requests>=2.32.2->datasets) (2024.8.30)\n",
      "Requirement already satisfied: python-dateutil>=2.8.2 in /usr/local/lib/python3.10/dist-packages (from pandas->datasets) (2.8.2)\n",
      "Requirement already satisfied: pytz>=2020.1 in /usr/local/lib/python3.10/dist-packages (from pandas->datasets) (2024.2)\n",
      "Requirement already satisfied: tzdata>=2022.7 in /usr/local/lib/python3.10/dist-packages (from pandas->datasets) (2024.2)\n",
      "Requirement already satisfied: six>=1.5 in /usr/local/lib/python3.10/dist-packages (from python-dateutil>=2.8.2->pandas->datasets) (1.16.0)\n",
      "Downloading datasets-3.1.0-py3-none-any.whl (480 kB)\n",
      "\u001b[2K   \u001b[90m━━━━━━━━━━━━━━━━━━━━━━━━━━━━━━━━━━━━━━━━\u001b[0m \u001b[32m480.6/480.6 kB\u001b[0m \u001b[31m13.1 MB/s\u001b[0m eta \u001b[36m0:00:00\u001b[0m\n",
      "\u001b[?25hDownloading dill-0.3.8-py3-none-any.whl (116 kB)\n",
      "\u001b[2K   \u001b[90m━━━━━━━━━━━━━━━━━━━━━━━━━━━━━━━━━━━━━━━━\u001b[0m \u001b[32m116.3/116.3 kB\u001b[0m \u001b[31m10.9 MB/s\u001b[0m eta \u001b[36m0:00:00\u001b[0m\n",
      "\u001b[?25hDownloading fsspec-2024.9.0-py3-none-any.whl (179 kB)\n",
      "\u001b[2K   \u001b[90m━━━━━━━━━━━━━━━━━━━━━━━━━━━━━━━━━━━━━━━━\u001b[0m \u001b[32m179.3/179.3 kB\u001b[0m \u001b[31m15.1 MB/s\u001b[0m eta \u001b[36m0:00:00\u001b[0m\n",
      "\u001b[?25hDownloading multiprocess-0.70.16-py310-none-any.whl (134 kB)\n",
      "\u001b[2K   \u001b[90m━━━━━━━━━━━━━━━━━━━━━━━━━━━━━━━━━━━━━━━━\u001b[0m \u001b[32m134.8/134.8 kB\u001b[0m \u001b[31m12.1 MB/s\u001b[0m eta \u001b[36m0:00:00\u001b[0m\n",
      "\u001b[?25hDownloading xxhash-3.5.0-cp310-cp310-manylinux_2_17_x86_64.manylinux2014_x86_64.whl (194 kB)\n",
      "\u001b[2K   \u001b[90m━━━━━━━━━━━━━━━━━━━━━━━━━━━━━━━━━━━━━━━━\u001b[0m \u001b[32m194.1/194.1 kB\u001b[0m \u001b[31m17.9 MB/s\u001b[0m eta \u001b[36m0:00:00\u001b[0m\n",
      "\u001b[?25hInstalling collected packages: xxhash, fsspec, dill, multiprocess, datasets\n",
      "  Attempting uninstall: fsspec\n",
      "    Found existing installation: fsspec 2024.10.0\n",
      "    Uninstalling fsspec-2024.10.0:\n",
      "      Successfully uninstalled fsspec-2024.10.0\n",
      "\u001b[31mERROR: pip's dependency resolver does not currently take into account all the packages that are installed. This behaviour is the source of the following dependency conflicts.\n",
      "gcsfs 2024.10.0 requires fsspec==2024.10.0, but you have fsspec 2024.9.0 which is incompatible.\u001b[0m\u001b[31m\n",
      "\u001b[0mSuccessfully installed datasets-3.1.0 dill-0.3.8 fsspec-2024.9.0 multiprocess-0.70.16 xxhash-3.5.0\n"
     ]
    }
   ],
   "source": [
    "! pip install datasets"
   ]
  },
  {
   "cell_type": "code",
   "execution_count": 18,
   "metadata": {
    "colab": {
     "base_uri": "https://localhost:8080/"
    },
    "executionInfo": {
     "elapsed": 2747,
     "status": "ok",
     "timestamp": 1731975362589,
     "user": {
      "displayName": "Pablo Ruiz",
      "userId": "14891062942456279353"
     },
     "user_tz": -60
    },
    "id": "JDDnIa9TTz6F",
    "outputId": "f0476c90-7f96-431f-a12a-e8d654a273e3"
   },
   "outputs": [
    {
     "name": "stdout",
     "output_type": "stream",
     "text": [
      "Collecting evaluate\n",
      "  Downloading evaluate-0.4.3-py3-none-any.whl.metadata (9.2 kB)\n",
      "Requirement already satisfied: datasets>=2.0.0 in /usr/local/lib/python3.10/dist-packages (from evaluate) (3.1.0)\n",
      "Requirement already satisfied: numpy>=1.17 in /usr/local/lib/python3.10/dist-packages (from evaluate) (1.26.4)\n",
      "Requirement already satisfied: dill in /usr/local/lib/python3.10/dist-packages (from evaluate) (0.3.8)\n",
      "Requirement already satisfied: pandas in /usr/local/lib/python3.10/dist-packages (from evaluate) (2.2.2)\n",
      "Requirement already satisfied: requests>=2.19.0 in /usr/local/lib/python3.10/dist-packages (from evaluate) (2.32.3)\n",
      "Requirement already satisfied: tqdm>=4.62.1 in /usr/local/lib/python3.10/dist-packages (from evaluate) (4.66.6)\n",
      "Requirement already satisfied: xxhash in /usr/local/lib/python3.10/dist-packages (from evaluate) (3.5.0)\n",
      "Requirement already satisfied: multiprocess in /usr/local/lib/python3.10/dist-packages (from evaluate) (0.70.16)\n",
      "Requirement already satisfied: fsspec>=2021.05.0 in /usr/local/lib/python3.10/dist-packages (from fsspec[http]>=2021.05.0->evaluate) (2024.9.0)\n",
      "Requirement already satisfied: huggingface-hub>=0.7.0 in /usr/local/lib/python3.10/dist-packages (from evaluate) (0.26.2)\n",
      "Requirement already satisfied: packaging in /usr/local/lib/python3.10/dist-packages (from evaluate) (24.2)\n",
      "Requirement already satisfied: filelock in /usr/local/lib/python3.10/dist-packages (from datasets>=2.0.0->evaluate) (3.16.1)\n",
      "Requirement already satisfied: pyarrow>=15.0.0 in /usr/local/lib/python3.10/dist-packages (from datasets>=2.0.0->evaluate) (17.0.0)\n",
      "Requirement already satisfied: aiohttp in /usr/local/lib/python3.10/dist-packages (from datasets>=2.0.0->evaluate) (3.11.1)\n",
      "Requirement already satisfied: pyyaml>=5.1 in /usr/local/lib/python3.10/dist-packages (from datasets>=2.0.0->evaluate) (6.0.2)\n",
      "Requirement already satisfied: typing-extensions>=3.7.4.3 in /usr/local/lib/python3.10/dist-packages (from huggingface-hub>=0.7.0->evaluate) (4.12.2)\n",
      "Requirement already satisfied: charset-normalizer<4,>=2 in /usr/local/lib/python3.10/dist-packages (from requests>=2.19.0->evaluate) (3.4.0)\n",
      "Requirement already satisfied: idna<4,>=2.5 in /usr/local/lib/python3.10/dist-packages (from requests>=2.19.0->evaluate) (3.10)\n",
      "Requirement already satisfied: urllib3<3,>=1.21.1 in /usr/local/lib/python3.10/dist-packages (from requests>=2.19.0->evaluate) (2.2.3)\n",
      "Requirement already satisfied: certifi>=2017.4.17 in /usr/local/lib/python3.10/dist-packages (from requests>=2.19.0->evaluate) (2024.8.30)\n",
      "Requirement already satisfied: python-dateutil>=2.8.2 in /usr/local/lib/python3.10/dist-packages (from pandas->evaluate) (2.8.2)\n",
      "Requirement already satisfied: pytz>=2020.1 in /usr/local/lib/python3.10/dist-packages (from pandas->evaluate) (2024.2)\n",
      "Requirement already satisfied: tzdata>=2022.7 in /usr/local/lib/python3.10/dist-packages (from pandas->evaluate) (2024.2)\n",
      "Requirement already satisfied: aiohappyeyeballs>=2.3.0 in /usr/local/lib/python3.10/dist-packages (from aiohttp->datasets>=2.0.0->evaluate) (2.4.3)\n",
      "Requirement already satisfied: aiosignal>=1.1.2 in /usr/local/lib/python3.10/dist-packages (from aiohttp->datasets>=2.0.0->evaluate) (1.3.1)\n",
      "Requirement already satisfied: attrs>=17.3.0 in /usr/local/lib/python3.10/dist-packages (from aiohttp->datasets>=2.0.0->evaluate) (24.2.0)\n",
      "Requirement already satisfied: frozenlist>=1.1.1 in /usr/local/lib/python3.10/dist-packages (from aiohttp->datasets>=2.0.0->evaluate) (1.5.0)\n",
      "Requirement already satisfied: multidict<7.0,>=4.5 in /usr/local/lib/python3.10/dist-packages (from aiohttp->datasets>=2.0.0->evaluate) (6.1.0)\n",
      "Requirement already satisfied: propcache>=0.2.0 in /usr/local/lib/python3.10/dist-packages (from aiohttp->datasets>=2.0.0->evaluate) (0.2.0)\n",
      "Requirement already satisfied: yarl<2.0,>=1.17.0 in /usr/local/lib/python3.10/dist-packages (from aiohttp->datasets>=2.0.0->evaluate) (1.17.1)\n",
      "Requirement already satisfied: async-timeout<6.0,>=4.0 in /usr/local/lib/python3.10/dist-packages (from aiohttp->datasets>=2.0.0->evaluate) (4.0.3)\n",
      "Requirement already satisfied: six>=1.5 in /usr/local/lib/python3.10/dist-packages (from python-dateutil>=2.8.2->pandas->evaluate) (1.16.0)\n",
      "Downloading evaluate-0.4.3-py3-none-any.whl (84 kB)\n",
      "\u001b[2K   \u001b[90m━━━━━━━━━━━━━━━━━━━━━━━━━━━━━━━━━━━━━━━━\u001b[0m \u001b[32m84.0/84.0 kB\u001b[0m \u001b[31m3.8 MB/s\u001b[0m eta \u001b[36m0:00:00\u001b[0m\n",
      "\u001b[?25hInstalling collected packages: evaluate\n",
      "Successfully installed evaluate-0.4.3\n"
     ]
    }
   ],
   "source": [
    "! pip install evaluate"
   ]
  },
  {
   "cell_type": "code",
   "execution_count": 19,
   "metadata": {
    "colab": {
     "base_uri": "https://localhost:8080/"
    },
    "executionInfo": {
     "elapsed": 2652,
     "status": "ok",
     "timestamp": 1731975365234,
     "user": {
      "displayName": "Pablo Ruiz",
      "userId": "14891062942456279353"
     },
     "user_tz": -60
    },
    "id": "aAw0pQphrAfT",
    "outputId": "3182a0bb-f713-4da3-a36f-7a7a8ee9d570"
   },
   "outputs": [
    {
     "name": "stdout",
     "output_type": "stream",
     "text": [
      "Requirement already satisfied: sentencepiece in /usr/local/lib/python3.10/dist-packages (0.2.0)\n"
     ]
    }
   ],
   "source": [
    "!pip install sentencepiece"
   ]
  },
  {
   "cell_type": "code",
   "execution_count": 20,
   "metadata": {
    "executionInfo": {
     "elapsed": 16293,
     "status": "ok",
     "timestamp": 1731975381522,
     "user": {
      "displayName": "Pablo Ruiz",
      "userId": "14891062942456279353"
     },
     "user_tz": -60
    },
    "id": "ZpuVC6BkiaLz"
   },
   "outputs": [],
   "source": [
    "import os\n",
    "\n",
    "from transformers import AutoTokenizer, DataCollatorWithPadding, AutoModelForSequenceClassification, TrainingArguments, Trainer\n",
    "from transformers import EarlyStoppingCallback, IntervalStrategy\n",
    "from transformers import FlaubertModel, FlaubertTokenizer\n",
    "from datasets import Features, Value, ClassLabel, Dataset, DatasetDict\n",
    "import evaluate\n",
    "import pandas as pd\n",
    "import numpy as np\n",
    "from sklearn.metrics import accuracy_score, f1_score\n",
    "from sklearn.metrics import ConfusionMatrixDisplay, confusion_matrix\n",
    "import matplotlib.pyplot as plt\n",
    "import torch"
   ]
  },
  {
   "cell_type": "code",
   "execution_count": 21,
   "metadata": {
    "executionInfo": {
     "elapsed": 19,
     "status": "ok",
     "timestamp": 1731975381523,
     "user": {
      "displayName": "Pablo Ruiz",
      "userId": "14891062942456279353"
     },
     "user_tz": -60
    },
    "id": "BcK_Jk9pIsud"
   },
   "outputs": [],
   "source": [
    "from sklearn.metrics import classification_report"
   ]
  },
  {
   "cell_type": "markdown",
   "metadata": {
    "id": "-xnDZvsjFacw"
   },
   "source": [
    "J'ai téléversé les données sur mon serveur"
   ]
  },
  {
   "cell_type": "code",
   "execution_count": 22,
   "metadata": {
    "colab": {
     "base_uri": "https://localhost:8080/"
    },
    "executionInfo": {
     "elapsed": 1750,
     "status": "ok",
     "timestamp": 1731975383254,
     "user": {
      "displayName": "Pablo Ruiz",
      "userId": "14891062942456279353"
     },
     "user_tz": -60
    },
    "id": "6BgtcVnxvpsa",
    "outputId": "eb61aeea-faee-4fcc-fcf8-3e38bdd2fef0"
   },
   "outputs": [
    {
     "name": "stdout",
     "output_type": "stream",
     "text": [
      "data directory exists\n",
      "--2024-11-19 00:16:21--  https://prf1.org/stgs/as-did/AS13_stgdir_labelGeneric.csv\n",
      "Resolving prf1.org (prf1.org)... 85.214.103.246\n",
      "Connecting to prf1.org (prf1.org)|85.214.103.246|:443... connected.\n",
      "HTTP request sent, awaiting response... 200 OK\n",
      "Length: 1017742 (994K) [text/csv]\n",
      "Saving to: ‘data/AS13_stgdir_labelGeneric.csv’\n",
      "\n",
      "AS13_stgdir_labelGe 100%[===================>] 993.89K  1.04MB/s    in 0.9s    \n",
      "\n",
      "2024-11-19 00:16:22 (1.04 MB/s) - ‘data/AS13_stgdir_labelGeneric.csv’ saved [1017742/1017742]\n",
      "\n"
     ]
    }
   ],
   "source": [
    "![[ ! -d data ]] && mkdir data || echo \"data directory exists\"\n",
    "#![[ ! -f data/AS13_stgdir_clean.csv ]] && wget -P data https://prf1.org/stgs/as-did/AS13_stgdir_clean.csv || echo \"dataset already downloaded\"\n",
    "![[ ! -f data/AS13_stgdir_labelGeneric.csv ]] && wget -P data https://prf1.org/stgs/as-did/AS13_stgdir_labelGeneric.csv || echo \"dataset already downloaded\""
   ]
  },
  {
   "cell_type": "markdown",
   "metadata": {
    "id": "j_8Cf_PZ6Su6"
   },
   "source": [
    "Recette pour éléchargement fichiers qui sont sur Drive sur la session Colab (sans monter le Drive) (pas nécessaire ici mais comme idée pour d'autres fichiers).\n",
    "C'est un fichier quelconque non relié à la tâche qui a été utilisé pour tester."
   ]
  },
  {
   "cell_type": "code",
   "execution_count": 23,
   "metadata": {
    "executionInfo": {
     "elapsed": 22,
     "status": "ok",
     "timestamp": 1731975383255,
     "user": {
      "displayName": "Pablo Ruiz",
      "userId": "14891062942456279353"
     },
     "user_tz": -60
    },
    "id": "8mZV1PfD1jRm"
   },
   "outputs": [],
   "source": [
    "mydf = \"data/AS13_stgdir_labelGeneric.csv\""
   ]
  },
  {
   "cell_type": "code",
   "execution_count": 24,
   "metadata": {
    "executionInfo": {
     "elapsed": 21,
     "status": "ok",
     "timestamp": 1731975383256,
     "user": {
      "displayName": "Pablo Ruiz",
      "userId": "14891062942456279353"
     },
     "user_tz": -60
    },
    "id": "gtdPsqxLxNWE"
   },
   "outputs": [],
   "source": [
    "labelCol = 'labelGeneric'"
   ]
  },
  {
   "cell_type": "code",
   "execution_count": 25,
   "metadata": {
    "executionInfo": {
     "elapsed": 21,
     "status": "ok",
     "timestamp": 1731975383256,
     "user": {
      "displayName": "Pablo Ruiz",
      "userId": "14891062942456279353"
     },
     "user_tz": -60
    },
    "id": "eGfyhZ1_h6qE"
   },
   "outputs": [],
   "source": [
    "import pandas as pd\n",
    "AS13_df = pd.read_csv(mydf, sep=\"|\", dtype={'description': 'object',\n",
    "                                            labelCol: 'category'})"
   ]
  },
  {
   "cell_type": "code",
   "execution_count": 26,
   "metadata": {
    "colab": {
     "base_uri": "https://localhost:8080/"
    },
    "executionInfo": {
     "elapsed": 21,
     "status": "ok",
     "timestamp": 1731975383257,
     "user": {
      "displayName": "Pablo Ruiz",
      "userId": "14891062942456279353"
     },
     "user_tz": -60
    },
    "id": "WsrIPzllxWI0",
    "outputId": "077f6982-b4c8-45fe-d53e-480001d27083"
   },
   "outputs": [
    {
     "name": "stdout",
     "output_type": "stream",
     "text": [
      "<class 'pandas.core.frame.DataFrame'>\n",
      "Index: 14613 entries, 0 to 25821\n",
      "Data columns (total 2 columns):\n",
      " #   Column        Non-Null Count  Dtype   \n",
      "---  ------        --------------  -----   \n",
      " 0   description   14613 non-null  object  \n",
      " 1   labelGeneric  14613 non-null  category\n",
      "dtypes: category(1), object(1)\n",
      "memory usage: 243.2+ KB\n"
     ]
    }
   ],
   "source": [
    "AS13_df = AS13_df.drop_duplicates()\n",
    "AS13_df = AS13_df.dropna(how='any')\n",
    "AS13_df.info()"
   ]
  },
  {
   "cell_type": "code",
   "execution_count": 27,
   "metadata": {
    "executionInfo": {
     "elapsed": 17,
     "status": "ok",
     "timestamp": 1731975383257,
     "user": {
      "displayName": "Pablo Ruiz",
      "userId": "14891062942456279353"
     },
     "user_tz": -60
    },
    "id": "frAY9s5P4_Uk"
   },
   "outputs": [],
   "source": [
    "df = AS13_df"
   ]
  },
  {
   "cell_type": "code",
   "execution_count": 28,
   "metadata": {
    "colab": {
     "base_uri": "https://localhost:8080/",
     "height": 523
    },
    "executionInfo": {
     "elapsed": 18,
     "status": "ok",
     "timestamp": 1731975383258,
     "user": {
      "displayName": "Pablo Ruiz",
      "userId": "14891062942456279353"
     },
     "user_tz": -60
    },
    "id": "EiTFyjaZxPg2",
    "outputId": "2f1b817b-88e6-4c71-8837-e830916a5d20"
   },
   "outputs": [
    {
     "data": {
      "text/html": [
       "<div>\n",
       "<style scoped>\n",
       "    .dataframe tbody tr th:only-of-type {\n",
       "        vertical-align: middle;\n",
       "    }\n",
       "\n",
       "    .dataframe tbody tr th {\n",
       "        vertical-align: top;\n",
       "    }\n",
       "\n",
       "    .dataframe thead th {\n",
       "        text-align: right;\n",
       "    }\n",
       "</style>\n",
       "<table border=\"1\" class=\"dataframe\">\n",
       "  <thead>\n",
       "    <tr style=\"text-align: right;\">\n",
       "      <th></th>\n",
       "      <th>count</th>\n",
       "    </tr>\n",
       "    <tr>\n",
       "      <th>labelGeneric</th>\n",
       "      <th></th>\n",
       "    </tr>\n",
       "  </thead>\n",
       "  <tbody>\n",
       "    <tr>\n",
       "      <th>music</th>\n",
       "      <td>2863</td>\n",
       "    </tr>\n",
       "    <tr>\n",
       "      <th>action</th>\n",
       "      <td>2467</td>\n",
       "    </tr>\n",
       "    <tr>\n",
       "      <th>toward</th>\n",
       "      <td>2144</td>\n",
       "    </tr>\n",
       "    <tr>\n",
       "      <th>exit</th>\n",
       "      <td>1295</td>\n",
       "    </tr>\n",
       "    <tr>\n",
       "      <th>object</th>\n",
       "      <td>1130</td>\n",
       "    </tr>\n",
       "    <tr>\n",
       "      <th>setting</th>\n",
       "      <td>982</td>\n",
       "    </tr>\n",
       "    <tr>\n",
       "      <th>delivery</th>\n",
       "      <td>962</td>\n",
       "    </tr>\n",
       "    <tr>\n",
       "      <th>entrance</th>\n",
       "      <td>646</td>\n",
       "    </tr>\n",
       "    <tr>\n",
       "      <th>movement</th>\n",
       "      <td>583</td>\n",
       "    </tr>\n",
       "    <tr>\n",
       "      <th>interaction</th>\n",
       "      <td>565</td>\n",
       "    </tr>\n",
       "    <tr>\n",
       "      <th>narration</th>\n",
       "      <td>554</td>\n",
       "    </tr>\n",
       "    <tr>\n",
       "      <th>aggression</th>\n",
       "      <td>350</td>\n",
       "    </tr>\n",
       "    <tr>\n",
       "      <th>aparte</th>\n",
       "      <td>72</td>\n",
       "    </tr>\n",
       "  </tbody>\n",
       "</table>\n",
       "</div><br><label><b>dtype:</b> int64</label>"
      ],
      "text/plain": [
       "labelGeneric\n",
       "music          2863\n",
       "action         2467\n",
       "toward         2144\n",
       "exit           1295\n",
       "object         1130\n",
       "setting         982\n",
       "delivery        962\n",
       "entrance        646\n",
       "movement        583\n",
       "interaction     565\n",
       "narration       554\n",
       "aggression      350\n",
       "aparte           72\n",
       "Name: count, dtype: int64"
      ]
     },
     "execution_count": 28,
     "metadata": {},
     "output_type": "execute_result"
    }
   ],
   "source": [
    "df['labelGeneric'].value_counts()"
   ]
  },
  {
   "cell_type": "code",
   "execution_count": 29,
   "metadata": {
    "executionInfo": {
     "elapsed": 15,
     "status": "ok",
     "timestamp": 1731975383258,
     "user": {
      "displayName": "Pablo Ruiz",
      "userId": "14891062942456279353"
     },
     "user_tz": -60
    },
    "id": "XbevtRBGh9cO"
   },
   "outputs": [],
   "source": [
    "# Liste de classes et ajout d'un identifiant numérique pour chaque classe\n",
    "class_names = sorted(AS13_df[labelCol].unique().categories.to_list())\n",
    "label2id = {class_names[i]:i for i in range(len(class_names))}\n",
    "id2label = {i:class_names[i] for i in range(len(class_names))}"
   ]
  },
  {
   "cell_type": "code",
   "execution_count": 30,
   "metadata": {
    "executionInfo": {
     "elapsed": 15,
     "status": "ok",
     "timestamp": 1731975383258,
     "user": {
      "displayName": "Pablo Ruiz",
      "userId": "14891062942456279353"
     },
     "user_tz": -60
    },
    "id": "ySmeJNPqxxsk"
   },
   "outputs": [],
   "source": [
    "#class_names, label2id, id2label"
   ]
  },
  {
   "cell_type": "code",
   "execution_count": 31,
   "metadata": {
    "executionInfo": {
     "elapsed": 329,
     "status": "ok",
     "timestamp": 1731975383573,
     "user": {
      "displayName": "Pablo Ruiz",
      "userId": "14891062942456279353"
     },
     "user_tz": -60
    },
    "id": "LjChYPfRrBsh"
   },
   "outputs": [],
   "source": [
    "# Paramètres\n",
    "\n",
    "#batch_size = 32 # orig was 64 but I'm going down given CUDA OutOfMemory error\n",
    "batch_size = 16 # for camembert-base, trying 16\n",
    "# Proportion des données qui sera utilisée\n",
    "scale = 0.2 # this is not used anywhere, can we remove it?"
   ]
  },
  {
   "cell_type": "code",
   "execution_count": 32,
   "metadata": {
    "executionInfo": {
     "elapsed": 91,
     "status": "ok",
     "timestamp": 1731975383574,
     "user": {
      "displayName": "Pablo Ruiz",
      "userId": "14891062942456279353"
     },
     "user_tz": -60
    },
    "id": "F3rK4POliEL5"
   },
   "outputs": [],
   "source": [
    "# nv dataFrame\n",
    "data_df = pd.DataFrame()\n",
    "data_df['text'] = AS13_df.description\n",
    "# La classe cible est la région (province) sous forme d'identifiant numérique\n",
    "data_df['label'] = AS13_df[labelCol].map(label2id)"
   ]
  },
  {
   "cell_type": "code",
   "execution_count": 33,
   "metadata": {
    "executionInfo": {
     "elapsed": 88,
     "status": "ok",
     "timestamp": 1731975383574,
     "user": {
      "displayName": "Pablo Ruiz",
      "userId": "14891062942456279353"
     },
     "user_tz": -60
    },
    "id": "M3UB0U2EjrbM"
   },
   "outputs": [],
   "source": [
    "data_df = data_df.reset_index(drop=True)"
   ]
  },
  {
   "cell_type": "code",
   "execution_count": 34,
   "metadata": {
    "executionInfo": {
     "elapsed": 87,
     "status": "ok",
     "timestamp": 1731975383574,
     "user": {
      "displayName": "Pablo Ruiz",
      "userId": "14891062942456279353"
     },
     "user_tz": -60
    },
    "id": "u9rpw2Q3c19i"
   },
   "outputs": [],
   "source": [
    "# Transformation du DataFrame en objet de type Dataset utilisé par HuggingFace\n",
    "stgtype_features = Features({'text': Value('string'),\n",
    "                              'label': ClassLabel(names=class_names)})\n",
    "data = Dataset.from_pandas(data_df, features=stgtype_features)\n"
   ]
  },
  {
   "cell_type": "code",
   "execution_count": 35,
   "metadata": {
    "executionInfo": {
     "elapsed": 85,
     "status": "ok",
     "timestamp": 1731975383574,
     "user": {
      "displayName": "Pablo Ruiz",
      "userId": "14891062942456279353"
     },
     "user_tz": -60
    },
    "id": "JhUNi40XHgO4"
   },
   "outputs": [],
   "source": [
    "# Découpage en (train + validation) (this part will be reduced to 50%, 25% and so on to compare quality) et (test).\n",
    "# The test part is supposed to always stay the same size and with the same examples"
   ]
  },
  {
   "cell_type": "code",
   "execution_count": 36,
   "metadata": {
    "colab": {
     "base_uri": "https://localhost:8080/"
    },
    "executionInfo": {
     "elapsed": 83,
     "status": "ok",
     "timestamp": 1731975383574,
     "user": {
      "displayName": "Pablo Ruiz",
      "userId": "14891062942456279353"
     },
     "user_tz": -60
    },
    "id": "HGmwCMnQTo7J",
    "outputId": "b94092a5-5d94-4afa-c54d-e768415ede61"
   },
   "outputs": [
    {
     "name": "stdout",
     "output_type": "stream",
     "text": [
      "FULL TRAIN\n"
     ]
    }
   ],
   "source": [
    "TRAIN_FULL, TRAIN_REDUCED = False, False\n",
    "size_to_exclude = (100 - fraction_kept)/100\n",
    "if size_to_exclude == 0:\n",
    "  TRAIN_FULL = True\n",
    "  print(\"FULL TRAIN\")\n",
    "else:\n",
    "  TRAIN_REDUCED = True\n",
    "  print(f\"REDUCED TRAIN, KEEPING {fraction_kept}%\")"
   ]
  },
  {
   "cell_type": "code",
   "execution_count": 37,
   "metadata": {
    "colab": {
     "base_uri": "https://localhost:8080/"
    },
    "executionInfo": {
     "elapsed": 52,
     "status": "ok",
     "timestamp": 1731975383574,
     "user": {
      "displayName": "Pablo Ruiz",
      "userId": "14891062942456279353"
     },
     "user_tz": -60
    },
    "id": "yErYnoJrlrhH",
    "outputId": "3092348b-7d8f-44ac-d844-542f5120b759"
   },
   "outputs": [
    {
     "name": "stdout",
     "output_type": "stream",
     "text": [
      "SIZE TO EXCLUDE IS 0.0\n"
     ]
    }
   ],
   "source": [
    "print(f\"SIZE TO EXCLUDE IS {size_to_exclude}\")"
   ]
  },
  {
   "cell_type": "code",
   "execution_count": 38,
   "metadata": {
    "executionInfo": {
     "elapsed": 45,
     "status": "ok",
     "timestamp": 1731975383575,
     "user": {
      "displayName": "Pablo Ruiz",
      "userId": "14891062942456279353"
     },
     "user_tz": -60
    },
    "id": "C42DHVNe_Kpk"
   },
   "outputs": [],
   "source": [
    "if TRAIN_REDUCED:\n",
    "  trainvalid_test = data.train_test_split(test_size=0.2, shuffle=True, seed=12)\n",
    "  trainvalid_reduced = trainvalid_test['train'].train_test_split(test_size=size_to_exclude, shuffle=True, seed=12)\n",
    "  trainvalid_reduced_trainvalid = trainvalid_reduced['train'].train_test_split(test_size=0.2, shuffle=True, seed=12)\n",
    "  dataset = DatasetDict({\"train\": trainvalid_reduced_trainvalid[\"train\"],\n",
    "                         \"valid\": trainvalid_reduced_trainvalid[\"test\"],\n",
    "                         \"test\": trainvalid_test[\"test\"]})\n",
    "elif TRAIN_FULL:\n",
    "  trainvalid_test = data.train_test_split(test_size=0.2, shuffle=True, seed=12)\n",
    "  trainvalid_trainvalid = trainvalid_test[\"train\"].train_test_split(test_size=0.2, shuffle=True, seed=12)\n",
    "  dataset = DatasetDict({\"train\": trainvalid_trainvalid[\"train\"],\n",
    "                         \"valid\": trainvalid_trainvalid[\"test\"],\n",
    "                         \"test\": trainvalid_test[\"test\"]})"
   ]
  },
  {
   "cell_type": "code",
   "execution_count": 39,
   "metadata": {
    "executionInfo": {
     "elapsed": 45,
     "status": "ok",
     "timestamp": 1731975383575,
     "user": {
      "displayName": "Pablo Ruiz",
      "userId": "14891062942456279353"
     },
     "user_tz": -60
    },
    "id": "UIGMpBsC93G6"
   },
   "outputs": [],
   "source": [
    "data = dataset"
   ]
  },
  {
   "cell_type": "code",
   "execution_count": 40,
   "metadata": {
    "colab": {
     "base_uri": "https://localhost:8080/"
    },
    "executionInfo": {
     "elapsed": 44,
     "status": "ok",
     "timestamp": 1731975383575,
     "user": {
      "displayName": "Pablo Ruiz",
      "userId": "14891062942456279353"
     },
     "user_tz": -60
    },
    "id": "mSoGnjpYZC9P",
    "outputId": "09533a89-59a9-4158-fe57-7c0220bc724a"
   },
   "outputs": [
    {
     "data": {
      "text/plain": [
       "DatasetDict({\n",
       "    train: Dataset({\n",
       "        features: ['text', 'label'],\n",
       "        num_rows: 9352\n",
       "    })\n",
       "    valid: Dataset({\n",
       "        features: ['text', 'label'],\n",
       "        num_rows: 2338\n",
       "    })\n",
       "    test: Dataset({\n",
       "        features: ['text', 'label'],\n",
       "        num_rows: 2923\n",
       "    })\n",
       "})"
      ]
     },
     "execution_count": 40,
     "metadata": {},
     "output_type": "execute_result"
    }
   ],
   "source": [
    "data"
   ]
  },
  {
   "cell_type": "code",
   "execution_count": 41,
   "metadata": {
    "colab": {
     "base_uri": "https://localhost:8080/"
    },
    "executionInfo": {
     "elapsed": 36,
     "status": "ok",
     "timestamp": 1731975383575,
     "user": {
      "displayName": "Pablo Ruiz",
      "userId": "14891062942456279353"
     },
     "user_tz": -60
    },
    "id": "Sm_eAoIyUGa3",
    "outputId": "6157d547-1336-424d-8e72-0f0f0b2dd8f1"
   },
   "outputs": [
    {
     "data": {
      "text/plain": [
       "5479.875"
      ]
     },
     "execution_count": 41,
     "metadata": {},
     "output_type": "execute_result"
    }
   ],
   "source": [
    "#steps = (epoch * examples)/batch size\n",
    "total_steps = (6 * len(df))/16\n",
    "total_steps"
   ]
  },
  {
   "cell_type": "code",
   "execution_count": 42,
   "metadata": {
    "executionInfo": {
     "elapsed": 28,
     "status": "ok",
     "timestamp": 1731975383575,
     "user": {
      "displayName": "Pablo Ruiz",
      "userId": "14891062942456279353"
     },
     "user_tz": -60
    },
    "id": "o1TxvufYVJlu"
   },
   "outputs": [],
   "source": [
    "# this is unused unless use steps as strategy in training args\n",
    "epoch_size = len(data['train'])/batch_size"
   ]
  },
  {
   "cell_type": "code",
   "execution_count": 43,
   "metadata": {
    "colab": {
     "base_uri": "https://localhost:8080/"
    },
    "executionInfo": {
     "elapsed": 27,
     "status": "ok",
     "timestamp": 1731975383576,
     "user": {
      "displayName": "Pablo Ruiz",
      "userId": "14891062942456279353"
     },
     "user_tz": -60
    },
    "id": "wdgs3pzYr7Q0",
    "outputId": "9eb38ffd-d5eb-4087-c2e4-fbe36872694b"
   },
   "outputs": [
    {
     "name": "stdout",
     "output_type": "stream",
     "text": [
      "EPOCH SIZE IS: 584.5\n"
     ]
    }
   ],
   "source": [
    "print(f\"EPOCH SIZE IS: {epoch_size}\")"
   ]
  },
  {
   "cell_type": "markdown",
   "metadata": {
    "id": "yoo3J7SEXEDK"
   },
   "source": [
    "When needed, export the dataset to verify later that it's indeed the same for all experiments"
   ]
  },
  {
   "cell_type": "code",
   "execution_count": 44,
   "metadata": {
    "executionInfo": {
     "elapsed": 21,
     "status": "ok",
     "timestamp": 1731975383576,
     "user": {
      "displayName": "Pablo Ruiz",
      "userId": "14891062942456279353"
     },
     "user_tz": -60
    },
    "id": "bxnlclcaXQX8"
   },
   "outputs": [],
   "source": [
    "if False and use_drive:\n",
    "  from google.colab import drive\n",
    "  drive.mount(\"/content/drive\")\n",
    "  dataset_bkps = \"/content/drive/MyDrive/___wv/datasets\"\n",
    "  current_dataset = \"AS13_stgdir_labelGeneric_trainvalid_retest_uncased_25_pr_2\"\n",
    "  os.mkdir(os.path.join(dataset_bkps, current_dataset))\n",
    "  for split, split_data in data.items():\n",
    "    split_data.to_csv(Path(dataset_bkps) / current_dataset / f\"{current_dataset}-{split}.csv\")\n",
    "    print(f\"!head -n5 {split_path_str}\")"
   ]
  },
  {
   "cell_type": "code",
   "execution_count": 45,
   "metadata": {
    "executionInfo": {
     "elapsed": 20,
     "status": "ok",
     "timestamp": 1731975383576,
     "user": {
      "displayName": "Pablo Ruiz",
      "userId": "14891062942456279353"
     },
     "user_tz": -60
    },
    "id": "ih2WBpuNdRA6"
   },
   "outputs": [],
   "source": [
    "#!head -n5 /content/drive/MyDrive/___wv/datasets/AS13_stgdir_labelGeneric_trainvalid_retest_uncased/AS13_stgdir_labelGeneric_trainvalid_retest_uncased-train.csv\n",
    "#!head -n5 /content/drive/MyDrive/___wv/datasets/AS13_stgdir_labelGeneric_trainvalid_retest_uncased/AS13_stgdir_labelGeneric_trainvalid_retest_uncased-valid.csv\n",
    "#!head -n5 /content/drive/MyDrive/___wv/datasets/AS13_stgdir_labelGeneric_trainvalid_retest_uncased/AS13_stgdir_labelGeneric_trainvalid_retest_uncased-test.csv"
   ]
  },
  {
   "cell_type": "code",
   "execution_count": 46,
   "metadata": {
    "colab": {
     "base_uri": "https://localhost:8080/",
     "height": 35
    },
    "executionInfo": {
     "elapsed": 19,
     "status": "ok",
     "timestamp": 1731975383576,
     "user": {
      "displayName": "Pablo Ruiz",
      "userId": "14891062942456279353"
     },
     "user_tz": -60
    },
    "id": "U0OgGAMEnbQ3",
    "outputId": "e49c2496-0146-488e-8453-6b5bfe49177a"
   },
   "outputs": [
    {
     "data": {
      "application/vnd.google.colaboratory.intrinsic+json": {
       "type": "string"
      },
      "text/plain": [
       "'flaubert/flaubert_base_cased'"
      ]
     },
     "execution_count": 46,
     "metadata": {},
     "output_type": "execute_result"
    }
   ],
   "source": [
    "model_ckpt"
   ]
  },
  {
   "cell_type": "code",
   "execution_count": 47,
   "metadata": {
    "executionInfo": {
     "elapsed": 18,
     "status": "ok",
     "timestamp": 1731975383576,
     "user": {
      "displayName": "Pablo Ruiz",
      "userId": "14891062942456279353"
     },
     "user_tz": -60
    },
    "id": "rKDDUE72n2vf"
   },
   "outputs": [],
   "source": [
    "#!pip install sacremoses"
   ]
  },
  {
   "cell_type": "code",
   "execution_count": 48,
   "metadata": {
    "colab": {
     "base_uri": "https://localhost:8080/",
     "height": 269,
     "referenced_widgets": [
      "e35e0e2d62c14725b3b6c87e9a239a12",
      "8e8bf633088449d3b266e619408ea290",
      "3083d2db829448c58f1981cc84fe9384",
      "657898c13aa547759bf55818e944f1bd",
      "d44daf50ad5b48be91be5bd64e6d05ea",
      "9687f78e8b4d483992d1de5e001278b4",
      "1771c7e257d44929b9308b8046452283",
      "6ef49c9016fa4654a2118bb8a2796bd5",
      "8715afd636be475fbff3644c8664a944",
      "3cde27a1cecd49fea7a815966c9823fb",
      "68c36161af34456eadbdb13bf7b2c59d",
      "cc54129fc6f64bfdaf85dce0621d0550",
      "e1b9dbb3a4c54f82ba10ad3c3c669203",
      "e17336ab6b2643729946bbad1215f12f",
      "56e95d91c4e146fc817029dbf823a261",
      "7d2dc96b99194e128f98c886afb79a74",
      "db0817fc7aaf4ce0b414635a392d860a",
      "c8565be79cae4d3fa8f3853296cc09f8",
      "8b22ebe750a8487f82ad6e978fa47706",
      "f76285a9b5ef4fdd8e961844ebaded5c",
      "b19a88e8ea304c54b9ff46d48aa947a1",
      "f4d5c110a6d24b42862b56e505891ba3",
      "a346f0f262c24381880a12fe51d3ff15",
      "be37fe2ba15941ee87e74222384cfcbe",
      "5920729804dd407ab9031d48f55a2c0a",
      "1441e945da364e6fba0af7ded4797562",
      "eb81d5ffe63044819457d47bf7154963",
      "6aaf18ac6cb44ff4808166b9f52699c3",
      "8011742c941d4307abd42798e5aa0dd1",
      "709637f1ab014625899a1ea2fee3369f",
      "6340fdd0181f44c2b6efe3354fa35ed0",
      "ba427d437618473b8f1875b0c293fa11",
      "7f42c275512f415f98c825de579043cc",
      "c6111863f5964e4f96c279c2b35d337d",
      "2c82c843b6e94d47bfee6e27e788a0c8",
      "c1fcc55a4fc34e4295b8ebbfd60e23f5",
      "ab47f3e42cc34d44bca8f50f0b5a5461",
      "45979f82d2e8409c880f0181e8e6382d",
      "d7dd907c986b432b82e326b8a8d1b68a",
      "74be9e05cea4433a9bfadcfd2a7d8a9f",
      "2e0e6bcda7b341edab10d2aa61147992",
      "17ba729001dc47b19e343b6962a11509",
      "356bd8e1bef0451fbc959d8d75830ac2",
      "54fc1a6ff90c45ce90f45df05ce53911"
     ]
    },
    "executionInfo": {
     "elapsed": 2899,
     "status": "ok",
     "timestamp": 1731975386458,
     "user": {
      "displayName": "Pablo Ruiz",
      "userId": "14891062942456279353"
     },
     "user_tz": -60
    },
    "id": "WPLB908tlpet",
    "outputId": "4f5823ad-0a33-4fd6-86ff-ec095b4971ca"
   },
   "outputs": [
    {
     "name": "stderr",
     "output_type": "stream",
     "text": [
      "/usr/local/lib/python3.10/dist-packages/huggingface_hub/utils/_auth.py:94: UserWarning: \n",
      "The secret `HF_TOKEN` does not exist in your Colab secrets.\n",
      "To authenticate with the Hugging Face Hub, create a token in your settings tab (https://huggingface.co/settings/tokens), set it as secret in your Google Colab and restart your session.\n",
      "You will be able to reuse this secret in all of your notebooks.\n",
      "Please note that authentication is recommended but still optional to access public models or datasets.\n",
      "  warnings.warn(\n"
     ]
    },
    {
     "data": {
      "application/vnd.jupyter.widget-view+json": {
       "model_id": "e35e0e2d62c14725b3b6c87e9a239a12",
       "version_major": 2,
       "version_minor": 0
      },
      "text/plain": [
       "tokenizer_config.json:   0%|          | 0.00/72.0 [00:00<?, ?B/s]"
      ]
     },
     "metadata": {},
     "output_type": "display_data"
    },
    {
     "data": {
      "application/vnd.jupyter.widget-view+json": {
       "model_id": "cc54129fc6f64bfdaf85dce0621d0550",
       "version_major": 2,
       "version_minor": 0
      },
      "text/plain": [
       "vocab.json:   0%|          | 0.00/1.56M [00:00<?, ?B/s]"
      ]
     },
     "metadata": {},
     "output_type": "display_data"
    },
    {
     "data": {
      "application/vnd.jupyter.widget-view+json": {
       "model_id": "a346f0f262c24381880a12fe51d3ff15",
       "version_major": 2,
       "version_minor": 0
      },
      "text/plain": [
       "merges.txt:   0%|          | 0.00/896k [00:00<?, ?B/s]"
      ]
     },
     "metadata": {},
     "output_type": "display_data"
    },
    {
     "data": {
      "application/vnd.jupyter.widget-view+json": {
       "model_id": "c6111863f5964e4f96c279c2b35d337d",
       "version_major": 2,
       "version_minor": 0
      },
      "text/plain": [
       "config.json:   0%|          | 0.00/1.50k [00:00<?, ?B/s]"
      ]
     },
     "metadata": {},
     "output_type": "display_data"
    }
   ],
   "source": [
    "if model_key in range(7,11):\n",
    "  do_lc = False if model_key == 7 else False\n",
    "  assert model_key in (7,8)\n",
    "  tokenizer = FlaubertTokenizer.from_pretrained(model_ckpt, do_lowercase=do_lc)\n",
    "else:\n",
    "  # Chargement du tokéniseur pré-entraîné correspondant au modèle utilisé\n",
    "  tokenizer = AutoTokenizer.from_pretrained(model_ckpt)"
   ]
  },
  {
   "cell_type": "code",
   "execution_count": 48,
   "metadata": {
    "executionInfo": {
     "elapsed": 10,
     "status": "ok",
     "timestamp": 1731975386459,
     "user": {
      "displayName": "Pablo Ruiz",
      "userId": "14891062942456279353"
     },
     "user_tz": -60
    },
    "id": "5FJciqCVmohf"
   },
   "outputs": [],
   "source": []
  },
  {
   "cell_type": "code",
   "execution_count": 49,
   "metadata": {
    "executionInfo": {
     "elapsed": 9,
     "status": "ok",
     "timestamp": 1731975386459,
     "user": {
      "displayName": "Pablo Ruiz",
      "userId": "14891062942456279353"
     },
     "user_tz": -60
    },
    "id": "SOFUysLJm2T1"
   },
   "outputs": [],
   "source": [
    "def preprocess_function(examples):\n",
    "    return tokenizer(examples[\"text\"], padding=True, truncation=True)"
   ]
  },
  {
   "cell_type": "code",
   "execution_count": 50,
   "metadata": {
    "colab": {
     "base_uri": "https://localhost:8080/"
    },
    "executionInfo": {
     "elapsed": 8,
     "status": "ok",
     "timestamp": 1731975386459,
     "user": {
      "displayName": "Pablo Ruiz",
      "userId": "14891062942456279353"
     },
     "user_tz": -60
    },
    "id": "8_qxzC0sfumz",
    "outputId": "b15cc63f-b9d8-48ac-97df-ce0728073d83"
   },
   "outputs": [
    {
     "name": "stdout",
     "output_type": "stream",
     "text": [
      "Automatic pdb calling has been turned ON\n"
     ]
    }
   ],
   "source": [
    "%pdb"
   ]
  },
  {
   "cell_type": "code",
   "execution_count": 51,
   "metadata": {
    "colab": {
     "base_uri": "https://localhost:8080/",
     "height": 113,
     "referenced_widgets": [
      "59c1cbfaf3c943d6877a542abd4cfd21",
      "c41db19c51c645b0b4933d0fd54ee797",
      "b2fe24daf1c34330aceeeac2d8daf704",
      "1941b69fc37941b398832c28272c8704",
      "38b9b02c8c5144748b7bd7aeb3be04da",
      "4ece91f7155d4c599e16f4f6155743ee",
      "a6442224860145a3965fcbe357807940",
      "e8712c38707e494196f2dc36fd6a9059",
      "6285baf3be57485eb90df6aa2abf40a7",
      "1a8b861052cb4c0ab8bb9f1e7d14471b",
      "23946cab325b4db7b3160d095f6a518f",
      "7758cad7800c4228b90ae747395fa1aa",
      "a19e13e32c88471fbdbf1a8340bde88f",
      "7d7241081a3f49d9b3f570517dd5c30b",
      "2b01533e16824900bca5062405d2324a",
      "e80bd6bab2a9425d8ba219fb64f2fcd2",
      "b3fd9c3946d54bccb9b6dbaa35686448",
      "0867da284f714f74b094c7a18f0b16d0",
      "07e8b061831440ef8ba3b82f5e75c8b3",
      "7692dcb0cd2a448096acd379f728540f",
      "1ccbff526af14c80bc60ee5117c6c933",
      "0491727acb1a40a096e0d3fec1011c02",
      "845fb63080c341aca3287f47b6d26921",
      "32d64fb640f54708a6f76e42d5348ed4",
      "21ef90bf5a0d4fb38555985f0bf008bb",
      "3dadc8ed921046b1badfe6f254c1bdb0",
      "c0b0c4833b57487c8db3a27dc65fcffa",
      "f7325dea87444f1a8bbe59487316e109",
      "dc7fcd451d7f4d0c801ab24f105b46e0",
      "14c5be8481bb403a8c1aad1577a3df7c",
      "5dc58bb40f124666a0129bff2b606c23",
      "40ce81c927ba4397a2a3b177d0daa756",
      "f66879de3633462ba740921c35fcb91e"
     ]
    },
    "executionInfo": {
     "elapsed": 13264,
     "status": "ok",
     "timestamp": 1731975399717,
     "user": {
      "displayName": "Pablo Ruiz",
      "userId": "14891062942456279353"
     },
     "user_tz": -60
    },
    "id": "itrjXWHxUQTd",
    "outputId": "c0050d43-8e36-430b-a9de-7f6710705298"
   },
   "outputs": [
    {
     "data": {
      "application/vnd.jupyter.widget-view+json": {
       "model_id": "59c1cbfaf3c943d6877a542abd4cfd21",
       "version_major": 2,
       "version_minor": 0
      },
      "text/plain": [
       "Map:   0%|          | 0/9352 [00:00<?, ? examples/s]"
      ]
     },
     "metadata": {},
     "output_type": "display_data"
    },
    {
     "data": {
      "application/vnd.jupyter.widget-view+json": {
       "model_id": "7758cad7800c4228b90ae747395fa1aa",
       "version_major": 2,
       "version_minor": 0
      },
      "text/plain": [
       "Map:   0%|          | 0/2338 [00:00<?, ? examples/s]"
      ]
     },
     "metadata": {},
     "output_type": "display_data"
    },
    {
     "data": {
      "application/vnd.jupyter.widget-view+json": {
       "model_id": "845fb63080c341aca3287f47b6d26921",
       "version_major": 2,
       "version_minor": 0
      },
      "text/plain": [
       "Map:   0%|          | 0/2923 [00:00<?, ? examples/s]"
      ]
     },
     "metadata": {},
     "output_type": "display_data"
    }
   ],
   "source": [
    "# Tokenisation de la totalité des données : chaque unité est remplacée par un identifiant numérique\n",
    "tokenized_data = data.map(preprocess_function, batched=True, batch_size=None)"
   ]
  },
  {
   "cell_type": "code",
   "execution_count": 52,
   "metadata": {
    "colab": {
     "base_uri": "https://localhost:8080/"
    },
    "executionInfo": {
     "elapsed": 26,
     "status": "ok",
     "timestamp": 1731975399718,
     "user": {
      "displayName": "Pablo Ruiz",
      "userId": "14891062942456279353"
     },
     "user_tz": -60
    },
    "id": "aS0c4D5DiC0_",
    "outputId": "489b51d6-4283-4f1c-e9d1-7135c2d290ef"
   },
   "outputs": [
    {
     "data": {
      "text/plain": [
       "68729"
      ]
     },
     "execution_count": 52,
     "metadata": {},
     "output_type": "execute_result"
    }
   ],
   "source": [
    "# Taille du vocabulaire\n",
    "tokenizer.vocab_size"
   ]
  },
  {
   "cell_type": "code",
   "execution_count": 53,
   "metadata": {
    "colab": {
     "base_uri": "https://localhost:8080/"
    },
    "executionInfo": {
     "elapsed": 21,
     "status": "ok",
     "timestamp": 1731975399719,
     "user": {
      "displayName": "Pablo Ruiz",
      "userId": "14891062942456279353"
     },
     "user_tz": -60
    },
    "id": "guuWBiM9iGx3",
    "outputId": "07c731bb-3759-4fcf-d817-a811836d3000"
   },
   "outputs": [
    {
     "data": {
      "text/plain": [
       "512"
      ]
     },
     "execution_count": 53,
     "metadata": {},
     "output_type": "execute_result"
    }
   ],
   "source": [
    "# Taille de contexte maximum\n",
    "tokenizer.model_max_length"
   ]
  },
  {
   "cell_type": "code",
   "execution_count": 54,
   "metadata": {
    "colab": {
     "base_uri": "https://localhost:8080/",
     "height": 49,
     "referenced_widgets": [
      "48688f7d0a3a464db2372c4af2c48283",
      "b1faf8b81db74f1e999b2a7d92e1dae5",
      "307000417393482db6b523ec19b1ef39",
      "c2eeb3c0f1d74459b30cc12ffc62f6c6",
      "a7d3141bc1c54bf29e7fa6bcaf24e52c",
      "58ec70a0dcb04551a7d2fd4c61ac6668",
      "182bc719dc574661af4139faf0110dde",
      "63d87f541e674b5da6548291a4f1aded",
      "3a55fbb4f925482180678ed83abc8412",
      "0a8e23316fe9492188567de98836f8aa",
      "9a1807d4adaf4e2d96c4a83991b2c7d2"
     ]
    },
    "executionInfo": {
     "elapsed": 583,
     "status": "ok",
     "timestamp": 1731975400287,
     "user": {
      "displayName": "Pablo Ruiz",
      "userId": "14891062942456279353"
     },
     "user_tz": -60
    },
    "id": "aw6bbkwVnX9t",
    "outputId": "027aee16-ffdc-456c-f06b-60fff0907c9c"
   },
   "outputs": [
    {
     "data": {
      "application/vnd.jupyter.widget-view+json": {
       "model_id": "48688f7d0a3a464db2372c4af2c48283",
       "version_major": 2,
       "version_minor": 0
      },
      "text/plain": [
       "Downloading builder script:   0%|          | 0.00/4.20k [00:00<?, ?B/s]"
      ]
     },
     "metadata": {},
     "output_type": "display_data"
    }
   ],
   "source": [
    "accuracy = evaluate.load(\"accuracy\")"
   ]
  },
  {
   "cell_type": "code",
   "execution_count": 55,
   "metadata": {
    "executionInfo": {
     "elapsed": 13,
     "status": "ok",
     "timestamp": 1731975400288,
     "user": {
      "displayName": "Pablo Ruiz",
      "userId": "14891062942456279353"
     },
     "user_tz": -60
    },
    "id": "W9KHsFWIneX1"
   },
   "outputs": [],
   "source": [
    "def compute_metrics(eval_pred):\n",
    "    predictions, labels = eval_pred\n",
    "    predictions = np.argmax(predictions, axis=1)\n",
    "    acc = accuracy.compute(predictions=predictions, references=labels)\n",
    "    return acc"
   ]
  },
  {
   "cell_type": "code",
   "execution_count": 56,
   "metadata": {
    "executionInfo": {
     "elapsed": 12,
     "status": "ok",
     "timestamp": 1731975400288,
     "user": {
      "displayName": "Pablo Ruiz",
      "userId": "14891062942456279353"
     },
     "user_tz": -60
    },
    "id": "ypEDpkAXddLx"
   },
   "outputs": [],
   "source": [
    "#!curl ipinfo.io"
   ]
  },
  {
   "cell_type": "code",
   "execution_count": 57,
   "metadata": {
    "colab": {
     "base_uri": "https://localhost:8080/"
    },
    "executionInfo": {
     "elapsed": 1356,
     "status": "ok",
     "timestamp": 1731975401633,
     "user": {
      "displayName": "Pablo Ruiz",
      "userId": "14891062942456279353"
     },
     "user_tz": -60
    },
    "id": "Gkt1glBkRy_s",
    "outputId": "296a2b56-8673-4e68-ea7c-adf4fed64108"
   },
   "outputs": [
    {
     "name": "stderr",
     "output_type": "stream",
     "text": [
      "[codecarbon INFO @ 00:16:40] offline tracker init\n"
     ]
    }
   ],
   "source": [
    "from codecarbon import OfflineEmissionsTracker\n",
    "tracker_before_train = OfflineEmissionsTracker(country_iso_code=\"FRA\", save_to_file=True, output_dir=out_dir_exp,\n",
    "                                               output_file=f\"em_before_train__{os.path.basename(out_dir_exp)}.csv\",\n",
    "                                               log_level=\"critical\")\n",
    "tracker_before_train.start()"
   ]
  },
  {
   "cell_type": "code",
   "execution_count": 58,
   "metadata": {
    "colab": {
     "base_uri": "https://localhost:8080/",
     "height": 104,
     "referenced_widgets": [
      "8daa91e557594be9b54b76bca0d92384",
      "6ff79acc2b88426ba547f3c182e0703a",
      "bffdd18862094e719337c77fec5a6c9d",
      "e088f800e888475d90fd66858c8cc3a4",
      "e9fe053cd5af49239285c3c798228da4",
      "b20f0143f5d84499a30bc56be4fe1c44",
      "30c187947933459286aadbe53899c23c",
      "7100c95fc8b242f29176d791bafa0d6d",
      "ecd3b443137642c1b1aefd14c6e2b3a9",
      "2d534eb6fe4a4b459400b12f3acb68ae",
      "e8aab5b68c154529b688dc546e618fbc"
     ]
    },
    "executionInfo": {
     "elapsed": 4155,
     "status": "ok",
     "timestamp": 1731975405784,
     "user": {
      "displayName": "Pablo Ruiz",
      "userId": "14891062942456279353"
     },
     "user_tz": -60
    },
    "id": "-vjhGFp5PKl1",
    "outputId": "1a985374-51c0-495f-fa7d-a7c0267f0584"
   },
   "outputs": [
    {
     "data": {
      "application/vnd.jupyter.widget-view+json": {
       "model_id": "8daa91e557594be9b54b76bca0d92384",
       "version_major": 2,
       "version_minor": 0
      },
      "text/plain": [
       "model.safetensors:   0%|          | 0.00/553M [00:00<?, ?B/s]"
      ]
     },
     "metadata": {},
     "output_type": "display_data"
    },
    {
     "name": "stderr",
     "output_type": "stream",
     "text": [
      "Some weights of FlaubertForSequenceClassification were not initialized from the model checkpoint at flaubert/flaubert_base_cased and are newly initialized: ['sequence_summary.summary.bias', 'sequence_summary.summary.weight']\n",
      "You should probably TRAIN this model on a down-stream task to be able to use it for predictions and inference.\n"
     ]
    }
   ],
   "source": [
    "device = torch.device(\"cuda\" if torch.cuda.is_available() else \"cpu\")\n",
    "if model_key in range(7000,1100):\n",
    "  model = FlaubertModel.from_pretrained(model_ckpt).to(device)\n",
    "else:\n",
    "  model = AutoModelForSequenceClassification.from_pretrained(\n",
    "      model_ckpt, num_labels=len(class_names), id2label=id2label, label2id=label2id\n",
    "  ).to(device)"
   ]
  },
  {
   "cell_type": "code",
   "execution_count": 59,
   "metadata": {
    "executionInfo": {
     "elapsed": 26,
     "status": "ok",
     "timestamp": 1731975405785,
     "user": {
      "displayName": "Pablo Ruiz",
      "userId": "14891062942456279353"
     },
     "user_tz": -60
    },
    "id": "7a_jleVwNPav"
   },
   "outputs": [],
   "source": [
    "batch_size=16"
   ]
  },
  {
   "cell_type": "code",
   "execution_count": 60,
   "metadata": {
    "executionInfo": {
     "elapsed": 25,
     "status": "ok",
     "timestamp": 1731975405786,
     "user": {
      "displayName": "Pablo Ruiz",
      "userId": "14891062942456279353"
     },
     "user_tz": -60
    },
    "id": "d01HY7qJZkSo"
   },
   "outputs": [],
   "source": [
    "from math import ceil\n",
    "intended_eval_steps = ceil(len(data['train'])/batch_size)"
   ]
  },
  {
   "cell_type": "code",
   "execution_count": 61,
   "metadata": {
    "executionInfo": {
     "elapsed": 23,
     "status": "ok",
     "timestamp": 1731975405786,
     "user": {
      "displayName": "Pablo Ruiz",
      "userId": "14891062942456279353"
     },
     "user_tz": -60
    },
    "id": "yvcqj_DxPV23"
   },
   "outputs": [],
   "source": [
    "# was recommended at https://stackoverflow.com/questions/69087044/early-stopping-in-bert-trainer-instances, but seems\n",
    "# to no longer be necessary\n",
    "# on 'eval_loss' as metric https://discuss.huggingface.co/t/early-stopping-training-using-validation-loss-as-the-metric-for-best-model/31378\n",
    "if False:\n",
    "  training_args = TrainingArguments(\n",
    "      output_dir=f\"{model_ckpt}__finetuned__{dataset_name}__{fraction_kept}__{run_number}\",\n",
    "      learning_rate=2e-5,\n",
    "      num_train_epochs=max_epochs,\n",
    "      evaluation_strategy=IntervalStrategy.STEPS,\n",
    "      eval_steps = intended_eval_steps,\n",
    "      save_steps = intended_eval_steps,\n",
    "      save_total_limit = 3,\n",
    "      per_device_train_batch_size=batch_size,\n",
    "      per_device_eval_batch_size=batch_size,\n",
    "      weight_decay=0.01,\n",
    "      save_strategy=IntervalStrategy.STEPS,\n",
    "      load_best_model_at_end=True,\n",
    "      metric_for_best_model='eval_loss',\n",
    "  )"
   ]
  },
  {
   "cell_type": "code",
   "execution_count": 62,
   "metadata": {
    "colab": {
     "base_uri": "https://localhost:8080/"
    },
    "executionInfo": {
     "elapsed": 21,
     "status": "ok",
     "timestamp": 1731975405786,
     "user": {
      "displayName": "Pablo Ruiz",
      "userId": "14891062942456279353"
     },
     "user_tz": -60
    },
    "id": "ALVlB8Xsj6dp",
    "outputId": "ad8f5cba-43a0-4412-f157-e8874c8c95c0"
   },
   "outputs": [
    {
     "name": "stderr",
     "output_type": "stream",
     "text": [
      "/usr/local/lib/python3.10/dist-packages/transformers/training_args.py:1568: FutureWarning: `evaluation_strategy` is deprecated and will be removed in version 4.46 of 🤗 Transformers. Use `eval_strategy` instead\n",
      "  warnings.warn(\n"
     ]
    }
   ],
   "source": [
    "training_args = TrainingArguments(\n",
    "    output_dir=f\"{model_ckpt}__finetuned__{dataset_name}__{fraction_kept}__{run_number}\",\n",
    "    learning_rate=2e-5,\n",
    "    per_device_train_batch_size=batch_size,\n",
    "    per_device_eval_batch_size=batch_size,\n",
    "    num_train_epochs=max_epochs,\n",
    "    weight_decay=0.01,\n",
    "    save_total_limit = 3,\n",
    "    evaluation_strategy=\"epoch\",\n",
    "    save_strategy=\"epoch\",\n",
    "    load_best_model_at_end=True,\n",
    "    metric_for_best_model='eval_loss',\n",
    ")"
   ]
  },
  {
   "cell_type": "markdown",
   "metadata": {
    "id": "aBXCM7oFB-ku"
   },
   "source": [
    "Now we use train et validation for the fine-tuning. We'll only use test to test the model after fine-tuning"
   ]
  },
  {
   "cell_type": "code",
   "execution_count": 63,
   "metadata": {
    "colab": {
     "base_uri": "https://localhost:8080/"
    },
    "executionInfo": {
     "elapsed": 1719,
     "status": "ok",
     "timestamp": 1731975407492,
     "user": {
      "displayName": "Pablo Ruiz",
      "userId": "14891062942456279353"
     },
     "user_tz": -60
    },
    "id": "jJ5aXto6PeLN",
    "outputId": "5def234c-1d2b-438f-cfdc-d2aff446f585"
   },
   "outputs": [
    {
     "name": "stderr",
     "output_type": "stream",
     "text": [
      "<ipython-input-63-99445cd2dcae>:2: FutureWarning: `tokenizer` is deprecated and will be removed in version 5.0.0 for `Trainer.__init__`. Use `processing_class` instead.\n",
      "  trainer = Trainer(\n"
     ]
    }
   ],
   "source": [
    "data_collator = DataCollatorWithPadding(tokenizer=tokenizer)\n",
    "trainer = Trainer(\n",
    "    model=model,\n",
    "    args=training_args,\n",
    "    train_dataset=tokenized_data[\"train\"],\n",
    "    eval_dataset=tokenized_data[\"valid\"],\n",
    "    tokenizer=tokenizer,\n",
    "    data_collator=data_collator,\n",
    "    compute_metrics=compute_metrics,\n",
    "    callbacks = [EarlyStoppingCallback(early_stopping_patience=3)]\n",
    ")"
   ]
  },
  {
   "cell_type": "code",
   "execution_count": 64,
   "metadata": {
    "colab": {
     "base_uri": "https://localhost:8080/"
    },
    "executionInfo": {
     "elapsed": 21,
     "status": "ok",
     "timestamp": 1731975407493,
     "user": {
      "displayName": "Pablo Ruiz",
      "userId": "14891062942456279353"
     },
     "user_tz": -60
    },
    "id": "HHYKK_0uXltd",
    "outputId": "dfd9df16-3cf8-4ee1-c3d1-4aa7bb018a36"
   },
   "outputs": [
    {
     "name": "stderr",
     "output_type": "stream",
     "text": [
      "/usr/local/lib/python3.10/dist-packages/codecarbon/output_methods/file.py:52: FutureWarning: The behavior of DataFrame concatenation with empty or all-NA entries is deprecated. In a future version, this will no longer exclude empty or all-NA columns when determining the result dtypes. To retain the old behavior, exclude the relevant entries before the concat operation.\n",
      "  df = pd.concat([df, pd.DataFrame.from_records([dict(total.values)])])\n"
     ]
    },
    {
     "data": {
      "text/plain": [
       "7.257107135084382e-06"
      ]
     },
     "execution_count": 64,
     "metadata": {},
     "output_type": "execute_result"
    }
   ],
   "source": [
    "tracker_before_train.stop()"
   ]
  },
  {
   "cell_type": "code",
   "execution_count": 65,
   "metadata": {
    "colab": {
     "base_uri": "https://localhost:8080/"
    },
    "executionInfo": {
     "elapsed": 18,
     "status": "ok",
     "timestamp": 1731975407493,
     "user": {
      "displayName": "Pablo Ruiz",
      "userId": "14891062942456279353"
     },
     "user_tz": -60
    },
    "id": "pmk2wkf_M_85",
    "outputId": "66049932-2e2b-4b56-b36a-83cda74fa8a4"
   },
   "outputs": [
    {
     "data": {
      "text/plain": [
       "16"
      ]
     },
     "execution_count": 65,
     "metadata": {},
     "output_type": "execute_result"
    }
   ],
   "source": [
    "batch_size"
   ]
  },
  {
   "cell_type": "code",
   "execution_count": 66,
   "metadata": {
    "colab": {
     "base_uri": "https://localhost:8080/"
    },
    "executionInfo": {
     "elapsed": 12,
     "status": "ok",
     "timestamp": 1731975407493,
     "user": {
      "displayName": "Pablo Ruiz",
      "userId": "14891062942456279353"
     },
     "user_tz": -60
    },
    "id": "6rFZlXCW9A7j",
    "outputId": "ef7c5012-56b7-4ac4-dfec-75a429b70b75"
   },
   "outputs": [
    {
     "name": "stdout",
     "output_type": "stream",
     "text": [
      "## FINE TUNING A flaubert/flaubert_base_cased MODEL ##\n"
     ]
    }
   ],
   "source": [
    "print(f\"## FINE TUNING A {model_ckpt} MODEL ##\")"
   ]
  },
  {
   "cell_type": "code",
   "execution_count": 67,
   "metadata": {
    "executionInfo": {
     "elapsed": 999,
     "status": "ok",
     "timestamp": 1731975408485,
     "user": {
      "displayName": "Pablo Ruiz",
      "userId": "14891062942456279353"
     },
     "user_tz": -60
    },
    "id": "GfjQJ5xeTzSb"
   },
   "outputs": [],
   "source": [
    "tracker_train = OfflineEmissionsTracker(country_iso_code=\"FRA\", save_to_file=True, output_dir=out_dir_exp,\n",
    "                                        output_file=f\"em_train__{os.path.basename(out_dir_exp)}.csv\",\n",
    "                                        log_level=\"critical\")\n",
    "tracker_train.start()"
   ]
  },
  {
   "cell_type": "code",
   "execution_count": 68,
   "metadata": {
    "colab": {
     "base_uri": "https://localhost:8080/",
     "height": 322
    },
    "executionInfo": {
     "elapsed": 2427553,
     "status": "ok",
     "timestamp": 1731977836303,
     "user": {
      "displayName": "Pablo Ruiz",
      "userId": "14891062942456279353"
     },
     "user_tz": -60
    },
    "id": "6SzLipK_TQgW",
    "outputId": "9f0094aa-e576-429b-aac5-e83338760484"
   },
   "outputs": [
    {
     "name": "stderr",
     "output_type": "stream",
     "text": [
      "\u001b[34m\u001b[1mwandb\u001b[0m: \u001b[33mWARNING\u001b[0m The `run_name` is currently set to the same value as `TrainingArguments.output_dir`. If this was not intended, please specify a different run name by setting the `TrainingArguments.run_name` parameter.\n"
     ]
    },
    {
     "data": {
      "text/html": [
       "\n",
       "    <div>\n",
       "      \n",
       "      <progress value='2925' max='23400' style='width:300px; height:20px; vertical-align: middle;'></progress>\n",
       "      [ 2925/23400 40:23 < 4:42:58, 1.21 it/s, Epoch 5/40]\n",
       "    </div>\n",
       "    <table border=\"1\" class=\"dataframe\">\n",
       "  <thead>\n",
       " <tr style=\"text-align: left;\">\n",
       "      <th>Epoch</th>\n",
       "      <th>Training Loss</th>\n",
       "      <th>Validation Loss</th>\n",
       "      <th>Accuracy</th>\n",
       "    </tr>\n",
       "  </thead>\n",
       "  <tbody>\n",
       "    <tr>\n",
       "      <td>1</td>\n",
       "      <td>1.152200</td>\n",
       "      <td>0.513756</td>\n",
       "      <td>0.841317</td>\n",
       "    </tr>\n",
       "    <tr>\n",
       "      <td>2</td>\n",
       "      <td>0.516000</td>\n",
       "      <td>0.459898</td>\n",
       "      <td>0.873824</td>\n",
       "    </tr>\n",
       "    <tr>\n",
       "      <td>3</td>\n",
       "      <td>0.396600</td>\n",
       "      <td>0.477167</td>\n",
       "      <td>0.881950</td>\n",
       "    </tr>\n",
       "    <tr>\n",
       "      <td>4</td>\n",
       "      <td>0.310800</td>\n",
       "      <td>0.494573</td>\n",
       "      <td>0.888794</td>\n",
       "    </tr>\n",
       "    <tr>\n",
       "      <td>5</td>\n",
       "      <td>0.269800</td>\n",
       "      <td>0.556280</td>\n",
       "      <td>0.879384</td>\n",
       "    </tr>\n",
       "  </tbody>\n",
       "</table><p>"
      ],
      "text/plain": [
       "<IPython.core.display.HTML object>"
      ]
     },
     "metadata": {},
     "output_type": "display_data"
    },
    {
     "data": {
      "text/plain": [
       "TrainOutput(global_step=2925, training_loss=0.48713660346137155, metrics={'train_runtime': 2427.3525, 'train_samples_per_second': 154.11, 'train_steps_per_second': 9.64, 'total_flos': 1.221945145257984e+16, 'train_loss': 0.48713660346137155, 'epoch': 5.0})"
      ]
     },
     "execution_count": 68,
     "metadata": {},
     "output_type": "execute_result"
    }
   ],
   "source": [
    "trainer.train()"
   ]
  },
  {
   "cell_type": "code",
   "execution_count": 69,
   "metadata": {
    "colab": {
     "base_uri": "https://localhost:8080/"
    },
    "executionInfo": {
     "elapsed": 29,
     "status": "ok",
     "timestamp": 1731977836304,
     "user": {
      "displayName": "Pablo Ruiz",
      "userId": "14891062942456279353"
     },
     "user_tz": -60
    },
    "id": "phW6RubwUJWT",
    "outputId": "77cd43af-528b-4aa8-c059-70f946a57c04"
   },
   "outputs": [
    {
     "name": "stderr",
     "output_type": "stream",
     "text": [
      "/usr/local/lib/python3.10/dist-packages/codecarbon/output_methods/file.py:52: FutureWarning: The behavior of DataFrame concatenation with empty or all-NA entries is deprecated. In a future version, this will no longer exclude empty or all-NA columns when determining the result dtypes. To retain the old behavior, exclude the relevant entries before the concat operation.\n",
      "  df = pd.concat([df, pd.DataFrame.from_records([dict(total.values)])])\n"
     ]
    },
    {
     "data": {
      "text/plain": [
       "0.005051216915879931"
      ]
     },
     "execution_count": 69,
     "metadata": {},
     "output_type": "execute_result"
    }
   ],
   "source": [
    "tracker_train.stop()"
   ]
  },
  {
   "cell_type": "code",
   "execution_count": 70,
   "metadata": {
    "executionInfo": {
     "elapsed": 1280,
     "status": "ok",
     "timestamp": 1731977837563,
     "user": {
      "displayName": "Pablo Ruiz",
      "userId": "14891062942456279353"
     },
     "user_tz": -60
    },
    "id": "54MIdmUyUPnm"
   },
   "outputs": [],
   "source": [
    "tracker_predict = OfflineEmissionsTracker(country_iso_code=\"FRA\", save_to_file=True, output_dir=out_dir_exp,\n",
    "                                          output_file=f\"em_predict__{os.path.basename(out_dir_exp)}.csv\",\n",
    "                                          log_level=\"critical\")\n",
    "tracker_predict.start()"
   ]
  },
  {
   "cell_type": "code",
   "execution_count": 71,
   "metadata": {
    "colab": {
     "base_uri": "https://localhost:8080/",
     "height": 17
    },
    "executionInfo": {
     "elapsed": 45034,
     "status": "ok",
     "timestamp": 1731977882579,
     "user": {
      "displayName": "Pablo Ruiz",
      "userId": "14891062942456279353"
     },
     "user_tz": -60
    },
    "id": "x8QTyropfF3t",
    "outputId": "a11121ce-12f3-470a-94f9-062a4a5d7381"
   },
   "outputs": [
    {
     "data": {
      "text/html": [],
      "text/plain": [
       "<IPython.core.display.HTML object>"
      ]
     },
     "metadata": {},
     "output_type": "display_data"
    }
   ],
   "source": [
    "preds_output = trainer.predict(tokenized_data['test'])"
   ]
  },
  {
   "cell_type": "code",
   "execution_count": 72,
   "metadata": {
    "colab": {
     "base_uri": "https://localhost:8080/"
    },
    "executionInfo": {
     "elapsed": 52,
     "status": "ok",
     "timestamp": 1731977882580,
     "user": {
      "displayName": "Pablo Ruiz",
      "userId": "14891062942456279353"
     },
     "user_tz": -60
    },
    "id": "sr_CiDrlUWCt",
    "outputId": "85294828-9afa-4ade-edd8-f44e6a045792"
   },
   "outputs": [
    {
     "name": "stderr",
     "output_type": "stream",
     "text": [
      "/usr/local/lib/python3.10/dist-packages/codecarbon/output_methods/file.py:52: FutureWarning: The behavior of DataFrame concatenation with empty or all-NA entries is deprecated. In a future version, this will no longer exclude empty or all-NA columns when determining the result dtypes. To retain the old behavior, exclude the relevant entries before the concat operation.\n",
      "  df = pd.concat([df, pd.DataFrame.from_records([dict(total.values)])])\n"
     ]
    },
    {
     "data": {
      "text/plain": [
       "9.439592831654632e-05"
      ]
     },
     "execution_count": 72,
     "metadata": {},
     "output_type": "execute_result"
    }
   ],
   "source": [
    "tracker_predict.stop()"
   ]
  },
  {
   "cell_type": "code",
   "execution_count": 73,
   "metadata": {
    "executionInfo": {
     "elapsed": 43,
     "status": "ok",
     "timestamp": 1731977882581,
     "user": {
      "displayName": "Pablo Ruiz",
      "userId": "14891062942456279353"
     },
     "user_tz": -60
    },
    "id": "SK7EkwKZfS7T"
   },
   "outputs": [],
   "source": [
    "y_preds = np.argmax(preds_output.predictions, axis=1)"
   ]
  },
  {
   "cell_type": "code",
   "execution_count": 74,
   "metadata": {
    "executionInfo": {
     "elapsed": 35,
     "status": "ok",
     "timestamp": 1731977882581,
     "user": {
      "displayName": "Pablo Ruiz",
      "userId": "14891062942456279353"
     },
     "user_tz": -60
    },
    "id": "kW8oaIAhf-Cg"
   },
   "outputs": [],
   "source": [
    "y_test = tokenized_data['test']['label']"
   ]
  },
  {
   "cell_type": "code",
   "execution_count": 75,
   "metadata": {
    "executionInfo": {
     "elapsed": 34,
     "status": "ok",
     "timestamp": 1731977882581,
     "user": {
      "displayName": "Pablo Ruiz",
      "userId": "14891062942456279353"
     },
     "user_tz": -60
    },
    "id": "quQJYO3QgOEa"
   },
   "outputs": [],
   "source": [
    "labels = tokenized_data['test'].features['label'].names"
   ]
  },
  {
   "cell_type": "code",
   "execution_count": 76,
   "metadata": {
    "executionInfo": {
     "elapsed": 30,
     "status": "ok",
     "timestamp": 1731977882582,
     "user": {
      "displayName": "Pablo Ruiz",
      "userId": "14891062942456279353"
     },
     "user_tz": -60
    },
    "id": "8ioT02KHET5f"
   },
   "outputs": [],
   "source": [
    "# fraction kept to color map\n",
    "clrmap_dict = {100: \"Greens\", 50: \"Blues\", 25: \"Purples\", 10: \"Oranges\", 5:\"Reds\"}"
   ]
  },
  {
   "cell_type": "code",
   "execution_count": 77,
   "metadata": {
    "colab": {
     "base_uri": "https://localhost:8080/"
    },
    "executionInfo": {
     "elapsed": 27,
     "status": "ok",
     "timestamp": 1731977882582,
     "user": {
      "displayName": "Pablo Ruiz",
      "userId": "14891062942456279353"
     },
     "user_tz": -60
    },
    "id": "M9APDRZdsFl5",
    "outputId": "419948c8-d6a4-4e7a-f0a5-e2b3aa7ba5b7"
   },
   "outputs": [
    {
     "data": {
      "text/plain": [
       "100"
      ]
     },
     "execution_count": 77,
     "metadata": {},
     "output_type": "execute_result"
    }
   ],
   "source": [
    "fraction_kept"
   ]
  },
  {
   "cell_type": "code",
   "execution_count": 78,
   "metadata": {
    "colab": {
     "base_uri": "https://localhost:8080/",
     "height": 54
    },
    "executionInfo": {
     "elapsed": 1053,
     "status": "ok",
     "timestamp": 1731977883618,
     "user": {
      "displayName": "Pablo Ruiz",
      "userId": "14891062942456279353"
     },
     "user_tz": -60
    },
    "id": "nZLbnHYofdkz",
    "outputId": "318226ef-698f-41f4-c9f1-e7a9c1ac327d"
   },
   "outputs": [
    {
     "data": {
      "image/png": "[encoded data removed]",
      "text/plain": [
       "<Figure size 600x600 with 1 Axes>"
      ]
     },
     "metadata": {},
     "output_type": "display_data"
    }
   ],
   "source": [
    "def plot_confusion_matrix(y_preds, y_true, labels):\n",
    "    cm = confusion_matrix(y_true, y_preds, normalize=\"true\")\n",
    "    cm_no_norm = confusion_matrix(y_true, y_preds)\n",
    "    fig, ax = plt.subplots(figsize=(6, 6))\n",
    "    labels_for_fig = [l[0:4]+'.' for l in labels]\n",
    "    disp = ConfusionMatrixDisplay(confusion_matrix=cm,\n",
    "                                  display_labels=labels_for_fig)\n",
    "    #disp.plot(cmap=\"Purples\", values_format=\".2f\", ax=ax, colorbar=False)\n",
    "    disp.plot(cmap=clrmap_dict[fraction_kept], values_format=\".2f\", ax=ax, colorbar=False)\n",
    "    plt.title(\"Normalized confusion matrix\")\n",
    "    plt.show()\n",
    "    return cm, cm_no_norm\n",
    "\n",
    "cm_ob, cm_rawf_ob = plot_confusion_matrix(y_preds, y_test, labels)"
   ]
  },
  {
   "cell_type": "code",
   "execution_count": 79,
   "metadata": {
    "colab": {
     "base_uri": "https://localhost:8080/"
    },
    "executionInfo": {
     "elapsed": 39,
     "status": "ok",
     "timestamp": 1731977883618,
     "user": {
      "displayName": "Pablo Ruiz",
      "userId": "14891062942456279353"
     },
     "user_tz": -60
    },
    "id": "zkr6ixE9I5cd",
    "outputId": "10dd3b55-d670-4d01-f383-18e264c9872e"
   },
   "outputs": [
    {
     "name": "stdout",
     "output_type": "stream",
     "text": [
      "Classification report:\n",
      "\n",
      "              precision    recall  f1-score   support\n",
      "\n",
      "           0     0.8901    0.8333    0.8608       486\n",
      "           1     0.7500    0.7600    0.7550        75\n",
      "           2     1.0000    0.6429    0.7826        14\n",
      "           3     0.8724    0.8028    0.8362       213\n",
      "           4     0.8818    0.7578    0.8151       128\n",
      "           5     0.8066    0.9132    0.8566       242\n",
      "           6     0.8367    0.8039    0.8200       102\n",
      "           7     0.6406    0.6891    0.6640       119\n",
      "           8     0.9654    0.9671    0.9662       577\n",
      "           9     0.5988    0.8583    0.7055       120\n",
      "          10     0.8199    0.8317    0.8258       208\n",
      "          11     0.9217    0.8053    0.8596       190\n",
      "          12     0.9733    0.9755    0.9744       449\n",
      "\n",
      "    accuracy                         0.8720      2923\n",
      "   macro avg     0.8429    0.8185    0.8247      2923\n",
      "weighted avg     0.8792    0.8720    0.8734      2923\n",
      "\n"
     ]
    }
   ],
   "source": [
    "print(\"Classification report:\\n\\n{}\".format(classification_report(y_test, y_preds, digits=4)))"
   ]
  },
  {
   "cell_type": "code",
   "execution_count": 80,
   "metadata": {
    "colab": {
     "base_uri": "https://localhost:8080/"
    },
    "executionInfo": {
     "elapsed": 33,
     "status": "ok",
     "timestamp": 1731977883618,
     "user": {
      "displayName": "Pablo Ruiz",
      "userId": "14891062942456279353"
     },
     "user_tz": -60
    },
    "id": "4qRtjHVvMdJu",
    "outputId": "eaecef96-7dbc-4433-f8bf-b4a7d1f9e448"
   },
   "outputs": [
    {
     "name": "stdout",
     "output_type": "stream",
     "text": [
      "0 action 1 aggression 2 aparte 3 delivery 4 entrance 5 exit 6 interaction 7 movement 8 music 9 narration 10 object 11 setting 12 toward "
     ]
    }
   ],
   "source": [
    "for i in range(13):print(i, id2label[i], end=\" \")"
   ]
  },
  {
   "cell_type": "code",
   "execution_count": 81,
   "metadata": {
    "colab": {
     "base_uri": "https://localhost:8080/"
    },
    "executionInfo": {
     "elapsed": 28,
     "status": "ok",
     "timestamp": 1731977883619,
     "user": {
      "displayName": "Pablo Ruiz",
      "userId": "14891062942456279353"
     },
     "user_tz": -60
    },
    "id": "EVWNydDD7uz6",
    "outputId": "688e56a1-2e5a-4593-c99f-dd2f6a7823ec"
   },
   "outputs": [
    {
     "data": {
      "text/plain": [
       "os.stat_result(st_mode=16832, st_ino=41, st_dev=90, st_nlink=2, st_uid=0, st_gid=0, st_size=4096, st_atime=1731975336, st_mtime=1731977882, st_ctime=1731975336)"
      ]
     },
     "execution_count": 81,
     "metadata": {},
     "output_type": "execute_result"
    }
   ],
   "source": [
    "os.stat(out_dir_exp)"
   ]
  },
  {
   "cell_type": "code",
   "execution_count": 82,
   "metadata": {
    "executionInfo": {
     "elapsed": 23,
     "status": "ok",
     "timestamp": 1731977883619,
     "user": {
      "displayName": "Pablo Ruiz",
      "userId": "14891062942456279353"
     },
     "user_tz": -60
    },
    "id": "xEGei_yz7qcO"
   },
   "outputs": [],
   "source": [
    "import pickle\n",
    "\n",
    "#cm_ob, cm_out_no_norm_ob = plot_confusion_matrix(y_preds, y_test, labels)\n",
    "\n",
    "with open(os.path.join(out_dir_exp, f\"cm_out___{os.path.basename(out_dir_exp)}.pkl\"), mode=\"wb\") as cm_fh:\n",
    "  pickle.dump(cm_ob, cm_fh)\n",
    "with open(os.path.join(out_dir_exp, f\"cm_out_nonorm__{os.path.basename(out_dir_exp)}.pkl\"), mode=\"wb\") as cm_no_norm_fh:\n",
    "  pickle.dump(cm_rawf_ob, cm_no_norm_fh)\n",
    "with open(os.path.join(out_dir_exp, f\"cr_out__{os.path.basename(out_dir_exp)}\"), mode=\"w\") as cr_out:\n",
    "  cr_out.write(classification_report(y_test, y_preds, digits=4))"
   ]
  },
  {
   "cell_type": "code",
   "execution_count": 83,
   "metadata": {
    "colab": {
     "base_uri": "https://localhost:8080/"
    },
    "executionInfo": {
     "elapsed": 22,
     "status": "ok",
     "timestamp": 1731977883619,
     "user": {
      "displayName": "Pablo Ruiz",
      "userId": "14891062942456279353"
     },
     "user_tz": -60
    },
    "id": "3gcDz_0qiP_v",
    "outputId": "fd17d28a-0d3a-41f7-a0f2-7b5cad90506f"
   },
   "outputs": [
    {
     "name": "stdout",
     "output_type": "stream",
     "text": [
      "[[0.83333333 0.01234568 0.         0.02057613 0.         0.00617284\n",
      "  0.01440329 0.02263374 0.00823045 0.0308642  0.03909465 0.01234568\n",
      "  0.        ]\n",
      " [0.08       0.76       0.         0.01333333 0.         0.\n",
      "  0.01333333 0.         0.         0.06666667 0.06666667 0.\n",
      "  0.        ]\n",
      " [0.07142857 0.         0.64285714 0.         0.         0.\n",
      "  0.         0.         0.         0.         0.         0.\n",
      "  0.28571429]\n",
      " [0.05164319 0.00469484 0.         0.8028169  0.00469484 0.02347418\n",
      "  0.00469484 0.00469484 0.03755869 0.04225352 0.00469484 0.00469484\n",
      "  0.01408451]\n",
      " [0.         0.         0.         0.015625   0.7578125  0.1484375\n",
      "  0.         0.0078125  0.0078125  0.0546875  0.         0.\n",
      "  0.0078125 ]\n",
      " [0.00826446 0.         0.         0.00413223 0.02892562 0.91322314\n",
      "  0.         0.04132231 0.         0.         0.00413223 0.\n",
      "  0.        ]\n",
      " [0.01960784 0.03921569 0.         0.         0.         0.\n",
      "  0.80392157 0.03921569 0.         0.04901961 0.03921569 0.00980392\n",
      "  0.        ]\n",
      " [0.03361345 0.00840336 0.         0.01680672 0.         0.15966387\n",
      "  0.         0.68907563 0.00840336 0.03361345 0.01680672 0.02521008\n",
      "  0.00840336]\n",
      " [0.0034662  0.0017331  0.         0.00519931 0.0034662  0.\n",
      "  0.         0.0017331  0.96707106 0.01039861 0.00519931 0.\n",
      "  0.0017331 ]\n",
      " [0.03333333 0.00833333 0.         0.025      0.00833333 0.025\n",
      "  0.00833333 0.01666667 0.         0.85833333 0.00833333 0.00833333\n",
      "  0.        ]\n",
      " [0.05288462 0.02403846 0.         0.00961538 0.00480769 0.00480769\n",
      "  0.02884615 0.00480769 0.00480769 0.02884615 0.83173077 0.00480769\n",
      "  0.        ]\n",
      " [0.02631579 0.         0.         0.         0.00526316 0.01578947\n",
      "  0.         0.05789474 0.01578947 0.05263158 0.01052632 0.80526316\n",
      "  0.01052632]\n",
      " [0.00445434 0.         0.         0.00222717 0.         0.\n",
      "  0.         0.00890869 0.00445434 0.00445434 0.         0.\n",
      "  0.97550111]]\n"
     ]
    }
   ],
   "source": [
    "print(cm_ob)"
   ]
  },
  {
   "cell_type": "code",
   "execution_count": 84,
   "metadata": {
    "colab": {
     "base_uri": "https://localhost:8080/"
    },
    "executionInfo": {
     "elapsed": 18,
     "status": "ok",
     "timestamp": 1731977883619,
     "user": {
      "displayName": "Pablo Ruiz",
      "userId": "14891062942456279353"
     },
     "user_tz": -60
    },
    "id": "nrEs1n0HzR0q",
    "outputId": "676f93c0-efda-478b-83a4-4a3718dd4784"
   },
   "outputs": [
    {
     "name": "stdout",
     "output_type": "stream",
     "text": [
      "[[405   6   0  10   0   3   7  11   4  15  19   6   0]\n",
      " [  6  57   0   1   0   0   1   0   0   5   5   0   0]\n",
      " [  1   0   9   0   0   0   0   0   0   0   0   0   4]\n",
      " [ 11   1   0 171   1   5   1   1   8   9   1   1   3]\n",
      " [  0   0   0   2  97  19   0   1   1   7   0   0   1]\n",
      " [  2   0   0   1   7 221   0  10   0   0   1   0   0]\n",
      " [  2   4   0   0   0   0  82   4   0   5   4   1   0]\n",
      " [  4   1   0   2   0  19   0  82   1   4   2   3   1]\n",
      " [  2   1   0   3   2   0   0   1 558   6   3   0   1]\n",
      " [  4   1   0   3   1   3   1   2   0 103   1   1   0]\n",
      " [ 11   5   0   2   1   1   6   1   1   6 173   1   0]\n",
      " [  5   0   0   0   1   3   0  11   3  10   2 153   2]\n",
      " [  2   0   0   1   0   0   0   4   2   2   0   0 438]]\n"
     ]
    }
   ],
   "source": [
    "print(cm_rawf_ob)"
   ]
  },
  {
   "cell_type": "code",
   "execution_count": 85,
   "metadata": {
    "executionInfo": {
     "elapsed": 14,
     "status": "ok",
     "timestamp": 1731977883620,
     "user": {
      "displayName": "Pablo Ruiz",
      "userId": "14891062942456279353"
     },
     "user_tz": -60
    },
    "id": "izW1mQcRdNiA"
   },
   "outputs": [],
   "source": [
    "if save_model:\n",
    "  assert use_drive is True\n",
    "  model.save_pretrained(f\"/content/drive/MyDrive/___wv/{model_ckpt}-finetuned-stgdir-AS13reduc_50_common-testset\")\n",
    "  tokenizer.save_pretrained(f\"/content/drive/MyDrive/___wv/{model_ckpt}-finetuned-stgdir-AS13reduc_50_common-testset\")"
   ]
  },
  {
   "cell_type": "code",
   "execution_count": 86,
   "metadata": {
    "colab": {
     "base_uri": "https://localhost:8080/"
    },
    "executionInfo": {
     "elapsed": 332,
     "status": "ok",
     "timestamp": 1731977883939,
     "user": {
      "displayName": "Pablo Ruiz",
      "userId": "14891062942456279353"
     },
     "user_tz": -60
    },
    "id": "4ucHHV-KnpL5",
    "outputId": "921c2103-d419-475a-8437-6a965f8ae9af"
   },
   "outputs": [
    {
     "name": "stdout",
     "output_type": "stream",
     "text": [
      "{\n",
      "  \"ip\": \"34.16.129.1\",\n",
      "  \"hostname\": \"1.129.16.34.bc.googleusercontent.com\",\n",
      "  \"city\": \"Las Vegas\",\n",
      "  \"region\": \"Nevada\",\n",
      "  \"country\": \"US\",\n",
      "  \"loc\": \"36.1750,-115.1372\",\n",
      "  \"org\": \"AS396982 Google LLC\",\n",
      "  \"postal\": \"89111\",\n",
      "  \"timezone\": \"America/Los_Angeles\",\n",
      "  \"readme\": \"https://ipinfo.io/missingauth\"\n",
      "}"
     ]
    }
   ],
   "source": [
    "!curl ipinfo.io"
   ]
  }
 ],
 "metadata": {
  "accelerator": "GPU",
  "colab": {
   "gpuType": "L4",
   "machine_shape": "hm",
   "provenance": []
  },
  "kernelspec": {
   "display_name": "Python 3 (ipykernel)",
   "language": "python",
   "name": "python3"
  },
  "language_info": {
   "codemirror_mode": {
    "name": "ipython",
    "version": 3
   },
   "file_extension": ".py",
   "mimetype": "text/x-python",
   "name": "python",
   "nbconvert_exporter": "python",
   "pygments_lexer": "ipython3",
   "version": "3.11.7"
  },
  "widgets": {
   "application/vnd.jupyter.widget-state+json": {
    "0491727acb1a40a096e0d3fec1011c02": {
     "model_module": "@jupyter-widgets/controls",
     "model_module_version": "1.5.0",
     "model_name": "DescriptionStyleModel",
     "state": {
      "_model_module": "@jupyter-widgets/controls",
      "_model_module_version": "1.5.0",
      "_model_name": "DescriptionStyleModel",
      "_view_count": null,
      "_view_module": "@jupyter-widgets/base",
      "_view_module_version": "1.2.0",
      "_view_name": "StyleView",
      "description_width": ""
     }
    },
    "07e8b061831440ef8ba3b82f5e75c8b3": {
     "model_module": "@jupyter-widgets/base",
     "model_module_version": "1.2.0",
     "model_name": "LayoutModel",
     "state": {
      "_model_module": "@jupyter-widgets/base",
      "_model_module_version": "1.2.0",
      "_model_name": "LayoutModel",
      "_view_count": null,
      "_view_module": "@jupyter-widgets/base",
      "_view_module_version": "1.2.0",
      "_view_name": "LayoutView",
      "align_content": null,
      "align_items": null,
      "align_self": null,
      "border": null,
      "bottom": null,
      "display": null,
      "flex": null,
      "flex_flow": null,
      "grid_area": null,
      "grid_auto_columns": null,
      "grid_auto_flow": null,
      "grid_auto_rows": null,
      "grid_column": null,
      "grid_gap": null,
      "grid_row": null,
      "grid_template_areas": null,
      "grid_template_columns": null,
      "grid_template_rows": null,
      "height": null,
      "justify_content": null,
      "justify_items": null,
      "left": null,
      "margin": null,
      "max_height": null,
      "max_width": null,
      "min_height": null,
      "min_width": null,
      "object_fit": null,
      "object_position": null,
      "order": null,
      "overflow": null,
      "overflow_x": null,
      "overflow_y": null,
      "padding": null,
      "right": null,
      "top": null,
      "visibility": null,
      "width": null
     }
    },
    "0867da284f714f74b094c7a18f0b16d0": {
     "model_module": "@jupyter-widgets/controls",
     "model_module_version": "1.5.0",
     "model_name": "DescriptionStyleModel",
     "state": {
      "_model_module": "@jupyter-widgets/controls",
      "_model_module_version": "1.5.0",
      "_model_name": "DescriptionStyleModel",
      "_view_count": null,
      "_view_module": "@jupyter-widgets/base",
      "_view_module_version": "1.2.0",
      "_view_name": "StyleView",
      "description_width": ""
     }
    },
    "0a8e23316fe9492188567de98836f8aa": {
     "model_module": "@jupyter-widgets/base",
     "model_module_version": "1.2.0",
     "model_name": "LayoutModel",
     "state": {
      "_model_module": "@jupyter-widgets/base",
      "_model_module_version": "1.2.0",
      "_model_name": "LayoutModel",
      "_view_count": null,
      "_view_module": "@jupyter-widgets/base",
      "_view_module_version": "1.2.0",
      "_view_name": "LayoutView",
      "align_content": null,
      "align_items": null,
      "align_self": null,
      "border": null,
      "bottom": null,
      "display": null,
      "flex": null,
      "flex_flow": null,
      "grid_area": null,
      "grid_auto_columns": null,
      "grid_auto_flow": null,
      "grid_auto_rows": null,
      "grid_column": null,
      "grid_gap": null,
      "grid_row": null,
      "grid_template_areas": null,
      "grid_template_columns": null,
      "grid_template_rows": null,
      "height": null,
      "justify_content": null,
      "justify_items": null,
      "left": null,
      "margin": null,
      "max_height": null,
      "max_width": null,
      "min_height": null,
      "min_width": null,
      "object_fit": null,
      "object_position": null,
      "order": null,
      "overflow": null,
      "overflow_x": null,
      "overflow_y": null,
      "padding": null,
      "right": null,
      "top": null,
      "visibility": null,
      "width": null
     }
    },
    "1441e945da364e6fba0af7ded4797562": {
     "model_module": "@jupyter-widgets/controls",
     "model_module_version": "1.5.0",
     "model_name": "HTMLModel",
     "state": {
      "_dom_classes": [],
      "_model_module": "@jupyter-widgets/controls",
      "_model_module_version": "1.5.0",
      "_model_name": "HTMLModel",
      "_view_count": null,
      "_view_module": "@jupyter-widgets/controls",
      "_view_module_version": "1.5.0",
      "_view_name": "HTMLView",
      "description": "",
      "description_tooltip": null,
      "layout": "IPY_MODEL_ba427d437618473b8f1875b0c293fa11",
      "placeholder": "​",
      "style": "IPY_MODEL_7f42c275512f415f98c825de579043cc",
      "value": " 896k/896k [00:00&lt;00:00, 6.71MB/s]"
     }
    },
    "14c5be8481bb403a8c1aad1577a3df7c": {
     "model_module": "@jupyter-widgets/base",
     "model_module_version": "1.2.0",
     "model_name": "LayoutModel",
     "state": {
      "_model_module": "@jupyter-widgets/base",
      "_model_module_version": "1.2.0",
      "_model_name": "LayoutModel",
      "_view_count": null,
      "_view_module": "@jupyter-widgets/base",
      "_view_module_version": "1.2.0",
      "_view_name": "LayoutView",
      "align_content": null,
      "align_items": null,
      "align_self": null,
      "border": null,
      "bottom": null,
      "display": null,
      "flex": null,
      "flex_flow": null,
      "grid_area": null,
      "grid_auto_columns": null,
      "grid_auto_flow": null,
      "grid_auto_rows": null,
      "grid_column": null,
      "grid_gap": null,
      "grid_row": null,
      "grid_template_areas": null,
      "grid_template_columns": null,
      "grid_template_rows": null,
      "height": null,
      "justify_content": null,
      "justify_items": null,
      "left": null,
      "margin": null,
      "max_height": null,
      "max_width": null,
      "min_height": null,
      "min_width": null,
      "object_fit": null,
      "object_position": null,
      "order": null,
      "overflow": null,
      "overflow_x": null,
      "overflow_y": null,
      "padding": null,
      "right": null,
      "top": null,
      "visibility": null,
      "width": null
     }
    },
    "1771c7e257d44929b9308b8046452283": {
     "model_module": "@jupyter-widgets/controls",
     "model_module_version": "1.5.0",
     "model_name": "DescriptionStyleModel",
     "state": {
      "_model_module": "@jupyter-widgets/controls",
      "_model_module_version": "1.5.0",
      "_model_name": "DescriptionStyleModel",
      "_view_count": null,
      "_view_module": "@jupyter-widgets/base",
      "_view_module_version": "1.2.0",
      "_view_name": "StyleView",
      "description_width": ""
     }
    },
    "17ba729001dc47b19e343b6962a11509": {
     "model_module": "@jupyter-widgets/controls",
     "model_module_version": "1.5.0",
     "model_name": "ProgressStyleModel",
     "state": {
      "_model_module": "@jupyter-widgets/controls",
      "_model_module_version": "1.5.0",
      "_model_name": "ProgressStyleModel",
      "_view_count": null,
      "_view_module": "@jupyter-widgets/base",
      "_view_module_version": "1.2.0",
      "_view_name": "StyleView",
      "bar_color": null,
      "description_width": ""
     }
    },
    "182bc719dc574661af4139faf0110dde": {
     "model_module": "@jupyter-widgets/controls",
     "model_module_version": "1.5.0",
     "model_name": "DescriptionStyleModel",
     "state": {
      "_model_module": "@jupyter-widgets/controls",
      "_model_module_version": "1.5.0",
      "_model_name": "DescriptionStyleModel",
      "_view_count": null,
      "_view_module": "@jupyter-widgets/base",
      "_view_module_version": "1.2.0",
      "_view_name": "StyleView",
      "description_width": ""
     }
    },
    "1941b69fc37941b398832c28272c8704": {
     "model_module": "@jupyter-widgets/controls",
     "model_module_version": "1.5.0",
     "model_name": "HTMLModel",
     "state": {
      "_dom_classes": [],
      "_model_module": "@jupyter-widgets/controls",
      "_model_module_version": "1.5.0",
      "_model_name": "HTMLModel",
      "_view_count": null,
      "_view_module": "@jupyter-widgets/controls",
      "_view_module_version": "1.5.0",
      "_view_name": "HTMLView",
      "description": "",
      "description_tooltip": null,
      "layout": "IPY_MODEL_1a8b861052cb4c0ab8bb9f1e7d14471b",
      "placeholder": "​",
      "style": "IPY_MODEL_23946cab325b4db7b3160d095f6a518f",
      "value": " 9352/9352 [00:05&lt;00:00, 1576.25 examples/s]"
     }
    },
    "1a8b861052cb4c0ab8bb9f1e7d14471b": {
     "model_module": "@jupyter-widgets/base",
     "model_module_version": "1.2.0",
     "model_name": "LayoutModel",
     "state": {
      "_model_module": "@jupyter-widgets/base",
      "_model_module_version": "1.2.0",
      "_model_name": "LayoutModel",
      "_view_count": null,
      "_view_module": "@jupyter-widgets/base",
      "_view_module_version": "1.2.0",
      "_view_name": "LayoutView",
      "align_content": null,
      "align_items": null,
      "align_self": null,
      "border": null,
      "bottom": null,
      "display": null,
      "flex": null,
      "flex_flow": null,
      "grid_area": null,
      "grid_auto_columns": null,
      "grid_auto_flow": null,
      "grid_auto_rows": null,
      "grid_column": null,
      "grid_gap": null,
      "grid_row": null,
      "grid_template_areas": null,
      "grid_template_columns": null,
      "grid_template_rows": null,
      "height": null,
      "justify_content": null,
      "justify_items": null,
      "left": null,
      "margin": null,
      "max_height": null,
      "max_width": null,
      "min_height": null,
      "min_width": null,
      "object_fit": null,
      "object_position": null,
      "order": null,
      "overflow": null,
      "overflow_x": null,
      "overflow_y": null,
      "padding": null,
      "right": null,
      "top": null,
      "visibility": null,
      "width": null
     }
    },
    "1ccbff526af14c80bc60ee5117c6c933": {
     "model_module": "@jupyter-widgets/base",
     "model_module_version": "1.2.0",
     "model_name": "LayoutModel",
     "state": {
      "_model_module": "@jupyter-widgets/base",
      "_model_module_version": "1.2.0",
      "_model_name": "LayoutModel",
      "_view_count": null,
      "_view_module": "@jupyter-widgets/base",
      "_view_module_version": "1.2.0",
      "_view_name": "LayoutView",
      "align_content": null,
      "align_items": null,
      "align_self": null,
      "border": null,
      "bottom": null,
      "display": null,
      "flex": null,
      "flex_flow": null,
      "grid_area": null,
      "grid_auto_columns": null,
      "grid_auto_flow": null,
      "grid_auto_rows": null,
      "grid_column": null,
      "grid_gap": null,
      "grid_row": null,
      "grid_template_areas": null,
      "grid_template_columns": null,
      "grid_template_rows": null,
      "height": null,
      "justify_content": null,
      "justify_items": null,
      "left": null,
      "margin": null,
      "max_height": null,
      "max_width": null,
      "min_height": null,
      "min_width": null,
      "object_fit": null,
      "object_position": null,
      "order": null,
      "overflow": null,
      "overflow_x": null,
      "overflow_y": null,
      "padding": null,
      "right": null,
      "top": null,
      "visibility": null,
      "width": null
     }
    },
    "21ef90bf5a0d4fb38555985f0bf008bb": {
     "model_module": "@jupyter-widgets/controls",
     "model_module_version": "1.5.0",
     "model_name": "FloatProgressModel",
     "state": {
      "_dom_classes": [],
      "_model_module": "@jupyter-widgets/controls",
      "_model_module_version": "1.5.0",
      "_model_name": "FloatProgressModel",
      "_view_count": null,
      "_view_module": "@jupyter-widgets/controls",
      "_view_module_version": "1.5.0",
      "_view_name": "ProgressView",
      "bar_style": "success",
      "description": "",
      "description_tooltip": null,
      "layout": "IPY_MODEL_14c5be8481bb403a8c1aad1577a3df7c",
      "max": 2923,
      "min": 0,
      "orientation": "horizontal",
      "style": "IPY_MODEL_5dc58bb40f124666a0129bff2b606c23",
      "value": 2923
     }
    },
    "23946cab325b4db7b3160d095f6a518f": {
     "model_module": "@jupyter-widgets/controls",
     "model_module_version": "1.5.0",
     "model_name": "DescriptionStyleModel",
     "state": {
      "_model_module": "@jupyter-widgets/controls",
      "_model_module_version": "1.5.0",
      "_model_name": "DescriptionStyleModel",
      "_view_count": null,
      "_view_module": "@jupyter-widgets/base",
      "_view_module_version": "1.2.0",
      "_view_name": "StyleView",
      "description_width": ""
     }
    },
    "2b01533e16824900bca5062405d2324a": {
     "model_module": "@jupyter-widgets/controls",
     "model_module_version": "1.5.0",
     "model_name": "HTMLModel",
     "state": {
      "_dom_classes": [],
      "_model_module": "@jupyter-widgets/controls",
      "_model_module_version": "1.5.0",
      "_model_name": "HTMLModel",
      "_view_count": null,
      "_view_module": "@jupyter-widgets/controls",
      "_view_module_version": "1.5.0",
      "_view_name": "HTMLView",
      "description": "",
      "description_tooltip": null,
      "layout": "IPY_MODEL_1ccbff526af14c80bc60ee5117c6c933",
      "placeholder": "​",
      "style": "IPY_MODEL_0491727acb1a40a096e0d3fec1011c02",
      "value": " 2338/2338 [00:01&lt;00:00, 2303.35 examples/s]"
     }
    },
    "2c82c843b6e94d47bfee6e27e788a0c8": {
     "model_module": "@jupyter-widgets/controls",
     "model_module_version": "1.5.0",
     "model_name": "HTMLModel",
     "state": {
      "_dom_classes": [],
      "_model_module": "@jupyter-widgets/controls",
      "_model_module_version": "1.5.0",
      "_model_name": "HTMLModel",
      "_view_count": null,
      "_view_module": "@jupyter-widgets/controls",
      "_view_module_version": "1.5.0",
      "_view_name": "HTMLView",
      "description": "",
      "description_tooltip": null,
      "layout": "IPY_MODEL_d7dd907c986b432b82e326b8a8d1b68a",
      "placeholder": "​",
      "style": "IPY_MODEL_74be9e05cea4433a9bfadcfd2a7d8a9f",
      "value": "config.json: 100%"
     }
    },
    "2d534eb6fe4a4b459400b12f3acb68ae": {
     "model_module": "@jupyter-widgets/base",
     "model_module_version": "1.2.0",
     "model_name": "LayoutModel",
     "state": {
      "_model_module": "@jupyter-widgets/base",
      "_model_module_version": "1.2.0",
      "_model_name": "LayoutModel",
      "_view_count": null,
      "_view_module": "@jupyter-widgets/base",
      "_view_module_version": "1.2.0",
      "_view_name": "LayoutView",
      "align_content": null,
      "align_items": null,
      "align_self": null,
      "border": null,
      "bottom": null,
      "display": null,
      "flex": null,
      "flex_flow": null,
      "grid_area": null,
      "grid_auto_columns": null,
      "grid_auto_flow": null,
      "grid_auto_rows": null,
      "grid_column": null,
      "grid_gap": null,
      "grid_row": null,
      "grid_template_areas": null,
      "grid_template_columns": null,
      "grid_template_rows": null,
      "height": null,
      "justify_content": null,
      "justify_items": null,
      "left": null,
      "margin": null,
      "max_height": null,
      "max_width": null,
      "min_height": null,
      "min_width": null,
      "object_fit": null,
      "object_position": null,
      "order": null,
      "overflow": null,
      "overflow_x": null,
      "overflow_y": null,
      "padding": null,
      "right": null,
      "top": null,
      "visibility": null,
      "width": null
     }
    },
    "2e0e6bcda7b341edab10d2aa61147992": {
     "model_module": "@jupyter-widgets/base",
     "model_module_version": "1.2.0",
     "model_name": "LayoutModel",
     "state": {
      "_model_module": "@jupyter-widgets/base",
      "_model_module_version": "1.2.0",
      "_model_name": "LayoutModel",
      "_view_count": null,
      "_view_module": "@jupyter-widgets/base",
      "_view_module_version": "1.2.0",
      "_view_name": "LayoutView",
      "align_content": null,
      "align_items": null,
      "align_self": null,
      "border": null,
      "bottom": null,
      "display": null,
      "flex": null,
      "flex_flow": null,
      "grid_area": null,
      "grid_auto_columns": null,
      "grid_auto_flow": null,
      "grid_auto_rows": null,
      "grid_column": null,
      "grid_gap": null,
      "grid_row": null,
      "grid_template_areas": null,
      "grid_template_columns": null,
      "grid_template_rows": null,
      "height": null,
      "justify_content": null,
      "justify_items": null,
      "left": null,
      "margin": null,
      "max_height": null,
      "max_width": null,
      "min_height": null,
      "min_width": null,
      "object_fit": null,
      "object_position": null,
      "order": null,
      "overflow": null,
      "overflow_x": null,
      "overflow_y": null,
      "padding": null,
      "right": null,
      "top": null,
      "visibility": null,
      "width": null
     }
    },
    "307000417393482db6b523ec19b1ef39": {
     "model_module": "@jupyter-widgets/controls",
     "model_module_version": "1.5.0",
     "model_name": "FloatProgressModel",
     "state": {
      "_dom_classes": [],
      "_model_module": "@jupyter-widgets/controls",
      "_model_module_version": "1.5.0",
      "_model_name": "FloatProgressModel",
      "_view_count": null,
      "_view_module": "@jupyter-widgets/controls",
      "_view_module_version": "1.5.0",
      "_view_name": "ProgressView",
      "bar_style": "success",
      "description": "",
      "description_tooltip": null,
      "layout": "IPY_MODEL_63d87f541e674b5da6548291a4f1aded",
      "max": 4203,
      "min": 0,
      "orientation": "horizontal",
      "style": "IPY_MODEL_3a55fbb4f925482180678ed83abc8412",
      "value": 4203
     }
    },
    "3083d2db829448c58f1981cc84fe9384": {
     "model_module": "@jupyter-widgets/controls",
     "model_module_version": "1.5.0",
     "model_name": "FloatProgressModel",
     "state": {
      "_dom_classes": [],
      "_model_module": "@jupyter-widgets/controls",
      "_model_module_version": "1.5.0",
      "_model_name": "FloatProgressModel",
      "_view_count": null,
      "_view_module": "@jupyter-widgets/controls",
      "_view_module_version": "1.5.0",
      "_view_name": "ProgressView",
      "bar_style": "success",
      "description": "",
      "description_tooltip": null,
      "layout": "IPY_MODEL_6ef49c9016fa4654a2118bb8a2796bd5",
      "max": 72,
      "min": 0,
      "orientation": "horizontal",
      "style": "IPY_MODEL_8715afd636be475fbff3644c8664a944",
      "value": 72
     }
    },
    "30c187947933459286aadbe53899c23c": {
     "model_module": "@jupyter-widgets/controls",
     "model_module_version": "1.5.0",
     "model_name": "DescriptionStyleModel",
     "state": {
      "_model_module": "@jupyter-widgets/controls",
      "_model_module_version": "1.5.0",
      "_model_name": "DescriptionStyleModel",
      "_view_count": null,
      "_view_module": "@jupyter-widgets/base",
      "_view_module_version": "1.2.0",
      "_view_name": "StyleView",
      "description_width": ""
     }
    },
    "32d64fb640f54708a6f76e42d5348ed4": {
     "model_module": "@jupyter-widgets/controls",
     "model_module_version": "1.5.0",
     "model_name": "HTMLModel",
     "state": {
      "_dom_classes": [],
      "_model_module": "@jupyter-widgets/controls",
      "_model_module_version": "1.5.0",
      "_model_name": "HTMLModel",
      "_view_count": null,
      "_view_module": "@jupyter-widgets/controls",
      "_view_module_version": "1.5.0",
      "_view_name": "HTMLView",
      "description": "",
      "description_tooltip": null,
      "layout": "IPY_MODEL_f7325dea87444f1a8bbe59487316e109",
      "placeholder": "​",
      "style": "IPY_MODEL_dc7fcd451d7f4d0c801ab24f105b46e0",
      "value": "Map: 100%"
     }
    },
    "356bd8e1bef0451fbc959d8d75830ac2": {
     "model_module": "@jupyter-widgets/base",
     "model_module_version": "1.2.0",
     "model_name": "LayoutModel",
     "state": {
      "_model_module": "@jupyter-widgets/base",
      "_model_module_version": "1.2.0",
      "_model_name": "LayoutModel",
      "_view_count": null,
      "_view_module": "@jupyter-widgets/base",
      "_view_module_version": "1.2.0",
      "_view_name": "LayoutView",
      "align_content": null,
      "align_items": null,
      "align_self": null,
      "border": null,
      "bottom": null,
      "display": null,
      "flex": null,
      "flex_flow": null,
      "grid_area": null,
      "grid_auto_columns": null,
      "grid_auto_flow": null,
      "grid_auto_rows": null,
      "grid_column": null,
      "grid_gap": null,
      "grid_row": null,
      "grid_template_areas": null,
      "grid_template_columns": null,
      "grid_template_rows": null,
      "height": null,
      "justify_content": null,
      "justify_items": null,
      "left": null,
      "margin": null,
      "max_height": null,
      "max_width": null,
      "min_height": null,
      "min_width": null,
      "object_fit": null,
      "object_position": null,
      "order": null,
      "overflow": null,
      "overflow_x": null,
      "overflow_y": null,
      "padding": null,
      "right": null,
      "top": null,
      "visibility": null,
      "width": null
     }
    },
    "38b9b02c8c5144748b7bd7aeb3be04da": {
     "model_module": "@jupyter-widgets/base",
     "model_module_version": "1.2.0",
     "model_name": "LayoutModel",
     "state": {
      "_model_module": "@jupyter-widgets/base",
      "_model_module_version": "1.2.0",
      "_model_name": "LayoutModel",
      "_view_count": null,
      "_view_module": "@jupyter-widgets/base",
      "_view_module_version": "1.2.0",
      "_view_name": "LayoutView",
      "align_content": null,
      "align_items": null,
      "align_self": null,
      "border": null,
      "bottom": null,
      "display": null,
      "flex": null,
      "flex_flow": null,
      "grid_area": null,
      "grid_auto_columns": null,
      "grid_auto_flow": null,
      "grid_auto_rows": null,
      "grid_column": null,
      "grid_gap": null,
      "grid_row": null,
      "grid_template_areas": null,
      "grid_template_columns": null,
      "grid_template_rows": null,
      "height": null,
      "justify_content": null,
      "justify_items": null,
      "left": null,
      "margin": null,
      "max_height": null,
      "max_width": null,
      "min_height": null,
      "min_width": null,
      "object_fit": null,
      "object_position": null,
      "order": null,
      "overflow": null,
      "overflow_x": null,
      "overflow_y": null,
      "padding": null,
      "right": null,
      "top": null,
      "visibility": null,
      "width": null
     }
    },
    "3a55fbb4f925482180678ed83abc8412": {
     "model_module": "@jupyter-widgets/controls",
     "model_module_version": "1.5.0",
     "model_name": "ProgressStyleModel",
     "state": {
      "_model_module": "@jupyter-widgets/controls",
      "_model_module_version": "1.5.0",
      "_model_name": "ProgressStyleModel",
      "_view_count": null,
      "_view_module": "@jupyter-widgets/base",
      "_view_module_version": "1.2.0",
      "_view_name": "StyleView",
      "bar_color": null,
      "description_width": ""
     }
    },
    "3cde27a1cecd49fea7a815966c9823fb": {
     "model_module": "@jupyter-widgets/base",
     "model_module_version": "1.2.0",
     "model_name": "LayoutModel",
     "state": {
      "_model_module": "@jupyter-widgets/base",
      "_model_module_version": "1.2.0",
      "_model_name": "LayoutModel",
      "_view_count": null,
      "_view_module": "@jupyter-widgets/base",
      "_view_module_version": "1.2.0",
      "_view_name": "LayoutView",
      "align_content": null,
      "align_items": null,
      "align_self": null,
      "border": null,
      "bottom": null,
      "display": null,
      "flex": null,
      "flex_flow": null,
      "grid_area": null,
      "grid_auto_columns": null,
      "grid_auto_flow": null,
      "grid_auto_rows": null,
      "grid_column": null,
      "grid_gap": null,
      "grid_row": null,
      "grid_template_areas": null,
      "grid_template_columns": null,
      "grid_template_rows": null,
      "height": null,
      "justify_content": null,
      "justify_items": null,
      "left": null,
      "margin": null,
      "max_height": null,
      "max_width": null,
      "min_height": null,
      "min_width": null,
      "object_fit": null,
      "object_position": null,
      "order": null,
      "overflow": null,
      "overflow_x": null,
      "overflow_y": null,
      "padding": null,
      "right": null,
      "top": null,
      "visibility": null,
      "width": null
     }
    },
    "3dadc8ed921046b1badfe6f254c1bdb0": {
     "model_module": "@jupyter-widgets/controls",
     "model_module_version": "1.5.0",
     "model_name": "HTMLModel",
     "state": {
      "_dom_classes": [],
      "_model_module": "@jupyter-widgets/controls",
      "_model_module_version": "1.5.0",
      "_model_name": "HTMLModel",
      "_view_count": null,
      "_view_module": "@jupyter-widgets/controls",
      "_view_module_version": "1.5.0",
      "_view_name": "HTMLView",
      "description": "",
      "description_tooltip": null,
      "layout": "IPY_MODEL_40ce81c927ba4397a2a3b177d0daa756",
      "placeholder": "​",
      "style": "IPY_MODEL_f66879de3633462ba740921c35fcb91e",
      "value": " 2923/2923 [00:01&lt;00:00, 1815.90 examples/s]"
     }
    },
    "40ce81c927ba4397a2a3b177d0daa756": {
     "model_module": "@jupyter-widgets/base",
     "model_module_version": "1.2.0",
     "model_name": "LayoutModel",
     "state": {
      "_model_module": "@jupyter-widgets/base",
      "_model_module_version": "1.2.0",
      "_model_name": "LayoutModel",
      "_view_count": null,
      "_view_module": "@jupyter-widgets/base",
      "_view_module_version": "1.2.0",
      "_view_name": "LayoutView",
      "align_content": null,
      "align_items": null,
      "align_self": null,
      "border": null,
      "bottom": null,
      "display": null,
      "flex": null,
      "flex_flow": null,
      "grid_area": null,
      "grid_auto_columns": null,
      "grid_auto_flow": null,
      "grid_auto_rows": null,
      "grid_column": null,
      "grid_gap": null,
      "grid_row": null,
      "grid_template_areas": null,
      "grid_template_columns": null,
      "grid_template_rows": null,
      "height": null,
      "justify_content": null,
      "justify_items": null,
      "left": null,
      "margin": null,
      "max_height": null,
      "max_width": null,
      "min_height": null,
      "min_width": null,
      "object_fit": null,
      "object_position": null,
      "order": null,
      "overflow": null,
      "overflow_x": null,
      "overflow_y": null,
      "padding": null,
      "right": null,
      "top": null,
      "visibility": null,
      "width": null
     }
    },
    "45979f82d2e8409c880f0181e8e6382d": {
     "model_module": "@jupyter-widgets/base",
     "model_module_version": "1.2.0",
     "model_name": "LayoutModel",
     "state": {
      "_model_module": "@jupyter-widgets/base",
      "_model_module_version": "1.2.0",
      "_model_name": "LayoutModel",
      "_view_count": null,
      "_view_module": "@jupyter-widgets/base",
      "_view_module_version": "1.2.0",
      "_view_name": "LayoutView",
      "align_content": null,
      "align_items": null,
      "align_self": null,
      "border": null,
      "bottom": null,
      "display": null,
      "flex": null,
      "flex_flow": null,
      "grid_area": null,
      "grid_auto_columns": null,
      "grid_auto_flow": null,
      "grid_auto_rows": null,
      "grid_column": null,
      "grid_gap": null,
      "grid_row": null,
      "grid_template_areas": null,
      "grid_template_columns": null,
      "grid_template_rows": null,
      "height": null,
      "justify_content": null,
      "justify_items": null,
      "left": null,
      "margin": null,
      "max_height": null,
      "max_width": null,
      "min_height": null,
      "min_width": null,
      "object_fit": null,
      "object_position": null,
      "order": null,
      "overflow": null,
      "overflow_x": null,
      "overflow_y": null,
      "padding": null,
      "right": null,
      "top": null,
      "visibility": null,
      "width": null
     }
    },
    "48688f7d0a3a464db2372c4af2c48283": {
     "model_module": "@jupyter-widgets/controls",
     "model_module_version": "1.5.0",
     "model_name": "HBoxModel",
     "state": {
      "_dom_classes": [],
      "_model_module": "@jupyter-widgets/controls",
      "_model_module_version": "1.5.0",
      "_model_name": "HBoxModel",
      "_view_count": null,
      "_view_module": "@jupyter-widgets/controls",
      "_view_module_version": "1.5.0",
      "_view_name": "HBoxView",
      "box_style": "",
      "children": [
       "IPY_MODEL_b1faf8b81db74f1e999b2a7d92e1dae5",
       "IPY_MODEL_307000417393482db6b523ec19b1ef39",
       "IPY_MODEL_c2eeb3c0f1d74459b30cc12ffc62f6c6"
      ],
      "layout": "IPY_MODEL_a7d3141bc1c54bf29e7fa6bcaf24e52c"
     }
    },
    "4ece91f7155d4c599e16f4f6155743ee": {
     "model_module": "@jupyter-widgets/base",
     "model_module_version": "1.2.0",
     "model_name": "LayoutModel",
     "state": {
      "_model_module": "@jupyter-widgets/base",
      "_model_module_version": "1.2.0",
      "_model_name": "LayoutModel",
      "_view_count": null,
      "_view_module": "@jupyter-widgets/base",
      "_view_module_version": "1.2.0",
      "_view_name": "LayoutView",
      "align_content": null,
      "align_items": null,
      "align_self": null,
      "border": null,
      "bottom": null,
      "display": null,
      "flex": null,
      "flex_flow": null,
      "grid_area": null,
      "grid_auto_columns": null,
      "grid_auto_flow": null,
      "grid_auto_rows": null,
      "grid_column": null,
      "grid_gap": null,
      "grid_row": null,
      "grid_template_areas": null,
      "grid_template_columns": null,
      "grid_template_rows": null,
      "height": null,
      "justify_content": null,
      "justify_items": null,
      "left": null,
      "margin": null,
      "max_height": null,
      "max_width": null,
      "min_height": null,
      "min_width": null,
      "object_fit": null,
      "object_position": null,
      "order": null,
      "overflow": null,
      "overflow_x": null,
      "overflow_y": null,
      "padding": null,
      "right": null,
      "top": null,
      "visibility": null,
      "width": null
     }
    },
    "54fc1a6ff90c45ce90f45df05ce53911": {
     "model_module": "@jupyter-widgets/controls",
     "model_module_version": "1.5.0",
     "model_name": "DescriptionStyleModel",
     "state": {
      "_model_module": "@jupyter-widgets/controls",
      "_model_module_version": "1.5.0",
      "_model_name": "DescriptionStyleModel",
      "_view_count": null,
      "_view_module": "@jupyter-widgets/base",
      "_view_module_version": "1.2.0",
      "_view_name": "StyleView",
      "description_width": ""
     }
    },
    "56e95d91c4e146fc817029dbf823a261": {
     "model_module": "@jupyter-widgets/controls",
     "model_module_version": "1.5.0",
     "model_name": "HTMLModel",
     "state": {
      "_dom_classes": [],
      "_model_module": "@jupyter-widgets/controls",
      "_model_module_version": "1.5.0",
      "_model_name": "HTMLModel",
      "_view_count": null,
      "_view_module": "@jupyter-widgets/controls",
      "_view_module_version": "1.5.0",
      "_view_name": "HTMLView",
      "description": "",
      "description_tooltip": null,
      "layout": "IPY_MODEL_b19a88e8ea304c54b9ff46d48aa947a1",
      "placeholder": "​",
      "style": "IPY_MODEL_f4d5c110a6d24b42862b56e505891ba3",
      "value": " 1.56M/1.56M [00:00&lt;00:00, 4.78MB/s]"
     }
    },
    "58ec70a0dcb04551a7d2fd4c61ac6668": {
     "model_module": "@jupyter-widgets/base",
     "model_module_version": "1.2.0",
     "model_name": "LayoutModel",
     "state": {
      "_model_module": "@jupyter-widgets/base",
      "_model_module_version": "1.2.0",
      "_model_name": "LayoutModel",
      "_view_count": null,
      "_view_module": "@jupyter-widgets/base",
      "_view_module_version": "1.2.0",
      "_view_name": "LayoutView",
      "align_content": null,
      "align_items": null,
      "align_self": null,
      "border": null,
      "bottom": null,
      "display": null,
      "flex": null,
      "flex_flow": null,
      "grid_area": null,
      "grid_auto_columns": null,
      "grid_auto_flow": null,
      "grid_auto_rows": null,
      "grid_column": null,
      "grid_gap": null,
      "grid_row": null,
      "grid_template_areas": null,
      "grid_template_columns": null,
      "grid_template_rows": null,
      "height": null,
      "justify_content": null,
      "justify_items": null,
      "left": null,
      "margin": null,
      "max_height": null,
      "max_width": null,
      "min_height": null,
      "min_width": null,
      "object_fit": null,
      "object_position": null,
      "order": null,
      "overflow": null,
      "overflow_x": null,
      "overflow_y": null,
      "padding": null,
      "right": null,
      "top": null,
      "visibility": null,
      "width": null
     }
    },
    "5920729804dd407ab9031d48f55a2c0a": {
     "model_module": "@jupyter-widgets/controls",
     "model_module_version": "1.5.0",
     "model_name": "FloatProgressModel",
     "state": {
      "_dom_classes": [],
      "_model_module": "@jupyter-widgets/controls",
      "_model_module_version": "1.5.0",
      "_model_name": "FloatProgressModel",
      "_view_count": null,
      "_view_module": "@jupyter-widgets/controls",
      "_view_module_version": "1.5.0",
      "_view_name": "ProgressView",
      "bar_style": "success",
      "description": "",
      "description_tooltip": null,
      "layout": "IPY_MODEL_709637f1ab014625899a1ea2fee3369f",
      "max": 895731,
      "min": 0,
      "orientation": "horizontal",
      "style": "IPY_MODEL_6340fdd0181f44c2b6efe3354fa35ed0",
      "value": 895731
     }
    },
    "59c1cbfaf3c943d6877a542abd4cfd21": {
     "model_module": "@jupyter-widgets/controls",
     "model_module_version": "1.5.0",
     "model_name": "HBoxModel",
     "state": {
      "_dom_classes": [],
      "_model_module": "@jupyter-widgets/controls",
      "_model_module_version": "1.5.0",
      "_model_name": "HBoxModel",
      "_view_count": null,
      "_view_module": "@jupyter-widgets/controls",
      "_view_module_version": "1.5.0",
      "_view_name": "HBoxView",
      "box_style": "",
      "children": [
       "IPY_MODEL_c41db19c51c645b0b4933d0fd54ee797",
       "IPY_MODEL_b2fe24daf1c34330aceeeac2d8daf704",
       "IPY_MODEL_1941b69fc37941b398832c28272c8704"
      ],
      "layout": "IPY_MODEL_38b9b02c8c5144748b7bd7aeb3be04da"
     }
    },
    "5dc58bb40f124666a0129bff2b606c23": {
     "model_module": "@jupyter-widgets/controls",
     "model_module_version": "1.5.0",
     "model_name": "ProgressStyleModel",
     "state": {
      "_model_module": "@jupyter-widgets/controls",
      "_model_module_version": "1.5.0",
      "_model_name": "ProgressStyleModel",
      "_view_count": null,
      "_view_module": "@jupyter-widgets/base",
      "_view_module_version": "1.2.0",
      "_view_name": "StyleView",
      "bar_color": null,
      "description_width": ""
     }
    },
    "6285baf3be57485eb90df6aa2abf40a7": {
     "model_module": "@jupyter-widgets/controls",
     "model_module_version": "1.5.0",
     "model_name": "ProgressStyleModel",
     "state": {
      "_model_module": "@jupyter-widgets/controls",
      "_model_module_version": "1.5.0",
      "_model_name": "ProgressStyleModel",
      "_view_count": null,
      "_view_module": "@jupyter-widgets/base",
      "_view_module_version": "1.2.0",
      "_view_name": "StyleView",
      "bar_color": null,
      "description_width": ""
     }
    },
    "6340fdd0181f44c2b6efe3354fa35ed0": {
     "model_module": "@jupyter-widgets/controls",
     "model_module_version": "1.5.0",
     "model_name": "ProgressStyleModel",
     "state": {
      "_model_module": "@jupyter-widgets/controls",
      "_model_module_version": "1.5.0",
      "_model_name": "ProgressStyleModel",
      "_view_count": null,
      "_view_module": "@jupyter-widgets/base",
      "_view_module_version": "1.2.0",
      "_view_name": "StyleView",
      "bar_color": null,
      "description_width": ""
     }
    },
    "63d87f541e674b5da6548291a4f1aded": {
     "model_module": "@jupyter-widgets/base",
     "model_module_version": "1.2.0",
     "model_name": "LayoutModel",
     "state": {
      "_model_module": "@jupyter-widgets/base",
      "_model_module_version": "1.2.0",
      "_model_name": "LayoutModel",
      "_view_count": null,
      "_view_module": "@jupyter-widgets/base",
      "_view_module_version": "1.2.0",
      "_view_name": "LayoutView",
      "align_content": null,
      "align_items": null,
      "align_self": null,
      "border": null,
      "bottom": null,
      "display": null,
      "flex": null,
      "flex_flow": null,
      "grid_area": null,
      "grid_auto_columns": null,
      "grid_auto_flow": null,
      "grid_auto_rows": null,
      "grid_column": null,
      "grid_gap": null,
      "grid_row": null,
      "grid_template_areas": null,
      "grid_template_columns": null,
      "grid_template_rows": null,
      "height": null,
      "justify_content": null,
      "justify_items": null,
      "left": null,
      "margin": null,
      "max_height": null,
      "max_width": null,
      "min_height": null,
      "min_width": null,
      "object_fit": null,
      "object_position": null,
      "order": null,
      "overflow": null,
      "overflow_x": null,
      "overflow_y": null,
      "padding": null,
      "right": null,
      "top": null,
      "visibility": null,
      "width": null
     }
    },
    "657898c13aa547759bf55818e944f1bd": {
     "model_module": "@jupyter-widgets/controls",
     "model_module_version": "1.5.0",
     "model_name": "HTMLModel",
     "state": {
      "_dom_classes": [],
      "_model_module": "@jupyter-widgets/controls",
      "_model_module_version": "1.5.0",
      "_model_name": "HTMLModel",
      "_view_count": null,
      "_view_module": "@jupyter-widgets/controls",
      "_view_module_version": "1.5.0",
      "_view_name": "HTMLView",
      "description": "",
      "description_tooltip": null,
      "layout": "IPY_MODEL_3cde27a1cecd49fea7a815966c9823fb",
      "placeholder": "​",
      "style": "IPY_MODEL_68c36161af34456eadbdb13bf7b2c59d",
      "value": " 72.0/72.0 [00:00&lt;00:00, 6.37kB/s]"
     }
    },
    "68c36161af34456eadbdb13bf7b2c59d": {
     "model_module": "@jupyter-widgets/controls",
     "model_module_version": "1.5.0",
     "model_name": "DescriptionStyleModel",
     "state": {
      "_model_module": "@jupyter-widgets/controls",
      "_model_module_version": "1.5.0",
      "_model_name": "DescriptionStyleModel",
      "_view_count": null,
      "_view_module": "@jupyter-widgets/base",
      "_view_module_version": "1.2.0",
      "_view_name": "StyleView",
      "description_width": ""
     }
    },
    "6aaf18ac6cb44ff4808166b9f52699c3": {
     "model_module": "@jupyter-widgets/base",
     "model_module_version": "1.2.0",
     "model_name": "LayoutModel",
     "state": {
      "_model_module": "@jupyter-widgets/base",
      "_model_module_version": "1.2.0",
      "_model_name": "LayoutModel",
      "_view_count": null,
      "_view_module": "@jupyter-widgets/base",
      "_view_module_version": "1.2.0",
      "_view_name": "LayoutView",
      "align_content": null,
      "align_items": null,
      "align_self": null,
      "border": null,
      "bottom": null,
      "display": null,
      "flex": null,
      "flex_flow": null,
      "grid_area": null,
      "grid_auto_columns": null,
      "grid_auto_flow": null,
      "grid_auto_rows": null,
      "grid_column": null,
      "grid_gap": null,
      "grid_row": null,
      "grid_template_areas": null,
      "grid_template_columns": null,
      "grid_template_rows": null,
      "height": null,
      "justify_content": null,
      "justify_items": null,
      "left": null,
      "margin": null,
      "max_height": null,
      "max_width": null,
      "min_height": null,
      "min_width": null,
      "object_fit": null,
      "object_position": null,
      "order": null,
      "overflow": null,
      "overflow_x": null,
      "overflow_y": null,
      "padding": null,
      "right": null,
      "top": null,
      "visibility": null,
      "width": null
     }
    },
    "6ef49c9016fa4654a2118bb8a2796bd5": {
     "model_module": "@jupyter-widgets/base",
     "model_module_version": "1.2.0",
     "model_name": "LayoutModel",
     "state": {
      "_model_module": "@jupyter-widgets/base",
      "_model_module_version": "1.2.0",
      "_model_name": "LayoutModel",
      "_view_count": null,
      "_view_module": "@jupyter-widgets/base",
      "_view_module_version": "1.2.0",
      "_view_name": "LayoutView",
      "align_content": null,
      "align_items": null,
      "align_self": null,
      "border": null,
      "bottom": null,
      "display": null,
      "flex": null,
      "flex_flow": null,
      "grid_area": null,
      "grid_auto_columns": null,
      "grid_auto_flow": null,
      "grid_auto_rows": null,
      "grid_column": null,
      "grid_gap": null,
      "grid_row": null,
      "grid_template_areas": null,
      "grid_template_columns": null,
      "grid_template_rows": null,
      "height": null,
      "justify_content": null,
      "justify_items": null,
      "left": null,
      "margin": null,
      "max_height": null,
      "max_width": null,
      "min_height": null,
      "min_width": null,
      "object_fit": null,
      "object_position": null,
      "order": null,
      "overflow": null,
      "overflow_x": null,
      "overflow_y": null,
      "padding": null,
      "right": null,
      "top": null,
      "visibility": null,
      "width": null
     }
    },
    "6ff79acc2b88426ba547f3c182e0703a": {
     "model_module": "@jupyter-widgets/controls",
     "model_module_version": "1.5.0",
     "model_name": "HTMLModel",
     "state": {
      "_dom_classes": [],
      "_model_module": "@jupyter-widgets/controls",
      "_model_module_version": "1.5.0",
      "_model_name": "HTMLModel",
      "_view_count": null,
      "_view_module": "@jupyter-widgets/controls",
      "_view_module_version": "1.5.0",
      "_view_name": "HTMLView",
      "description": "",
      "description_tooltip": null,
      "layout": "IPY_MODEL_b20f0143f5d84499a30bc56be4fe1c44",
      "placeholder": "​",
      "style": "IPY_MODEL_30c187947933459286aadbe53899c23c",
      "value": "model.safetensors: 100%"
     }
    },
    "709637f1ab014625899a1ea2fee3369f": {
     "model_module": "@jupyter-widgets/base",
     "model_module_version": "1.2.0",
     "model_name": "LayoutModel",
     "state": {
      "_model_module": "@jupyter-widgets/base",
      "_model_module_version": "1.2.0",
      "_model_name": "LayoutModel",
      "_view_count": null,
      "_view_module": "@jupyter-widgets/base",
      "_view_module_version": "1.2.0",
      "_view_name": "LayoutView",
      "align_content": null,
      "align_items": null,
      "align_self": null,
      "border": null,
      "bottom": null,
      "display": null,
      "flex": null,
      "flex_flow": null,
      "grid_area": null,
      "grid_auto_columns": null,
      "grid_auto_flow": null,
      "grid_auto_rows": null,
      "grid_column": null,
      "grid_gap": null,
      "grid_row": null,
      "grid_template_areas": null,
      "grid_template_columns": null,
      "grid_template_rows": null,
      "height": null,
      "justify_content": null,
      "justify_items": null,
      "left": null,
      "margin": null,
      "max_height": null,
      "max_width": null,
      "min_height": null,
      "min_width": null,
      "object_fit": null,
      "object_position": null,
      "order": null,
      "overflow": null,
      "overflow_x": null,
      "overflow_y": null,
      "padding": null,
      "right": null,
      "top": null,
      "visibility": null,
      "width": null
     }
    },
    "7100c95fc8b242f29176d791bafa0d6d": {
     "model_module": "@jupyter-widgets/base",
     "model_module_version": "1.2.0",
     "model_name": "LayoutModel",
     "state": {
      "_model_module": "@jupyter-widgets/base",
      "_model_module_version": "1.2.0",
      "_model_name": "LayoutModel",
      "_view_count": null,
      "_view_module": "@jupyter-widgets/base",
      "_view_module_version": "1.2.0",
      "_view_name": "LayoutView",
      "align_content": null,
      "align_items": null,
      "align_self": null,
      "border": null,
      "bottom": null,
      "display": null,
      "flex": null,
      "flex_flow": null,
      "grid_area": null,
      "grid_auto_columns": null,
      "grid_auto_flow": null,
      "grid_auto_rows": null,
      "grid_column": null,
      "grid_gap": null,
      "grid_row": null,
      "grid_template_areas": null,
      "grid_template_columns": null,
      "grid_template_rows": null,
      "height": null,
      "justify_content": null,
      "justify_items": null,
      "left": null,
      "margin": null,
      "max_height": null,
      "max_width": null,
      "min_height": null,
      "min_width": null,
      "object_fit": null,
      "object_position": null,
      "order": null,
      "overflow": null,
      "overflow_x": null,
      "overflow_y": null,
      "padding": null,
      "right": null,
      "top": null,
      "visibility": null,
      "width": null
     }
    },
    "74be9e05cea4433a9bfadcfd2a7d8a9f": {
     "model_module": "@jupyter-widgets/controls",
     "model_module_version": "1.5.0",
     "model_name": "DescriptionStyleModel",
     "state": {
      "_model_module": "@jupyter-widgets/controls",
      "_model_module_version": "1.5.0",
      "_model_name": "DescriptionStyleModel",
      "_view_count": null,
      "_view_module": "@jupyter-widgets/base",
      "_view_module_version": "1.2.0",
      "_view_name": "StyleView",
      "description_width": ""
     }
    },
    "7692dcb0cd2a448096acd379f728540f": {
     "model_module": "@jupyter-widgets/controls",
     "model_module_version": "1.5.0",
     "model_name": "ProgressStyleModel",
     "state": {
      "_model_module": "@jupyter-widgets/controls",
      "_model_module_version": "1.5.0",
      "_model_name": "ProgressStyleModel",
      "_view_count": null,
      "_view_module": "@jupyter-widgets/base",
      "_view_module_version": "1.2.0",
      "_view_name": "StyleView",
      "bar_color": null,
      "description_width": ""
     }
    },
    "7758cad7800c4228b90ae747395fa1aa": {
     "model_module": "@jupyter-widgets/controls",
     "model_module_version": "1.5.0",
     "model_name": "HBoxModel",
     "state": {
      "_dom_classes": [],
      "_model_module": "@jupyter-widgets/controls",
      "_model_module_version": "1.5.0",
      "_model_name": "HBoxModel",
      "_view_count": null,
      "_view_module": "@jupyter-widgets/controls",
      "_view_module_version": "1.5.0",
      "_view_name": "HBoxView",
      "box_style": "",
      "children": [
       "IPY_MODEL_a19e13e32c88471fbdbf1a8340bde88f",
       "IPY_MODEL_7d7241081a3f49d9b3f570517dd5c30b",
       "IPY_MODEL_2b01533e16824900bca5062405d2324a"
      ],
      "layout": "IPY_MODEL_e80bd6bab2a9425d8ba219fb64f2fcd2"
     }
    },
    "7d2dc96b99194e128f98c886afb79a74": {
     "model_module": "@jupyter-widgets/base",
     "model_module_version": "1.2.0",
     "model_name": "LayoutModel",
     "state": {
      "_model_module": "@jupyter-widgets/base",
      "_model_module_version": "1.2.0",
      "_model_name": "LayoutModel",
      "_view_count": null,
      "_view_module": "@jupyter-widgets/base",
      "_view_module_version": "1.2.0",
      "_view_name": "LayoutView",
      "align_content": null,
      "align_items": null,
      "align_self": null,
      "border": null,
      "bottom": null,
      "display": null,
      "flex": null,
      "flex_flow": null,
      "grid_area": null,
      "grid_auto_columns": null,
      "grid_auto_flow": null,
      "grid_auto_rows": null,
      "grid_column": null,
      "grid_gap": null,
      "grid_row": null,
      "grid_template_areas": null,
      "grid_template_columns": null,
      "grid_template_rows": null,
      "height": null,
      "justify_content": null,
      "justify_items": null,
      "left": null,
      "margin": null,
      "max_height": null,
      "max_width": null,
      "min_height": null,
      "min_width": null,
      "object_fit": null,
      "object_position": null,
      "order": null,
      "overflow": null,
      "overflow_x": null,
      "overflow_y": null,
      "padding": null,
      "right": null,
      "top": null,
      "visibility": null,
      "width": null
     }
    },
    "7d7241081a3f49d9b3f570517dd5c30b": {
     "model_module": "@jupyter-widgets/controls",
     "model_module_version": "1.5.0",
     "model_name": "FloatProgressModel",
     "state": {
      "_dom_classes": [],
      "_model_module": "@jupyter-widgets/controls",
      "_model_module_version": "1.5.0",
      "_model_name": "FloatProgressModel",
      "_view_count": null,
      "_view_module": "@jupyter-widgets/controls",
      "_view_module_version": "1.5.0",
      "_view_name": "ProgressView",
      "bar_style": "success",
      "description": "",
      "description_tooltip": null,
      "layout": "IPY_MODEL_07e8b061831440ef8ba3b82f5e75c8b3",
      "max": 2338,
      "min": 0,
      "orientation": "horizontal",
      "style": "IPY_MODEL_7692dcb0cd2a448096acd379f728540f",
      "value": 2338
     }
    },
    "7f42c275512f415f98c825de579043cc": {
     "model_module": "@jupyter-widgets/controls",
     "model_module_version": "1.5.0",
     "model_name": "DescriptionStyleModel",
     "state": {
      "_model_module": "@jupyter-widgets/controls",
      "_model_module_version": "1.5.0",
      "_model_name": "DescriptionStyleModel",
      "_view_count": null,
      "_view_module": "@jupyter-widgets/base",
      "_view_module_version": "1.2.0",
      "_view_name": "StyleView",
      "description_width": ""
     }
    },
    "8011742c941d4307abd42798e5aa0dd1": {
     "model_module": "@jupyter-widgets/controls",
     "model_module_version": "1.5.0",
     "model_name": "DescriptionStyleModel",
     "state": {
      "_model_module": "@jupyter-widgets/controls",
      "_model_module_version": "1.5.0",
      "_model_name": "DescriptionStyleModel",
      "_view_count": null,
      "_view_module": "@jupyter-widgets/base",
      "_view_module_version": "1.2.0",
      "_view_name": "StyleView",
      "description_width": ""
     }
    },
    "845fb63080c341aca3287f47b6d26921": {
     "model_module": "@jupyter-widgets/controls",
     "model_module_version": "1.5.0",
     "model_name": "HBoxModel",
     "state": {
      "_dom_classes": [],
      "_model_module": "@jupyter-widgets/controls",
      "_model_module_version": "1.5.0",
      "_model_name": "HBoxModel",
      "_view_count": null,
      "_view_module": "@jupyter-widgets/controls",
      "_view_module_version": "1.5.0",
      "_view_name": "HBoxView",
      "box_style": "",
      "children": [
       "IPY_MODEL_32d64fb640f54708a6f76e42d5348ed4",
       "IPY_MODEL_21ef90bf5a0d4fb38555985f0bf008bb",
       "IPY_MODEL_3dadc8ed921046b1badfe6f254c1bdb0"
      ],
      "layout": "IPY_MODEL_c0b0c4833b57487c8db3a27dc65fcffa"
     }
    },
    "8715afd636be475fbff3644c8664a944": {
     "model_module": "@jupyter-widgets/controls",
     "model_module_version": "1.5.0",
     "model_name": "ProgressStyleModel",
     "state": {
      "_model_module": "@jupyter-widgets/controls",
      "_model_module_version": "1.5.0",
      "_model_name": "ProgressStyleModel",
      "_view_count": null,
      "_view_module": "@jupyter-widgets/base",
      "_view_module_version": "1.2.0",
      "_view_name": "StyleView",
      "bar_color": null,
      "description_width": ""
     }
    },
    "8b22ebe750a8487f82ad6e978fa47706": {
     "model_module": "@jupyter-widgets/base",
     "model_module_version": "1.2.0",
     "model_name": "LayoutModel",
     "state": {
      "_model_module": "@jupyter-widgets/base",
      "_model_module_version": "1.2.0",
      "_model_name": "LayoutModel",
      "_view_count": null,
      "_view_module": "@jupyter-widgets/base",
      "_view_module_version": "1.2.0",
      "_view_name": "LayoutView",
      "align_content": null,
      "align_items": null,
      "align_self": null,
      "border": null,
      "bottom": null,
      "display": null,
      "flex": null,
      "flex_flow": null,
      "grid_area": null,
      "grid_auto_columns": null,
      "grid_auto_flow": null,
      "grid_auto_rows": null,
      "grid_column": null,
      "grid_gap": null,
      "grid_row": null,
      "grid_template_areas": null,
      "grid_template_columns": null,
      "grid_template_rows": null,
      "height": null,
      "justify_content": null,
      "justify_items": null,
      "left": null,
      "margin": null,
      "max_height": null,
      "max_width": null,
      "min_height": null,
      "min_width": null,
      "object_fit": null,
      "object_position": null,
      "order": null,
      "overflow": null,
      "overflow_x": null,
      "overflow_y": null,
      "padding": null,
      "right": null,
      "top": null,
      "visibility": null,
      "width": null
     }
    },
    "8daa91e557594be9b54b76bca0d92384": {
     "model_module": "@jupyter-widgets/controls",
     "model_module_version": "1.5.0",
     "model_name": "HBoxModel",
     "state": {
      "_dom_classes": [],
      "_model_module": "@jupyter-widgets/controls",
      "_model_module_version": "1.5.0",
      "_model_name": "HBoxModel",
      "_view_count": null,
      "_view_module": "@jupyter-widgets/controls",
      "_view_module_version": "1.5.0",
      "_view_name": "HBoxView",
      "box_style": "",
      "children": [
       "IPY_MODEL_6ff79acc2b88426ba547f3c182e0703a",
       "IPY_MODEL_bffdd18862094e719337c77fec5a6c9d",
       "IPY_MODEL_e088f800e888475d90fd66858c8cc3a4"
      ],
      "layout": "IPY_MODEL_e9fe053cd5af49239285c3c798228da4"
     }
    },
    "8e8bf633088449d3b266e619408ea290": {
     "model_module": "@jupyter-widgets/controls",
     "model_module_version": "1.5.0",
     "model_name": "HTMLModel",
     "state": {
      "_dom_classes": [],
      "_model_module": "@jupyter-widgets/controls",
      "_model_module_version": "1.5.0",
      "_model_name": "HTMLModel",
      "_view_count": null,
      "_view_module": "@jupyter-widgets/controls",
      "_view_module_version": "1.5.0",
      "_view_name": "HTMLView",
      "description": "",
      "description_tooltip": null,
      "layout": "IPY_MODEL_9687f78e8b4d483992d1de5e001278b4",
      "placeholder": "​",
      "style": "IPY_MODEL_1771c7e257d44929b9308b8046452283",
      "value": "tokenizer_config.json: 100%"
     }
    },
    "9687f78e8b4d483992d1de5e001278b4": {
     "model_module": "@jupyter-widgets/base",
     "model_module_version": "1.2.0",
     "model_name": "LayoutModel",
     "state": {
      "_model_module": "@jupyter-widgets/base",
      "_model_module_version": "1.2.0",
      "_model_name": "LayoutModel",
      "_view_count": null,
      "_view_module": "@jupyter-widgets/base",
      "_view_module_version": "1.2.0",
      "_view_name": "LayoutView",
      "align_content": null,
      "align_items": null,
      "align_self": null,
      "border": null,
      "bottom": null,
      "display": null,
      "flex": null,
      "flex_flow": null,
      "grid_area": null,
      "grid_auto_columns": null,
      "grid_auto_flow": null,
      "grid_auto_rows": null,
      "grid_column": null,
      "grid_gap": null,
      "grid_row": null,
      "grid_template_areas": null,
      "grid_template_columns": null,
      "grid_template_rows": null,
      "height": null,
      "justify_content": null,
      "justify_items": null,
      "left": null,
      "margin": null,
      "max_height": null,
      "max_width": null,
      "min_height": null,
      "min_width": null,
      "object_fit": null,
      "object_position": null,
      "order": null,
      "overflow": null,
      "overflow_x": null,
      "overflow_y": null,
      "padding": null,
      "right": null,
      "top": null,
      "visibility": null,
      "width": null
     }
    },
    "9a1807d4adaf4e2d96c4a83991b2c7d2": {
     "model_module": "@jupyter-widgets/controls",
     "model_module_version": "1.5.0",
     "model_name": "DescriptionStyleModel",
     "state": {
      "_model_module": "@jupyter-widgets/controls",
      "_model_module_version": "1.5.0",
      "_model_name": "DescriptionStyleModel",
      "_view_count": null,
      "_view_module": "@jupyter-widgets/base",
      "_view_module_version": "1.2.0",
      "_view_name": "StyleView",
      "description_width": ""
     }
    },
    "a19e13e32c88471fbdbf1a8340bde88f": {
     "model_module": "@jupyter-widgets/controls",
     "model_module_version": "1.5.0",
     "model_name": "HTMLModel",
     "state": {
      "_dom_classes": [],
      "_model_module": "@jupyter-widgets/controls",
      "_model_module_version": "1.5.0",
      "_model_name": "HTMLModel",
      "_view_count": null,
      "_view_module": "@jupyter-widgets/controls",
      "_view_module_version": "1.5.0",
      "_view_name": "HTMLView",
      "description": "",
      "description_tooltip": null,
      "layout": "IPY_MODEL_b3fd9c3946d54bccb9b6dbaa35686448",
      "placeholder": "​",
      "style": "IPY_MODEL_0867da284f714f74b094c7a18f0b16d0",
      "value": "Map: 100%"
     }
    },
    "a346f0f262c24381880a12fe51d3ff15": {
     "model_module": "@jupyter-widgets/controls",
     "model_module_version": "1.5.0",
     "model_name": "HBoxModel",
     "state": {
      "_dom_classes": [],
      "_model_module": "@jupyter-widgets/controls",
      "_model_module_version": "1.5.0",
      "_model_name": "HBoxModel",
      "_view_count": null,
      "_view_module": "@jupyter-widgets/controls",
      "_view_module_version": "1.5.0",
      "_view_name": "HBoxView",
      "box_style": "",
      "children": [
       "IPY_MODEL_be37fe2ba15941ee87e74222384cfcbe",
       "IPY_MODEL_5920729804dd407ab9031d48f55a2c0a",
       "IPY_MODEL_1441e945da364e6fba0af7ded4797562"
      ],
      "layout": "IPY_MODEL_eb81d5ffe63044819457d47bf7154963"
     }
    },
    "a6442224860145a3965fcbe357807940": {
     "model_module": "@jupyter-widgets/controls",
     "model_module_version": "1.5.0",
     "model_name": "DescriptionStyleModel",
     "state": {
      "_model_module": "@jupyter-widgets/controls",
      "_model_module_version": "1.5.0",
      "_model_name": "DescriptionStyleModel",
      "_view_count": null,
      "_view_module": "@jupyter-widgets/base",
      "_view_module_version": "1.2.0",
      "_view_name": "StyleView",
      "description_width": ""
     }
    },
    "a7d3141bc1c54bf29e7fa6bcaf24e52c": {
     "model_module": "@jupyter-widgets/base",
     "model_module_version": "1.2.0",
     "model_name": "LayoutModel",
     "state": {
      "_model_module": "@jupyter-widgets/base",
      "_model_module_version": "1.2.0",
      "_model_name": "LayoutModel",
      "_view_count": null,
      "_view_module": "@jupyter-widgets/base",
      "_view_module_version": "1.2.0",
      "_view_name": "LayoutView",
      "align_content": null,
      "align_items": null,
      "align_self": null,
      "border": null,
      "bottom": null,
      "display": null,
      "flex": null,
      "flex_flow": null,
      "grid_area": null,
      "grid_auto_columns": null,
      "grid_auto_flow": null,
      "grid_auto_rows": null,
      "grid_column": null,
      "grid_gap": null,
      "grid_row": null,
      "grid_template_areas": null,
      "grid_template_columns": null,
      "grid_template_rows": null,
      "height": null,
      "justify_content": null,
      "justify_items": null,
      "left": null,
      "margin": null,
      "max_height": null,
      "max_width": null,
      "min_height": null,
      "min_width": null,
      "object_fit": null,
      "object_position": null,
      "order": null,
      "overflow": null,
      "overflow_x": null,
      "overflow_y": null,
      "padding": null,
      "right": null,
      "top": null,
      "visibility": null,
      "width": null
     }
    },
    "ab47f3e42cc34d44bca8f50f0b5a5461": {
     "model_module": "@jupyter-widgets/controls",
     "model_module_version": "1.5.0",
     "model_name": "HTMLModel",
     "state": {
      "_dom_classes": [],
      "_model_module": "@jupyter-widgets/controls",
      "_model_module_version": "1.5.0",
      "_model_name": "HTMLModel",
      "_view_count": null,
      "_view_module": "@jupyter-widgets/controls",
      "_view_module_version": "1.5.0",
      "_view_name": "HTMLView",
      "description": "",
      "description_tooltip": null,
      "layout": "IPY_MODEL_356bd8e1bef0451fbc959d8d75830ac2",
      "placeholder": "​",
      "style": "IPY_MODEL_54fc1a6ff90c45ce90f45df05ce53911",
      "value": " 1.50k/1.50k [00:00&lt;00:00, 106kB/s]"
     }
    },
    "b19a88e8ea304c54b9ff46d48aa947a1": {
     "model_module": "@jupyter-widgets/base",
     "model_module_version": "1.2.0",
     "model_name": "LayoutModel",
     "state": {
      "_model_module": "@jupyter-widgets/base",
      "_model_module_version": "1.2.0",
      "_model_name": "LayoutModel",
      "_view_count": null,
      "_view_module": "@jupyter-widgets/base",
      "_view_module_version": "1.2.0",
      "_view_name": "LayoutView",
      "align_content": null,
      "align_items": null,
      "align_self": null,
      "border": null,
      "bottom": null,
      "display": null,
      "flex": null,
      "flex_flow": null,
      "grid_area": null,
      "grid_auto_columns": null,
      "grid_auto_flow": null,
      "grid_auto_rows": null,
      "grid_column": null,
      "grid_gap": null,
      "grid_row": null,
      "grid_template_areas": null,
      "grid_template_columns": null,
      "grid_template_rows": null,
      "height": null,
      "justify_content": null,
      "justify_items": null,
      "left": null,
      "margin": null,
      "max_height": null,
      "max_width": null,
      "min_height": null,
      "min_width": null,
      "object_fit": null,
      "object_position": null,
      "order": null,
      "overflow": null,
      "overflow_x": null,
      "overflow_y": null,
      "padding": null,
      "right": null,
      "top": null,
      "visibility": null,
      "width": null
     }
    },
    "b1faf8b81db74f1e999b2a7d92e1dae5": {
     "model_module": "@jupyter-widgets/controls",
     "model_module_version": "1.5.0",
     "model_name": "HTMLModel",
     "state": {
      "_dom_classes": [],
      "_model_module": "@jupyter-widgets/controls",
      "_model_module_version": "1.5.0",
      "_model_name": "HTMLModel",
      "_view_count": null,
      "_view_module": "@jupyter-widgets/controls",
      "_view_module_version": "1.5.0",
      "_view_name": "HTMLView",
      "description": "",
      "description_tooltip": null,
      "layout": "IPY_MODEL_58ec70a0dcb04551a7d2fd4c61ac6668",
      "placeholder": "​",
      "style": "IPY_MODEL_182bc719dc574661af4139faf0110dde",
      "value": "Downloading builder script: 100%"
     }
    },
    "b20f0143f5d84499a30bc56be4fe1c44": {
     "model_module": "@jupyter-widgets/base",
     "model_module_version": "1.2.0",
     "model_name": "LayoutModel",
     "state": {
      "_model_module": "@jupyter-widgets/base",
      "_model_module_version": "1.2.0",
      "_model_name": "LayoutModel",
      "_view_count": null,
      "_view_module": "@jupyter-widgets/base",
      "_view_module_version": "1.2.0",
      "_view_name": "LayoutView",
      "align_content": null,
      "align_items": null,
      "align_self": null,
      "border": null,
      "bottom": null,
      "display": null,
      "flex": null,
      "flex_flow": null,
      "grid_area": null,
      "grid_auto_columns": null,
      "grid_auto_flow": null,
      "grid_auto_rows": null,
      "grid_column": null,
      "grid_gap": null,
      "grid_row": null,
      "grid_template_areas": null,
      "grid_template_columns": null,
      "grid_template_rows": null,
      "height": null,
      "justify_content": null,
      "justify_items": null,
      "left": null,
      "margin": null,
      "max_height": null,
      "max_width": null,
      "min_height": null,
      "min_width": null,
      "object_fit": null,
      "object_position": null,
      "order": null,
      "overflow": null,
      "overflow_x": null,
      "overflow_y": null,
      "padding": null,
      "right": null,
      "top": null,
      "visibility": null,
      "width": null
     }
    },
    "b2fe24daf1c34330aceeeac2d8daf704": {
     "model_module": "@jupyter-widgets/controls",
     "model_module_version": "1.5.0",
     "model_name": "FloatProgressModel",
     "state": {
      "_dom_classes": [],
      "_model_module": "@jupyter-widgets/controls",
      "_model_module_version": "1.5.0",
      "_model_name": "FloatProgressModel",
      "_view_count": null,
      "_view_module": "@jupyter-widgets/controls",
      "_view_module_version": "1.5.0",
      "_view_name": "ProgressView",
      "bar_style": "success",
      "description": "",
      "description_tooltip": null,
      "layout": "IPY_MODEL_e8712c38707e494196f2dc36fd6a9059",
      "max": 9352,
      "min": 0,
      "orientation": "horizontal",
      "style": "IPY_MODEL_6285baf3be57485eb90df6aa2abf40a7",
      "value": 9352
     }
    },
    "b3fd9c3946d54bccb9b6dbaa35686448": {
     "model_module": "@jupyter-widgets/base",
     "model_module_version": "1.2.0",
     "model_name": "LayoutModel",
     "state": {
      "_model_module": "@jupyter-widgets/base",
      "_model_module_version": "1.2.0",
      "_model_name": "LayoutModel",
      "_view_count": null,
      "_view_module": "@jupyter-widgets/base",
      "_view_module_version": "1.2.0",
      "_view_name": "LayoutView",
      "align_content": null,
      "align_items": null,
      "align_self": null,
      "border": null,
      "bottom": null,
      "display": null,
      "flex": null,
      "flex_flow": null,
      "grid_area": null,
      "grid_auto_columns": null,
      "grid_auto_flow": null,
      "grid_auto_rows": null,
      "grid_column": null,
      "grid_gap": null,
      "grid_row": null,
      "grid_template_areas": null,
      "grid_template_columns": null,
      "grid_template_rows": null,
      "height": null,
      "justify_content": null,
      "justify_items": null,
      "left": null,
      "margin": null,
      "max_height": null,
      "max_width": null,
      "min_height": null,
      "min_width": null,
      "object_fit": null,
      "object_position": null,
      "order": null,
      "overflow": null,
      "overflow_x": null,
      "overflow_y": null,
      "padding": null,
      "right": null,
      "top": null,
      "visibility": null,
      "width": null
     }
    },
    "ba427d437618473b8f1875b0c293fa11": {
     "model_module": "@jupyter-widgets/base",
     "model_module_version": "1.2.0",
     "model_name": "LayoutModel",
     "state": {
      "_model_module": "@jupyter-widgets/base",
      "_model_module_version": "1.2.0",
      "_model_name": "LayoutModel",
      "_view_count": null,
      "_view_module": "@jupyter-widgets/base",
      "_view_module_version": "1.2.0",
      "_view_name": "LayoutView",
      "align_content": null,
      "align_items": null,
      "align_self": null,
      "border": null,
      "bottom": null,
      "display": null,
      "flex": null,
      "flex_flow": null,
      "grid_area": null,
      "grid_auto_columns": null,
      "grid_auto_flow": null,
      "grid_auto_rows": null,
      "grid_column": null,
      "grid_gap": null,
      "grid_row": null,
      "grid_template_areas": null,
      "grid_template_columns": null,
      "grid_template_rows": null,
      "height": null,
      "justify_content": null,
      "justify_items": null,
      "left": null,
      "margin": null,
      "max_height": null,
      "max_width": null,
      "min_height": null,
      "min_width": null,
      "object_fit": null,
      "object_position": null,
      "order": null,
      "overflow": null,
      "overflow_x": null,
      "overflow_y": null,
      "padding": null,
      "right": null,
      "top": null,
      "visibility": null,
      "width": null
     }
    },
    "be37fe2ba15941ee87e74222384cfcbe": {
     "model_module": "@jupyter-widgets/controls",
     "model_module_version": "1.5.0",
     "model_name": "HTMLModel",
     "state": {
      "_dom_classes": [],
      "_model_module": "@jupyter-widgets/controls",
      "_model_module_version": "1.5.0",
      "_model_name": "HTMLModel",
      "_view_count": null,
      "_view_module": "@jupyter-widgets/controls",
      "_view_module_version": "1.5.0",
      "_view_name": "HTMLView",
      "description": "",
      "description_tooltip": null,
      "layout": "IPY_MODEL_6aaf18ac6cb44ff4808166b9f52699c3",
      "placeholder": "​",
      "style": "IPY_MODEL_8011742c941d4307abd42798e5aa0dd1",
      "value": "merges.txt: 100%"
     }
    },
    "bffdd18862094e719337c77fec5a6c9d": {
     "model_module": "@jupyter-widgets/controls",
     "model_module_version": "1.5.0",
     "model_name": "FloatProgressModel",
     "state": {
      "_dom_classes": [],
      "_model_module": "@jupyter-widgets/controls",
      "_model_module_version": "1.5.0",
      "_model_name": "FloatProgressModel",
      "_view_count": null,
      "_view_module": "@jupyter-widgets/controls",
      "_view_module_version": "1.5.0",
      "_view_name": "ProgressView",
      "bar_style": "success",
      "description": "",
      "description_tooltip": null,
      "layout": "IPY_MODEL_7100c95fc8b242f29176d791bafa0d6d",
      "max": 553227860,
      "min": 0,
      "orientation": "horizontal",
      "style": "IPY_MODEL_ecd3b443137642c1b1aefd14c6e2b3a9",
      "value": 553227860
     }
    },
    "c0b0c4833b57487c8db3a27dc65fcffa": {
     "model_module": "@jupyter-widgets/base",
     "model_module_version": "1.2.0",
     "model_name": "LayoutModel",
     "state": {
      "_model_module": "@jupyter-widgets/base",
      "_model_module_version": "1.2.0",
      "_model_name": "LayoutModel",
      "_view_count": null,
      "_view_module": "@jupyter-widgets/base",
      "_view_module_version": "1.2.0",
      "_view_name": "LayoutView",
      "align_content": null,
      "align_items": null,
      "align_self": null,
      "border": null,
      "bottom": null,
      "display": null,
      "flex": null,
      "flex_flow": null,
      "grid_area": null,
      "grid_auto_columns": null,
      "grid_auto_flow": null,
      "grid_auto_rows": null,
      "grid_column": null,
      "grid_gap": null,
      "grid_row": null,
      "grid_template_areas": null,
      "grid_template_columns": null,
      "grid_template_rows": null,
      "height": null,
      "justify_content": null,
      "justify_items": null,
      "left": null,
      "margin": null,
      "max_height": null,
      "max_width": null,
      "min_height": null,
      "min_width": null,
      "object_fit": null,
      "object_position": null,
      "order": null,
      "overflow": null,
      "overflow_x": null,
      "overflow_y": null,
      "padding": null,
      "right": null,
      "top": null,
      "visibility": null,
      "width": null
     }
    },
    "c1fcc55a4fc34e4295b8ebbfd60e23f5": {
     "model_module": "@jupyter-widgets/controls",
     "model_module_version": "1.5.0",
     "model_name": "FloatProgressModel",
     "state": {
      "_dom_classes": [],
      "_model_module": "@jupyter-widgets/controls",
      "_model_module_version": "1.5.0",
      "_model_name": "FloatProgressModel",
      "_view_count": null,
      "_view_module": "@jupyter-widgets/controls",
      "_view_module_version": "1.5.0",
      "_view_name": "ProgressView",
      "bar_style": "success",
      "description": "",
      "description_tooltip": null,
      "layout": "IPY_MODEL_2e0e6bcda7b341edab10d2aa61147992",
      "max": 1496,
      "min": 0,
      "orientation": "horizontal",
      "style": "IPY_MODEL_17ba729001dc47b19e343b6962a11509",
      "value": 1496
     }
    },
    "c2eeb3c0f1d74459b30cc12ffc62f6c6": {
     "model_module": "@jupyter-widgets/controls",
     "model_module_version": "1.5.0",
     "model_name": "HTMLModel",
     "state": {
      "_dom_classes": [],
      "_model_module": "@jupyter-widgets/controls",
      "_model_module_version": "1.5.0",
      "_model_name": "HTMLModel",
      "_view_count": null,
      "_view_module": "@jupyter-widgets/controls",
      "_view_module_version": "1.5.0",
      "_view_name": "HTMLView",
      "description": "",
      "description_tooltip": null,
      "layout": "IPY_MODEL_0a8e23316fe9492188567de98836f8aa",
      "placeholder": "​",
      "style": "IPY_MODEL_9a1807d4adaf4e2d96c4a83991b2c7d2",
      "value": " 4.20k/4.20k [00:00&lt;00:00, 312kB/s]"
     }
    },
    "c41db19c51c645b0b4933d0fd54ee797": {
     "model_module": "@jupyter-widgets/controls",
     "model_module_version": "1.5.0",
     "model_name": "HTMLModel",
     "state": {
      "_dom_classes": [],
      "_model_module": "@jupyter-widgets/controls",
      "_model_module_version": "1.5.0",
      "_model_name": "HTMLModel",
      "_view_count": null,
      "_view_module": "@jupyter-widgets/controls",
      "_view_module_version": "1.5.0",
      "_view_name": "HTMLView",
      "description": "",
      "description_tooltip": null,
      "layout": "IPY_MODEL_4ece91f7155d4c599e16f4f6155743ee",
      "placeholder": "​",
      "style": "IPY_MODEL_a6442224860145a3965fcbe357807940",
      "value": "Map: 100%"
     }
    },
    "c6111863f5964e4f96c279c2b35d337d": {
     "model_module": "@jupyter-widgets/controls",
     "model_module_version": "1.5.0",
     "model_name": "HBoxModel",
     "state": {
      "_dom_classes": [],
      "_model_module": "@jupyter-widgets/controls",
      "_model_module_version": "1.5.0",
      "_model_name": "HBoxModel",
      "_view_count": null,
      "_view_module": "@jupyter-widgets/controls",
      "_view_module_version": "1.5.0",
      "_view_name": "HBoxView",
      "box_style": "",
      "children": [
       "IPY_MODEL_2c82c843b6e94d47bfee6e27e788a0c8",
       "IPY_MODEL_c1fcc55a4fc34e4295b8ebbfd60e23f5",
       "IPY_MODEL_ab47f3e42cc34d44bca8f50f0b5a5461"
      ],
      "layout": "IPY_MODEL_45979f82d2e8409c880f0181e8e6382d"
     }
    },
    "c8565be79cae4d3fa8f3853296cc09f8": {
     "model_module": "@jupyter-widgets/controls",
     "model_module_version": "1.5.0",
     "model_name": "DescriptionStyleModel",
     "state": {
      "_model_module": "@jupyter-widgets/controls",
      "_model_module_version": "1.5.0",
      "_model_name": "DescriptionStyleModel",
      "_view_count": null,
      "_view_module": "@jupyter-widgets/base",
      "_view_module_version": "1.2.0",
      "_view_name": "StyleView",
      "description_width": ""
     }
    },
    "cc54129fc6f64bfdaf85dce0621d0550": {
     "model_module": "@jupyter-widgets/controls",
     "model_module_version": "1.5.0",
     "model_name": "HBoxModel",
     "state": {
      "_dom_classes": [],
      "_model_module": "@jupyter-widgets/controls",
      "_model_module_version": "1.5.0",
      "_model_name": "HBoxModel",
      "_view_count": null,
      "_view_module": "@jupyter-widgets/controls",
      "_view_module_version": "1.5.0",
      "_view_name": "HBoxView",
      "box_style": "",
      "children": [
       "IPY_MODEL_e1b9dbb3a4c54f82ba10ad3c3c669203",
       "IPY_MODEL_e17336ab6b2643729946bbad1215f12f",
       "IPY_MODEL_56e95d91c4e146fc817029dbf823a261"
      ],
      "layout": "IPY_MODEL_7d2dc96b99194e128f98c886afb79a74"
     }
    },
    "d44daf50ad5b48be91be5bd64e6d05ea": {
     "model_module": "@jupyter-widgets/base",
     "model_module_version": "1.2.0",
     "model_name": "LayoutModel",
     "state": {
      "_model_module": "@jupyter-widgets/base",
      "_model_module_version": "1.2.0",
      "_model_name": "LayoutModel",
      "_view_count": null,
      "_view_module": "@jupyter-widgets/base",
      "_view_module_version": "1.2.0",
      "_view_name": "LayoutView",
      "align_content": null,
      "align_items": null,
      "align_self": null,
      "border": null,
      "bottom": null,
      "display": null,
      "flex": null,
      "flex_flow": null,
      "grid_area": null,
      "grid_auto_columns": null,
      "grid_auto_flow": null,
      "grid_auto_rows": null,
      "grid_column": null,
      "grid_gap": null,
      "grid_row": null,
      "grid_template_areas": null,
      "grid_template_columns": null,
      "grid_template_rows": null,
      "height": null,
      "justify_content": null,
      "justify_items": null,
      "left": null,
      "margin": null,
      "max_height": null,
      "max_width": null,
      "min_height": null,
      "min_width": null,
      "object_fit": null,
      "object_position": null,
      "order": null,
      "overflow": null,
      "overflow_x": null,
      "overflow_y": null,
      "padding": null,
      "right": null,
      "top": null,
      "visibility": null,
      "width": null
     }
    },
    "d7dd907c986b432b82e326b8a8d1b68a": {
     "model_module": "@jupyter-widgets/base",
     "model_module_version": "1.2.0",
     "model_name": "LayoutModel",
     "state": {
      "_model_module": "@jupyter-widgets/base",
      "_model_module_version": "1.2.0",
      "_model_name": "LayoutModel",
      "_view_count": null,
      "_view_module": "@jupyter-widgets/base",
      "_view_module_version": "1.2.0",
      "_view_name": "LayoutView",
      "align_content": null,
      "align_items": null,
      "align_self": null,
      "border": null,
      "bottom": null,
      "display": null,
      "flex": null,
      "flex_flow": null,
      "grid_area": null,
      "grid_auto_columns": null,
      "grid_auto_flow": null,
      "grid_auto_rows": null,
      "grid_column": null,
      "grid_gap": null,
      "grid_row": null,
      "grid_template_areas": null,
      "grid_template_columns": null,
      "grid_template_rows": null,
      "height": null,
      "justify_content": null,
      "justify_items": null,
      "left": null,
      "margin": null,
      "max_height": null,
      "max_width": null,
      "min_height": null,
      "min_width": null,
      "object_fit": null,
      "object_position": null,
      "order": null,
      "overflow": null,
      "overflow_x": null,
      "overflow_y": null,
      "padding": null,
      "right": null,
      "top": null,
      "visibility": null,
      "width": null
     }
    },
    "db0817fc7aaf4ce0b414635a392d860a": {
     "model_module": "@jupyter-widgets/base",
     "model_module_version": "1.2.0",
     "model_name": "LayoutModel",
     "state": {
      "_model_module": "@jupyter-widgets/base",
      "_model_module_version": "1.2.0",
      "_model_name": "LayoutModel",
      "_view_count": null,
      "_view_module": "@jupyter-widgets/base",
      "_view_module_version": "1.2.0",
      "_view_name": "LayoutView",
      "align_content": null,
      "align_items": null,
      "align_self": null,
      "border": null,
      "bottom": null,
      "display": null,
      "flex": null,
      "flex_flow": null,
      "grid_area": null,
      "grid_auto_columns": null,
      "grid_auto_flow": null,
      "grid_auto_rows": null,
      "grid_column": null,
      "grid_gap": null,
      "grid_row": null,
      "grid_template_areas": null,
      "grid_template_columns": null,
      "grid_template_rows": null,
      "height": null,
      "justify_content": null,
      "justify_items": null,
      "left": null,
      "margin": null,
      "max_height": null,
      "max_width": null,
      "min_height": null,
      "min_width": null,
      "object_fit": null,
      "object_position": null,
      "order": null,
      "overflow": null,
      "overflow_x": null,
      "overflow_y": null,
      "padding": null,
      "right": null,
      "top": null,
      "visibility": null,
      "width": null
     }
    },
    "dc7fcd451d7f4d0c801ab24f105b46e0": {
     "model_module": "@jupyter-widgets/controls",
     "model_module_version": "1.5.0",
     "model_name": "DescriptionStyleModel",
     "state": {
      "_model_module": "@jupyter-widgets/controls",
      "_model_module_version": "1.5.0",
      "_model_name": "DescriptionStyleModel",
      "_view_count": null,
      "_view_module": "@jupyter-widgets/base",
      "_view_module_version": "1.2.0",
      "_view_name": "StyleView",
      "description_width": ""
     }
    },
    "e088f800e888475d90fd66858c8cc3a4": {
     "model_module": "@jupyter-widgets/controls",
     "model_module_version": "1.5.0",
     "model_name": "HTMLModel",
     "state": {
      "_dom_classes": [],
      "_model_module": "@jupyter-widgets/controls",
      "_model_module_version": "1.5.0",
      "_model_name": "HTMLModel",
      "_view_count": null,
      "_view_module": "@jupyter-widgets/controls",
      "_view_module_version": "1.5.0",
      "_view_name": "HTMLView",
      "description": "",
      "description_tooltip": null,
      "layout": "IPY_MODEL_2d534eb6fe4a4b459400b12f3acb68ae",
      "placeholder": "​",
      "style": "IPY_MODEL_e8aab5b68c154529b688dc546e618fbc",
      "value": " 553M/553M [00:02&lt;00:00, 211MB/s]"
     }
    },
    "e17336ab6b2643729946bbad1215f12f": {
     "model_module": "@jupyter-widgets/controls",
     "model_module_version": "1.5.0",
     "model_name": "FloatProgressModel",
     "state": {
      "_dom_classes": [],
      "_model_module": "@jupyter-widgets/controls",
      "_model_module_version": "1.5.0",
      "_model_name": "FloatProgressModel",
      "_view_count": null,
      "_view_module": "@jupyter-widgets/controls",
      "_view_module_version": "1.5.0",
      "_view_name": "ProgressView",
      "bar_style": "success",
      "description": "",
      "description_tooltip": null,
      "layout": "IPY_MODEL_8b22ebe750a8487f82ad6e978fa47706",
      "max": 1561415,
      "min": 0,
      "orientation": "horizontal",
      "style": "IPY_MODEL_f76285a9b5ef4fdd8e961844ebaded5c",
      "value": 1561415
     }
    },
    "e1b9dbb3a4c54f82ba10ad3c3c669203": {
     "model_module": "@jupyter-widgets/controls",
     "model_module_version": "1.5.0",
     "model_name": "HTMLModel",
     "state": {
      "_dom_classes": [],
      "_model_module": "@jupyter-widgets/controls",
      "_model_module_version": "1.5.0",
      "_model_name": "HTMLModel",
      "_view_count": null,
      "_view_module": "@jupyter-widgets/controls",
      "_view_module_version": "1.5.0",
      "_view_name": "HTMLView",
      "description": "",
      "description_tooltip": null,
      "layout": "IPY_MODEL_db0817fc7aaf4ce0b414635a392d860a",
      "placeholder": "​",
      "style": "IPY_MODEL_c8565be79cae4d3fa8f3853296cc09f8",
      "value": "vocab.json: 100%"
     }
    },
    "e35e0e2d62c14725b3b6c87e9a239a12": {
     "model_module": "@jupyter-widgets/controls",
     "model_module_version": "1.5.0",
     "model_name": "HBoxModel",
     "state": {
      "_dom_classes": [],
      "_model_module": "@jupyter-widgets/controls",
      "_model_module_version": "1.5.0",
      "_model_name": "HBoxModel",
      "_view_count": null,
      "_view_module": "@jupyter-widgets/controls",
      "_view_module_version": "1.5.0",
      "_view_name": "HBoxView",
      "box_style": "",
      "children": [
       "IPY_MODEL_8e8bf633088449d3b266e619408ea290",
       "IPY_MODEL_3083d2db829448c58f1981cc84fe9384",
       "IPY_MODEL_657898c13aa547759bf55818e944f1bd"
      ],
      "layout": "IPY_MODEL_d44daf50ad5b48be91be5bd64e6d05ea"
     }
    },
    "e80bd6bab2a9425d8ba219fb64f2fcd2": {
     "model_module": "@jupyter-widgets/base",
     "model_module_version": "1.2.0",
     "model_name": "LayoutModel",
     "state": {
      "_model_module": "@jupyter-widgets/base",
      "_model_module_version": "1.2.0",
      "_model_name": "LayoutModel",
      "_view_count": null,
      "_view_module": "@jupyter-widgets/base",
      "_view_module_version": "1.2.0",
      "_view_name": "LayoutView",
      "align_content": null,
      "align_items": null,
      "align_self": null,
      "border": null,
      "bottom": null,
      "display": null,
      "flex": null,
      "flex_flow": null,
      "grid_area": null,
      "grid_auto_columns": null,
      "grid_auto_flow": null,
      "grid_auto_rows": null,
      "grid_column": null,
      "grid_gap": null,
      "grid_row": null,
      "grid_template_areas": null,
      "grid_template_columns": null,
      "grid_template_rows": null,
      "height": null,
      "justify_content": null,
      "justify_items": null,
      "left": null,
      "margin": null,
      "max_height": null,
      "max_width": null,
      "min_height": null,
      "min_width": null,
      "object_fit": null,
      "object_position": null,
      "order": null,
      "overflow": null,
      "overflow_x": null,
      "overflow_y": null,
      "padding": null,
      "right": null,
      "top": null,
      "visibility": null,
      "width": null
     }
    },
    "e8712c38707e494196f2dc36fd6a9059": {
     "model_module": "@jupyter-widgets/base",
     "model_module_version": "1.2.0",
     "model_name": "LayoutModel",
     "state": {
      "_model_module": "@jupyter-widgets/base",
      "_model_module_version": "1.2.0",
      "_model_name": "LayoutModel",
      "_view_count": null,
      "_view_module": "@jupyter-widgets/base",
      "_view_module_version": "1.2.0",
      "_view_name": "LayoutView",
      "align_content": null,
      "align_items": null,
      "align_self": null,
      "border": null,
      "bottom": null,
      "display": null,
      "flex": null,
      "flex_flow": null,
      "grid_area": null,
      "grid_auto_columns": null,
      "grid_auto_flow": null,
      "grid_auto_rows": null,
      "grid_column": null,
      "grid_gap": null,
      "grid_row": null,
      "grid_template_areas": null,
      "grid_template_columns": null,
      "grid_template_rows": null,
      "height": null,
      "justify_content": null,
      "justify_items": null,
      "left": null,
      "margin": null,
      "max_height": null,
      "max_width": null,
      "min_height": null,
      "min_width": null,
      "object_fit": null,
      "object_position": null,
      "order": null,
      "overflow": null,
      "overflow_x": null,
      "overflow_y": null,
      "padding": null,
      "right": null,
      "top": null,
      "visibility": null,
      "width": null
     }
    },
    "e8aab5b68c154529b688dc546e618fbc": {
     "model_module": "@jupyter-widgets/controls",
     "model_module_version": "1.5.0",
     "model_name": "DescriptionStyleModel",
     "state": {
      "_model_module": "@jupyter-widgets/controls",
      "_model_module_version": "1.5.0",
      "_model_name": "DescriptionStyleModel",
      "_view_count": null,
      "_view_module": "@jupyter-widgets/base",
      "_view_module_version": "1.2.0",
      "_view_name": "StyleView",
      "description_width": ""
     }
    },
    "e9fe053cd5af49239285c3c798228da4": {
     "model_module": "@jupyter-widgets/base",
     "model_module_version": "1.2.0",
     "model_name": "LayoutModel",
     "state": {
      "_model_module": "@jupyter-widgets/base",
      "_model_module_version": "1.2.0",
      "_model_name": "LayoutModel",
      "_view_count": null,
      "_view_module": "@jupyter-widgets/base",
      "_view_module_version": "1.2.0",
      "_view_name": "LayoutView",
      "align_content": null,
      "align_items": null,
      "align_self": null,
      "border": null,
      "bottom": null,
      "display": null,
      "flex": null,
      "flex_flow": null,
      "grid_area": null,
      "grid_auto_columns": null,
      "grid_auto_flow": null,
      "grid_auto_rows": null,
      "grid_column": null,
      "grid_gap": null,
      "grid_row": null,
      "grid_template_areas": null,
      "grid_template_columns": null,
      "grid_template_rows": null,
      "height": null,
      "justify_content": null,
      "justify_items": null,
      "left": null,
      "margin": null,
      "max_height": null,
      "max_width": null,
      "min_height": null,
      "min_width": null,
      "object_fit": null,
      "object_position": null,
      "order": null,
      "overflow": null,
      "overflow_x": null,
      "overflow_y": null,
      "padding": null,
      "right": null,
      "top": null,
      "visibility": null,
      "width": null
     }
    },
    "eb81d5ffe63044819457d47bf7154963": {
     "model_module": "@jupyter-widgets/base",
     "model_module_version": "1.2.0",
     "model_name": "LayoutModel",
     "state": {
      "_model_module": "@jupyter-widgets/base",
      "_model_module_version": "1.2.0",
      "_model_name": "LayoutModel",
      "_view_count": null,
      "_view_module": "@jupyter-widgets/base",
      "_view_module_version": "1.2.0",
      "_view_name": "LayoutView",
      "align_content": null,
      "align_items": null,
      "align_self": null,
      "border": null,
      "bottom": null,
      "display": null,
      "flex": null,
      "flex_flow": null,
      "grid_area": null,
      "grid_auto_columns": null,
      "grid_auto_flow": null,
      "grid_auto_rows": null,
      "grid_column": null,
      "grid_gap": null,
      "grid_row": null,
      "grid_template_areas": null,
      "grid_template_columns": null,
      "grid_template_rows": null,
      "height": null,
      "justify_content": null,
      "justify_items": null,
      "left": null,
      "margin": null,
      "max_height": null,
      "max_width": null,
      "min_height": null,
      "min_width": null,
      "object_fit": null,
      "object_position": null,
      "order": null,
      "overflow": null,
      "overflow_x": null,
      "overflow_y": null,
      "padding": null,
      "right": null,
      "top": null,
      "visibility": null,
      "width": null
     }
    },
    "ecd3b443137642c1b1aefd14c6e2b3a9": {
     "model_module": "@jupyter-widgets/controls",
     "model_module_version": "1.5.0",
     "model_name": "ProgressStyleModel",
     "state": {
      "_model_module": "@jupyter-widgets/controls",
      "_model_module_version": "1.5.0",
      "_model_name": "ProgressStyleModel",
      "_view_count": null,
      "_view_module": "@jupyter-widgets/base",
      "_view_module_version": "1.2.0",
      "_view_name": "StyleView",
      "bar_color": null,
      "description_width": ""
     }
    },
    "f4d5c110a6d24b42862b56e505891ba3": {
     "model_module": "@jupyter-widgets/controls",
     "model_module_version": "1.5.0",
     "model_name": "DescriptionStyleModel",
     "state": {
      "_model_module": "@jupyter-widgets/controls",
      "_model_module_version": "1.5.0",
      "_model_name": "DescriptionStyleModel",
      "_view_count": null,
      "_view_module": "@jupyter-widgets/base",
      "_view_module_version": "1.2.0",
      "_view_name": "StyleView",
      "description_width": ""
     }
    },
    "f66879de3633462ba740921c35fcb91e": {
     "model_module": "@jupyter-widgets/controls",
     "model_module_version": "1.5.0",
     "model_name": "DescriptionStyleModel",
     "state": {
      "_model_module": "@jupyter-widgets/controls",
      "_model_module_version": "1.5.0",
      "_model_name": "DescriptionStyleModel",
      "_view_count": null,
      "_view_module": "@jupyter-widgets/base",
      "_view_module_version": "1.2.0",
      "_view_name": "StyleView",
      "description_width": ""
     }
    },
    "f7325dea87444f1a8bbe59487316e109": {
     "model_module": "@jupyter-widgets/base",
     "model_module_version": "1.2.0",
     "model_name": "LayoutModel",
     "state": {
      "_model_module": "@jupyter-widgets/base",
      "_model_module_version": "1.2.0",
      "_model_name": "LayoutModel",
      "_view_count": null,
      "_view_module": "@jupyter-widgets/base",
      "_view_module_version": "1.2.0",
      "_view_name": "LayoutView",
      "align_content": null,
      "align_items": null,
      "align_self": null,
      "border": null,
      "bottom": null,
      "display": null,
      "flex": null,
      "flex_flow": null,
      "grid_area": null,
      "grid_auto_columns": null,
      "grid_auto_flow": null,
      "grid_auto_rows": null,
      "grid_column": null,
      "grid_gap": null,
      "grid_row": null,
      "grid_template_areas": null,
      "grid_template_columns": null,
      "grid_template_rows": null,
      "height": null,
      "justify_content": null,
      "justify_items": null,
      "left": null,
      "margin": null,
      "max_height": null,
      "max_width": null,
      "min_height": null,
      "min_width": null,
      "object_fit": null,
      "object_position": null,
      "order": null,
      "overflow": null,
      "overflow_x": null,
      "overflow_y": null,
      "padding": null,
      "right": null,
      "top": null,
      "visibility": null,
      "width": null
     }
    },
    "f76285a9b5ef4fdd8e961844ebaded5c": {
     "model_module": "@jupyter-widgets/controls",
     "model_module_version": "1.5.0",
     "model_name": "ProgressStyleModel",
     "state": {
      "_model_module": "@jupyter-widgets/controls",
      "_model_module_version": "1.5.0",
      "_model_name": "ProgressStyleModel",
      "_view_count": null,
      "_view_module": "@jupyter-widgets/base",
      "_view_module_version": "1.2.0",
      "_view_name": "StyleView",
      "bar_color": null,
      "description_width": ""
     }
    }
   }
  }
 },
 "nbformat": 4,
 "nbformat_minor": 4
}
