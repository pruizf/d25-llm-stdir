{
 "cells": [
  {
   "cell_type": "markdown",
   "metadata": {
    "id": "4h58qK_cWCUq"
   },
   "source": [
    "This one is getting ./AS13_reduc/data/AS13_stgdir_labelGeneric.csv"
   ]
  },
  {
   "cell_type": "code",
   "execution_count": 1,
   "metadata": {
    "executionInfo": {
     "elapsed": 7560,
     "status": "ok",
     "timestamp": 1731972457411,
     "user": {
      "displayName": "Pablo Ruiz",
      "userId": "17009176686305915362"
     },
     "user_tz": -60
    },
    "id": "PA4QPz-_1elp"
   },
   "outputs": [],
   "source": [
    "%%capture\n",
    "!pip install codecarbon"
   ]
  },
  {
   "cell_type": "code",
   "execution_count": 2,
   "metadata": {
    "executionInfo": {
     "elapsed": 6,
     "status": "ok",
     "timestamp": 1731972457411,
     "user": {
      "displayName": "Pablo Ruiz",
      "userId": "17009176686305915362"
     },
     "user_tz": -60
    },
    "id": "j4F4-d1WYtN6"
   },
   "outputs": [],
   "source": [
    "#!pip uninstall wandb"
   ]
  },
  {
   "cell_type": "code",
   "execution_count": 3,
   "metadata": {
    "colab": {
     "base_uri": "https://localhost:8080/"
    },
    "executionInfo": {
     "elapsed": 2650,
     "status": "ok",
     "timestamp": 1731972460056,
     "user": {
      "displayName": "Pablo Ruiz",
      "userId": "17009176686305915362"
     },
     "user_tz": -60
    },
    "id": "91i-w5LE7OaO",
    "outputId": "a671be38-8f68-4987-ccd8-f7c15c8fbb08"
   },
   "outputs": [
    {
     "name": "stdout",
     "output_type": "stream",
     "text": [
      "Requirement already satisfied: accelerate in /usr/local/lib/python3.10/dist-packages (1.1.1)\n",
      "Requirement already satisfied: huggingface-hub>=0.21.0 in /usr/local/lib/python3.10/dist-packages (from accelerate) (0.26.2)\n",
      "Requirement already satisfied: numpy<3.0.0,>=1.17 in /usr/local/lib/python3.10/dist-packages (from accelerate) (1.26.4)\n",
      "Requirement already satisfied: packaging>=20.0 in /usr/local/lib/python3.10/dist-packages (from accelerate) (24.2)\n",
      "Requirement already satisfied: psutil in /usr/local/lib/python3.10/dist-packages (from accelerate) (5.9.5)\n",
      "Requirement already satisfied: pyyaml in /usr/local/lib/python3.10/dist-packages (from accelerate) (6.0.2)\n",
      "Requirement already satisfied: safetensors>=0.4.3 in /usr/local/lib/python3.10/dist-packages (from accelerate) (0.4.5)\n",
      "Requirement already satisfied: torch>=1.10.0 in /usr/local/lib/python3.10/dist-packages (from accelerate) (2.5.1+cu121)\n",
      "Requirement already satisfied: filelock in /usr/local/lib/python3.10/dist-packages (from huggingface-hub>=0.21.0->accelerate) (3.16.1)\n",
      "Requirement already satisfied: fsspec>=2023.5.0 in /usr/local/lib/python3.10/dist-packages (from huggingface-hub>=0.21.0->accelerate) (2024.10.0)\n",
      "Requirement already satisfied: requests in /usr/local/lib/python3.10/dist-packages (from huggingface-hub>=0.21.0->accelerate) (2.32.3)\n",
      "Requirement already satisfied: tqdm>=4.42.1 in /usr/local/lib/python3.10/dist-packages (from huggingface-hub>=0.21.0->accelerate) (4.66.6)\n",
      "Requirement already satisfied: typing-extensions>=3.7.4.3 in /usr/local/lib/python3.10/dist-packages (from huggingface-hub>=0.21.0->accelerate) (4.12.2)\n",
      "Requirement already satisfied: networkx in /usr/local/lib/python3.10/dist-packages (from torch>=1.10.0->accelerate) (3.4.2)\n",
      "Requirement already satisfied: jinja2 in /usr/local/lib/python3.10/dist-packages (from torch>=1.10.0->accelerate) (3.1.4)\n",
      "Requirement already satisfied: sympy==1.13.1 in /usr/local/lib/python3.10/dist-packages (from torch>=1.10.0->accelerate) (1.13.1)\n",
      "Requirement already satisfied: mpmath<1.4,>=1.1.0 in /usr/local/lib/python3.10/dist-packages (from sympy==1.13.1->torch>=1.10.0->accelerate) (1.3.0)\n",
      "Requirement already satisfied: MarkupSafe>=2.0 in /usr/local/lib/python3.10/dist-packages (from jinja2->torch>=1.10.0->accelerate) (3.0.2)\n",
      "Requirement already satisfied: charset-normalizer<4,>=2 in /usr/local/lib/python3.10/dist-packages (from requests->huggingface-hub>=0.21.0->accelerate) (3.4.0)\n",
      "Requirement already satisfied: idna<4,>=2.5 in /usr/local/lib/python3.10/dist-packages (from requests->huggingface-hub>=0.21.0->accelerate) (3.10)\n",
      "Requirement already satisfied: urllib3<3,>=1.21.1 in /usr/local/lib/python3.10/dist-packages (from requests->huggingface-hub>=0.21.0->accelerate) (2.2.3)\n",
      "Requirement already satisfied: certifi>=2017.4.17 in /usr/local/lib/python3.10/dist-packages (from requests->huggingface-hub>=0.21.0->accelerate) (2024.8.30)\n"
     ]
    }
   ],
   "source": [
    "# run this first cell and then do \"restart and run all\" from the run menu\n",
    "!pip install -U accelerate"
   ]
  },
  {
   "cell_type": "code",
   "execution_count": 4,
   "metadata": {
    "colab": {
     "base_uri": "https://localhost:8080/"
    },
    "executionInfo": {
     "elapsed": 2515,
     "status": "ok",
     "timestamp": 1731972462568,
     "user": {
      "displayName": "Pablo Ruiz",
      "userId": "17009176686305915362"
     },
     "user_tz": -60
    },
    "id": "VfxX-HxAtGr6",
    "outputId": "c2d185a5-e718-4b49-af88-dedd895bbb45"
   },
   "outputs": [
    {
     "name": "stdout",
     "output_type": "stream",
     "text": [
      "Collecting sacremoses\n",
      "  Downloading sacremoses-0.1.1-py3-none-any.whl.metadata (8.3 kB)\n",
      "Requirement already satisfied: regex in /usr/local/lib/python3.10/dist-packages (from sacremoses) (2024.9.11)\n",
      "Requirement already satisfied: click in /usr/local/lib/python3.10/dist-packages (from sacremoses) (8.1.7)\n",
      "Requirement already satisfied: joblib in /usr/local/lib/python3.10/dist-packages (from sacremoses) (1.4.2)\n",
      "Requirement already satisfied: tqdm in /usr/local/lib/python3.10/dist-packages (from sacremoses) (4.66.6)\n",
      "Downloading sacremoses-0.1.1-py3-none-any.whl (897 kB)\n",
      "\u001b[?25l   \u001b[90m━━━━━━━━━━━━━━━━━━━━━━━━━━━━━━━━━━━━━━━━\u001b[0m \u001b[32m0.0/897.5 kB\u001b[0m \u001b[31m?\u001b[0m eta \u001b[36m-:--:--\u001b[0m\r",
      "\u001b[2K   \u001b[90m━━━━━━━━━━━━━━━━━━━━━━━━━━━━━━━━━━━━━━━━\u001b[0m \u001b[32m897.5/897.5 kB\u001b[0m \u001b[31m39.1 MB/s\u001b[0m eta \u001b[36m0:00:00\u001b[0m\n",
      "\u001b[?25hInstalling collected packages: sacremoses\n",
      "Successfully installed sacremoses-0.1.1\n"
     ]
    }
   ],
   "source": [
    "# Flaubert asks for this\n",
    "!pip install sacremoses"
   ]
  },
  {
   "cell_type": "code",
   "execution_count": 5,
   "metadata": {
    "executionInfo": {
     "elapsed": 4,
     "status": "ok",
     "timestamp": 1731972462568,
     "user": {
      "displayName": "Pablo Ruiz",
      "userId": "17009176686305915362"
     },
     "user_tz": -60
    },
    "id": "fXocg9Zp52uh"
   },
   "outputs": [],
   "source": [
    "import os\n",
    "os.environ[\"WANDB_MODE\"] = \"disabled\"\n",
    "\n",
    "##### CONFIG ####\n",
    "\n",
    "dataset_name = \"AS13_stgdir_labelGeneric\"\n",
    "\n",
    "model_dict = {1: \"camembert-base\", 2: \"cmarkea/distilcamembert-base\", 3: \"bert-base-multilingual-cased\", 4: \"distilbert-base-multilingual-cased\",\n",
    "              5: \"bert-base-multilingual-uncased\", 6: \"distilbert-base-multilingual-uncased\",\n",
    "              7: \"flaubert/flaubert_base_cased\", 8: \"flaubert/flaubert_base_uncased\"}\n",
    "\n",
    "model_key = 7\n",
    "model_ckpt = model_dict[model_key]\n",
    "fraction_kept = 100 # can only be 100, 50, 25, 10, 5\n",
    "run_number = 3\n",
    "\n",
    "batch_size = 16\n",
    "max_epochs = 40\n",
    "assert not(fraction_kept < 50 and max_epochs < 10)\n",
    "\n",
    "use_drive = False\n",
    "use_drive_for_cm = True\n",
    "save_model = False\n",
    "\n",
    "# output dir format (below)\n",
    "#output_dir=f\"{model_ckpt}__finetuned__{dataset_name}__{fraction_kept}__{run_number}\""
   ]
  },
  {
   "cell_type": "code",
   "execution_count": 6,
   "metadata": {
    "colab": {
     "base_uri": "https://localhost:8080/"
    },
    "executionInfo": {
     "elapsed": 32465,
     "status": "ok",
     "timestamp": 1731972495030,
     "user": {
      "displayName": "Pablo Ruiz",
      "userId": "17009176686305915362"
     },
     "user_tz": -60
    },
    "id": "ScQinG_O1h0N",
    "outputId": "4b35da51-8065-4986-e7bf-959a78961d1a"
   },
   "outputs": [
    {
     "name": "stdout",
     "output_type": "stream",
     "text": [
      "Mounted at /content/drive\n"
     ]
    }
   ],
   "source": [
    "import os\n",
    "if use_drive_for_cm:\n",
    "  from google.colab import drive\n",
    "  drive.mount(\"/content/drive\")\n",
    "  out_dir = \"/content/drive/MyDrive/___tests_ft_d25\"\n",
    "  model_outname = model_ckpt.replace(\"/\", \"-\")\n",
    "  out_exp = os.path.join(f\"stgcls_reps__{model_outname}__{str.zfill(str(fraction_kept), 3)}__{run_number}\")\n",
    "  out_dir_exp = os.path.join(out_dir, out_exp)\n",
    "  if not os.path.exists(out_dir_exp):\n",
    "    os.mkdir(out_dir_exp)"
   ]
  },
  {
   "cell_type": "code",
   "execution_count": 7,
   "metadata": {
    "colab": {
     "base_uri": "https://localhost:8080/"
    },
    "executionInfo": {
     "elapsed": 14,
     "status": "ok",
     "timestamp": 1731972495031,
     "user": {
      "displayName": "Pablo Ruiz",
      "userId": "17009176686305915362"
     },
     "user_tz": -60
    },
    "id": "cM8CXpaC3iPm",
    "outputId": "35446b1a-b1eb-4746-c58a-d0ef64858298"
   },
   "outputs": [
    {
     "name": "stdout",
     "output_type": "stream",
     "text": [
      "d25\n",
      "stgcls_reps__flaubert-flaubert_base_cased__100__1\n",
      "stgcls_reps__flaubert-flaubert_base_cased__100__2\n",
      "stgcls_reps__flaubert-flaubert_base_cased__100__3\n"
     ]
    }
   ],
   "source": [
    "!ls /content/drive/MyDrive/___tests_ft_d25"
   ]
  },
  {
   "cell_type": "code",
   "execution_count": 8,
   "metadata": {
    "executionInfo": {
     "elapsed": 8,
     "status": "ok",
     "timestamp": 1731972495031,
     "user": {
      "displayName": "Pablo Ruiz",
      "userId": "17009176686305915362"
     },
     "user_tz": -60
    },
    "id": "-DUtQKJO98Bk"
   },
   "outputs": [],
   "source": [
    "assert fraction_kept in [100*x for x in (1, 0.5, 0.25, 0.1, 0.05)]\n",
    "assert run_number in (1, 2, 3, 4, 5)"
   ]
  },
  {
   "cell_type": "code",
   "execution_count": 9,
   "metadata": {
    "executionInfo": {
     "elapsed": 7,
     "status": "ok",
     "timestamp": 1731972495031,
     "user": {
      "displayName": "Pablo Ruiz",
      "userId": "17009176686305915362"
     },
     "user_tz": -60
    },
    "id": "O1LSZd4CEl-U"
   },
   "outputs": [],
   "source": [
    "# fraction kept to color map\n",
    "clrmap_dict = {100: \"Greens\", 50: \"Blues\", 25: \"Purples\", 10: \"Oranges\", 5: \"Reds\"}\n",
    "assert fraction_kept in clrmap_dict"
   ]
  },
  {
   "cell_type": "code",
   "execution_count": 10,
   "metadata": {
    "colab": {
     "base_uri": "https://localhost:8080/"
    },
    "executionInfo": {
     "elapsed": 489,
     "status": "ok",
     "timestamp": 1731972495514,
     "user": {
      "displayName": "Pablo Ruiz",
      "userId": "17009176686305915362"
     },
     "user_tz": -60
    },
    "id": "hVCb0q68jf8u",
    "outputId": "7b5888c4-7d09-4ddd-8f1c-f9a809e4499b"
   },
   "outputs": [
    {
     "name": "stdout",
     "output_type": "stream",
     "text": [
      "Python 3.10.12\n"
     ]
    }
   ],
   "source": [
    "!python --version"
   ]
  },
  {
   "cell_type": "code",
   "execution_count": 11,
   "metadata": {
    "executionInfo": {
     "elapsed": 9,
     "status": "ok",
     "timestamp": 1731972495514,
     "user": {
      "displayName": "Pablo Ruiz",
      "userId": "17009176686305915362"
     },
     "user_tz": -60
    },
    "id": "DVadEZwvQLc1"
   },
   "outputs": [],
   "source": [
    "!mkdir data"
   ]
  },
  {
   "cell_type": "code",
   "execution_count": 12,
   "metadata": {
    "colab": {
     "base_uri": "https://localhost:8080/"
    },
    "executionInfo": {
     "elapsed": 2030,
     "status": "ok",
     "timestamp": 1731972497537,
     "user": {
      "displayName": "Pablo Ruiz",
      "userId": "17009176686305915362"
     },
     "user_tz": -60
    },
    "id": "nOiT_b0Kie1S",
    "outputId": "d2ecc7bd-16ba-45d6-85a4-707930543481"
   },
   "outputs": [
    {
     "name": "stdout",
     "output_type": "stream",
     "text": [
      "Requirement already satisfied: transformers in /usr/local/lib/python3.10/dist-packages (4.46.2)\n",
      "Requirement already satisfied: filelock in /usr/local/lib/python3.10/dist-packages (from transformers) (3.16.1)\n",
      "Requirement already satisfied: huggingface-hub<1.0,>=0.23.2 in /usr/local/lib/python3.10/dist-packages (from transformers) (0.26.2)\n",
      "Requirement already satisfied: numpy>=1.17 in /usr/local/lib/python3.10/dist-packages (from transformers) (1.26.4)\n",
      "Requirement already satisfied: packaging>=20.0 in /usr/local/lib/python3.10/dist-packages (from transformers) (24.2)\n",
      "Requirement already satisfied: pyyaml>=5.1 in /usr/local/lib/python3.10/dist-packages (from transformers) (6.0.2)\n",
      "Requirement already satisfied: regex!=2019.12.17 in /usr/local/lib/python3.10/dist-packages (from transformers) (2024.9.11)\n",
      "Requirement already satisfied: requests in /usr/local/lib/python3.10/dist-packages (from transformers) (2.32.3)\n",
      "Requirement already satisfied: safetensors>=0.4.1 in /usr/local/lib/python3.10/dist-packages (from transformers) (0.4.5)\n",
      "Requirement already satisfied: tokenizers<0.21,>=0.20 in /usr/local/lib/python3.10/dist-packages (from transformers) (0.20.3)\n",
      "Requirement already satisfied: tqdm>=4.27 in /usr/local/lib/python3.10/dist-packages (from transformers) (4.66.6)\n",
      "Requirement already satisfied: fsspec>=2023.5.0 in /usr/local/lib/python3.10/dist-packages (from huggingface-hub<1.0,>=0.23.2->transformers) (2024.10.0)\n",
      "Requirement already satisfied: typing-extensions>=3.7.4.3 in /usr/local/lib/python3.10/dist-packages (from huggingface-hub<1.0,>=0.23.2->transformers) (4.12.2)\n",
      "Requirement already satisfied: charset-normalizer<4,>=2 in /usr/local/lib/python3.10/dist-packages (from requests->transformers) (3.4.0)\n",
      "Requirement already satisfied: idna<4,>=2.5 in /usr/local/lib/python3.10/dist-packages (from requests->transformers) (3.10)\n",
      "Requirement already satisfied: urllib3<3,>=1.21.1 in /usr/local/lib/python3.10/dist-packages (from requests->transformers) (2.2.3)\n",
      "Requirement already satisfied: certifi>=2017.4.17 in /usr/local/lib/python3.10/dist-packages (from requests->transformers) (2024.8.30)\n"
     ]
    }
   ],
   "source": [
    "! pip install transformers"
   ]
  },
  {
   "cell_type": "code",
   "execution_count": 13,
   "metadata": {
    "colab": {
     "base_uri": "https://localhost:8080/"
    },
    "executionInfo": {
     "elapsed": 4331,
     "status": "ok",
     "timestamp": 1731972501857,
     "user": {
      "displayName": "Pablo Ruiz",
      "userId": "17009176686305915362"
     },
     "user_tz": -60
    },
    "id": "DxMx3WDolLON",
    "outputId": "08cf2273-7288-494e-8946-14fbf4e208a9"
   },
   "outputs": [
    {
     "name": "stdout",
     "output_type": "stream",
     "text": [
      "Collecting datasets\n",
      "  Downloading datasets-3.1.0-py3-none-any.whl.metadata (20 kB)\n",
      "Requirement already satisfied: filelock in /usr/local/lib/python3.10/dist-packages (from datasets) (3.16.1)\n",
      "Requirement already satisfied: numpy>=1.17 in /usr/local/lib/python3.10/dist-packages (from datasets) (1.26.4)\n",
      "Requirement already satisfied: pyarrow>=15.0.0 in /usr/local/lib/python3.10/dist-packages (from datasets) (17.0.0)\n",
      "Collecting dill<0.3.9,>=0.3.0 (from datasets)\n",
      "  Downloading dill-0.3.8-py3-none-any.whl.metadata (10 kB)\n",
      "Requirement already satisfied: pandas in /usr/local/lib/python3.10/dist-packages (from datasets) (2.2.2)\n",
      "Requirement already satisfied: requests>=2.32.2 in /usr/local/lib/python3.10/dist-packages (from datasets) (2.32.3)\n",
      "Requirement already satisfied: tqdm>=4.66.3 in /usr/local/lib/python3.10/dist-packages (from datasets) (4.66.6)\n",
      "Collecting xxhash (from datasets)\n",
      "  Downloading xxhash-3.5.0-cp310-cp310-manylinux_2_17_x86_64.manylinux2014_x86_64.whl.metadata (12 kB)\n",
      "Collecting multiprocess<0.70.17 (from datasets)\n",
      "  Downloading multiprocess-0.70.16-py310-none-any.whl.metadata (7.2 kB)\n",
      "Collecting fsspec<=2024.9.0,>=2023.1.0 (from fsspec[http]<=2024.9.0,>=2023.1.0->datasets)\n",
      "  Downloading fsspec-2024.9.0-py3-none-any.whl.metadata (11 kB)\n",
      "Requirement already satisfied: aiohttp in /usr/local/lib/python3.10/dist-packages (from datasets) (3.11.1)\n",
      "Requirement already satisfied: huggingface-hub>=0.23.0 in /usr/local/lib/python3.10/dist-packages (from datasets) (0.26.2)\n",
      "Requirement already satisfied: packaging in /usr/local/lib/python3.10/dist-packages (from datasets) (24.2)\n",
      "Requirement already satisfied: pyyaml>=5.1 in /usr/local/lib/python3.10/dist-packages (from datasets) (6.0.2)\n",
      "Requirement already satisfied: aiohappyeyeballs>=2.3.0 in /usr/local/lib/python3.10/dist-packages (from aiohttp->datasets) (2.4.3)\n",
      "Requirement already satisfied: aiosignal>=1.1.2 in /usr/local/lib/python3.10/dist-packages (from aiohttp->datasets) (1.3.1)\n",
      "Requirement already satisfied: attrs>=17.3.0 in /usr/local/lib/python3.10/dist-packages (from aiohttp->datasets) (24.2.0)\n",
      "Requirement already satisfied: frozenlist>=1.1.1 in /usr/local/lib/python3.10/dist-packages (from aiohttp->datasets) (1.5.0)\n",
      "Requirement already satisfied: multidict<7.0,>=4.5 in /usr/local/lib/python3.10/dist-packages (from aiohttp->datasets) (6.1.0)\n",
      "Requirement already satisfied: propcache>=0.2.0 in /usr/local/lib/python3.10/dist-packages (from aiohttp->datasets) (0.2.0)\n",
      "Requirement already satisfied: yarl<2.0,>=1.17.0 in /usr/local/lib/python3.10/dist-packages (from aiohttp->datasets) (1.17.1)\n",
      "Requirement already satisfied: async-timeout<6.0,>=4.0 in /usr/local/lib/python3.10/dist-packages (from aiohttp->datasets) (4.0.3)\n",
      "Requirement already satisfied: typing-extensions>=3.7.4.3 in /usr/local/lib/python3.10/dist-packages (from huggingface-hub>=0.23.0->datasets) (4.12.2)\n",
      "Requirement already satisfied: charset-normalizer<4,>=2 in /usr/local/lib/python3.10/dist-packages (from requests>=2.32.2->datasets) (3.4.0)\n",
      "Requirement already satisfied: idna<4,>=2.5 in /usr/local/lib/python3.10/dist-packages (from requests>=2.32.2->datasets) (3.10)\n",
      "Requirement already satisfied: urllib3<3,>=1.21.1 in /usr/local/lib/python3.10/dist-packages (from requests>=2.32.2->datasets) (2.2.3)\n",
      "Requirement already satisfied: certifi>=2017.4.17 in /usr/local/lib/python3.10/dist-packages (from requests>=2.32.2->datasets) (2024.8.30)\n",
      "Requirement already satisfied: python-dateutil>=2.8.2 in /usr/local/lib/python3.10/dist-packages (from pandas->datasets) (2.8.2)\n",
      "Requirement already satisfied: pytz>=2020.1 in /usr/local/lib/python3.10/dist-packages (from pandas->datasets) (2024.2)\n",
      "Requirement already satisfied: tzdata>=2022.7 in /usr/local/lib/python3.10/dist-packages (from pandas->datasets) (2024.2)\n",
      "Requirement already satisfied: six>=1.5 in /usr/local/lib/python3.10/dist-packages (from python-dateutil>=2.8.2->pandas->datasets) (1.16.0)\n",
      "Downloading datasets-3.1.0-py3-none-any.whl (480 kB)\n",
      "\u001b[2K   \u001b[90m━━━━━━━━━━━━━━━━━━━━━━━━━━━━━━━━━━━━━━━━\u001b[0m \u001b[32m480.6/480.6 kB\u001b[0m \u001b[31m24.3 MB/s\u001b[0m eta \u001b[36m0:00:00\u001b[0m\n",
      "\u001b[?25hDownloading dill-0.3.8-py3-none-any.whl (116 kB)\n",
      "\u001b[2K   \u001b[90m━━━━━━━━━━━━━━━━━━━━━━━━━━━━━━━━━━━━━━━━\u001b[0m \u001b[32m116.3/116.3 kB\u001b[0m \u001b[31m11.4 MB/s\u001b[0m eta \u001b[36m0:00:00\u001b[0m\n",
      "\u001b[?25hDownloading fsspec-2024.9.0-py3-none-any.whl (179 kB)\n",
      "\u001b[2K   \u001b[90m━━━━━━━━━━━━━━━━━━━━━━━━━━━━━━━━━━━━━━━━\u001b[0m \u001b[32m179.3/179.3 kB\u001b[0m \u001b[31m14.8 MB/s\u001b[0m eta \u001b[36m0:00:00\u001b[0m\n",
      "\u001b[?25hDownloading multiprocess-0.70.16-py310-none-any.whl (134 kB)\n",
      "\u001b[2K   \u001b[90m━━━━━━━━━━━━━━━━━━━━━━━━━━━━━━━━━━━━━━━━\u001b[0m \u001b[32m134.8/134.8 kB\u001b[0m \u001b[31m9.4 MB/s\u001b[0m eta \u001b[36m0:00:00\u001b[0m\n",
      "\u001b[?25hDownloading xxhash-3.5.0-cp310-cp310-manylinux_2_17_x86_64.manylinux2014_x86_64.whl (194 kB)\n",
      "\u001b[2K   \u001b[90m━━━━━━━━━━━━━━━━━━━━━━━━━━━━━━━━━━━━━━━━\u001b[0m \u001b[32m194.1/194.1 kB\u001b[0m \u001b[31m13.9 MB/s\u001b[0m eta \u001b[36m0:00:00\u001b[0m\n",
      "\u001b[?25hInstalling collected packages: xxhash, fsspec, dill, multiprocess, datasets\n",
      "  Attempting uninstall: fsspec\n",
      "    Found existing installation: fsspec 2024.10.0\n",
      "    Uninstalling fsspec-2024.10.0:\n",
      "      Successfully uninstalled fsspec-2024.10.0\n",
      "\u001b[31mERROR: pip's dependency resolver does not currently take into account all the packages that are installed. This behaviour is the source of the following dependency conflicts.\n",
      "gcsfs 2024.10.0 requires fsspec==2024.10.0, but you have fsspec 2024.9.0 which is incompatible.\u001b[0m\u001b[31m\n",
      "\u001b[0mSuccessfully installed datasets-3.1.0 dill-0.3.8 fsspec-2024.9.0 multiprocess-0.70.16 xxhash-3.5.0\n"
     ]
    }
   ],
   "source": [
    "! pip install datasets"
   ]
  },
  {
   "cell_type": "code",
   "execution_count": 14,
   "metadata": {
    "colab": {
     "base_uri": "https://localhost:8080/"
    },
    "executionInfo": {
     "elapsed": 2204,
     "status": "ok",
     "timestamp": 1731972504056,
     "user": {
      "displayName": "Pablo Ruiz",
      "userId": "17009176686305915362"
     },
     "user_tz": -60
    },
    "id": "JDDnIa9TTz6F",
    "outputId": "9cf42cf5-2911-4146-8f55-40a07c729a03"
   },
   "outputs": [
    {
     "name": "stdout",
     "output_type": "stream",
     "text": [
      "Collecting evaluate\n",
      "  Downloading evaluate-0.4.3-py3-none-any.whl.metadata (9.2 kB)\n",
      "Requirement already satisfied: datasets>=2.0.0 in /usr/local/lib/python3.10/dist-packages (from evaluate) (3.1.0)\n",
      "Requirement already satisfied: numpy>=1.17 in /usr/local/lib/python3.10/dist-packages (from evaluate) (1.26.4)\n",
      "Requirement already satisfied: dill in /usr/local/lib/python3.10/dist-packages (from evaluate) (0.3.8)\n",
      "Requirement already satisfied: pandas in /usr/local/lib/python3.10/dist-packages (from evaluate) (2.2.2)\n",
      "Requirement already satisfied: requests>=2.19.0 in /usr/local/lib/python3.10/dist-packages (from evaluate) (2.32.3)\n",
      "Requirement already satisfied: tqdm>=4.62.1 in /usr/local/lib/python3.10/dist-packages (from evaluate) (4.66.6)\n",
      "Requirement already satisfied: xxhash in /usr/local/lib/python3.10/dist-packages (from evaluate) (3.5.0)\n",
      "Requirement already satisfied: multiprocess in /usr/local/lib/python3.10/dist-packages (from evaluate) (0.70.16)\n",
      "Requirement already satisfied: fsspec>=2021.05.0 in /usr/local/lib/python3.10/dist-packages (from fsspec[http]>=2021.05.0->evaluate) (2024.9.0)\n",
      "Requirement already satisfied: huggingface-hub>=0.7.0 in /usr/local/lib/python3.10/dist-packages (from evaluate) (0.26.2)\n",
      "Requirement already satisfied: packaging in /usr/local/lib/python3.10/dist-packages (from evaluate) (24.2)\n",
      "Requirement already satisfied: filelock in /usr/local/lib/python3.10/dist-packages (from datasets>=2.0.0->evaluate) (3.16.1)\n",
      "Requirement already satisfied: pyarrow>=15.0.0 in /usr/local/lib/python3.10/dist-packages (from datasets>=2.0.0->evaluate) (17.0.0)\n",
      "Requirement already satisfied: aiohttp in /usr/local/lib/python3.10/dist-packages (from datasets>=2.0.0->evaluate) (3.11.1)\n",
      "Requirement already satisfied: pyyaml>=5.1 in /usr/local/lib/python3.10/dist-packages (from datasets>=2.0.0->evaluate) (6.0.2)\n",
      "Requirement already satisfied: typing-extensions>=3.7.4.3 in /usr/local/lib/python3.10/dist-packages (from huggingface-hub>=0.7.0->evaluate) (4.12.2)\n",
      "Requirement already satisfied: charset-normalizer<4,>=2 in /usr/local/lib/python3.10/dist-packages (from requests>=2.19.0->evaluate) (3.4.0)\n",
      "Requirement already satisfied: idna<4,>=2.5 in /usr/local/lib/python3.10/dist-packages (from requests>=2.19.0->evaluate) (3.10)\n",
      "Requirement already satisfied: urllib3<3,>=1.21.1 in /usr/local/lib/python3.10/dist-packages (from requests>=2.19.0->evaluate) (2.2.3)\n",
      "Requirement already satisfied: certifi>=2017.4.17 in /usr/local/lib/python3.10/dist-packages (from requests>=2.19.0->evaluate) (2024.8.30)\n",
      "Requirement already satisfied: python-dateutil>=2.8.2 in /usr/local/lib/python3.10/dist-packages (from pandas->evaluate) (2.8.2)\n",
      "Requirement already satisfied: pytz>=2020.1 in /usr/local/lib/python3.10/dist-packages (from pandas->evaluate) (2024.2)\n",
      "Requirement already satisfied: tzdata>=2022.7 in /usr/local/lib/python3.10/dist-packages (from pandas->evaluate) (2024.2)\n",
      "Requirement already satisfied: aiohappyeyeballs>=2.3.0 in /usr/local/lib/python3.10/dist-packages (from aiohttp->datasets>=2.0.0->evaluate) (2.4.3)\n",
      "Requirement already satisfied: aiosignal>=1.1.2 in /usr/local/lib/python3.10/dist-packages (from aiohttp->datasets>=2.0.0->evaluate) (1.3.1)\n",
      "Requirement already satisfied: attrs>=17.3.0 in /usr/local/lib/python3.10/dist-packages (from aiohttp->datasets>=2.0.0->evaluate) (24.2.0)\n",
      "Requirement already satisfied: frozenlist>=1.1.1 in /usr/local/lib/python3.10/dist-packages (from aiohttp->datasets>=2.0.0->evaluate) (1.5.0)\n",
      "Requirement already satisfied: multidict<7.0,>=4.5 in /usr/local/lib/python3.10/dist-packages (from aiohttp->datasets>=2.0.0->evaluate) (6.1.0)\n",
      "Requirement already satisfied: propcache>=0.2.0 in /usr/local/lib/python3.10/dist-packages (from aiohttp->datasets>=2.0.0->evaluate) (0.2.0)\n",
      "Requirement already satisfied: yarl<2.0,>=1.17.0 in /usr/local/lib/python3.10/dist-packages (from aiohttp->datasets>=2.0.0->evaluate) (1.17.1)\n",
      "Requirement already satisfied: async-timeout<6.0,>=4.0 in /usr/local/lib/python3.10/dist-packages (from aiohttp->datasets>=2.0.0->evaluate) (4.0.3)\n",
      "Requirement already satisfied: six>=1.5 in /usr/local/lib/python3.10/dist-packages (from python-dateutil>=2.8.2->pandas->evaluate) (1.16.0)\n",
      "Downloading evaluate-0.4.3-py3-none-any.whl (84 kB)\n",
      "\u001b[2K   \u001b[90m━━━━━━━━━━━━━━━━━━━━━━━━━━━━━━━━━━━━━━━━\u001b[0m \u001b[32m84.0/84.0 kB\u001b[0m \u001b[31m7.0 MB/s\u001b[0m eta \u001b[36m0:00:00\u001b[0m\n",
      "\u001b[?25hInstalling collected packages: evaluate\n",
      "Successfully installed evaluate-0.4.3\n"
     ]
    }
   ],
   "source": [
    "! pip install evaluate"
   ]
  },
  {
   "cell_type": "code",
   "execution_count": 15,
   "metadata": {
    "colab": {
     "base_uri": "https://localhost:8080/"
    },
    "executionInfo": {
     "elapsed": 2586,
     "status": "ok",
     "timestamp": 1731972506638,
     "user": {
      "displayName": "Pablo Ruiz",
      "userId": "17009176686305915362"
     },
     "user_tz": -60
    },
    "id": "aAw0pQphrAfT",
    "outputId": "493fb508-62c7-4a3c-f47f-435bea2431eb"
   },
   "outputs": [
    {
     "name": "stdout",
     "output_type": "stream",
     "text": [
      "Requirement already satisfied: sentencepiece in /usr/local/lib/python3.10/dist-packages (0.2.0)\n"
     ]
    }
   ],
   "source": [
    "!pip install sentencepiece"
   ]
  },
  {
   "cell_type": "code",
   "execution_count": 16,
   "metadata": {
    "executionInfo": {
     "elapsed": 15773,
     "status": "ok",
     "timestamp": 1731972522409,
     "user": {
      "displayName": "Pablo Ruiz",
      "userId": "17009176686305915362"
     },
     "user_tz": -60
    },
    "id": "ZpuVC6BkiaLz"
   },
   "outputs": [],
   "source": [
    "import os\n",
    "\n",
    "from transformers import AutoTokenizer, DataCollatorWithPadding, AutoModelForSequenceClassification, TrainingArguments, Trainer\n",
    "from transformers import EarlyStoppingCallback, IntervalStrategy\n",
    "from transformers import FlaubertModel, FlaubertTokenizer\n",
    "from datasets import Features, Value, ClassLabel, Dataset, DatasetDict\n",
    "import evaluate\n",
    "import pandas as pd\n",
    "import numpy as np\n",
    "from sklearn.metrics import accuracy_score, f1_score\n",
    "from sklearn.metrics import ConfusionMatrixDisplay, confusion_matrix\n",
    "import matplotlib.pyplot as plt\n",
    "import torch"
   ]
  },
  {
   "cell_type": "code",
   "execution_count": 17,
   "metadata": {
    "executionInfo": {
     "elapsed": 24,
     "status": "ok",
     "timestamp": 1731972522409,
     "user": {
      "displayName": "Pablo Ruiz",
      "userId": "17009176686305915362"
     },
     "user_tz": -60
    },
    "id": "BcK_Jk9pIsud"
   },
   "outputs": [],
   "source": [
    "from sklearn.metrics import classification_report"
   ]
  },
  {
   "cell_type": "markdown",
   "metadata": {
    "id": "-xnDZvsjFacw"
   },
   "source": [
    "J'ai téléversé les données sur mon serveur"
   ]
  },
  {
   "cell_type": "code",
   "execution_count": 18,
   "metadata": {
    "colab": {
     "base_uri": "https://localhost:8080/"
    },
    "executionInfo": {
     "elapsed": 2266,
     "status": "ok",
     "timestamp": 1731972524653,
     "user": {
      "displayName": "Pablo Ruiz",
      "userId": "17009176686305915362"
     },
     "user_tz": -60
    },
    "id": "6BgtcVnxvpsa",
    "outputId": "39f33d51-1908-4837-b596-38b5d6dc7c56"
   },
   "outputs": [
    {
     "name": "stdout",
     "output_type": "stream",
     "text": [
      "data directory exists\n",
      "--2024-11-18 23:28:41--  https://prf1.org/stgs/as-did/AS13_stgdir_labelGeneric.csv\n",
      "Resolving prf1.org (prf1.org)... 85.214.103.246\n",
      "Connecting to prf1.org (prf1.org)|85.214.103.246|:443... connected.\n",
      "HTTP request sent, awaiting response... 200 OK\n",
      "Length: 1017742 (994K) [text/csv]\n",
      "Saving to: ‘data/AS13_stgdir_labelGeneric.csv’\n",
      "\n",
      "AS13_stgdir_labelGe 100%[===================>] 993.89K   908KB/s    in 1.1s    \n",
      "\n",
      "2024-11-18 23:28:43 (908 KB/s) - ‘data/AS13_stgdir_labelGeneric.csv’ saved [1017742/1017742]\n",
      "\n"
     ]
    }
   ],
   "source": [
    "![[ ! -d data ]] && mkdir data || echo \"data directory exists\"\n",
    "#![[ ! -f data/AS13_stgdir_clean.csv ]] && wget -P data https://prf1.org/stgs/as-did/AS13_stgdir_clean.csv || echo \"dataset already downloaded\"\n",
    "![[ ! -f data/AS13_stgdir_labelGeneric.csv ]] && wget -P data https://prf1.org/stgs/as-did/AS13_stgdir_labelGeneric.csv || echo \"dataset already downloaded\""
   ]
  },
  {
   "cell_type": "markdown",
   "metadata": {
    "id": "j_8Cf_PZ6Su6"
   },
   "source": [
    "Recette pour éléchargement fichiers qui sont sur Drive sur la session Colab (sans monter le Drive) (pas nécessaire ici mais comme idée pour d'autres fichiers).\n",
    "C'est un fichier quelconque non relié à la tâche qui a été utilisé pour tester."
   ]
  },
  {
   "cell_type": "code",
   "execution_count": 19,
   "metadata": {
    "executionInfo": {
     "elapsed": 28,
     "status": "ok",
     "timestamp": 1731972524653,
     "user": {
      "displayName": "Pablo Ruiz",
      "userId": "17009176686305915362"
     },
     "user_tz": -60
    },
    "id": "8mZV1PfD1jRm"
   },
   "outputs": [],
   "source": [
    "mydf = \"data/AS13_stgdir_labelGeneric.csv\""
   ]
  },
  {
   "cell_type": "code",
   "execution_count": 20,
   "metadata": {
    "executionInfo": {
     "elapsed": 27,
     "status": "ok",
     "timestamp": 1731972524653,
     "user": {
      "displayName": "Pablo Ruiz",
      "userId": "17009176686305915362"
     },
     "user_tz": -60
    },
    "id": "gtdPsqxLxNWE"
   },
   "outputs": [],
   "source": [
    "labelCol = 'labelGeneric'"
   ]
  },
  {
   "cell_type": "code",
   "execution_count": 21,
   "metadata": {
    "executionInfo": {
     "elapsed": 27,
     "status": "ok",
     "timestamp": 1731972524654,
     "user": {
      "displayName": "Pablo Ruiz",
      "userId": "17009176686305915362"
     },
     "user_tz": -60
    },
    "id": "eGfyhZ1_h6qE"
   },
   "outputs": [],
   "source": [
    "import pandas as pd\n",
    "AS13_df = pd.read_csv(mydf, sep=\"|\", dtype={'description': 'object',\n",
    "                                            labelCol: 'category'})"
   ]
  },
  {
   "cell_type": "code",
   "execution_count": 22,
   "metadata": {
    "colab": {
     "base_uri": "https://localhost:8080/"
    },
    "executionInfo": {
     "elapsed": 26,
     "status": "ok",
     "timestamp": 1731972524654,
     "user": {
      "displayName": "Pablo Ruiz",
      "userId": "17009176686305915362"
     },
     "user_tz": -60
    },
    "id": "WsrIPzllxWI0",
    "outputId": "005106f6-ca85-4521-c2a7-67382fb50b78"
   },
   "outputs": [
    {
     "name": "stdout",
     "output_type": "stream",
     "text": [
      "<class 'pandas.core.frame.DataFrame'>\n",
      "Index: 14613 entries, 0 to 25821\n",
      "Data columns (total 2 columns):\n",
      " #   Column        Non-Null Count  Dtype   \n",
      "---  ------        --------------  -----   \n",
      " 0   description   14613 non-null  object  \n",
      " 1   labelGeneric  14613 non-null  category\n",
      "dtypes: category(1), object(1)\n",
      "memory usage: 243.2+ KB\n"
     ]
    }
   ],
   "source": [
    "AS13_df = AS13_df.drop_duplicates()\n",
    "AS13_df = AS13_df.dropna(how='any')\n",
    "AS13_df.info()"
   ]
  },
  {
   "cell_type": "code",
   "execution_count": 23,
   "metadata": {
    "executionInfo": {
     "elapsed": 23,
     "status": "ok",
     "timestamp": 1731972524654,
     "user": {
      "displayName": "Pablo Ruiz",
      "userId": "17009176686305915362"
     },
     "user_tz": -60
    },
    "id": "frAY9s5P4_Uk"
   },
   "outputs": [],
   "source": [
    "df = AS13_df"
   ]
  },
  {
   "cell_type": "code",
   "execution_count": 24,
   "metadata": {
    "colab": {
     "base_uri": "https://localhost:8080/",
     "height": 523
    },
    "executionInfo": {
     "elapsed": 22,
     "status": "ok",
     "timestamp": 1731972524654,
     "user": {
      "displayName": "Pablo Ruiz",
      "userId": "17009176686305915362"
     },
     "user_tz": -60
    },
    "id": "EiTFyjaZxPg2",
    "outputId": "7f1fe219-600d-4c11-cf19-090256777814"
   },
   "outputs": [
    {
     "data": {
      "text/html": [
       "<div>\n",
       "<style scoped>\n",
       "    .dataframe tbody tr th:only-of-type {\n",
       "        vertical-align: middle;\n",
       "    }\n",
       "\n",
       "    .dataframe tbody tr th {\n",
       "        vertical-align: top;\n",
       "    }\n",
       "\n",
       "    .dataframe thead th {\n",
       "        text-align: right;\n",
       "    }\n",
       "</style>\n",
       "<table border=\"1\" class=\"dataframe\">\n",
       "  <thead>\n",
       "    <tr style=\"text-align: right;\">\n",
       "      <th></th>\n",
       "      <th>count</th>\n",
       "    </tr>\n",
       "    <tr>\n",
       "      <th>labelGeneric</th>\n",
       "      <th></th>\n",
       "    </tr>\n",
       "  </thead>\n",
       "  <tbody>\n",
       "    <tr>\n",
       "      <th>music</th>\n",
       "      <td>2863</td>\n",
       "    </tr>\n",
       "    <tr>\n",
       "      <th>action</th>\n",
       "      <td>2467</td>\n",
       "    </tr>\n",
       "    <tr>\n",
       "      <th>toward</th>\n",
       "      <td>2144</td>\n",
       "    </tr>\n",
       "    <tr>\n",
       "      <th>exit</th>\n",
       "      <td>1295</td>\n",
       "    </tr>\n",
       "    <tr>\n",
       "      <th>object</th>\n",
       "      <td>1130</td>\n",
       "    </tr>\n",
       "    <tr>\n",
       "      <th>setting</th>\n",
       "      <td>982</td>\n",
       "    </tr>\n",
       "    <tr>\n",
       "      <th>delivery</th>\n",
       "      <td>962</td>\n",
       "    </tr>\n",
       "    <tr>\n",
       "      <th>entrance</th>\n",
       "      <td>646</td>\n",
       "    </tr>\n",
       "    <tr>\n",
       "      <th>movement</th>\n",
       "      <td>583</td>\n",
       "    </tr>\n",
       "    <tr>\n",
       "      <th>interaction</th>\n",
       "      <td>565</td>\n",
       "    </tr>\n",
       "    <tr>\n",
       "      <th>narration</th>\n",
       "      <td>554</td>\n",
       "    </tr>\n",
       "    <tr>\n",
       "      <th>aggression</th>\n",
       "      <td>350</td>\n",
       "    </tr>\n",
       "    <tr>\n",
       "      <th>aparte</th>\n",
       "      <td>72</td>\n",
       "    </tr>\n",
       "  </tbody>\n",
       "</table>\n",
       "</div><br><label><b>dtype:</b> int64</label>"
      ],
      "text/plain": [
       "labelGeneric\n",
       "music          2863\n",
       "action         2467\n",
       "toward         2144\n",
       "exit           1295\n",
       "object         1130\n",
       "setting         982\n",
       "delivery        962\n",
       "entrance        646\n",
       "movement        583\n",
       "interaction     565\n",
       "narration       554\n",
       "aggression      350\n",
       "aparte           72\n",
       "Name: count, dtype: int64"
      ]
     },
     "execution_count": 24,
     "metadata": {},
     "output_type": "execute_result"
    }
   ],
   "source": [
    "df['labelGeneric'].value_counts()"
   ]
  },
  {
   "cell_type": "code",
   "execution_count": 25,
   "metadata": {
    "executionInfo": {
     "elapsed": 20,
     "status": "ok",
     "timestamp": 1731972524654,
     "user": {
      "displayName": "Pablo Ruiz",
      "userId": "17009176686305915362"
     },
     "user_tz": -60
    },
    "id": "XbevtRBGh9cO"
   },
   "outputs": [],
   "source": [
    "# Liste de classes et ajout d'un identifiant numérique pour chaque classe\n",
    "class_names = sorted(AS13_df[labelCol].unique().categories.to_list())\n",
    "label2id = {class_names[i]:i for i in range(len(class_names))}\n",
    "id2label = {i:class_names[i] for i in range(len(class_names))}"
   ]
  },
  {
   "cell_type": "code",
   "execution_count": 26,
   "metadata": {
    "executionInfo": {
     "elapsed": 19,
     "status": "ok",
     "timestamp": 1731972524654,
     "user": {
      "displayName": "Pablo Ruiz",
      "userId": "17009176686305915362"
     },
     "user_tz": -60
    },
    "id": "ySmeJNPqxxsk"
   },
   "outputs": [],
   "source": [
    "#class_names, label2id, id2label"
   ]
  },
  {
   "cell_type": "code",
   "execution_count": 27,
   "metadata": {
    "executionInfo": {
     "elapsed": 20,
     "status": "ok",
     "timestamp": 1731972524655,
     "user": {
      "displayName": "Pablo Ruiz",
      "userId": "17009176686305915362"
     },
     "user_tz": -60
    },
    "id": "LjChYPfRrBsh"
   },
   "outputs": [],
   "source": [
    "# Paramètres\n",
    "\n",
    "#batch_size = 32 # orig was 64 but I'm going down given CUDA OutOfMemory error\n",
    "batch_size = 16 # for camembert-base, trying 16\n",
    "# Proportion des données qui sera utilisée\n",
    "scale = 0.2 # this is not used anywhere, can we remove it?"
   ]
  },
  {
   "cell_type": "code",
   "execution_count": 28,
   "metadata": {
    "executionInfo": {
     "elapsed": 20,
     "status": "ok",
     "timestamp": 1731972524655,
     "user": {
      "displayName": "Pablo Ruiz",
      "userId": "17009176686305915362"
     },
     "user_tz": -60
    },
    "id": "F3rK4POliEL5"
   },
   "outputs": [],
   "source": [
    "# nv dataFrame\n",
    "data_df = pd.DataFrame()\n",
    "data_df['text'] = AS13_df.description\n",
    "# La classe cible est la région (province) sous forme d'identifiant numérique\n",
    "data_df['label'] = AS13_df[labelCol].map(label2id)"
   ]
  },
  {
   "cell_type": "code",
   "execution_count": 29,
   "metadata": {
    "executionInfo": {
     "elapsed": 19,
     "status": "ok",
     "timestamp": 1731972524655,
     "user": {
      "displayName": "Pablo Ruiz",
      "userId": "17009176686305915362"
     },
     "user_tz": -60
    },
    "id": "M3UB0U2EjrbM"
   },
   "outputs": [],
   "source": [
    "data_df = data_df.reset_index(drop=True)"
   ]
  },
  {
   "cell_type": "code",
   "execution_count": 30,
   "metadata": {
    "executionInfo": {
     "elapsed": 19,
     "status": "ok",
     "timestamp": 1731972524655,
     "user": {
      "displayName": "Pablo Ruiz",
      "userId": "17009176686305915362"
     },
     "user_tz": -60
    },
    "id": "u9rpw2Q3c19i"
   },
   "outputs": [],
   "source": [
    "# Transformation du DataFrame en objet de type Dataset utilisé par HuggingFace\n",
    "stgtype_features = Features({'text': Value('string'),\n",
    "                              'label': ClassLabel(names=class_names)})\n",
    "data = Dataset.from_pandas(data_df, features=stgtype_features)\n"
   ]
  },
  {
   "cell_type": "code",
   "execution_count": 31,
   "metadata": {
    "executionInfo": {
     "elapsed": 19,
     "status": "ok",
     "timestamp": 1731972524655,
     "user": {
      "displayName": "Pablo Ruiz",
      "userId": "17009176686305915362"
     },
     "user_tz": -60
    },
    "id": "JhUNi40XHgO4"
   },
   "outputs": [],
   "source": [
    "# Découpage en (train + validation) (this part will be reduced to 50%, 25% and so on to compare quality) et (test).\n",
    "# The test part is supposed to always stay the same size and with the same examples"
   ]
  },
  {
   "cell_type": "code",
   "execution_count": 32,
   "metadata": {
    "colab": {
     "base_uri": "https://localhost:8080/"
    },
    "executionInfo": {
     "elapsed": 20,
     "status": "ok",
     "timestamp": 1731972524657,
     "user": {
      "displayName": "Pablo Ruiz",
      "userId": "17009176686305915362"
     },
     "user_tz": -60
    },
    "id": "HGmwCMnQTo7J",
    "outputId": "a262a943-57dc-4a48-fa50-33cbbe714191"
   },
   "outputs": [
    {
     "name": "stdout",
     "output_type": "stream",
     "text": [
      "FULL TRAIN\n"
     ]
    }
   ],
   "source": [
    "TRAIN_FULL, TRAIN_REDUCED = False, False\n",
    "size_to_exclude = (100 - fraction_kept)/100\n",
    "if size_to_exclude == 0:\n",
    "  TRAIN_FULL = True\n",
    "  print(\"FULL TRAIN\")\n",
    "else:\n",
    "  TRAIN_REDUCED = True\n",
    "  print(f\"REDUCED TRAIN, KEEPING {fraction_kept}%\")"
   ]
  },
  {
   "cell_type": "code",
   "execution_count": 33,
   "metadata": {
    "colab": {
     "base_uri": "https://localhost:8080/"
    },
    "executionInfo": {
     "elapsed": 17,
     "status": "ok",
     "timestamp": 1731972524657,
     "user": {
      "displayName": "Pablo Ruiz",
      "userId": "17009176686305915362"
     },
     "user_tz": -60
    },
    "id": "yErYnoJrlrhH",
    "outputId": "92a37400-840c-4a74-d7c5-66a7e515210e"
   },
   "outputs": [
    {
     "name": "stdout",
     "output_type": "stream",
     "text": [
      "SIZE TO EXCLUDE IS 0.0\n"
     ]
    }
   ],
   "source": [
    "print(f\"SIZE TO EXCLUDE IS {size_to_exclude}\")"
   ]
  },
  {
   "cell_type": "code",
   "execution_count": 34,
   "metadata": {
    "executionInfo": {
     "elapsed": 15,
     "status": "ok",
     "timestamp": 1731972524657,
     "user": {
      "displayName": "Pablo Ruiz",
      "userId": "17009176686305915362"
     },
     "user_tz": -60
    },
    "id": "C42DHVNe_Kpk"
   },
   "outputs": [],
   "source": [
    "if TRAIN_REDUCED:\n",
    "  trainvalid_test = data.train_test_split(test_size=0.2, shuffle=True, seed=12)\n",
    "  trainvalid_reduced = trainvalid_test['train'].train_test_split(test_size=size_to_exclude, shuffle=True, seed=12)\n",
    "  trainvalid_reduced_trainvalid = trainvalid_reduced['train'].train_test_split(test_size=0.2, shuffle=True, seed=12)\n",
    "  dataset = DatasetDict({\"train\": trainvalid_reduced_trainvalid[\"train\"],\n",
    "                         \"valid\": trainvalid_reduced_trainvalid[\"test\"],\n",
    "                         \"test\": trainvalid_test[\"test\"]})\n",
    "elif TRAIN_FULL:\n",
    "  trainvalid_test = data.train_test_split(test_size=0.2, shuffle=True, seed=12)\n",
    "  trainvalid_trainvalid = trainvalid_test[\"train\"].train_test_split(test_size=0.2, shuffle=True, seed=12)\n",
    "  dataset = DatasetDict({\"train\": trainvalid_trainvalid[\"train\"],\n",
    "                         \"valid\": trainvalid_trainvalid[\"test\"],\n",
    "                         \"test\": trainvalid_test[\"test\"]})"
   ]
  },
  {
   "cell_type": "code",
   "execution_count": 35,
   "metadata": {
    "executionInfo": {
     "elapsed": 15,
     "status": "ok",
     "timestamp": 1731972524658,
     "user": {
      "displayName": "Pablo Ruiz",
      "userId": "17009176686305915362"
     },
     "user_tz": -60
    },
    "id": "UIGMpBsC93G6"
   },
   "outputs": [],
   "source": [
    "data = dataset"
   ]
  },
  {
   "cell_type": "code",
   "execution_count": 36,
   "metadata": {
    "colab": {
     "base_uri": "https://localhost:8080/"
    },
    "executionInfo": {
     "elapsed": 536,
     "status": "ok",
     "timestamp": 1731972525179,
     "user": {
      "displayName": "Pablo Ruiz",
      "userId": "17009176686305915362"
     },
     "user_tz": -60
    },
    "id": "mSoGnjpYZC9P",
    "outputId": "a50a2e61-5511-4e61-ab72-83c0d1fb8913"
   },
   "outputs": [
    {
     "data": {
      "text/plain": [
       "DatasetDict({\n",
       "    train: Dataset({\n",
       "        features: ['text', 'label'],\n",
       "        num_rows: 9352\n",
       "    })\n",
       "    valid: Dataset({\n",
       "        features: ['text', 'label'],\n",
       "        num_rows: 2338\n",
       "    })\n",
       "    test: Dataset({\n",
       "        features: ['text', 'label'],\n",
       "        num_rows: 2923\n",
       "    })\n",
       "})"
      ]
     },
     "execution_count": 36,
     "metadata": {},
     "output_type": "execute_result"
    }
   ],
   "source": [
    "data"
   ]
  },
  {
   "cell_type": "code",
   "execution_count": 37,
   "metadata": {
    "colab": {
     "base_uri": "https://localhost:8080/"
    },
    "executionInfo": {
     "elapsed": 30,
     "status": "ok",
     "timestamp": 1731972525179,
     "user": {
      "displayName": "Pablo Ruiz",
      "userId": "17009176686305915362"
     },
     "user_tz": -60
    },
    "id": "Sm_eAoIyUGa3",
    "outputId": "c8086726-c563-4c44-cd2c-538b87e8d8eb"
   },
   "outputs": [
    {
     "data": {
      "text/plain": [
       "5479.875"
      ]
     },
     "execution_count": 37,
     "metadata": {},
     "output_type": "execute_result"
    }
   ],
   "source": [
    "#steps = (epoch * examples)/batch size\n",
    "total_steps = (6 * len(df))/16\n",
    "total_steps"
   ]
  },
  {
   "cell_type": "code",
   "execution_count": 38,
   "metadata": {
    "executionInfo": {
     "elapsed": 22,
     "status": "ok",
     "timestamp": 1731972525179,
     "user": {
      "displayName": "Pablo Ruiz",
      "userId": "17009176686305915362"
     },
     "user_tz": -60
    },
    "id": "o1TxvufYVJlu"
   },
   "outputs": [],
   "source": [
    "# this is unused unless use steps as strategy in training args\n",
    "epoch_size = len(data['train'])/batch_size"
   ]
  },
  {
   "cell_type": "code",
   "execution_count": 39,
   "metadata": {
    "colab": {
     "base_uri": "https://localhost:8080/"
    },
    "executionInfo": {
     "elapsed": 22,
     "status": "ok",
     "timestamp": 1731972525180,
     "user": {
      "displayName": "Pablo Ruiz",
      "userId": "17009176686305915362"
     },
     "user_tz": -60
    },
    "id": "wdgs3pzYr7Q0",
    "outputId": "cf9bb8d0-9812-4697-da4e-618dae7afd52"
   },
   "outputs": [
    {
     "name": "stdout",
     "output_type": "stream",
     "text": [
      "EPOCH SIZE IS: 584.5\n"
     ]
    }
   ],
   "source": [
    "print(f\"EPOCH SIZE IS: {epoch_size}\")"
   ]
  },
  {
   "cell_type": "markdown",
   "metadata": {
    "id": "yoo3J7SEXEDK"
   },
   "source": [
    "When needed, export the dataset to verify later that it's indeed the same for all experiments"
   ]
  },
  {
   "cell_type": "code",
   "execution_count": 40,
   "metadata": {
    "executionInfo": {
     "elapsed": 16,
     "status": "ok",
     "timestamp": 1731972525180,
     "user": {
      "displayName": "Pablo Ruiz",
      "userId": "17009176686305915362"
     },
     "user_tz": -60
    },
    "id": "bxnlclcaXQX8"
   },
   "outputs": [],
   "source": [
    "if False and use_drive:\n",
    "  from google.colab import drive\n",
    "  drive.mount(\"/content/drive\")\n",
    "  dataset_bkps = \"/content/drive/MyDrive/___wv/datasets\"\n",
    "  current_dataset = \"AS13_stgdir_labelGeneric_trainvalid_retest_uncased_25_pr_2\"\n",
    "  os.mkdir(os.path.join(dataset_bkps, current_dataset))\n",
    "  for split, split_data in data.items():\n",
    "    split_data.to_csv(Path(dataset_bkps) / current_dataset / f\"{current_dataset}-{split}.csv\")\n",
    "    print(f\"!head -n5 {split_path_str}\")"
   ]
  },
  {
   "cell_type": "code",
   "execution_count": 41,
   "metadata": {
    "executionInfo": {
     "elapsed": 15,
     "status": "ok",
     "timestamp": 1731972525180,
     "user": {
      "displayName": "Pablo Ruiz",
      "userId": "17009176686305915362"
     },
     "user_tz": -60
    },
    "id": "ih2WBpuNdRA6"
   },
   "outputs": [],
   "source": [
    "#!head -n5 /content/drive/MyDrive/___wv/datasets/AS13_stgdir_labelGeneric_trainvalid_retest_uncased/AS13_stgdir_labelGeneric_trainvalid_retest_uncased-train.csv\n",
    "#!head -n5 /content/drive/MyDrive/___wv/datasets/AS13_stgdir_labelGeneric_trainvalid_retest_uncased/AS13_stgdir_labelGeneric_trainvalid_retest_uncased-valid.csv\n",
    "#!head -n5 /content/drive/MyDrive/___wv/datasets/AS13_stgdir_labelGeneric_trainvalid_retest_uncased/AS13_stgdir_labelGeneric_trainvalid_retest_uncased-test.csv"
   ]
  },
  {
   "cell_type": "code",
   "execution_count": 42,
   "metadata": {
    "colab": {
     "base_uri": "https://localhost:8080/",
     "height": 36
    },
    "executionInfo": {
     "elapsed": 14,
     "status": "ok",
     "timestamp": 1731972525180,
     "user": {
      "displayName": "Pablo Ruiz",
      "userId": "17009176686305915362"
     },
     "user_tz": -60
    },
    "id": "U0OgGAMEnbQ3",
    "outputId": "69f9e249-8647-4cc7-f7f1-8b429ea7bccb"
   },
   "outputs": [
    {
     "data": {
      "application/vnd.google.colaboratory.intrinsic+json": {
       "type": "string"
      },
      "text/plain": [
       "'flaubert/flaubert_base_cased'"
      ]
     },
     "execution_count": 42,
     "metadata": {},
     "output_type": "execute_result"
    }
   ],
   "source": [
    "model_ckpt"
   ]
  },
  {
   "cell_type": "code",
   "execution_count": 43,
   "metadata": {
    "executionInfo": {
     "elapsed": 11,
     "status": "ok",
     "timestamp": 1731972525180,
     "user": {
      "displayName": "Pablo Ruiz",
      "userId": "17009176686305915362"
     },
     "user_tz": -60
    },
    "id": "rKDDUE72n2vf"
   },
   "outputs": [],
   "source": [
    "#!pip install sacremoses"
   ]
  },
  {
   "cell_type": "code",
   "execution_count": 44,
   "metadata": {
    "colab": {
     "base_uri": "https://localhost:8080/",
     "height": 254,
     "referenced_widgets": [
      "92e7f7e83c9d4197b625546e6c6959b8",
      "5f6b52914cae42ae9ff986501b7053c3",
      "1e6458315b52499db3f87d3713d72579",
      "2e2e3d9f58a04dc18b6b14b2c8369950",
      "ad7568b62cd24400a3876b33b20488c4",
      "995d3fb2ae004307890dbd9518a8ca77",
      "f0c9a7e1c99a48d0a635113b44e76e19",
      "863d236e6d6f44a2babf9de2f8992ddb",
      "5f07e910697d406da3a2d75395f404ef",
      "3379171df4b8434e96f4ff9fc80a59ab",
      "aae34eebdef9452f8d69a93908458cac",
      "e0b77d6f757a4a8098467e0c6b90bde2",
      "4198f5a7186c4eeb8e9b246a605f0461",
      "7bcfe283a09046edb35dd836b7c1817f",
      "abd0fc7b89474b61879a8a03be08632c",
      "4eb5d2a4947342d9b83e173106da85de",
      "083ad5359723475f94c34bb3a39301b6",
      "f9d6b42227b645c78e93ac87e05aa4bb",
      "7a5a4cb4de1e4cc791f38eb76999b69a",
      "929684a7f3244f4bb27c61e14425c329",
      "219123d02364492b9dd956d81c6639f8",
      "f0f72a4e851647039938b365116936d7",
      "8213a4b3656f49b2a4205b1870edc7d0",
      "1bda4f8fa987407ba01001f1385dee9e",
      "6cf415e122e243bd91a98a4acf3ebe4d",
      "0f350a1239d34234ab0f38c4a7c7ece0",
      "6af97085144543949202ed9617b88465",
      "182eb5e0b5bc494ba016a3030fafa89a",
      "3c8851dc9c364ef29f6045ef79881a1e",
      "3804183a0bdf4c739624ebb4e5d52db2",
      "ee1f69800ab0472a82c76e77f51a05e2",
      "e80fbab6ce1743619cbcc0744f58dd24",
      "870bf1e02e8345839fe68afc011e8556",
      "0011568af35042678c758f88dde2ed29",
      "74c0406c7aec4dd380fdf3f8bdf289dc",
      "714aecd9e1a846f2ad83832e753706e2",
      "cf3b199e3815473293eb2d3f49338a7b",
      "048562867c0547eca1a2abaaacdaa92a",
      "7e3a89acfe3849a69c777d09ec836edb",
      "5168f4dc53024e698c4023db13014869",
      "2486af2821204e19bd61ce16a6e94b92",
      "21f3d32156fa4ee48c9087169efa3b75",
      "a1602309436645778914bd22c2ad4ccc",
      "19e7e5c5b90247a88b4e1d1639015da5"
     ]
    },
    "executionInfo": {
     "elapsed": 5755,
     "status": "ok",
     "timestamp": 1731972530924,
     "user": {
      "displayName": "Pablo Ruiz",
      "userId": "17009176686305915362"
     },
     "user_tz": -60
    },
    "id": "WPLB908tlpet",
    "outputId": "4d51b665-179b-4dda-bf6c-fcb7f1622887"
   },
   "outputs": [
    {
     "name": "stderr",
     "output_type": "stream",
     "text": [
      "/usr/local/lib/python3.10/dist-packages/huggingface_hub/utils/_auth.py:94: UserWarning: \n",
      "The secret `HF_TOKEN` does not exist in your Colab secrets.\n",
      "To authenticate with the Hugging Face Hub, create a token in your settings tab (https://huggingface.co/settings/tokens), set it as secret in your Google Colab and restart your session.\n",
      "You will be able to reuse this secret in all of your notebooks.\n",
      "Please note that authentication is recommended but still optional to access public models or datasets.\n",
      "  warnings.warn(\n"
     ]
    },
    {
     "data": {
      "application/vnd.jupyter.widget-view+json": {
       "model_id": "92e7f7e83c9d4197b625546e6c6959b8",
       "version_major": 2,
       "version_minor": 0
      },
      "text/plain": [
       "tokenizer_config.json:   0%|          | 0.00/72.0 [00:00<?, ?B/s]"
      ]
     },
     "metadata": {},
     "output_type": "display_data"
    },
    {
     "data": {
      "application/vnd.jupyter.widget-view+json": {
       "model_id": "e0b77d6f757a4a8098467e0c6b90bde2",
       "version_major": 2,
       "version_minor": 0
      },
      "text/plain": [
       "vocab.json:   0%|          | 0.00/1.56M [00:00<?, ?B/s]"
      ]
     },
     "metadata": {},
     "output_type": "display_data"
    },
    {
     "data": {
      "application/vnd.jupyter.widget-view+json": {
       "model_id": "8213a4b3656f49b2a4205b1870edc7d0",
       "version_major": 2,
       "version_minor": 0
      },
      "text/plain": [
       "merges.txt:   0%|          | 0.00/896k [00:00<?, ?B/s]"
      ]
     },
     "metadata": {},
     "output_type": "display_data"
    },
    {
     "data": {
      "application/vnd.jupyter.widget-view+json": {
       "model_id": "0011568af35042678c758f88dde2ed29",
       "version_major": 2,
       "version_minor": 0
      },
      "text/plain": [
       "config.json:   0%|          | 0.00/1.50k [00:00<?, ?B/s]"
      ]
     },
     "metadata": {},
     "output_type": "display_data"
    }
   ],
   "source": [
    "if model_key in range(7,11):\n",
    "  do_lc = False if model_key == 7 else False\n",
    "  assert model_key in (7,8)\n",
    "  tokenizer = FlaubertTokenizer.from_pretrained(model_ckpt, do_lowercase=do_lc)\n",
    "else:\n",
    "  # Chargement du tokéniseur pré-entraîné correspondant au modèle utilisé\n",
    "  tokenizer = AutoTokenizer.from_pretrained(model_ckpt)"
   ]
  },
  {
   "cell_type": "code",
   "execution_count": 44,
   "metadata": {
    "executionInfo": {
     "elapsed": 11,
     "status": "ok",
     "timestamp": 1731972530925,
     "user": {
      "displayName": "Pablo Ruiz",
      "userId": "17009176686305915362"
     },
     "user_tz": -60
    },
    "id": "5FJciqCVmohf"
   },
   "outputs": [],
   "source": []
  },
  {
   "cell_type": "code",
   "execution_count": 45,
   "metadata": {
    "executionInfo": {
     "elapsed": 10,
     "status": "ok",
     "timestamp": 1731972530925,
     "user": {
      "displayName": "Pablo Ruiz",
      "userId": "17009176686305915362"
     },
     "user_tz": -60
    },
    "id": "SOFUysLJm2T1"
   },
   "outputs": [],
   "source": [
    "def preprocess_function(examples):\n",
    "    return tokenizer(examples[\"text\"], padding=True, truncation=True)"
   ]
  },
  {
   "cell_type": "code",
   "execution_count": 46,
   "metadata": {
    "colab": {
     "base_uri": "https://localhost:8080/"
    },
    "executionInfo": {
     "elapsed": 10,
     "status": "ok",
     "timestamp": 1731972530925,
     "user": {
      "displayName": "Pablo Ruiz",
      "userId": "17009176686305915362"
     },
     "user_tz": -60
    },
    "id": "8_qxzC0sfumz",
    "outputId": "628ae0bc-2530-4de2-d71b-a9792af96fa8"
   },
   "outputs": [
    {
     "name": "stdout",
     "output_type": "stream",
     "text": [
      "Automatic pdb calling has been turned ON\n"
     ]
    }
   ],
   "source": [
    "%pdb"
   ]
  },
  {
   "cell_type": "code",
   "execution_count": 47,
   "metadata": {
    "colab": {
     "base_uri": "https://localhost:8080/",
     "height": 113,
     "referenced_widgets": [
      "be39ef8674354a3cbecfd29d6b3f86c4",
      "6c080557128644878b99485be8509e5c",
      "32239e641e2e43eca7db25298932552c",
      "18a4a462a5eb4234b50f05337ef5796b",
      "d967f9335fce4a8daa47c7712422e121",
      "9e844b67ff7d408cbfcb90fc20642d81",
      "044606bb2a51456cbbc8f89e7c728b75",
      "f2fc9dfd31764183ad1aa5c2e116ec0d",
      "4e5f77f59f6b44dd8a0e467ee1d6bd57",
      "70ede6264bb0453ba5a01465735499df",
      "401babbb3a1145d6ae7c036994565b6d",
      "233f398c3a20454ba3b2f49454d6e3aa",
      "cbe4e98c71eb4a7cbaa4a315dfb2685a",
      "d7930e111ea64449997e44be29a401f8",
      "11f833bcce794259b6fa4199afcb08bb",
      "0beea4b3f7994dad9a3b0d17f69c6cfd",
      "bde18716501a45459ad0bb1400c29d90",
      "565b97c055fb4a8f90a3c0693da416d5",
      "5e9784cb17514f19b00b77822585063e",
      "d6fafcf0edcd49ef8a902f3a60cca0ea",
      "6f52f40c907e4f419480c02e11fb0faf",
      "681ba24140a14476b83b890e05f9275c",
      "d2faa7c6dd3e422e9efaa9541d41e4b6",
      "330768cc63ad44319b355b9f5585d36c",
      "499158111a7d40ccbe9e1bf093ca980d",
      "f20ce84eb4634718a32fdf345f40794c",
      "7070bc444e4e429fb9a6b9504efb085c",
      "07be10e01d454e44827fb31d334821e0",
      "5907f3232c784d78852167d19b706e5d",
      "eafcdfc124604d2b8a26db36414d31fe",
      "9a6e1aac40e245faa3cfdd180402216d",
      "6033138c6ef14dd894b9a8922dc086fb",
      "e25b9c05423c4ad9abf1f02eac258e41"
     ]
    },
    "executionInfo": {
     "elapsed": 12334,
     "status": "ok",
     "timestamp": 1731972543253,
     "user": {
      "displayName": "Pablo Ruiz",
      "userId": "17009176686305915362"
     },
     "user_tz": -60
    },
    "id": "itrjXWHxUQTd",
    "outputId": "cd9339ba-8b23-409e-c436-cb042e718b94"
   },
   "outputs": [
    {
     "data": {
      "application/vnd.jupyter.widget-view+json": {
       "model_id": "be39ef8674354a3cbecfd29d6b3f86c4",
       "version_major": 2,
       "version_minor": 0
      },
      "text/plain": [
       "Map:   0%|          | 0/9352 [00:00<?, ? examples/s]"
      ]
     },
     "metadata": {},
     "output_type": "display_data"
    },
    {
     "data": {
      "application/vnd.jupyter.widget-view+json": {
       "model_id": "233f398c3a20454ba3b2f49454d6e3aa",
       "version_major": 2,
       "version_minor": 0
      },
      "text/plain": [
       "Map:   0%|          | 0/2338 [00:00<?, ? examples/s]"
      ]
     },
     "metadata": {},
     "output_type": "display_data"
    },
    {
     "data": {
      "application/vnd.jupyter.widget-view+json": {
       "model_id": "d2faa7c6dd3e422e9efaa9541d41e4b6",
       "version_major": 2,
       "version_minor": 0
      },
      "text/plain": [
       "Map:   0%|          | 0/2923 [00:00<?, ? examples/s]"
      ]
     },
     "metadata": {},
     "output_type": "display_data"
    }
   ],
   "source": [
    "# Tokenisation de la totalité des données : chaque unité est remplacée par un identifiant numérique\n",
    "tokenized_data = data.map(preprocess_function, batched=True, batch_size=None)"
   ]
  },
  {
   "cell_type": "code",
   "execution_count": 48,
   "metadata": {
    "colab": {
     "base_uri": "https://localhost:8080/"
    },
    "executionInfo": {
     "elapsed": 9,
     "status": "ok",
     "timestamp": 1731972543253,
     "user": {
      "displayName": "Pablo Ruiz",
      "userId": "17009176686305915362"
     },
     "user_tz": -60
    },
    "id": "aS0c4D5DiC0_",
    "outputId": "496bcbb8-f06d-4863-c5ef-e522b8a57d9e"
   },
   "outputs": [
    {
     "data": {
      "text/plain": [
       "68729"
      ]
     },
     "execution_count": 48,
     "metadata": {},
     "output_type": "execute_result"
    }
   ],
   "source": [
    "# Taille du vocabulaire\n",
    "tokenizer.vocab_size"
   ]
  },
  {
   "cell_type": "code",
   "execution_count": 49,
   "metadata": {
    "colab": {
     "base_uri": "https://localhost:8080/"
    },
    "executionInfo": {
     "elapsed": 7,
     "status": "ok",
     "timestamp": 1731972543254,
     "user": {
      "displayName": "Pablo Ruiz",
      "userId": "17009176686305915362"
     },
     "user_tz": -60
    },
    "id": "guuWBiM9iGx3",
    "outputId": "8ee0c993-26a9-4da9-b537-7e7c8c1fbc0d"
   },
   "outputs": [
    {
     "data": {
      "text/plain": [
       "512"
      ]
     },
     "execution_count": 49,
     "metadata": {},
     "output_type": "execute_result"
    }
   ],
   "source": [
    "# Taille de contexte maximum\n",
    "tokenizer.model_max_length"
   ]
  },
  {
   "cell_type": "code",
   "execution_count": 50,
   "metadata": {
    "colab": {
     "base_uri": "https://localhost:8080/",
     "height": 49,
     "referenced_widgets": [
      "36c6af4a7a9a4fcdb291996fa9fc5098",
      "cf1ec50ae49e42928ee0b7fab958e3ff",
      "afe6b552e7884a3288141de50d6dc27d",
      "b0bf43811f11481a9e2497df53a0c3cc",
      "a03658d05ae240aca40b9fc142f44e64",
      "fd55b02700e84ede8d8b7ef6f34cd95f",
      "9c57e131810a433ea748a893be63e7a6",
      "e5cb08429a6b4b86af5d7e4dea6ee816",
      "9e406042b31e466d82313cc94a5dcbc4",
      "1542ebeda48a47179dfd2c95b84cd794",
      "32629f9786354cbcacfaa166abd16044"
     ]
    },
    "executionInfo": {
     "elapsed": 2046,
     "status": "ok",
     "timestamp": 1731972545295,
     "user": {
      "displayName": "Pablo Ruiz",
      "userId": "17009176686305915362"
     },
     "user_tz": -60
    },
    "id": "aw6bbkwVnX9t",
    "outputId": "8d452fd3-4802-4255-b67b-4b258a054dbc"
   },
   "outputs": [
    {
     "data": {
      "application/vnd.jupyter.widget-view+json": {
       "model_id": "36c6af4a7a9a4fcdb291996fa9fc5098",
       "version_major": 2,
       "version_minor": 0
      },
      "text/plain": [
       "Downloading builder script:   0%|          | 0.00/4.20k [00:00<?, ?B/s]"
      ]
     },
     "metadata": {},
     "output_type": "display_data"
    }
   ],
   "source": [
    "accuracy = evaluate.load(\"accuracy\")"
   ]
  },
  {
   "cell_type": "code",
   "execution_count": 51,
   "metadata": {
    "executionInfo": {
     "elapsed": 8,
     "status": "ok",
     "timestamp": 1731972545295,
     "user": {
      "displayName": "Pablo Ruiz",
      "userId": "17009176686305915362"
     },
     "user_tz": -60
    },
    "id": "W9KHsFWIneX1"
   },
   "outputs": [],
   "source": [
    "def compute_metrics(eval_pred):\n",
    "    predictions, labels = eval_pred\n",
    "    predictions = np.argmax(predictions, axis=1)\n",
    "    acc = accuracy.compute(predictions=predictions, references=labels)\n",
    "    return acc"
   ]
  },
  {
   "cell_type": "code",
   "execution_count": 52,
   "metadata": {
    "executionInfo": {
     "elapsed": 7,
     "status": "ok",
     "timestamp": 1731972545295,
     "user": {
      "displayName": "Pablo Ruiz",
      "userId": "17009176686305915362"
     },
     "user_tz": -60
    },
    "id": "ypEDpkAXddLx"
   },
   "outputs": [],
   "source": [
    "#!curl ipinfo.io"
   ]
  },
  {
   "cell_type": "code",
   "execution_count": 53,
   "metadata": {
    "colab": {
     "base_uri": "https://localhost:8080/"
    },
    "executionInfo": {
     "elapsed": 391,
     "status": "ok",
     "timestamp": 1731972545679,
     "user": {
      "displayName": "Pablo Ruiz",
      "userId": "17009176686305915362"
     },
     "user_tz": -60
    },
    "id": "Gkt1glBkRy_s",
    "outputId": "f4ece21b-faf8-428f-e4b5-868721e54208"
   },
   "outputs": [
    {
     "name": "stderr",
     "output_type": "stream",
     "text": [
      "[codecarbon INFO @ 23:29:04] offline tracker init\n"
     ]
    }
   ],
   "source": [
    "from codecarbon import OfflineEmissionsTracker\n",
    "tracker_before_train = OfflineEmissionsTracker(country_iso_code=\"FRA\", save_to_file=True, output_dir=out_dir_exp,\n",
    "                                               output_file=f\"em_before_train__{os.path.basename(out_dir_exp)}.csv\",\n",
    "                                               log_level=\"critical\")\n",
    "tracker_before_train.start()"
   ]
  },
  {
   "cell_type": "code",
   "execution_count": 54,
   "metadata": {
    "colab": {
     "base_uri": "https://localhost:8080/",
     "height": 105,
     "referenced_widgets": [
      "daea30b455ce44ffa4a454d0b50dc752",
      "deefc052a53e437ba461eebd0d50df6f",
      "83d94ac8b6754d289792184d3987e6f9",
      "f7f63b397fd348dc971794143b59a268",
      "d2903bfbba3d4ebca1bd10abdc9b8579",
      "1f61992dbb9b4c7fad07d58f79cc526a",
      "c897927f123549d4ab05b2ec7fcf4249",
      "2ad879074de14116819bc6cc99944f09",
      "dec8d667ca0c481db428039d93246a9d",
      "ed1de7c682b341d69d015cd83773f20b",
      "d675ebc94f914a24ac6057f5521a3e35"
     ]
    },
    "executionInfo": {
     "elapsed": 5172,
     "status": "ok",
     "timestamp": 1731972550847,
     "user": {
      "displayName": "Pablo Ruiz",
      "userId": "17009176686305915362"
     },
     "user_tz": -60
    },
    "id": "-vjhGFp5PKl1",
    "outputId": "500b127c-0aa0-46b5-886a-7f2f70f13e05"
   },
   "outputs": [
    {
     "data": {
      "application/vnd.jupyter.widget-view+json": {
       "model_id": "daea30b455ce44ffa4a454d0b50dc752",
       "version_major": 2,
       "version_minor": 0
      },
      "text/plain": [
       "model.safetensors:   0%|          | 0.00/553M [00:00<?, ?B/s]"
      ]
     },
     "metadata": {},
     "output_type": "display_data"
    },
    {
     "name": "stderr",
     "output_type": "stream",
     "text": [
      "Some weights of FlaubertForSequenceClassification were not initialized from the model checkpoint at flaubert/flaubert_base_cased and are newly initialized: ['sequence_summary.summary.bias', 'sequence_summary.summary.weight']\n",
      "You should probably TRAIN this model on a down-stream task to be able to use it for predictions and inference.\n"
     ]
    }
   ],
   "source": [
    "device = torch.device(\"cuda\" if torch.cuda.is_available() else \"cpu\")\n",
    "if model_key in range(7000,1100):\n",
    "  model = FlaubertModel.from_pretrained(model_ckpt).to(device)\n",
    "else:\n",
    "  model = AutoModelForSequenceClassification.from_pretrained(\n",
    "      model_ckpt, num_labels=len(class_names), id2label=id2label, label2id=label2id\n",
    "  ).to(device)"
   ]
  },
  {
   "cell_type": "code",
   "execution_count": 55,
   "metadata": {
    "executionInfo": {
     "elapsed": 9,
     "status": "ok",
     "timestamp": 1731972550847,
     "user": {
      "displayName": "Pablo Ruiz",
      "userId": "17009176686305915362"
     },
     "user_tz": -60
    },
    "id": "7a_jleVwNPav"
   },
   "outputs": [],
   "source": [
    "batch_size=16"
   ]
  },
  {
   "cell_type": "code",
   "execution_count": 56,
   "metadata": {
    "executionInfo": {
     "elapsed": 9,
     "status": "ok",
     "timestamp": 1731972550847,
     "user": {
      "displayName": "Pablo Ruiz",
      "userId": "17009176686305915362"
     },
     "user_tz": -60
    },
    "id": "d01HY7qJZkSo"
   },
   "outputs": [],
   "source": [
    "from math import ceil\n",
    "intended_eval_steps = ceil(len(data['train'])/batch_size)"
   ]
  },
  {
   "cell_type": "code",
   "execution_count": 57,
   "metadata": {
    "executionInfo": {
     "elapsed": 8,
     "status": "ok",
     "timestamp": 1731972550847,
     "user": {
      "displayName": "Pablo Ruiz",
      "userId": "17009176686305915362"
     },
     "user_tz": -60
    },
    "id": "yvcqj_DxPV23"
   },
   "outputs": [],
   "source": [
    "# was recommended at https://stackoverflow.com/questions/69087044/early-stopping-in-bert-trainer-instances, but seems\n",
    "# to no longer be necessary\n",
    "# on 'eval_loss' as metric https://discuss.huggingface.co/t/early-stopping-training-using-validation-loss-as-the-metric-for-best-model/31378\n",
    "if False:\n",
    "  training_args = TrainingArguments(\n",
    "      output_dir=f\"{model_ckpt}__finetuned__{dataset_name}__{fraction_kept}__{run_number}\",\n",
    "      learning_rate=2e-5,\n",
    "      num_train_epochs=max_epochs,\n",
    "      evaluation_strategy=IntervalStrategy.STEPS,\n",
    "      eval_steps = intended_eval_steps,\n",
    "      save_steps = intended_eval_steps,\n",
    "      save_total_limit = 3,\n",
    "      per_device_train_batch_size=batch_size,\n",
    "      per_device_eval_batch_size=batch_size,\n",
    "      weight_decay=0.01,\n",
    "      save_strategy=IntervalStrategy.STEPS,\n",
    "      load_best_model_at_end=True,\n",
    "      metric_for_best_model='eval_loss',\n",
    "  )"
   ]
  },
  {
   "cell_type": "code",
   "execution_count": 58,
   "metadata": {
    "colab": {
     "base_uri": "https://localhost:8080/"
    },
    "executionInfo": {
     "elapsed": 8,
     "status": "ok",
     "timestamp": 1731972550848,
     "user": {
      "displayName": "Pablo Ruiz",
      "userId": "17009176686305915362"
     },
     "user_tz": -60
    },
    "id": "ALVlB8Xsj6dp",
    "outputId": "42542702-1cba-45a7-f26e-b4a96ec7f144"
   },
   "outputs": [
    {
     "name": "stderr",
     "output_type": "stream",
     "text": [
      "/usr/local/lib/python3.10/dist-packages/transformers/training_args.py:1568: FutureWarning: `evaluation_strategy` is deprecated and will be removed in version 4.46 of 🤗 Transformers. Use `eval_strategy` instead\n",
      "  warnings.warn(\n"
     ]
    }
   ],
   "source": [
    "training_args = TrainingArguments(\n",
    "    output_dir=f\"{model_ckpt}__finetuned__{dataset_name}__{fraction_kept}__{run_number}\",\n",
    "    learning_rate=2e-5,\n",
    "    per_device_train_batch_size=batch_size,\n",
    "    per_device_eval_batch_size=batch_size,\n",
    "    num_train_epochs=max_epochs,\n",
    "    weight_decay=0.01,\n",
    "    save_total_limit = 3,\n",
    "    evaluation_strategy=\"epoch\",\n",
    "    save_strategy=\"epoch\",\n",
    "    load_best_model_at_end=True,\n",
    "    metric_for_best_model='eval_loss',\n",
    ")"
   ]
  },
  {
   "cell_type": "markdown",
   "metadata": {
    "id": "aBXCM7oFB-ku"
   },
   "source": [
    "Now we use train et validation for the fine-tuning. We'll only use test to test the model after fine-tuning"
   ]
  },
  {
   "cell_type": "code",
   "execution_count": 59,
   "metadata": {
    "colab": {
     "base_uri": "https://localhost:8080/"
    },
    "executionInfo": {
     "elapsed": 1390,
     "status": "ok",
     "timestamp": 1731972552232,
     "user": {
      "displayName": "Pablo Ruiz",
      "userId": "17009176686305915362"
     },
     "user_tz": -60
    },
    "id": "jJ5aXto6PeLN",
    "outputId": "e5310c4c-e13a-4eee-afd1-26ac1cd25e8f"
   },
   "outputs": [
    {
     "name": "stderr",
     "output_type": "stream",
     "text": [
      "<ipython-input-59-99445cd2dcae>:2: FutureWarning: `tokenizer` is deprecated and will be removed in version 5.0.0 for `Trainer.__init__`. Use `processing_class` instead.\n",
      "  trainer = Trainer(\n"
     ]
    }
   ],
   "source": [
    "data_collator = DataCollatorWithPadding(tokenizer=tokenizer)\n",
    "trainer = Trainer(\n",
    "    model=model,\n",
    "    args=training_args,\n",
    "    train_dataset=tokenized_data[\"train\"],\n",
    "    eval_dataset=tokenized_data[\"valid\"],\n",
    "    tokenizer=tokenizer,\n",
    "    data_collator=data_collator,\n",
    "    compute_metrics=compute_metrics,\n",
    "    callbacks = [EarlyStoppingCallback(early_stopping_patience=3)]\n",
    ")"
   ]
  },
  {
   "cell_type": "code",
   "execution_count": 60,
   "metadata": {
    "colab": {
     "base_uri": "https://localhost:8080/"
    },
    "executionInfo": {
     "elapsed": 20,
     "status": "ok",
     "timestamp": 1731972552232,
     "user": {
      "displayName": "Pablo Ruiz",
      "userId": "17009176686305915362"
     },
     "user_tz": -60
    },
    "id": "HHYKK_0uXltd",
    "outputId": "459d9805-6304-4c18-a9bf-4269b886c1e8"
   },
   "outputs": [
    {
     "name": "stderr",
     "output_type": "stream",
     "text": [
      "/usr/local/lib/python3.10/dist-packages/codecarbon/output_methods/file.py:52: FutureWarning: The behavior of DataFrame concatenation with empty or all-NA entries is deprecated. In a future version, this will no longer exclude empty or all-NA columns when determining the result dtypes. To retain the old behavior, exclude the relevant entries before the concat operation.\n",
      "  df = pd.concat([df, pd.DataFrame.from_records([dict(total.values)])])\n"
     ]
    },
    {
     "data": {
      "text/plain": [
       "8.10369156597979e-06"
      ]
     },
     "execution_count": 60,
     "metadata": {},
     "output_type": "execute_result"
    }
   ],
   "source": [
    "tracker_before_train.stop()"
   ]
  },
  {
   "cell_type": "code",
   "execution_count": 61,
   "metadata": {
    "colab": {
     "base_uri": "https://localhost:8080/"
    },
    "executionInfo": {
     "elapsed": 18,
     "status": "ok",
     "timestamp": 1731972552233,
     "user": {
      "displayName": "Pablo Ruiz",
      "userId": "17009176686305915362"
     },
     "user_tz": -60
    },
    "id": "pmk2wkf_M_85",
    "outputId": "f470d449-758b-425f-867c-190de3293ca3"
   },
   "outputs": [
    {
     "data": {
      "text/plain": [
       "16"
      ]
     },
     "execution_count": 61,
     "metadata": {},
     "output_type": "execute_result"
    }
   ],
   "source": [
    "batch_size"
   ]
  },
  {
   "cell_type": "code",
   "execution_count": 62,
   "metadata": {
    "colab": {
     "base_uri": "https://localhost:8080/"
    },
    "executionInfo": {
     "elapsed": 10,
     "status": "ok",
     "timestamp": 1731972552233,
     "user": {
      "displayName": "Pablo Ruiz",
      "userId": "17009176686305915362"
     },
     "user_tz": -60
    },
    "id": "6rFZlXCW9A7j",
    "outputId": "771def92-9105-427e-fc39-6e438147ffae"
   },
   "outputs": [
    {
     "name": "stdout",
     "output_type": "stream",
     "text": [
      "## FINE TUNING A flaubert/flaubert_base_cased MODEL ##\n"
     ]
    }
   ],
   "source": [
    "print(f\"## FINE TUNING A {model_ckpt} MODEL ##\")"
   ]
  },
  {
   "cell_type": "code",
   "execution_count": 63,
   "metadata": {
    "executionInfo": {
     "elapsed": 1555,
     "status": "ok",
     "timestamp": 1731972553782,
     "user": {
      "displayName": "Pablo Ruiz",
      "userId": "17009176686305915362"
     },
     "user_tz": -60
    },
    "id": "GfjQJ5xeTzSb"
   },
   "outputs": [],
   "source": [
    "tracker_train = OfflineEmissionsTracker(country_iso_code=\"FRA\", save_to_file=True, output_dir=out_dir_exp,\n",
    "                                        output_file=f\"em_train__{os.path.basename(out_dir_exp)}.csv\",\n",
    "                                        log_level=\"critical\")\n",
    "tracker_train.start()"
   ]
  },
  {
   "cell_type": "code",
   "execution_count": 64,
   "metadata": {
    "colab": {
     "base_uri": "https://localhost:8080/",
     "height": 307
    },
    "executionInfo": {
     "elapsed": 2498573,
     "status": "ok",
     "timestamp": 1731975052344,
     "user": {
      "displayName": "Pablo Ruiz",
      "userId": "17009176686305915362"
     },
     "user_tz": -60
    },
    "id": "6SzLipK_TQgW",
    "outputId": "0ff021c4-a9fc-44a1-df36-efa5fd6eb702"
   },
   "outputs": [
    {
     "name": "stderr",
     "output_type": "stream",
     "text": [
      "\u001b[34m\u001b[1mwandb\u001b[0m: \u001b[33mWARNING\u001b[0m The `run_name` is currently set to the same value as `TrainingArguments.output_dir`. If this was not intended, please specify a different run name by setting the `TrainingArguments.run_name` parameter.\n"
     ]
    },
    {
     "data": {
      "text/html": [
       "\n",
       "    <div>\n",
       "      \n",
       "      <progress value='2925' max='23400' style='width:300px; height:20px; vertical-align: middle;'></progress>\n",
       "      [ 2925/23400 41:33 < 4:51:07, 1.17 it/s, Epoch 5/40]\n",
       "    </div>\n",
       "    <table border=\"1\" class=\"dataframe\">\n",
       "  <thead>\n",
       " <tr style=\"text-align: left;\">\n",
       "      <th>Epoch</th>\n",
       "      <th>Training Loss</th>\n",
       "      <th>Validation Loss</th>\n",
       "      <th>Accuracy</th>\n",
       "    </tr>\n",
       "  </thead>\n",
       "  <tbody>\n",
       "    <tr>\n",
       "      <td>1</td>\n",
       "      <td>0.993700</td>\n",
       "      <td>0.508453</td>\n",
       "      <td>0.848589</td>\n",
       "    </tr>\n",
       "    <tr>\n",
       "      <td>2</td>\n",
       "      <td>0.466400</td>\n",
       "      <td>0.462238</td>\n",
       "      <td>0.875535</td>\n",
       "    </tr>\n",
       "    <tr>\n",
       "      <td>3</td>\n",
       "      <td>0.352100</td>\n",
       "      <td>0.478696</td>\n",
       "      <td>0.881523</td>\n",
       "    </tr>\n",
       "    <tr>\n",
       "      <td>4</td>\n",
       "      <td>0.288400</td>\n",
       "      <td>0.463852</td>\n",
       "      <td>0.893071</td>\n",
       "    </tr>\n",
       "    <tr>\n",
       "      <td>5</td>\n",
       "      <td>0.246300</td>\n",
       "      <td>0.541156</td>\n",
       "      <td>0.888366</td>\n",
       "    </tr>\n",
       "  </tbody>\n",
       "</table><p>"
      ],
      "text/plain": [
       "<IPython.core.display.HTML object>"
      ]
     },
     "metadata": {},
     "output_type": "display_data"
    },
    {
     "data": {
      "text/plain": [
       "TrainOutput(global_step=2925, training_loss=0.43349427573701255, metrics={'train_runtime': 2498.628, 'train_samples_per_second': 149.714, 'train_steps_per_second': 9.365, 'total_flos': 1.221945145257984e+16, 'train_loss': 0.43349427573701255, 'epoch': 5.0})"
      ]
     },
     "execution_count": 64,
     "metadata": {},
     "output_type": "execute_result"
    }
   ],
   "source": [
    "trainer.train()"
   ]
  },
  {
   "cell_type": "code",
   "execution_count": 65,
   "metadata": {
    "colab": {
     "base_uri": "https://localhost:8080/"
    },
    "executionInfo": {
     "elapsed": 11,
     "status": "ok",
     "timestamp": 1731975052345,
     "user": {
      "displayName": "Pablo Ruiz",
      "userId": "17009176686305915362"
     },
     "user_tz": -60
    },
    "id": "phW6RubwUJWT",
    "outputId": "404a27bb-1ec0-4a93-efdd-aad52bb93061"
   },
   "outputs": [
    {
     "name": "stderr",
     "output_type": "stream",
     "text": [
      "/usr/local/lib/python3.10/dist-packages/codecarbon/output_methods/file.py:52: FutureWarning: The behavior of DataFrame concatenation with empty or all-NA entries is deprecated. In a future version, this will no longer exclude empty or all-NA columns when determining the result dtypes. To retain the old behavior, exclude the relevant entries before the concat operation.\n",
      "  df = pd.concat([df, pd.DataFrame.from_records([dict(total.values)])])\n"
     ]
    },
    {
     "data": {
      "text/plain": [
       "0.005200797480799492"
      ]
     },
     "execution_count": 65,
     "metadata": {},
     "output_type": "execute_result"
    }
   ],
   "source": [
    "tracker_train.stop()"
   ]
  },
  {
   "cell_type": "code",
   "execution_count": 66,
   "metadata": {
    "executionInfo": {
     "elapsed": 1180,
     "status": "ok",
     "timestamp": 1731975053517,
     "user": {
      "displayName": "Pablo Ruiz",
      "userId": "17009176686305915362"
     },
     "user_tz": -60
    },
    "id": "54MIdmUyUPnm"
   },
   "outputs": [],
   "source": [
    "tracker_predict = OfflineEmissionsTracker(country_iso_code=\"FRA\", save_to_file=True, output_dir=out_dir_exp,\n",
    "                                          output_file=f\"em_predict__{os.path.basename(out_dir_exp)}.csv\",\n",
    "                                          log_level=\"critical\")\n",
    "tracker_predict.start()"
   ]
  },
  {
   "cell_type": "code",
   "execution_count": 67,
   "metadata": {
    "colab": {
     "base_uri": "https://localhost:8080/",
     "height": 17
    },
    "executionInfo": {
     "elapsed": 47172,
     "status": "ok",
     "timestamp": 1731975100685,
     "user": {
      "displayName": "Pablo Ruiz",
      "userId": "17009176686305915362"
     },
     "user_tz": -60
    },
    "id": "x8QTyropfF3t",
    "outputId": "4b8ced25-8966-46ec-e8b3-d4a238254fa3"
   },
   "outputs": [
    {
     "data": {
      "text/html": [],
      "text/plain": [
       "<IPython.core.display.HTML object>"
      ]
     },
     "metadata": {},
     "output_type": "display_data"
    }
   ],
   "source": [
    "preds_output = trainer.predict(tokenized_data['test'])"
   ]
  },
  {
   "cell_type": "code",
   "execution_count": 68,
   "metadata": {
    "colab": {
     "base_uri": "https://localhost:8080/"
    },
    "executionInfo": {
     "elapsed": 20,
     "status": "ok",
     "timestamp": 1731975100685,
     "user": {
      "displayName": "Pablo Ruiz",
      "userId": "17009176686305915362"
     },
     "user_tz": -60
    },
    "id": "sr_CiDrlUWCt",
    "outputId": "41d84125-8085-4f7a-aaab-7778f0a65f59"
   },
   "outputs": [
    {
     "name": "stderr",
     "output_type": "stream",
     "text": [
      "/usr/local/lib/python3.10/dist-packages/codecarbon/output_methods/file.py:52: FutureWarning: The behavior of DataFrame concatenation with empty or all-NA entries is deprecated. In a future version, this will no longer exclude empty or all-NA columns when determining the result dtypes. To retain the old behavior, exclude the relevant entries before the concat operation.\n",
      "  df = pd.concat([df, pd.DataFrame.from_records([dict(total.values)])])\n"
     ]
    },
    {
     "data": {
      "text/plain": [
       "9.9012217264755e-05"
      ]
     },
     "execution_count": 68,
     "metadata": {},
     "output_type": "execute_result"
    }
   ],
   "source": [
    "tracker_predict.stop()"
   ]
  },
  {
   "cell_type": "code",
   "execution_count": 69,
   "metadata": {
    "executionInfo": {
     "elapsed": 18,
     "status": "ok",
     "timestamp": 1731975100685,
     "user": {
      "displayName": "Pablo Ruiz",
      "userId": "17009176686305915362"
     },
     "user_tz": -60
    },
    "id": "SK7EkwKZfS7T"
   },
   "outputs": [],
   "source": [
    "y_preds = np.argmax(preds_output.predictions, axis=1)"
   ]
  },
  {
   "cell_type": "code",
   "execution_count": 70,
   "metadata": {
    "executionInfo": {
     "elapsed": 18,
     "status": "ok",
     "timestamp": 1731975100685,
     "user": {
      "displayName": "Pablo Ruiz",
      "userId": "17009176686305915362"
     },
     "user_tz": -60
    },
    "id": "kW8oaIAhf-Cg"
   },
   "outputs": [],
   "source": [
    "y_test = tokenized_data['test']['label']"
   ]
  },
  {
   "cell_type": "code",
   "execution_count": 71,
   "metadata": {
    "executionInfo": {
     "elapsed": 18,
     "status": "ok",
     "timestamp": 1731975100685,
     "user": {
      "displayName": "Pablo Ruiz",
      "userId": "17009176686305915362"
     },
     "user_tz": -60
    },
    "id": "quQJYO3QgOEa"
   },
   "outputs": [],
   "source": [
    "labels = tokenized_data['test'].features['label'].names"
   ]
  },
  {
   "cell_type": "code",
   "execution_count": 72,
   "metadata": {
    "executionInfo": {
     "elapsed": 18,
     "status": "ok",
     "timestamp": 1731975100686,
     "user": {
      "displayName": "Pablo Ruiz",
      "userId": "17009176686305915362"
     },
     "user_tz": -60
    },
    "id": "8ioT02KHET5f"
   },
   "outputs": [],
   "source": [
    "# fraction kept to color map\n",
    "clrmap_dict = {100: \"Greens\", 50: \"Blues\", 25: \"Purples\", 10: \"Oranges\", 5:\"Reds\"}"
   ]
  },
  {
   "cell_type": "code",
   "execution_count": 73,
   "metadata": {
    "colab": {
     "base_uri": "https://localhost:8080/"
    },
    "executionInfo": {
     "elapsed": 18,
     "status": "ok",
     "timestamp": 1731975100686,
     "user": {
      "displayName": "Pablo Ruiz",
      "userId": "17009176686305915362"
     },
     "user_tz": -60
    },
    "id": "M9APDRZdsFl5",
    "outputId": "167dfc11-9b37-494b-c4d8-74825c69aa86"
   },
   "outputs": [
    {
     "data": {
      "text/plain": [
       "100"
      ]
     },
     "execution_count": 73,
     "metadata": {},
     "output_type": "execute_result"
    }
   ],
   "source": [
    "fraction_kept"
   ]
  },
  {
   "cell_type": "code",
   "execution_count": 74,
   "metadata": {
    "colab": {
     "base_uri": "https://localhost:8080/",
     "height": 564
    },
    "executionInfo": {
     "elapsed": 1963,
     "status": "ok",
     "timestamp": 1731975102634,
     "user": {
      "displayName": "Pablo Ruiz",
      "userId": "17009176686305915362"
     },
     "user_tz": -60
    },
    "id": "nZLbnHYofdkz",
    "outputId": "b7c8b6e8-448b-468e-fa73-c8c5c31c5b40"
   },
   "outputs": [
    {
     "data": {
      "image/png": "[encoded data removed]",
      "text/plain": [
       "<Figure size 600x600 with 1 Axes>"
      ]
     },
     "metadata": {},
     "output_type": "display_data"
    }
   ],
   "source": [
    "def plot_confusion_matrix(y_preds, y_true, labels):\n",
    "    cm = confusion_matrix(y_true, y_preds, normalize=\"true\")\n",
    "    cm_no_norm = confusion_matrix(y_true, y_preds)\n",
    "    fig, ax = plt.subplots(figsize=(6, 6))\n",
    "    labels_for_fig = [l[0:4]+'.' for l in labels]\n",
    "    disp = ConfusionMatrixDisplay(confusion_matrix=cm,\n",
    "                                  display_labels=labels_for_fig)\n",
    "    #disp.plot(cmap=\"Purples\", values_format=\".2f\", ax=ax, colorbar=False)\n",
    "    disp.plot(cmap=clrmap_dict[fraction_kept], values_format=\".2f\", ax=ax, colorbar=False)\n",
    "    plt.title(\"Normalized confusion matrix\")\n",
    "    plt.show()\n",
    "    return cm, cm_no_norm\n",
    "\n",
    "cm_ob, cm_rawf_ob = plot_confusion_matrix(y_preds, y_test, labels)"
   ]
  },
  {
   "cell_type": "code",
   "execution_count": 75,
   "metadata": {
    "colab": {
     "base_uri": "https://localhost:8080/"
    },
    "executionInfo": {
     "elapsed": 64,
     "status": "ok",
     "timestamp": 1731975102634,
     "user": {
      "displayName": "Pablo Ruiz",
      "userId": "17009176686305915362"
     },
     "user_tz": -60
    },
    "id": "zkr6ixE9I5cd",
    "outputId": "5870ecb4-567a-4611-e59a-266d173ff134"
   },
   "outputs": [
    {
     "name": "stdout",
     "output_type": "stream",
     "text": [
      "Classification report:\n",
      "\n",
      "              precision    recall  f1-score   support\n",
      "\n",
      "           0     0.9163    0.8333    0.8728       486\n",
      "           1     0.7808    0.7600    0.7703        75\n",
      "           2     1.0000    0.6429    0.7826        14\n",
      "           3     0.8667    0.7934    0.8284       213\n",
      "           4     0.8362    0.7578    0.7951       128\n",
      "           5     0.8202    0.9050    0.8605       242\n",
      "           6     0.8280    0.7549    0.7897       102\n",
      "           7     0.6767    0.7563    0.7143       119\n",
      "           8     0.9618    0.9601    0.9610       577\n",
      "           9     0.6047    0.8667    0.7123       120\n",
      "          10     0.8044    0.8702    0.8360       208\n",
      "          11     0.9270    0.8684    0.8967       190\n",
      "          12     0.9752    0.9644    0.9698       449\n",
      "\n",
      "    accuracy                         0.8758      2923\n",
      "   macro avg     0.8460    0.8256    0.8300      2923\n",
      "weighted avg     0.8833    0.8758    0.8774      2923\n",
      "\n"
     ]
    }
   ],
   "source": [
    "print(\"Classification report:\\n\\n{}\".format(classification_report(y_test, y_preds, digits=4)))"
   ]
  },
  {
   "cell_type": "code",
   "execution_count": 76,
   "metadata": {
    "colab": {
     "base_uri": "https://localhost:8080/"
    },
    "executionInfo": {
     "elapsed": 60,
     "status": "ok",
     "timestamp": 1731975102634,
     "user": {
      "displayName": "Pablo Ruiz",
      "userId": "17009176686305915362"
     },
     "user_tz": -60
    },
    "id": "4qRtjHVvMdJu",
    "outputId": "9c52a964-17d1-4736-cbd1-e56f0f004495"
   },
   "outputs": [
    {
     "name": "stdout",
     "output_type": "stream",
     "text": [
      "0 action 1 aggression 2 aparte 3 delivery 4 entrance 5 exit 6 interaction 7 movement 8 music 9 narration 10 object 11 setting 12 toward "
     ]
    }
   ],
   "source": [
    "for i in range(13):print(i, id2label[i], end=\" \")"
   ]
  },
  {
   "cell_type": "code",
   "execution_count": 77,
   "metadata": {
    "colab": {
     "base_uri": "https://localhost:8080/"
    },
    "executionInfo": {
     "elapsed": 56,
     "status": "ok",
     "timestamp": 1731975102634,
     "user": {
      "displayName": "Pablo Ruiz",
      "userId": "17009176686305915362"
     },
     "user_tz": -60
    },
    "id": "EVWNydDD7uz6",
    "outputId": "2a0eceab-0979-4deb-dcfa-c16782e974b8"
   },
   "outputs": [
    {
     "data": {
      "text/plain": [
       "os.stat_result(st_mode=16832, st_ino=491, st_dev=90, st_nlink=2, st_uid=0, st_gid=0, st_size=4096, st_atime=1731972493, st_mtime=1731975100, st_ctime=1731972493)"
      ]
     },
     "execution_count": 77,
     "metadata": {},
     "output_type": "execute_result"
    }
   ],
   "source": [
    "os.stat(out_dir_exp)"
   ]
  },
  {
   "cell_type": "code",
   "execution_count": 82,
   "metadata": {
    "colab": {
     "base_uri": "https://localhost:8080/",
     "height": 36
    },
    "executionInfo": {
     "elapsed": 8,
     "status": "ok",
     "timestamp": 1731975937676,
     "user": {
      "displayName": "Pablo Ruiz",
      "userId": "17009176686305915362"
     },
     "user_tz": -60
    },
    "id": "X0sfb6yiz2Ex",
    "outputId": "11d7f247-80fe-42a6-d1f0-f5116a3687de"
   },
   "outputs": [
    {
     "data": {
      "application/vnd.google.colaboratory.intrinsic+json": {
       "type": "string"
      },
      "text/plain": [
       "'/content/drive/MyDrive/___tests_ft_d25/stgcls_reps__flaubert-flaubert_base_cased__100__3/cm_out___stgcls_reps__flaubert-flaubert_base_cased__100__3.pkl'"
      ]
     },
     "execution_count": 82,
     "metadata": {},
     "output_type": "execute_result"
    }
   ],
   "source": [
    "os.path.join(out_dir_exp, f\"cm_out___{os.path.basename(out_dir_exp)}.pkl\")"
   ]
  },
  {
   "cell_type": "code",
   "execution_count": 78,
   "metadata": {
    "executionInfo": {
     "elapsed": 54,
     "status": "ok",
     "timestamp": 1731975102635,
     "user": {
      "displayName": "Pablo Ruiz",
      "userId": "17009176686305915362"
     },
     "user_tz": -60
    },
    "id": "xEGei_yz7qcO"
   },
   "outputs": [],
   "source": [
    "import pickle\n",
    "\n",
    "#cm_ob, cm_out_no_norm_ob = plot_confusion_matrix(y_preds, y_test, labels)\n",
    "\n",
    "with open(os.path.join(out_dir_exp, f\"cm_out___{os.path.basename(out_dir_exp)}.pkl\"), mode=\"wb\") as cm_fh:\n",
    "  pickle.dump(cm_ob, cm_fh)\n",
    "with open(os.path.join(out_dir_exp, f\"cm_out_nonorm__{os.path.basename(out_dir_exp)}.pkl\"), mode=\"wb\") as cm_no_norm_fh:\n",
    "  pickle.dump(cm_rawf_ob, cm_no_norm_fh)\n",
    "with open(os.path.join(out_dir_exp, f\"cr_out__{os.path.basename(out_dir_exp)}\"), mode=\"w\") as cr_out:\n",
    "  cr_out.write(classification_report(y_test, y_preds, digits=4))"
   ]
  },
  {
   "cell_type": "code",
   "execution_count": 79,
   "metadata": {
    "colab": {
     "base_uri": "https://localhost:8080/"
    },
    "executionInfo": {
     "elapsed": 54,
     "status": "ok",
     "timestamp": 1731975102635,
     "user": {
      "displayName": "Pablo Ruiz",
      "userId": "17009176686305915362"
     },
     "user_tz": -60
    },
    "id": "3gcDz_0qiP_v",
    "outputId": "82272d67-ab9d-414f-d289-f280840e629e"
   },
   "outputs": [
    {
     "name": "stdout",
     "output_type": "stream",
     "text": [
      "[[0.83333333 0.01028807 0.         0.01851852 0.01028807 0.00617284\n",
      "  0.01646091 0.01851852 0.00617284 0.02880658 0.04526749 0.00617284\n",
      "  0.        ]\n",
      " [0.05333333 0.76       0.         0.01333333 0.         0.\n",
      "  0.01333333 0.02666667 0.         0.06666667 0.06666667 0.\n",
      "  0.        ]\n",
      " [0.         0.         0.64285714 0.07142857 0.         0.07142857\n",
      "  0.         0.         0.         0.         0.         0.07142857\n",
      "  0.14285714]\n",
      " [0.04225352 0.01408451 0.         0.79342723 0.00469484 0.02347418\n",
      "  0.00469484 0.         0.03755869 0.05633803 0.00469484 0.\n",
      "  0.01877934]\n",
      " [0.         0.         0.         0.         0.7578125  0.1484375\n",
      "  0.         0.0078125  0.015625   0.0703125  0.         0.\n",
      "  0.        ]\n",
      " [0.00413223 0.         0.         0.00413223 0.02479339 0.90495868\n",
      "  0.         0.05371901 0.         0.00413223 0.00413223 0.\n",
      "  0.        ]\n",
      " [0.02941176 0.02941176 0.         0.         0.00980392 0.00980392\n",
      "  0.75490196 0.02941176 0.         0.03921569 0.07843137 0.01960784\n",
      "  0.        ]\n",
      " [0.02521008 0.         0.         0.         0.00840336 0.12605042\n",
      "  0.         0.75630252 0.00840336 0.02521008 0.01680672 0.02521008\n",
      "  0.00840336]\n",
      " [0.0034662  0.0017331  0.         0.00519931 0.00519931 0.\n",
      "  0.         0.0017331  0.96013865 0.01213172 0.00519931 0.0017331\n",
      "  0.0034662 ]\n",
      " [0.025      0.00833333 0.         0.04166667 0.00833333 0.00833333\n",
      "  0.         0.00833333 0.         0.86666667 0.01666667 0.01666667\n",
      "  0.        ]\n",
      " [0.04326923 0.01442308 0.         0.00961538 0.         0.\n",
      "  0.02884615 0.00480769 0.01442308 0.01442308 0.87019231 0.\n",
      "  0.        ]\n",
      " [0.01052632 0.         0.         0.         0.00526316 0.01578947\n",
      "  0.         0.04210526 0.01052632 0.03684211 0.         0.86842105\n",
      "  0.01052632]\n",
      " [0.00222717 0.         0.         0.00890869 0.         0.\n",
      "  0.         0.00890869 0.00668151 0.00668151 0.         0.00222717\n",
      "  0.96436526]]\n"
     ]
    }
   ],
   "source": [
    "print(cm_ob)"
   ]
  },
  {
   "cell_type": "code",
   "execution_count": 80,
   "metadata": {
    "colab": {
     "base_uri": "https://localhost:8080/"
    },
    "executionInfo": {
     "elapsed": 51,
     "status": "ok",
     "timestamp": 1731975102635,
     "user": {
      "displayName": "Pablo Ruiz",
      "userId": "17009176686305915362"
     },
     "user_tz": -60
    },
    "id": "nrEs1n0HzR0q",
    "outputId": "a82a6e71-04bd-48af-c908-155cca42d5b9"
   },
   "outputs": [
    {
     "name": "stdout",
     "output_type": "stream",
     "text": [
      "[[405   5   0   9   5   3   8   9   3  14  22   3   0]\n",
      " [  4  57   0   1   0   0   1   2   0   5   5   0   0]\n",
      " [  0   0   9   1   0   1   0   0   0   0   0   1   2]\n",
      " [  9   3   0 169   1   5   1   0   8  12   1   0   4]\n",
      " [  0   0   0   0  97  19   0   1   2   9   0   0   0]\n",
      " [  1   0   0   1   6 219   0  13   0   1   1   0   0]\n",
      " [  3   3   0   0   1   1  77   3   0   4   8   2   0]\n",
      " [  3   0   0   0   1  15   0  90   1   3   2   3   1]\n",
      " [  2   1   0   3   3   0   0   1 554   7   3   1   2]\n",
      " [  3   1   0   5   1   1   0   1   0 104   2   2   0]\n",
      " [  9   3   0   2   0   0   6   1   3   3 181   0   0]\n",
      " [  2   0   0   0   1   3   0   8   2   7   0 165   2]\n",
      " [  1   0   0   4   0   0   0   4   3   3   0   1 433]]\n"
     ]
    }
   ],
   "source": [
    "print(cm_rawf_ob)"
   ]
  },
  {
   "cell_type": "code",
   "execution_count": 81,
   "metadata": {
    "executionInfo": {
     "elapsed": 47,
     "status": "ok",
     "timestamp": 1731975102635,
     "user": {
      "displayName": "Pablo Ruiz",
      "userId": "17009176686305915362"
     },
     "user_tz": -60
    },
    "id": "izW1mQcRdNiA"
   },
   "outputs": [],
   "source": [
    "if save_model:\n",
    "  assert use_drive is True\n",
    "  model.save_pretrained(f\"/content/drive/MyDrive/___wv/{model_ckpt}-finetuned-stgdir-AS13reduc_50_common-testset\")\n",
    "  tokenizer.save_pretrained(f\"/content/drive/MyDrive/___wv/{model_ckpt}-finetuned-stgdir-AS13reduc_50_common-testset\")"
   ]
  },
  {
   "cell_type": "code",
   "execution_count": null,
   "metadata": {
    "id": "4ucHHV-KnpL5"
   },
   "outputs": [],
   "source": [
    "!curl ipinfo.io"
   ]
  }
 ],
 "metadata": {
  "accelerator": "GPU",
  "colab": {
   "gpuType": "L4",
   "provenance": []
  },
  "kernelspec": {
   "display_name": "Python 3 (ipykernel)",
   "language": "python",
   "name": "python3"
  },
  "language_info": {
   "codemirror_mode": {
    "name": "ipython",
    "version": 3
   },
   "file_extension": ".py",
   "mimetype": "text/x-python",
   "name": "python",
   "nbconvert_exporter": "python",
   "pygments_lexer": "ipython3",
   "version": "3.11.7"
  },
  "widgets": {
   "application/vnd.jupyter.widget-state+json": {
    "0011568af35042678c758f88dde2ed29": {
     "model_module": "@jupyter-widgets/controls",
     "model_module_version": "1.5.0",
     "model_name": "HBoxModel",
     "state": {
      "_dom_classes": [],
      "_model_module": "@jupyter-widgets/controls",
      "_model_module_version": "1.5.0",
      "_model_name": "HBoxModel",
      "_view_count": null,
      "_view_module": "@jupyter-widgets/controls",
      "_view_module_version": "1.5.0",
      "_view_name": "HBoxView",
      "box_style": "",
      "children": [
       "IPY_MODEL_74c0406c7aec4dd380fdf3f8bdf289dc",
       "IPY_MODEL_714aecd9e1a846f2ad83832e753706e2",
       "IPY_MODEL_cf3b199e3815473293eb2d3f49338a7b"
      ],
      "layout": "IPY_MODEL_048562867c0547eca1a2abaaacdaa92a"
     }
    },
    "044606bb2a51456cbbc8f89e7c728b75": {
     "model_module": "@jupyter-widgets/controls",
     "model_module_version": "1.5.0",
     "model_name": "DescriptionStyleModel",
     "state": {
      "_model_module": "@jupyter-widgets/controls",
      "_model_module_version": "1.5.0",
      "_model_name": "DescriptionStyleModel",
      "_view_count": null,
      "_view_module": "@jupyter-widgets/base",
      "_view_module_version": "1.2.0",
      "_view_name": "StyleView",
      "description_width": ""
     }
    },
    "048562867c0547eca1a2abaaacdaa92a": {
     "model_module": "@jupyter-widgets/base",
     "model_module_version": "1.2.0",
     "model_name": "LayoutModel",
     "state": {
      "_model_module": "@jupyter-widgets/base",
      "_model_module_version": "1.2.0",
      "_model_name": "LayoutModel",
      "_view_count": null,
      "_view_module": "@jupyter-widgets/base",
      "_view_module_version": "1.2.0",
      "_view_name": "LayoutView",
      "align_content": null,
      "align_items": null,
      "align_self": null,
      "border": null,
      "bottom": null,
      "display": null,
      "flex": null,
      "flex_flow": null,
      "grid_area": null,
      "grid_auto_columns": null,
      "grid_auto_flow": null,
      "grid_auto_rows": null,
      "grid_column": null,
      "grid_gap": null,
      "grid_row": null,
      "grid_template_areas": null,
      "grid_template_columns": null,
      "grid_template_rows": null,
      "height": null,
      "justify_content": null,
      "justify_items": null,
      "left": null,
      "margin": null,
      "max_height": null,
      "max_width": null,
      "min_height": null,
      "min_width": null,
      "object_fit": null,
      "object_position": null,
      "order": null,
      "overflow": null,
      "overflow_x": null,
      "overflow_y": null,
      "padding": null,
      "right": null,
      "top": null,
      "visibility": null,
      "width": null
     }
    },
    "07be10e01d454e44827fb31d334821e0": {
     "model_module": "@jupyter-widgets/base",
     "model_module_version": "1.2.0",
     "model_name": "LayoutModel",
     "state": {
      "_model_module": "@jupyter-widgets/base",
      "_model_module_version": "1.2.0",
      "_model_name": "LayoutModel",
      "_view_count": null,
      "_view_module": "@jupyter-widgets/base",
      "_view_module_version": "1.2.0",
      "_view_name": "LayoutView",
      "align_content": null,
      "align_items": null,
      "align_self": null,
      "border": null,
      "bottom": null,
      "display": null,
      "flex": null,
      "flex_flow": null,
      "grid_area": null,
      "grid_auto_columns": null,
      "grid_auto_flow": null,
      "grid_auto_rows": null,
      "grid_column": null,
      "grid_gap": null,
      "grid_row": null,
      "grid_template_areas": null,
      "grid_template_columns": null,
      "grid_template_rows": null,
      "height": null,
      "justify_content": null,
      "justify_items": null,
      "left": null,
      "margin": null,
      "max_height": null,
      "max_width": null,
      "min_height": null,
      "min_width": null,
      "object_fit": null,
      "object_position": null,
      "order": null,
      "overflow": null,
      "overflow_x": null,
      "overflow_y": null,
      "padding": null,
      "right": null,
      "top": null,
      "visibility": null,
      "width": null
     }
    },
    "083ad5359723475f94c34bb3a39301b6": {
     "model_module": "@jupyter-widgets/base",
     "model_module_version": "1.2.0",
     "model_name": "LayoutModel",
     "state": {
      "_model_module": "@jupyter-widgets/base",
      "_model_module_version": "1.2.0",
      "_model_name": "LayoutModel",
      "_view_count": null,
      "_view_module": "@jupyter-widgets/base",
      "_view_module_version": "1.2.0",
      "_view_name": "LayoutView",
      "align_content": null,
      "align_items": null,
      "align_self": null,
      "border": null,
      "bottom": null,
      "display": null,
      "flex": null,
      "flex_flow": null,
      "grid_area": null,
      "grid_auto_columns": null,
      "grid_auto_flow": null,
      "grid_auto_rows": null,
      "grid_column": null,
      "grid_gap": null,
      "grid_row": null,
      "grid_template_areas": null,
      "grid_template_columns": null,
      "grid_template_rows": null,
      "height": null,
      "justify_content": null,
      "justify_items": null,
      "left": null,
      "margin": null,
      "max_height": null,
      "max_width": null,
      "min_height": null,
      "min_width": null,
      "object_fit": null,
      "object_position": null,
      "order": null,
      "overflow": null,
      "overflow_x": null,
      "overflow_y": null,
      "padding": null,
      "right": null,
      "top": null,
      "visibility": null,
      "width": null
     }
    },
    "0beea4b3f7994dad9a3b0d17f69c6cfd": {
     "model_module": "@jupyter-widgets/base",
     "model_module_version": "1.2.0",
     "model_name": "LayoutModel",
     "state": {
      "_model_module": "@jupyter-widgets/base",
      "_model_module_version": "1.2.0",
      "_model_name": "LayoutModel",
      "_view_count": null,
      "_view_module": "@jupyter-widgets/base",
      "_view_module_version": "1.2.0",
      "_view_name": "LayoutView",
      "align_content": null,
      "align_items": null,
      "align_self": null,
      "border": null,
      "bottom": null,
      "display": null,
      "flex": null,
      "flex_flow": null,
      "grid_area": null,
      "grid_auto_columns": null,
      "grid_auto_flow": null,
      "grid_auto_rows": null,
      "grid_column": null,
      "grid_gap": null,
      "grid_row": null,
      "grid_template_areas": null,
      "grid_template_columns": null,
      "grid_template_rows": null,
      "height": null,
      "justify_content": null,
      "justify_items": null,
      "left": null,
      "margin": null,
      "max_height": null,
      "max_width": null,
      "min_height": null,
      "min_width": null,
      "object_fit": null,
      "object_position": null,
      "order": null,
      "overflow": null,
      "overflow_x": null,
      "overflow_y": null,
      "padding": null,
      "right": null,
      "top": null,
      "visibility": null,
      "width": null
     }
    },
    "0f350a1239d34234ab0f38c4a7c7ece0": {
     "model_module": "@jupyter-widgets/controls",
     "model_module_version": "1.5.0",
     "model_name": "HTMLModel",
     "state": {
      "_dom_classes": [],
      "_model_module": "@jupyter-widgets/controls",
      "_model_module_version": "1.5.0",
      "_model_name": "HTMLModel",
      "_view_count": null,
      "_view_module": "@jupyter-widgets/controls",
      "_view_module_version": "1.5.0",
      "_view_name": "HTMLView",
      "description": "",
      "description_tooltip": null,
      "layout": "IPY_MODEL_e80fbab6ce1743619cbcc0744f58dd24",
      "placeholder": "​",
      "style": "IPY_MODEL_870bf1e02e8345839fe68afc011e8556",
      "value": " 896k/896k [00:00&lt;00:00, 1.07MB/s]"
     }
    },
    "11f833bcce794259b6fa4199afcb08bb": {
     "model_module": "@jupyter-widgets/controls",
     "model_module_version": "1.5.0",
     "model_name": "HTMLModel",
     "state": {
      "_dom_classes": [],
      "_model_module": "@jupyter-widgets/controls",
      "_model_module_version": "1.5.0",
      "_model_name": "HTMLModel",
      "_view_count": null,
      "_view_module": "@jupyter-widgets/controls",
      "_view_module_version": "1.5.0",
      "_view_name": "HTMLView",
      "description": "",
      "description_tooltip": null,
      "layout": "IPY_MODEL_6f52f40c907e4f419480c02e11fb0faf",
      "placeholder": "​",
      "style": "IPY_MODEL_681ba24140a14476b83b890e05f9275c",
      "value": " 2338/2338 [00:00&lt;00:00, 2368.75 examples/s]"
     }
    },
    "1542ebeda48a47179dfd2c95b84cd794": {
     "model_module": "@jupyter-widgets/base",
     "model_module_version": "1.2.0",
     "model_name": "LayoutModel",
     "state": {
      "_model_module": "@jupyter-widgets/base",
      "_model_module_version": "1.2.0",
      "_model_name": "LayoutModel",
      "_view_count": null,
      "_view_module": "@jupyter-widgets/base",
      "_view_module_version": "1.2.0",
      "_view_name": "LayoutView",
      "align_content": null,
      "align_items": null,
      "align_self": null,
      "border": null,
      "bottom": null,
      "display": null,
      "flex": null,
      "flex_flow": null,
      "grid_area": null,
      "grid_auto_columns": null,
      "grid_auto_flow": null,
      "grid_auto_rows": null,
      "grid_column": null,
      "grid_gap": null,
      "grid_row": null,
      "grid_template_areas": null,
      "grid_template_columns": null,
      "grid_template_rows": null,
      "height": null,
      "justify_content": null,
      "justify_items": null,
      "left": null,
      "margin": null,
      "max_height": null,
      "max_width": null,
      "min_height": null,
      "min_width": null,
      "object_fit": null,
      "object_position": null,
      "order": null,
      "overflow": null,
      "overflow_x": null,
      "overflow_y": null,
      "padding": null,
      "right": null,
      "top": null,
      "visibility": null,
      "width": null
     }
    },
    "182eb5e0b5bc494ba016a3030fafa89a": {
     "model_module": "@jupyter-widgets/base",
     "model_module_version": "1.2.0",
     "model_name": "LayoutModel",
     "state": {
      "_model_module": "@jupyter-widgets/base",
      "_model_module_version": "1.2.0",
      "_model_name": "LayoutModel",
      "_view_count": null,
      "_view_module": "@jupyter-widgets/base",
      "_view_module_version": "1.2.0",
      "_view_name": "LayoutView",
      "align_content": null,
      "align_items": null,
      "align_self": null,
      "border": null,
      "bottom": null,
      "display": null,
      "flex": null,
      "flex_flow": null,
      "grid_area": null,
      "grid_auto_columns": null,
      "grid_auto_flow": null,
      "grid_auto_rows": null,
      "grid_column": null,
      "grid_gap": null,
      "grid_row": null,
      "grid_template_areas": null,
      "grid_template_columns": null,
      "grid_template_rows": null,
      "height": null,
      "justify_content": null,
      "justify_items": null,
      "left": null,
      "margin": null,
      "max_height": null,
      "max_width": null,
      "min_height": null,
      "min_width": null,
      "object_fit": null,
      "object_position": null,
      "order": null,
      "overflow": null,
      "overflow_x": null,
      "overflow_y": null,
      "padding": null,
      "right": null,
      "top": null,
      "visibility": null,
      "width": null
     }
    },
    "18a4a462a5eb4234b50f05337ef5796b": {
     "model_module": "@jupyter-widgets/controls",
     "model_module_version": "1.5.0",
     "model_name": "HTMLModel",
     "state": {
      "_dom_classes": [],
      "_model_module": "@jupyter-widgets/controls",
      "_model_module_version": "1.5.0",
      "_model_name": "HTMLModel",
      "_view_count": null,
      "_view_module": "@jupyter-widgets/controls",
      "_view_module_version": "1.5.0",
      "_view_name": "HTMLView",
      "description": "",
      "description_tooltip": null,
      "layout": "IPY_MODEL_70ede6264bb0453ba5a01465735499df",
      "placeholder": "​",
      "style": "IPY_MODEL_401babbb3a1145d6ae7c036994565b6d",
      "value": " 9352/9352 [00:05&lt;00:00, 1725.54 examples/s]"
     }
    },
    "19e7e5c5b90247a88b4e1d1639015da5": {
     "model_module": "@jupyter-widgets/controls",
     "model_module_version": "1.5.0",
     "model_name": "DescriptionStyleModel",
     "state": {
      "_model_module": "@jupyter-widgets/controls",
      "_model_module_version": "1.5.0",
      "_model_name": "DescriptionStyleModel",
      "_view_count": null,
      "_view_module": "@jupyter-widgets/base",
      "_view_module_version": "1.2.0",
      "_view_name": "StyleView",
      "description_width": ""
     }
    },
    "1bda4f8fa987407ba01001f1385dee9e": {
     "model_module": "@jupyter-widgets/controls",
     "model_module_version": "1.5.0",
     "model_name": "HTMLModel",
     "state": {
      "_dom_classes": [],
      "_model_module": "@jupyter-widgets/controls",
      "_model_module_version": "1.5.0",
      "_model_name": "HTMLModel",
      "_view_count": null,
      "_view_module": "@jupyter-widgets/controls",
      "_view_module_version": "1.5.0",
      "_view_name": "HTMLView",
      "description": "",
      "description_tooltip": null,
      "layout": "IPY_MODEL_182eb5e0b5bc494ba016a3030fafa89a",
      "placeholder": "​",
      "style": "IPY_MODEL_3c8851dc9c364ef29f6045ef79881a1e",
      "value": "merges.txt: 100%"
     }
    },
    "1e6458315b52499db3f87d3713d72579": {
     "model_module": "@jupyter-widgets/controls",
     "model_module_version": "1.5.0",
     "model_name": "FloatProgressModel",
     "state": {
      "_dom_classes": [],
      "_model_module": "@jupyter-widgets/controls",
      "_model_module_version": "1.5.0",
      "_model_name": "FloatProgressModel",
      "_view_count": null,
      "_view_module": "@jupyter-widgets/controls",
      "_view_module_version": "1.5.0",
      "_view_name": "ProgressView",
      "bar_style": "success",
      "description": "",
      "description_tooltip": null,
      "layout": "IPY_MODEL_863d236e6d6f44a2babf9de2f8992ddb",
      "max": 72,
      "min": 0,
      "orientation": "horizontal",
      "style": "IPY_MODEL_5f07e910697d406da3a2d75395f404ef",
      "value": 72
     }
    },
    "1f61992dbb9b4c7fad07d58f79cc526a": {
     "model_module": "@jupyter-widgets/base",
     "model_module_version": "1.2.0",
     "model_name": "LayoutModel",
     "state": {
      "_model_module": "@jupyter-widgets/base",
      "_model_module_version": "1.2.0",
      "_model_name": "LayoutModel",
      "_view_count": null,
      "_view_module": "@jupyter-widgets/base",
      "_view_module_version": "1.2.0",
      "_view_name": "LayoutView",
      "align_content": null,
      "align_items": null,
      "align_self": null,
      "border": null,
      "bottom": null,
      "display": null,
      "flex": null,
      "flex_flow": null,
      "grid_area": null,
      "grid_auto_columns": null,
      "grid_auto_flow": null,
      "grid_auto_rows": null,
      "grid_column": null,
      "grid_gap": null,
      "grid_row": null,
      "grid_template_areas": null,
      "grid_template_columns": null,
      "grid_template_rows": null,
      "height": null,
      "justify_content": null,
      "justify_items": null,
      "left": null,
      "margin": null,
      "max_height": null,
      "max_width": null,
      "min_height": null,
      "min_width": null,
      "object_fit": null,
      "object_position": null,
      "order": null,
      "overflow": null,
      "overflow_x": null,
      "overflow_y": null,
      "padding": null,
      "right": null,
      "top": null,
      "visibility": null,
      "width": null
     }
    },
    "219123d02364492b9dd956d81c6639f8": {
     "model_module": "@jupyter-widgets/base",
     "model_module_version": "1.2.0",
     "model_name": "LayoutModel",
     "state": {
      "_model_module": "@jupyter-widgets/base",
      "_model_module_version": "1.2.0",
      "_model_name": "LayoutModel",
      "_view_count": null,
      "_view_module": "@jupyter-widgets/base",
      "_view_module_version": "1.2.0",
      "_view_name": "LayoutView",
      "align_content": null,
      "align_items": null,
      "align_self": null,
      "border": null,
      "bottom": null,
      "display": null,
      "flex": null,
      "flex_flow": null,
      "grid_area": null,
      "grid_auto_columns": null,
      "grid_auto_flow": null,
      "grid_auto_rows": null,
      "grid_column": null,
      "grid_gap": null,
      "grid_row": null,
      "grid_template_areas": null,
      "grid_template_columns": null,
      "grid_template_rows": null,
      "height": null,
      "justify_content": null,
      "justify_items": null,
      "left": null,
      "margin": null,
      "max_height": null,
      "max_width": null,
      "min_height": null,
      "min_width": null,
      "object_fit": null,
      "object_position": null,
      "order": null,
      "overflow": null,
      "overflow_x": null,
      "overflow_y": null,
      "padding": null,
      "right": null,
      "top": null,
      "visibility": null,
      "width": null
     }
    },
    "21f3d32156fa4ee48c9087169efa3b75": {
     "model_module": "@jupyter-widgets/controls",
     "model_module_version": "1.5.0",
     "model_name": "ProgressStyleModel",
     "state": {
      "_model_module": "@jupyter-widgets/controls",
      "_model_module_version": "1.5.0",
      "_model_name": "ProgressStyleModel",
      "_view_count": null,
      "_view_module": "@jupyter-widgets/base",
      "_view_module_version": "1.2.0",
      "_view_name": "StyleView",
      "bar_color": null,
      "description_width": ""
     }
    },
    "233f398c3a20454ba3b2f49454d6e3aa": {
     "model_module": "@jupyter-widgets/controls",
     "model_module_version": "1.5.0",
     "model_name": "HBoxModel",
     "state": {
      "_dom_classes": [],
      "_model_module": "@jupyter-widgets/controls",
      "_model_module_version": "1.5.0",
      "_model_name": "HBoxModel",
      "_view_count": null,
      "_view_module": "@jupyter-widgets/controls",
      "_view_module_version": "1.5.0",
      "_view_name": "HBoxView",
      "box_style": "",
      "children": [
       "IPY_MODEL_cbe4e98c71eb4a7cbaa4a315dfb2685a",
       "IPY_MODEL_d7930e111ea64449997e44be29a401f8",
       "IPY_MODEL_11f833bcce794259b6fa4199afcb08bb"
      ],
      "layout": "IPY_MODEL_0beea4b3f7994dad9a3b0d17f69c6cfd"
     }
    },
    "2486af2821204e19bd61ce16a6e94b92": {
     "model_module": "@jupyter-widgets/base",
     "model_module_version": "1.2.0",
     "model_name": "LayoutModel",
     "state": {
      "_model_module": "@jupyter-widgets/base",
      "_model_module_version": "1.2.0",
      "_model_name": "LayoutModel",
      "_view_count": null,
      "_view_module": "@jupyter-widgets/base",
      "_view_module_version": "1.2.0",
      "_view_name": "LayoutView",
      "align_content": null,
      "align_items": null,
      "align_self": null,
      "border": null,
      "bottom": null,
      "display": null,
      "flex": null,
      "flex_flow": null,
      "grid_area": null,
      "grid_auto_columns": null,
      "grid_auto_flow": null,
      "grid_auto_rows": null,
      "grid_column": null,
      "grid_gap": null,
      "grid_row": null,
      "grid_template_areas": null,
      "grid_template_columns": null,
      "grid_template_rows": null,
      "height": null,
      "justify_content": null,
      "justify_items": null,
      "left": null,
      "margin": null,
      "max_height": null,
      "max_width": null,
      "min_height": null,
      "min_width": null,
      "object_fit": null,
      "object_position": null,
      "order": null,
      "overflow": null,
      "overflow_x": null,
      "overflow_y": null,
      "padding": null,
      "right": null,
      "top": null,
      "visibility": null,
      "width": null
     }
    },
    "2ad879074de14116819bc6cc99944f09": {
     "model_module": "@jupyter-widgets/base",
     "model_module_version": "1.2.0",
     "model_name": "LayoutModel",
     "state": {
      "_model_module": "@jupyter-widgets/base",
      "_model_module_version": "1.2.0",
      "_model_name": "LayoutModel",
      "_view_count": null,
      "_view_module": "@jupyter-widgets/base",
      "_view_module_version": "1.2.0",
      "_view_name": "LayoutView",
      "align_content": null,
      "align_items": null,
      "align_self": null,
      "border": null,
      "bottom": null,
      "display": null,
      "flex": null,
      "flex_flow": null,
      "grid_area": null,
      "grid_auto_columns": null,
      "grid_auto_flow": null,
      "grid_auto_rows": null,
      "grid_column": null,
      "grid_gap": null,
      "grid_row": null,
      "grid_template_areas": null,
      "grid_template_columns": null,
      "grid_template_rows": null,
      "height": null,
      "justify_content": null,
      "justify_items": null,
      "left": null,
      "margin": null,
      "max_height": null,
      "max_width": null,
      "min_height": null,
      "min_width": null,
      "object_fit": null,
      "object_position": null,
      "order": null,
      "overflow": null,
      "overflow_x": null,
      "overflow_y": null,
      "padding": null,
      "right": null,
      "top": null,
      "visibility": null,
      "width": null
     }
    },
    "2e2e3d9f58a04dc18b6b14b2c8369950": {
     "model_module": "@jupyter-widgets/controls",
     "model_module_version": "1.5.0",
     "model_name": "HTMLModel",
     "state": {
      "_dom_classes": [],
      "_model_module": "@jupyter-widgets/controls",
      "_model_module_version": "1.5.0",
      "_model_name": "HTMLModel",
      "_view_count": null,
      "_view_module": "@jupyter-widgets/controls",
      "_view_module_version": "1.5.0",
      "_view_name": "HTMLView",
      "description": "",
      "description_tooltip": null,
      "layout": "IPY_MODEL_3379171df4b8434e96f4ff9fc80a59ab",
      "placeholder": "​",
      "style": "IPY_MODEL_aae34eebdef9452f8d69a93908458cac",
      "value": " 72.0/72.0 [00:00&lt;00:00, 6.13kB/s]"
     }
    },
    "32239e641e2e43eca7db25298932552c": {
     "model_module": "@jupyter-widgets/controls",
     "model_module_version": "1.5.0",
     "model_name": "FloatProgressModel",
     "state": {
      "_dom_classes": [],
      "_model_module": "@jupyter-widgets/controls",
      "_model_module_version": "1.5.0",
      "_model_name": "FloatProgressModel",
      "_view_count": null,
      "_view_module": "@jupyter-widgets/controls",
      "_view_module_version": "1.5.0",
      "_view_name": "ProgressView",
      "bar_style": "success",
      "description": "",
      "description_tooltip": null,
      "layout": "IPY_MODEL_f2fc9dfd31764183ad1aa5c2e116ec0d",
      "max": 9352,
      "min": 0,
      "orientation": "horizontal",
      "style": "IPY_MODEL_4e5f77f59f6b44dd8a0e467ee1d6bd57",
      "value": 9352
     }
    },
    "32629f9786354cbcacfaa166abd16044": {
     "model_module": "@jupyter-widgets/controls",
     "model_module_version": "1.5.0",
     "model_name": "DescriptionStyleModel",
     "state": {
      "_model_module": "@jupyter-widgets/controls",
      "_model_module_version": "1.5.0",
      "_model_name": "DescriptionStyleModel",
      "_view_count": null,
      "_view_module": "@jupyter-widgets/base",
      "_view_module_version": "1.2.0",
      "_view_name": "StyleView",
      "description_width": ""
     }
    },
    "330768cc63ad44319b355b9f5585d36c": {
     "model_module": "@jupyter-widgets/controls",
     "model_module_version": "1.5.0",
     "model_name": "HTMLModel",
     "state": {
      "_dom_classes": [],
      "_model_module": "@jupyter-widgets/controls",
      "_model_module_version": "1.5.0",
      "_model_name": "HTMLModel",
      "_view_count": null,
      "_view_module": "@jupyter-widgets/controls",
      "_view_module_version": "1.5.0",
      "_view_name": "HTMLView",
      "description": "",
      "description_tooltip": null,
      "layout": "IPY_MODEL_07be10e01d454e44827fb31d334821e0",
      "placeholder": "​",
      "style": "IPY_MODEL_5907f3232c784d78852167d19b706e5d",
      "value": "Map: 100%"
     }
    },
    "3379171df4b8434e96f4ff9fc80a59ab": {
     "model_module": "@jupyter-widgets/base",
     "model_module_version": "1.2.0",
     "model_name": "LayoutModel",
     "state": {
      "_model_module": "@jupyter-widgets/base",
      "_model_module_version": "1.2.0",
      "_model_name": "LayoutModel",
      "_view_count": null,
      "_view_module": "@jupyter-widgets/base",
      "_view_module_version": "1.2.0",
      "_view_name": "LayoutView",
      "align_content": null,
      "align_items": null,
      "align_self": null,
      "border": null,
      "bottom": null,
      "display": null,
      "flex": null,
      "flex_flow": null,
      "grid_area": null,
      "grid_auto_columns": null,
      "grid_auto_flow": null,
      "grid_auto_rows": null,
      "grid_column": null,
      "grid_gap": null,
      "grid_row": null,
      "grid_template_areas": null,
      "grid_template_columns": null,
      "grid_template_rows": null,
      "height": null,
      "justify_content": null,
      "justify_items": null,
      "left": null,
      "margin": null,
      "max_height": null,
      "max_width": null,
      "min_height": null,
      "min_width": null,
      "object_fit": null,
      "object_position": null,
      "order": null,
      "overflow": null,
      "overflow_x": null,
      "overflow_y": null,
      "padding": null,
      "right": null,
      "top": null,
      "visibility": null,
      "width": null
     }
    },
    "36c6af4a7a9a4fcdb291996fa9fc5098": {
     "model_module": "@jupyter-widgets/controls",
     "model_module_version": "1.5.0",
     "model_name": "HBoxModel",
     "state": {
      "_dom_classes": [],
      "_model_module": "@jupyter-widgets/controls",
      "_model_module_version": "1.5.0",
      "_model_name": "HBoxModel",
      "_view_count": null,
      "_view_module": "@jupyter-widgets/controls",
      "_view_module_version": "1.5.0",
      "_view_name": "HBoxView",
      "box_style": "",
      "children": [
       "IPY_MODEL_cf1ec50ae49e42928ee0b7fab958e3ff",
       "IPY_MODEL_afe6b552e7884a3288141de50d6dc27d",
       "IPY_MODEL_b0bf43811f11481a9e2497df53a0c3cc"
      ],
      "layout": "IPY_MODEL_a03658d05ae240aca40b9fc142f44e64"
     }
    },
    "3804183a0bdf4c739624ebb4e5d52db2": {
     "model_module": "@jupyter-widgets/base",
     "model_module_version": "1.2.0",
     "model_name": "LayoutModel",
     "state": {
      "_model_module": "@jupyter-widgets/base",
      "_model_module_version": "1.2.0",
      "_model_name": "LayoutModel",
      "_view_count": null,
      "_view_module": "@jupyter-widgets/base",
      "_view_module_version": "1.2.0",
      "_view_name": "LayoutView",
      "align_content": null,
      "align_items": null,
      "align_self": null,
      "border": null,
      "bottom": null,
      "display": null,
      "flex": null,
      "flex_flow": null,
      "grid_area": null,
      "grid_auto_columns": null,
      "grid_auto_flow": null,
      "grid_auto_rows": null,
      "grid_column": null,
      "grid_gap": null,
      "grid_row": null,
      "grid_template_areas": null,
      "grid_template_columns": null,
      "grid_template_rows": null,
      "height": null,
      "justify_content": null,
      "justify_items": null,
      "left": null,
      "margin": null,
      "max_height": null,
      "max_width": null,
      "min_height": null,
      "min_width": null,
      "object_fit": null,
      "object_position": null,
      "order": null,
      "overflow": null,
      "overflow_x": null,
      "overflow_y": null,
      "padding": null,
      "right": null,
      "top": null,
      "visibility": null,
      "width": null
     }
    },
    "3c8851dc9c364ef29f6045ef79881a1e": {
     "model_module": "@jupyter-widgets/controls",
     "model_module_version": "1.5.0",
     "model_name": "DescriptionStyleModel",
     "state": {
      "_model_module": "@jupyter-widgets/controls",
      "_model_module_version": "1.5.0",
      "_model_name": "DescriptionStyleModel",
      "_view_count": null,
      "_view_module": "@jupyter-widgets/base",
      "_view_module_version": "1.2.0",
      "_view_name": "StyleView",
      "description_width": ""
     }
    },
    "401babbb3a1145d6ae7c036994565b6d": {
     "model_module": "@jupyter-widgets/controls",
     "model_module_version": "1.5.0",
     "model_name": "DescriptionStyleModel",
     "state": {
      "_model_module": "@jupyter-widgets/controls",
      "_model_module_version": "1.5.0",
      "_model_name": "DescriptionStyleModel",
      "_view_count": null,
      "_view_module": "@jupyter-widgets/base",
      "_view_module_version": "1.2.0",
      "_view_name": "StyleView",
      "description_width": ""
     }
    },
    "4198f5a7186c4eeb8e9b246a605f0461": {
     "model_module": "@jupyter-widgets/controls",
     "model_module_version": "1.5.0",
     "model_name": "HTMLModel",
     "state": {
      "_dom_classes": [],
      "_model_module": "@jupyter-widgets/controls",
      "_model_module_version": "1.5.0",
      "_model_name": "HTMLModel",
      "_view_count": null,
      "_view_module": "@jupyter-widgets/controls",
      "_view_module_version": "1.5.0",
      "_view_name": "HTMLView",
      "description": "",
      "description_tooltip": null,
      "layout": "IPY_MODEL_083ad5359723475f94c34bb3a39301b6",
      "placeholder": "​",
      "style": "IPY_MODEL_f9d6b42227b645c78e93ac87e05aa4bb",
      "value": "vocab.json: 100%"
     }
    },
    "499158111a7d40ccbe9e1bf093ca980d": {
     "model_module": "@jupyter-widgets/controls",
     "model_module_version": "1.5.0",
     "model_name": "FloatProgressModel",
     "state": {
      "_dom_classes": [],
      "_model_module": "@jupyter-widgets/controls",
      "_model_module_version": "1.5.0",
      "_model_name": "FloatProgressModel",
      "_view_count": null,
      "_view_module": "@jupyter-widgets/controls",
      "_view_module_version": "1.5.0",
      "_view_name": "ProgressView",
      "bar_style": "success",
      "description": "",
      "description_tooltip": null,
      "layout": "IPY_MODEL_eafcdfc124604d2b8a26db36414d31fe",
      "max": 2923,
      "min": 0,
      "orientation": "horizontal",
      "style": "IPY_MODEL_9a6e1aac40e245faa3cfdd180402216d",
      "value": 2923
     }
    },
    "4e5f77f59f6b44dd8a0e467ee1d6bd57": {
     "model_module": "@jupyter-widgets/controls",
     "model_module_version": "1.5.0",
     "model_name": "ProgressStyleModel",
     "state": {
      "_model_module": "@jupyter-widgets/controls",
      "_model_module_version": "1.5.0",
      "_model_name": "ProgressStyleModel",
      "_view_count": null,
      "_view_module": "@jupyter-widgets/base",
      "_view_module_version": "1.2.0",
      "_view_name": "StyleView",
      "bar_color": null,
      "description_width": ""
     }
    },
    "4eb5d2a4947342d9b83e173106da85de": {
     "model_module": "@jupyter-widgets/base",
     "model_module_version": "1.2.0",
     "model_name": "LayoutModel",
     "state": {
      "_model_module": "@jupyter-widgets/base",
      "_model_module_version": "1.2.0",
      "_model_name": "LayoutModel",
      "_view_count": null,
      "_view_module": "@jupyter-widgets/base",
      "_view_module_version": "1.2.0",
      "_view_name": "LayoutView",
      "align_content": null,
      "align_items": null,
      "align_self": null,
      "border": null,
      "bottom": null,
      "display": null,
      "flex": null,
      "flex_flow": null,
      "grid_area": null,
      "grid_auto_columns": null,
      "grid_auto_flow": null,
      "grid_auto_rows": null,
      "grid_column": null,
      "grid_gap": null,
      "grid_row": null,
      "grid_template_areas": null,
      "grid_template_columns": null,
      "grid_template_rows": null,
      "height": null,
      "justify_content": null,
      "justify_items": null,
      "left": null,
      "margin": null,
      "max_height": null,
      "max_width": null,
      "min_height": null,
      "min_width": null,
      "object_fit": null,
      "object_position": null,
      "order": null,
      "overflow": null,
      "overflow_x": null,
      "overflow_y": null,
      "padding": null,
      "right": null,
      "top": null,
      "visibility": null,
      "width": null
     }
    },
    "5168f4dc53024e698c4023db13014869": {
     "model_module": "@jupyter-widgets/controls",
     "model_module_version": "1.5.0",
     "model_name": "DescriptionStyleModel",
     "state": {
      "_model_module": "@jupyter-widgets/controls",
      "_model_module_version": "1.5.0",
      "_model_name": "DescriptionStyleModel",
      "_view_count": null,
      "_view_module": "@jupyter-widgets/base",
      "_view_module_version": "1.2.0",
      "_view_name": "StyleView",
      "description_width": ""
     }
    },
    "565b97c055fb4a8f90a3c0693da416d5": {
     "model_module": "@jupyter-widgets/controls",
     "model_module_version": "1.5.0",
     "model_name": "DescriptionStyleModel",
     "state": {
      "_model_module": "@jupyter-widgets/controls",
      "_model_module_version": "1.5.0",
      "_model_name": "DescriptionStyleModel",
      "_view_count": null,
      "_view_module": "@jupyter-widgets/base",
      "_view_module_version": "1.2.0",
      "_view_name": "StyleView",
      "description_width": ""
     }
    },
    "5907f3232c784d78852167d19b706e5d": {
     "model_module": "@jupyter-widgets/controls",
     "model_module_version": "1.5.0",
     "model_name": "DescriptionStyleModel",
     "state": {
      "_model_module": "@jupyter-widgets/controls",
      "_model_module_version": "1.5.0",
      "_model_name": "DescriptionStyleModel",
      "_view_count": null,
      "_view_module": "@jupyter-widgets/base",
      "_view_module_version": "1.2.0",
      "_view_name": "StyleView",
      "description_width": ""
     }
    },
    "5e9784cb17514f19b00b77822585063e": {
     "model_module": "@jupyter-widgets/base",
     "model_module_version": "1.2.0",
     "model_name": "LayoutModel",
     "state": {
      "_model_module": "@jupyter-widgets/base",
      "_model_module_version": "1.2.0",
      "_model_name": "LayoutModel",
      "_view_count": null,
      "_view_module": "@jupyter-widgets/base",
      "_view_module_version": "1.2.0",
      "_view_name": "LayoutView",
      "align_content": null,
      "align_items": null,
      "align_self": null,
      "border": null,
      "bottom": null,
      "display": null,
      "flex": null,
      "flex_flow": null,
      "grid_area": null,
      "grid_auto_columns": null,
      "grid_auto_flow": null,
      "grid_auto_rows": null,
      "grid_column": null,
      "grid_gap": null,
      "grid_row": null,
      "grid_template_areas": null,
      "grid_template_columns": null,
      "grid_template_rows": null,
      "height": null,
      "justify_content": null,
      "justify_items": null,
      "left": null,
      "margin": null,
      "max_height": null,
      "max_width": null,
      "min_height": null,
      "min_width": null,
      "object_fit": null,
      "object_position": null,
      "order": null,
      "overflow": null,
      "overflow_x": null,
      "overflow_y": null,
      "padding": null,
      "right": null,
      "top": null,
      "visibility": null,
      "width": null
     }
    },
    "5f07e910697d406da3a2d75395f404ef": {
     "model_module": "@jupyter-widgets/controls",
     "model_module_version": "1.5.0",
     "model_name": "ProgressStyleModel",
     "state": {
      "_model_module": "@jupyter-widgets/controls",
      "_model_module_version": "1.5.0",
      "_model_name": "ProgressStyleModel",
      "_view_count": null,
      "_view_module": "@jupyter-widgets/base",
      "_view_module_version": "1.2.0",
      "_view_name": "StyleView",
      "bar_color": null,
      "description_width": ""
     }
    },
    "5f6b52914cae42ae9ff986501b7053c3": {
     "model_module": "@jupyter-widgets/controls",
     "model_module_version": "1.5.0",
     "model_name": "HTMLModel",
     "state": {
      "_dom_classes": [],
      "_model_module": "@jupyter-widgets/controls",
      "_model_module_version": "1.5.0",
      "_model_name": "HTMLModel",
      "_view_count": null,
      "_view_module": "@jupyter-widgets/controls",
      "_view_module_version": "1.5.0",
      "_view_name": "HTMLView",
      "description": "",
      "description_tooltip": null,
      "layout": "IPY_MODEL_995d3fb2ae004307890dbd9518a8ca77",
      "placeholder": "​",
      "style": "IPY_MODEL_f0c9a7e1c99a48d0a635113b44e76e19",
      "value": "tokenizer_config.json: 100%"
     }
    },
    "6033138c6ef14dd894b9a8922dc086fb": {
     "model_module": "@jupyter-widgets/base",
     "model_module_version": "1.2.0",
     "model_name": "LayoutModel",
     "state": {
      "_model_module": "@jupyter-widgets/base",
      "_model_module_version": "1.2.0",
      "_model_name": "LayoutModel",
      "_view_count": null,
      "_view_module": "@jupyter-widgets/base",
      "_view_module_version": "1.2.0",
      "_view_name": "LayoutView",
      "align_content": null,
      "align_items": null,
      "align_self": null,
      "border": null,
      "bottom": null,
      "display": null,
      "flex": null,
      "flex_flow": null,
      "grid_area": null,
      "grid_auto_columns": null,
      "grid_auto_flow": null,
      "grid_auto_rows": null,
      "grid_column": null,
      "grid_gap": null,
      "grid_row": null,
      "grid_template_areas": null,
      "grid_template_columns": null,
      "grid_template_rows": null,
      "height": null,
      "justify_content": null,
      "justify_items": null,
      "left": null,
      "margin": null,
      "max_height": null,
      "max_width": null,
      "min_height": null,
      "min_width": null,
      "object_fit": null,
      "object_position": null,
      "order": null,
      "overflow": null,
      "overflow_x": null,
      "overflow_y": null,
      "padding": null,
      "right": null,
      "top": null,
      "visibility": null,
      "width": null
     }
    },
    "681ba24140a14476b83b890e05f9275c": {
     "model_module": "@jupyter-widgets/controls",
     "model_module_version": "1.5.0",
     "model_name": "DescriptionStyleModel",
     "state": {
      "_model_module": "@jupyter-widgets/controls",
      "_model_module_version": "1.5.0",
      "_model_name": "DescriptionStyleModel",
      "_view_count": null,
      "_view_module": "@jupyter-widgets/base",
      "_view_module_version": "1.2.0",
      "_view_name": "StyleView",
      "description_width": ""
     }
    },
    "6af97085144543949202ed9617b88465": {
     "model_module": "@jupyter-widgets/base",
     "model_module_version": "1.2.0",
     "model_name": "LayoutModel",
     "state": {
      "_model_module": "@jupyter-widgets/base",
      "_model_module_version": "1.2.0",
      "_model_name": "LayoutModel",
      "_view_count": null,
      "_view_module": "@jupyter-widgets/base",
      "_view_module_version": "1.2.0",
      "_view_name": "LayoutView",
      "align_content": null,
      "align_items": null,
      "align_self": null,
      "border": null,
      "bottom": null,
      "display": null,
      "flex": null,
      "flex_flow": null,
      "grid_area": null,
      "grid_auto_columns": null,
      "grid_auto_flow": null,
      "grid_auto_rows": null,
      "grid_column": null,
      "grid_gap": null,
      "grid_row": null,
      "grid_template_areas": null,
      "grid_template_columns": null,
      "grid_template_rows": null,
      "height": null,
      "justify_content": null,
      "justify_items": null,
      "left": null,
      "margin": null,
      "max_height": null,
      "max_width": null,
      "min_height": null,
      "min_width": null,
      "object_fit": null,
      "object_position": null,
      "order": null,
      "overflow": null,
      "overflow_x": null,
      "overflow_y": null,
      "padding": null,
      "right": null,
      "top": null,
      "visibility": null,
      "width": null
     }
    },
    "6c080557128644878b99485be8509e5c": {
     "model_module": "@jupyter-widgets/controls",
     "model_module_version": "1.5.0",
     "model_name": "HTMLModel",
     "state": {
      "_dom_classes": [],
      "_model_module": "@jupyter-widgets/controls",
      "_model_module_version": "1.5.0",
      "_model_name": "HTMLModel",
      "_view_count": null,
      "_view_module": "@jupyter-widgets/controls",
      "_view_module_version": "1.5.0",
      "_view_name": "HTMLView",
      "description": "",
      "description_tooltip": null,
      "layout": "IPY_MODEL_9e844b67ff7d408cbfcb90fc20642d81",
      "placeholder": "​",
      "style": "IPY_MODEL_044606bb2a51456cbbc8f89e7c728b75",
      "value": "Map: 100%"
     }
    },
    "6cf415e122e243bd91a98a4acf3ebe4d": {
     "model_module": "@jupyter-widgets/controls",
     "model_module_version": "1.5.0",
     "model_name": "FloatProgressModel",
     "state": {
      "_dom_classes": [],
      "_model_module": "@jupyter-widgets/controls",
      "_model_module_version": "1.5.0",
      "_model_name": "FloatProgressModel",
      "_view_count": null,
      "_view_module": "@jupyter-widgets/controls",
      "_view_module_version": "1.5.0",
      "_view_name": "ProgressView",
      "bar_style": "success",
      "description": "",
      "description_tooltip": null,
      "layout": "IPY_MODEL_3804183a0bdf4c739624ebb4e5d52db2",
      "max": 895731,
      "min": 0,
      "orientation": "horizontal",
      "style": "IPY_MODEL_ee1f69800ab0472a82c76e77f51a05e2",
      "value": 895731
     }
    },
    "6f52f40c907e4f419480c02e11fb0faf": {
     "model_module": "@jupyter-widgets/base",
     "model_module_version": "1.2.0",
     "model_name": "LayoutModel",
     "state": {
      "_model_module": "@jupyter-widgets/base",
      "_model_module_version": "1.2.0",
      "_model_name": "LayoutModel",
      "_view_count": null,
      "_view_module": "@jupyter-widgets/base",
      "_view_module_version": "1.2.0",
      "_view_name": "LayoutView",
      "align_content": null,
      "align_items": null,
      "align_self": null,
      "border": null,
      "bottom": null,
      "display": null,
      "flex": null,
      "flex_flow": null,
      "grid_area": null,
      "grid_auto_columns": null,
      "grid_auto_flow": null,
      "grid_auto_rows": null,
      "grid_column": null,
      "grid_gap": null,
      "grid_row": null,
      "grid_template_areas": null,
      "grid_template_columns": null,
      "grid_template_rows": null,
      "height": null,
      "justify_content": null,
      "justify_items": null,
      "left": null,
      "margin": null,
      "max_height": null,
      "max_width": null,
      "min_height": null,
      "min_width": null,
      "object_fit": null,
      "object_position": null,
      "order": null,
      "overflow": null,
      "overflow_x": null,
      "overflow_y": null,
      "padding": null,
      "right": null,
      "top": null,
      "visibility": null,
      "width": null
     }
    },
    "7070bc444e4e429fb9a6b9504efb085c": {
     "model_module": "@jupyter-widgets/base",
     "model_module_version": "1.2.0",
     "model_name": "LayoutModel",
     "state": {
      "_model_module": "@jupyter-widgets/base",
      "_model_module_version": "1.2.0",
      "_model_name": "LayoutModel",
      "_view_count": null,
      "_view_module": "@jupyter-widgets/base",
      "_view_module_version": "1.2.0",
      "_view_name": "LayoutView",
      "align_content": null,
      "align_items": null,
      "align_self": null,
      "border": null,
      "bottom": null,
      "display": null,
      "flex": null,
      "flex_flow": null,
      "grid_area": null,
      "grid_auto_columns": null,
      "grid_auto_flow": null,
      "grid_auto_rows": null,
      "grid_column": null,
      "grid_gap": null,
      "grid_row": null,
      "grid_template_areas": null,
      "grid_template_columns": null,
      "grid_template_rows": null,
      "height": null,
      "justify_content": null,
      "justify_items": null,
      "left": null,
      "margin": null,
      "max_height": null,
      "max_width": null,
      "min_height": null,
      "min_width": null,
      "object_fit": null,
      "object_position": null,
      "order": null,
      "overflow": null,
      "overflow_x": null,
      "overflow_y": null,
      "padding": null,
      "right": null,
      "top": null,
      "visibility": null,
      "width": null
     }
    },
    "70ede6264bb0453ba5a01465735499df": {
     "model_module": "@jupyter-widgets/base",
     "model_module_version": "1.2.0",
     "model_name": "LayoutModel",
     "state": {
      "_model_module": "@jupyter-widgets/base",
      "_model_module_version": "1.2.0",
      "_model_name": "LayoutModel",
      "_view_count": null,
      "_view_module": "@jupyter-widgets/base",
      "_view_module_version": "1.2.0",
      "_view_name": "LayoutView",
      "align_content": null,
      "align_items": null,
      "align_self": null,
      "border": null,
      "bottom": null,
      "display": null,
      "flex": null,
      "flex_flow": null,
      "grid_area": null,
      "grid_auto_columns": null,
      "grid_auto_flow": null,
      "grid_auto_rows": null,
      "grid_column": null,
      "grid_gap": null,
      "grid_row": null,
      "grid_template_areas": null,
      "grid_template_columns": null,
      "grid_template_rows": null,
      "height": null,
      "justify_content": null,
      "justify_items": null,
      "left": null,
      "margin": null,
      "max_height": null,
      "max_width": null,
      "min_height": null,
      "min_width": null,
      "object_fit": null,
      "object_position": null,
      "order": null,
      "overflow": null,
      "overflow_x": null,
      "overflow_y": null,
      "padding": null,
      "right": null,
      "top": null,
      "visibility": null,
      "width": null
     }
    },
    "714aecd9e1a846f2ad83832e753706e2": {
     "model_module": "@jupyter-widgets/controls",
     "model_module_version": "1.5.0",
     "model_name": "FloatProgressModel",
     "state": {
      "_dom_classes": [],
      "_model_module": "@jupyter-widgets/controls",
      "_model_module_version": "1.5.0",
      "_model_name": "FloatProgressModel",
      "_view_count": null,
      "_view_module": "@jupyter-widgets/controls",
      "_view_module_version": "1.5.0",
      "_view_name": "ProgressView",
      "bar_style": "success",
      "description": "",
      "description_tooltip": null,
      "layout": "IPY_MODEL_2486af2821204e19bd61ce16a6e94b92",
      "max": 1496,
      "min": 0,
      "orientation": "horizontal",
      "style": "IPY_MODEL_21f3d32156fa4ee48c9087169efa3b75",
      "value": 1496
     }
    },
    "74c0406c7aec4dd380fdf3f8bdf289dc": {
     "model_module": "@jupyter-widgets/controls",
     "model_module_version": "1.5.0",
     "model_name": "HTMLModel",
     "state": {
      "_dom_classes": [],
      "_model_module": "@jupyter-widgets/controls",
      "_model_module_version": "1.5.0",
      "_model_name": "HTMLModel",
      "_view_count": null,
      "_view_module": "@jupyter-widgets/controls",
      "_view_module_version": "1.5.0",
      "_view_name": "HTMLView",
      "description": "",
      "description_tooltip": null,
      "layout": "IPY_MODEL_7e3a89acfe3849a69c777d09ec836edb",
      "placeholder": "​",
      "style": "IPY_MODEL_5168f4dc53024e698c4023db13014869",
      "value": "config.json: 100%"
     }
    },
    "7a5a4cb4de1e4cc791f38eb76999b69a": {
     "model_module": "@jupyter-widgets/base",
     "model_module_version": "1.2.0",
     "model_name": "LayoutModel",
     "state": {
      "_model_module": "@jupyter-widgets/base",
      "_model_module_version": "1.2.0",
      "_model_name": "LayoutModel",
      "_view_count": null,
      "_view_module": "@jupyter-widgets/base",
      "_view_module_version": "1.2.0",
      "_view_name": "LayoutView",
      "align_content": null,
      "align_items": null,
      "align_self": null,
      "border": null,
      "bottom": null,
      "display": null,
      "flex": null,
      "flex_flow": null,
      "grid_area": null,
      "grid_auto_columns": null,
      "grid_auto_flow": null,
      "grid_auto_rows": null,
      "grid_column": null,
      "grid_gap": null,
      "grid_row": null,
      "grid_template_areas": null,
      "grid_template_columns": null,
      "grid_template_rows": null,
      "height": null,
      "justify_content": null,
      "justify_items": null,
      "left": null,
      "margin": null,
      "max_height": null,
      "max_width": null,
      "min_height": null,
      "min_width": null,
      "object_fit": null,
      "object_position": null,
      "order": null,
      "overflow": null,
      "overflow_x": null,
      "overflow_y": null,
      "padding": null,
      "right": null,
      "top": null,
      "visibility": null,
      "width": null
     }
    },
    "7bcfe283a09046edb35dd836b7c1817f": {
     "model_module": "@jupyter-widgets/controls",
     "model_module_version": "1.5.0",
     "model_name": "FloatProgressModel",
     "state": {
      "_dom_classes": [],
      "_model_module": "@jupyter-widgets/controls",
      "_model_module_version": "1.5.0",
      "_model_name": "FloatProgressModel",
      "_view_count": null,
      "_view_module": "@jupyter-widgets/controls",
      "_view_module_version": "1.5.0",
      "_view_name": "ProgressView",
      "bar_style": "success",
      "description": "",
      "description_tooltip": null,
      "layout": "IPY_MODEL_7a5a4cb4de1e4cc791f38eb76999b69a",
      "max": 1561415,
      "min": 0,
      "orientation": "horizontal",
      "style": "IPY_MODEL_929684a7f3244f4bb27c61e14425c329",
      "value": 1561415
     }
    },
    "7e3a89acfe3849a69c777d09ec836edb": {
     "model_module": "@jupyter-widgets/base",
     "model_module_version": "1.2.0",
     "model_name": "LayoutModel",
     "state": {
      "_model_module": "@jupyter-widgets/base",
      "_model_module_version": "1.2.0",
      "_model_name": "LayoutModel",
      "_view_count": null,
      "_view_module": "@jupyter-widgets/base",
      "_view_module_version": "1.2.0",
      "_view_name": "LayoutView",
      "align_content": null,
      "align_items": null,
      "align_self": null,
      "border": null,
      "bottom": null,
      "display": null,
      "flex": null,
      "flex_flow": null,
      "grid_area": null,
      "grid_auto_columns": null,
      "grid_auto_flow": null,
      "grid_auto_rows": null,
      "grid_column": null,
      "grid_gap": null,
      "grid_row": null,
      "grid_template_areas": null,
      "grid_template_columns": null,
      "grid_template_rows": null,
      "height": null,
      "justify_content": null,
      "justify_items": null,
      "left": null,
      "margin": null,
      "max_height": null,
      "max_width": null,
      "min_height": null,
      "min_width": null,
      "object_fit": null,
      "object_position": null,
      "order": null,
      "overflow": null,
      "overflow_x": null,
      "overflow_y": null,
      "padding": null,
      "right": null,
      "top": null,
      "visibility": null,
      "width": null
     }
    },
    "8213a4b3656f49b2a4205b1870edc7d0": {
     "model_module": "@jupyter-widgets/controls",
     "model_module_version": "1.5.0",
     "model_name": "HBoxModel",
     "state": {
      "_dom_classes": [],
      "_model_module": "@jupyter-widgets/controls",
      "_model_module_version": "1.5.0",
      "_model_name": "HBoxModel",
      "_view_count": null,
      "_view_module": "@jupyter-widgets/controls",
      "_view_module_version": "1.5.0",
      "_view_name": "HBoxView",
      "box_style": "",
      "children": [
       "IPY_MODEL_1bda4f8fa987407ba01001f1385dee9e",
       "IPY_MODEL_6cf415e122e243bd91a98a4acf3ebe4d",
       "IPY_MODEL_0f350a1239d34234ab0f38c4a7c7ece0"
      ],
      "layout": "IPY_MODEL_6af97085144543949202ed9617b88465"
     }
    },
    "83d94ac8b6754d289792184d3987e6f9": {
     "model_module": "@jupyter-widgets/controls",
     "model_module_version": "1.5.0",
     "model_name": "FloatProgressModel",
     "state": {
      "_dom_classes": [],
      "_model_module": "@jupyter-widgets/controls",
      "_model_module_version": "1.5.0",
      "_model_name": "FloatProgressModel",
      "_view_count": null,
      "_view_module": "@jupyter-widgets/controls",
      "_view_module_version": "1.5.0",
      "_view_name": "ProgressView",
      "bar_style": "success",
      "description": "",
      "description_tooltip": null,
      "layout": "IPY_MODEL_2ad879074de14116819bc6cc99944f09",
      "max": 553227860,
      "min": 0,
      "orientation": "horizontal",
      "style": "IPY_MODEL_dec8d667ca0c481db428039d93246a9d",
      "value": 553227860
     }
    },
    "863d236e6d6f44a2babf9de2f8992ddb": {
     "model_module": "@jupyter-widgets/base",
     "model_module_version": "1.2.0",
     "model_name": "LayoutModel",
     "state": {
      "_model_module": "@jupyter-widgets/base",
      "_model_module_version": "1.2.0",
      "_model_name": "LayoutModel",
      "_view_count": null,
      "_view_module": "@jupyter-widgets/base",
      "_view_module_version": "1.2.0",
      "_view_name": "LayoutView",
      "align_content": null,
      "align_items": null,
      "align_self": null,
      "border": null,
      "bottom": null,
      "display": null,
      "flex": null,
      "flex_flow": null,
      "grid_area": null,
      "grid_auto_columns": null,
      "grid_auto_flow": null,
      "grid_auto_rows": null,
      "grid_column": null,
      "grid_gap": null,
      "grid_row": null,
      "grid_template_areas": null,
      "grid_template_columns": null,
      "grid_template_rows": null,
      "height": null,
      "justify_content": null,
      "justify_items": null,
      "left": null,
      "margin": null,
      "max_height": null,
      "max_width": null,
      "min_height": null,
      "min_width": null,
      "object_fit": null,
      "object_position": null,
      "order": null,
      "overflow": null,
      "overflow_x": null,
      "overflow_y": null,
      "padding": null,
      "right": null,
      "top": null,
      "visibility": null,
      "width": null
     }
    },
    "870bf1e02e8345839fe68afc011e8556": {
     "model_module": "@jupyter-widgets/controls",
     "model_module_version": "1.5.0",
     "model_name": "DescriptionStyleModel",
     "state": {
      "_model_module": "@jupyter-widgets/controls",
      "_model_module_version": "1.5.0",
      "_model_name": "DescriptionStyleModel",
      "_view_count": null,
      "_view_module": "@jupyter-widgets/base",
      "_view_module_version": "1.2.0",
      "_view_name": "StyleView",
      "description_width": ""
     }
    },
    "929684a7f3244f4bb27c61e14425c329": {
     "model_module": "@jupyter-widgets/controls",
     "model_module_version": "1.5.0",
     "model_name": "ProgressStyleModel",
     "state": {
      "_model_module": "@jupyter-widgets/controls",
      "_model_module_version": "1.5.0",
      "_model_name": "ProgressStyleModel",
      "_view_count": null,
      "_view_module": "@jupyter-widgets/base",
      "_view_module_version": "1.2.0",
      "_view_name": "StyleView",
      "bar_color": null,
      "description_width": ""
     }
    },
    "92e7f7e83c9d4197b625546e6c6959b8": {
     "model_module": "@jupyter-widgets/controls",
     "model_module_version": "1.5.0",
     "model_name": "HBoxModel",
     "state": {
      "_dom_classes": [],
      "_model_module": "@jupyter-widgets/controls",
      "_model_module_version": "1.5.0",
      "_model_name": "HBoxModel",
      "_view_count": null,
      "_view_module": "@jupyter-widgets/controls",
      "_view_module_version": "1.5.0",
      "_view_name": "HBoxView",
      "box_style": "",
      "children": [
       "IPY_MODEL_5f6b52914cae42ae9ff986501b7053c3",
       "IPY_MODEL_1e6458315b52499db3f87d3713d72579",
       "IPY_MODEL_2e2e3d9f58a04dc18b6b14b2c8369950"
      ],
      "layout": "IPY_MODEL_ad7568b62cd24400a3876b33b20488c4"
     }
    },
    "995d3fb2ae004307890dbd9518a8ca77": {
     "model_module": "@jupyter-widgets/base",
     "model_module_version": "1.2.0",
     "model_name": "LayoutModel",
     "state": {
      "_model_module": "@jupyter-widgets/base",
      "_model_module_version": "1.2.0",
      "_model_name": "LayoutModel",
      "_view_count": null,
      "_view_module": "@jupyter-widgets/base",
      "_view_module_version": "1.2.0",
      "_view_name": "LayoutView",
      "align_content": null,
      "align_items": null,
      "align_self": null,
      "border": null,
      "bottom": null,
      "display": null,
      "flex": null,
      "flex_flow": null,
      "grid_area": null,
      "grid_auto_columns": null,
      "grid_auto_flow": null,
      "grid_auto_rows": null,
      "grid_column": null,
      "grid_gap": null,
      "grid_row": null,
      "grid_template_areas": null,
      "grid_template_columns": null,
      "grid_template_rows": null,
      "height": null,
      "justify_content": null,
      "justify_items": null,
      "left": null,
      "margin": null,
      "max_height": null,
      "max_width": null,
      "min_height": null,
      "min_width": null,
      "object_fit": null,
      "object_position": null,
      "order": null,
      "overflow": null,
      "overflow_x": null,
      "overflow_y": null,
      "padding": null,
      "right": null,
      "top": null,
      "visibility": null,
      "width": null
     }
    },
    "9a6e1aac40e245faa3cfdd180402216d": {
     "model_module": "@jupyter-widgets/controls",
     "model_module_version": "1.5.0",
     "model_name": "ProgressStyleModel",
     "state": {
      "_model_module": "@jupyter-widgets/controls",
      "_model_module_version": "1.5.0",
      "_model_name": "ProgressStyleModel",
      "_view_count": null,
      "_view_module": "@jupyter-widgets/base",
      "_view_module_version": "1.2.0",
      "_view_name": "StyleView",
      "bar_color": null,
      "description_width": ""
     }
    },
    "9c57e131810a433ea748a893be63e7a6": {
     "model_module": "@jupyter-widgets/controls",
     "model_module_version": "1.5.0",
     "model_name": "DescriptionStyleModel",
     "state": {
      "_model_module": "@jupyter-widgets/controls",
      "_model_module_version": "1.5.0",
      "_model_name": "DescriptionStyleModel",
      "_view_count": null,
      "_view_module": "@jupyter-widgets/base",
      "_view_module_version": "1.2.0",
      "_view_name": "StyleView",
      "description_width": ""
     }
    },
    "9e406042b31e466d82313cc94a5dcbc4": {
     "model_module": "@jupyter-widgets/controls",
     "model_module_version": "1.5.0",
     "model_name": "ProgressStyleModel",
     "state": {
      "_model_module": "@jupyter-widgets/controls",
      "_model_module_version": "1.5.0",
      "_model_name": "ProgressStyleModel",
      "_view_count": null,
      "_view_module": "@jupyter-widgets/base",
      "_view_module_version": "1.2.0",
      "_view_name": "StyleView",
      "bar_color": null,
      "description_width": ""
     }
    },
    "9e844b67ff7d408cbfcb90fc20642d81": {
     "model_module": "@jupyter-widgets/base",
     "model_module_version": "1.2.0",
     "model_name": "LayoutModel",
     "state": {
      "_model_module": "@jupyter-widgets/base",
      "_model_module_version": "1.2.0",
      "_model_name": "LayoutModel",
      "_view_count": null,
      "_view_module": "@jupyter-widgets/base",
      "_view_module_version": "1.2.0",
      "_view_name": "LayoutView",
      "align_content": null,
      "align_items": null,
      "align_self": null,
      "border": null,
      "bottom": null,
      "display": null,
      "flex": null,
      "flex_flow": null,
      "grid_area": null,
      "grid_auto_columns": null,
      "grid_auto_flow": null,
      "grid_auto_rows": null,
      "grid_column": null,
      "grid_gap": null,
      "grid_row": null,
      "grid_template_areas": null,
      "grid_template_columns": null,
      "grid_template_rows": null,
      "height": null,
      "justify_content": null,
      "justify_items": null,
      "left": null,
      "margin": null,
      "max_height": null,
      "max_width": null,
      "min_height": null,
      "min_width": null,
      "object_fit": null,
      "object_position": null,
      "order": null,
      "overflow": null,
      "overflow_x": null,
      "overflow_y": null,
      "padding": null,
      "right": null,
      "top": null,
      "visibility": null,
      "width": null
     }
    },
    "a03658d05ae240aca40b9fc142f44e64": {
     "model_module": "@jupyter-widgets/base",
     "model_module_version": "1.2.0",
     "model_name": "LayoutModel",
     "state": {
      "_model_module": "@jupyter-widgets/base",
      "_model_module_version": "1.2.0",
      "_model_name": "LayoutModel",
      "_view_count": null,
      "_view_module": "@jupyter-widgets/base",
      "_view_module_version": "1.2.0",
      "_view_name": "LayoutView",
      "align_content": null,
      "align_items": null,
      "align_self": null,
      "border": null,
      "bottom": null,
      "display": null,
      "flex": null,
      "flex_flow": null,
      "grid_area": null,
      "grid_auto_columns": null,
      "grid_auto_flow": null,
      "grid_auto_rows": null,
      "grid_column": null,
      "grid_gap": null,
      "grid_row": null,
      "grid_template_areas": null,
      "grid_template_columns": null,
      "grid_template_rows": null,
      "height": null,
      "justify_content": null,
      "justify_items": null,
      "left": null,
      "margin": null,
      "max_height": null,
      "max_width": null,
      "min_height": null,
      "min_width": null,
      "object_fit": null,
      "object_position": null,
      "order": null,
      "overflow": null,
      "overflow_x": null,
      "overflow_y": null,
      "padding": null,
      "right": null,
      "top": null,
      "visibility": null,
      "width": null
     }
    },
    "a1602309436645778914bd22c2ad4ccc": {
     "model_module": "@jupyter-widgets/base",
     "model_module_version": "1.2.0",
     "model_name": "LayoutModel",
     "state": {
      "_model_module": "@jupyter-widgets/base",
      "_model_module_version": "1.2.0",
      "_model_name": "LayoutModel",
      "_view_count": null,
      "_view_module": "@jupyter-widgets/base",
      "_view_module_version": "1.2.0",
      "_view_name": "LayoutView",
      "align_content": null,
      "align_items": null,
      "align_self": null,
      "border": null,
      "bottom": null,
      "display": null,
      "flex": null,
      "flex_flow": null,
      "grid_area": null,
      "grid_auto_columns": null,
      "grid_auto_flow": null,
      "grid_auto_rows": null,
      "grid_column": null,
      "grid_gap": null,
      "grid_row": null,
      "grid_template_areas": null,
      "grid_template_columns": null,
      "grid_template_rows": null,
      "height": null,
      "justify_content": null,
      "justify_items": null,
      "left": null,
      "margin": null,
      "max_height": null,
      "max_width": null,
      "min_height": null,
      "min_width": null,
      "object_fit": null,
      "object_position": null,
      "order": null,
      "overflow": null,
      "overflow_x": null,
      "overflow_y": null,
      "padding": null,
      "right": null,
      "top": null,
      "visibility": null,
      "width": null
     }
    },
    "aae34eebdef9452f8d69a93908458cac": {
     "model_module": "@jupyter-widgets/controls",
     "model_module_version": "1.5.0",
     "model_name": "DescriptionStyleModel",
     "state": {
      "_model_module": "@jupyter-widgets/controls",
      "_model_module_version": "1.5.0",
      "_model_name": "DescriptionStyleModel",
      "_view_count": null,
      "_view_module": "@jupyter-widgets/base",
      "_view_module_version": "1.2.0",
      "_view_name": "StyleView",
      "description_width": ""
     }
    },
    "abd0fc7b89474b61879a8a03be08632c": {
     "model_module": "@jupyter-widgets/controls",
     "model_module_version": "1.5.0",
     "model_name": "HTMLModel",
     "state": {
      "_dom_classes": [],
      "_model_module": "@jupyter-widgets/controls",
      "_model_module_version": "1.5.0",
      "_model_name": "HTMLModel",
      "_view_count": null,
      "_view_module": "@jupyter-widgets/controls",
      "_view_module_version": "1.5.0",
      "_view_name": "HTMLView",
      "description": "",
      "description_tooltip": null,
      "layout": "IPY_MODEL_219123d02364492b9dd956d81c6639f8",
      "placeholder": "​",
      "style": "IPY_MODEL_f0f72a4e851647039938b365116936d7",
      "value": " 1.56M/1.56M [00:00&lt;00:00, 27.8MB/s]"
     }
    },
    "ad7568b62cd24400a3876b33b20488c4": {
     "model_module": "@jupyter-widgets/base",
     "model_module_version": "1.2.0",
     "model_name": "LayoutModel",
     "state": {
      "_model_module": "@jupyter-widgets/base",
      "_model_module_version": "1.2.0",
      "_model_name": "LayoutModel",
      "_view_count": null,
      "_view_module": "@jupyter-widgets/base",
      "_view_module_version": "1.2.0",
      "_view_name": "LayoutView",
      "align_content": null,
      "align_items": null,
      "align_self": null,
      "border": null,
      "bottom": null,
      "display": null,
      "flex": null,
      "flex_flow": null,
      "grid_area": null,
      "grid_auto_columns": null,
      "grid_auto_flow": null,
      "grid_auto_rows": null,
      "grid_column": null,
      "grid_gap": null,
      "grid_row": null,
      "grid_template_areas": null,
      "grid_template_columns": null,
      "grid_template_rows": null,
      "height": null,
      "justify_content": null,
      "justify_items": null,
      "left": null,
      "margin": null,
      "max_height": null,
      "max_width": null,
      "min_height": null,
      "min_width": null,
      "object_fit": null,
      "object_position": null,
      "order": null,
      "overflow": null,
      "overflow_x": null,
      "overflow_y": null,
      "padding": null,
      "right": null,
      "top": null,
      "visibility": null,
      "width": null
     }
    },
    "afe6b552e7884a3288141de50d6dc27d": {
     "model_module": "@jupyter-widgets/controls",
     "model_module_version": "1.5.0",
     "model_name": "FloatProgressModel",
     "state": {
      "_dom_classes": [],
      "_model_module": "@jupyter-widgets/controls",
      "_model_module_version": "1.5.0",
      "_model_name": "FloatProgressModel",
      "_view_count": null,
      "_view_module": "@jupyter-widgets/controls",
      "_view_module_version": "1.5.0",
      "_view_name": "ProgressView",
      "bar_style": "success",
      "description": "",
      "description_tooltip": null,
      "layout": "IPY_MODEL_e5cb08429a6b4b86af5d7e4dea6ee816",
      "max": 4203,
      "min": 0,
      "orientation": "horizontal",
      "style": "IPY_MODEL_9e406042b31e466d82313cc94a5dcbc4",
      "value": 4203
     }
    },
    "b0bf43811f11481a9e2497df53a0c3cc": {
     "model_module": "@jupyter-widgets/controls",
     "model_module_version": "1.5.0",
     "model_name": "HTMLModel",
     "state": {
      "_dom_classes": [],
      "_model_module": "@jupyter-widgets/controls",
      "_model_module_version": "1.5.0",
      "_model_name": "HTMLModel",
      "_view_count": null,
      "_view_module": "@jupyter-widgets/controls",
      "_view_module_version": "1.5.0",
      "_view_name": "HTMLView",
      "description": "",
      "description_tooltip": null,
      "layout": "IPY_MODEL_1542ebeda48a47179dfd2c95b84cd794",
      "placeholder": "​",
      "style": "IPY_MODEL_32629f9786354cbcacfaa166abd16044",
      "value": " 4.20k/4.20k [00:00&lt;00:00, 316kB/s]"
     }
    },
    "bde18716501a45459ad0bb1400c29d90": {
     "model_module": "@jupyter-widgets/base",
     "model_module_version": "1.2.0",
     "model_name": "LayoutModel",
     "state": {
      "_model_module": "@jupyter-widgets/base",
      "_model_module_version": "1.2.0",
      "_model_name": "LayoutModel",
      "_view_count": null,
      "_view_module": "@jupyter-widgets/base",
      "_view_module_version": "1.2.0",
      "_view_name": "LayoutView",
      "align_content": null,
      "align_items": null,
      "align_self": null,
      "border": null,
      "bottom": null,
      "display": null,
      "flex": null,
      "flex_flow": null,
      "grid_area": null,
      "grid_auto_columns": null,
      "grid_auto_flow": null,
      "grid_auto_rows": null,
      "grid_column": null,
      "grid_gap": null,
      "grid_row": null,
      "grid_template_areas": null,
      "grid_template_columns": null,
      "grid_template_rows": null,
      "height": null,
      "justify_content": null,
      "justify_items": null,
      "left": null,
      "margin": null,
      "max_height": null,
      "max_width": null,
      "min_height": null,
      "min_width": null,
      "object_fit": null,
      "object_position": null,
      "order": null,
      "overflow": null,
      "overflow_x": null,
      "overflow_y": null,
      "padding": null,
      "right": null,
      "top": null,
      "visibility": null,
      "width": null
     }
    },
    "be39ef8674354a3cbecfd29d6b3f86c4": {
     "model_module": "@jupyter-widgets/controls",
     "model_module_version": "1.5.0",
     "model_name": "HBoxModel",
     "state": {
      "_dom_classes": [],
      "_model_module": "@jupyter-widgets/controls",
      "_model_module_version": "1.5.0",
      "_model_name": "HBoxModel",
      "_view_count": null,
      "_view_module": "@jupyter-widgets/controls",
      "_view_module_version": "1.5.0",
      "_view_name": "HBoxView",
      "box_style": "",
      "children": [
       "IPY_MODEL_6c080557128644878b99485be8509e5c",
       "IPY_MODEL_32239e641e2e43eca7db25298932552c",
       "IPY_MODEL_18a4a462a5eb4234b50f05337ef5796b"
      ],
      "layout": "IPY_MODEL_d967f9335fce4a8daa47c7712422e121"
     }
    },
    "c897927f123549d4ab05b2ec7fcf4249": {
     "model_module": "@jupyter-widgets/controls",
     "model_module_version": "1.5.0",
     "model_name": "DescriptionStyleModel",
     "state": {
      "_model_module": "@jupyter-widgets/controls",
      "_model_module_version": "1.5.0",
      "_model_name": "DescriptionStyleModel",
      "_view_count": null,
      "_view_module": "@jupyter-widgets/base",
      "_view_module_version": "1.2.0",
      "_view_name": "StyleView",
      "description_width": ""
     }
    },
    "cbe4e98c71eb4a7cbaa4a315dfb2685a": {
     "model_module": "@jupyter-widgets/controls",
     "model_module_version": "1.5.0",
     "model_name": "HTMLModel",
     "state": {
      "_dom_classes": [],
      "_model_module": "@jupyter-widgets/controls",
      "_model_module_version": "1.5.0",
      "_model_name": "HTMLModel",
      "_view_count": null,
      "_view_module": "@jupyter-widgets/controls",
      "_view_module_version": "1.5.0",
      "_view_name": "HTMLView",
      "description": "",
      "description_tooltip": null,
      "layout": "IPY_MODEL_bde18716501a45459ad0bb1400c29d90",
      "placeholder": "​",
      "style": "IPY_MODEL_565b97c055fb4a8f90a3c0693da416d5",
      "value": "Map: 100%"
     }
    },
    "cf1ec50ae49e42928ee0b7fab958e3ff": {
     "model_module": "@jupyter-widgets/controls",
     "model_module_version": "1.5.0",
     "model_name": "HTMLModel",
     "state": {
      "_dom_classes": [],
      "_model_module": "@jupyter-widgets/controls",
      "_model_module_version": "1.5.0",
      "_model_name": "HTMLModel",
      "_view_count": null,
      "_view_module": "@jupyter-widgets/controls",
      "_view_module_version": "1.5.0",
      "_view_name": "HTMLView",
      "description": "",
      "description_tooltip": null,
      "layout": "IPY_MODEL_fd55b02700e84ede8d8b7ef6f34cd95f",
      "placeholder": "​",
      "style": "IPY_MODEL_9c57e131810a433ea748a893be63e7a6",
      "value": "Downloading builder script: 100%"
     }
    },
    "cf3b199e3815473293eb2d3f49338a7b": {
     "model_module": "@jupyter-widgets/controls",
     "model_module_version": "1.5.0",
     "model_name": "HTMLModel",
     "state": {
      "_dom_classes": [],
      "_model_module": "@jupyter-widgets/controls",
      "_model_module_version": "1.5.0",
      "_model_name": "HTMLModel",
      "_view_count": null,
      "_view_module": "@jupyter-widgets/controls",
      "_view_module_version": "1.5.0",
      "_view_name": "HTMLView",
      "description": "",
      "description_tooltip": null,
      "layout": "IPY_MODEL_a1602309436645778914bd22c2ad4ccc",
      "placeholder": "​",
      "style": "IPY_MODEL_19e7e5c5b90247a88b4e1d1639015da5",
      "value": " 1.50k/1.50k [00:00&lt;00:00, 113kB/s]"
     }
    },
    "d2903bfbba3d4ebca1bd10abdc9b8579": {
     "model_module": "@jupyter-widgets/base",
     "model_module_version": "1.2.0",
     "model_name": "LayoutModel",
     "state": {
      "_model_module": "@jupyter-widgets/base",
      "_model_module_version": "1.2.0",
      "_model_name": "LayoutModel",
      "_view_count": null,
      "_view_module": "@jupyter-widgets/base",
      "_view_module_version": "1.2.0",
      "_view_name": "LayoutView",
      "align_content": null,
      "align_items": null,
      "align_self": null,
      "border": null,
      "bottom": null,
      "display": null,
      "flex": null,
      "flex_flow": null,
      "grid_area": null,
      "grid_auto_columns": null,
      "grid_auto_flow": null,
      "grid_auto_rows": null,
      "grid_column": null,
      "grid_gap": null,
      "grid_row": null,
      "grid_template_areas": null,
      "grid_template_columns": null,
      "grid_template_rows": null,
      "height": null,
      "justify_content": null,
      "justify_items": null,
      "left": null,
      "margin": null,
      "max_height": null,
      "max_width": null,
      "min_height": null,
      "min_width": null,
      "object_fit": null,
      "object_position": null,
      "order": null,
      "overflow": null,
      "overflow_x": null,
      "overflow_y": null,
      "padding": null,
      "right": null,
      "top": null,
      "visibility": null,
      "width": null
     }
    },
    "d2faa7c6dd3e422e9efaa9541d41e4b6": {
     "model_module": "@jupyter-widgets/controls",
     "model_module_version": "1.5.0",
     "model_name": "HBoxModel",
     "state": {
      "_dom_classes": [],
      "_model_module": "@jupyter-widgets/controls",
      "_model_module_version": "1.5.0",
      "_model_name": "HBoxModel",
      "_view_count": null,
      "_view_module": "@jupyter-widgets/controls",
      "_view_module_version": "1.5.0",
      "_view_name": "HBoxView",
      "box_style": "",
      "children": [
       "IPY_MODEL_330768cc63ad44319b355b9f5585d36c",
       "IPY_MODEL_499158111a7d40ccbe9e1bf093ca980d",
       "IPY_MODEL_f20ce84eb4634718a32fdf345f40794c"
      ],
      "layout": "IPY_MODEL_7070bc444e4e429fb9a6b9504efb085c"
     }
    },
    "d675ebc94f914a24ac6057f5521a3e35": {
     "model_module": "@jupyter-widgets/controls",
     "model_module_version": "1.5.0",
     "model_name": "DescriptionStyleModel",
     "state": {
      "_model_module": "@jupyter-widgets/controls",
      "_model_module_version": "1.5.0",
      "_model_name": "DescriptionStyleModel",
      "_view_count": null,
      "_view_module": "@jupyter-widgets/base",
      "_view_module_version": "1.2.0",
      "_view_name": "StyleView",
      "description_width": ""
     }
    },
    "d6fafcf0edcd49ef8a902f3a60cca0ea": {
     "model_module": "@jupyter-widgets/controls",
     "model_module_version": "1.5.0",
     "model_name": "ProgressStyleModel",
     "state": {
      "_model_module": "@jupyter-widgets/controls",
      "_model_module_version": "1.5.0",
      "_model_name": "ProgressStyleModel",
      "_view_count": null,
      "_view_module": "@jupyter-widgets/base",
      "_view_module_version": "1.2.0",
      "_view_name": "StyleView",
      "bar_color": null,
      "description_width": ""
     }
    },
    "d7930e111ea64449997e44be29a401f8": {
     "model_module": "@jupyter-widgets/controls",
     "model_module_version": "1.5.0",
     "model_name": "FloatProgressModel",
     "state": {
      "_dom_classes": [],
      "_model_module": "@jupyter-widgets/controls",
      "_model_module_version": "1.5.0",
      "_model_name": "FloatProgressModel",
      "_view_count": null,
      "_view_module": "@jupyter-widgets/controls",
      "_view_module_version": "1.5.0",
      "_view_name": "ProgressView",
      "bar_style": "success",
      "description": "",
      "description_tooltip": null,
      "layout": "IPY_MODEL_5e9784cb17514f19b00b77822585063e",
      "max": 2338,
      "min": 0,
      "orientation": "horizontal",
      "style": "IPY_MODEL_d6fafcf0edcd49ef8a902f3a60cca0ea",
      "value": 2338
     }
    },
    "d967f9335fce4a8daa47c7712422e121": {
     "model_module": "@jupyter-widgets/base",
     "model_module_version": "1.2.0",
     "model_name": "LayoutModel",
     "state": {
      "_model_module": "@jupyter-widgets/base",
      "_model_module_version": "1.2.0",
      "_model_name": "LayoutModel",
      "_view_count": null,
      "_view_module": "@jupyter-widgets/base",
      "_view_module_version": "1.2.0",
      "_view_name": "LayoutView",
      "align_content": null,
      "align_items": null,
      "align_self": null,
      "border": null,
      "bottom": null,
      "display": null,
      "flex": null,
      "flex_flow": null,
      "grid_area": null,
      "grid_auto_columns": null,
      "grid_auto_flow": null,
      "grid_auto_rows": null,
      "grid_column": null,
      "grid_gap": null,
      "grid_row": null,
      "grid_template_areas": null,
      "grid_template_columns": null,
      "grid_template_rows": null,
      "height": null,
      "justify_content": null,
      "justify_items": null,
      "left": null,
      "margin": null,
      "max_height": null,
      "max_width": null,
      "min_height": null,
      "min_width": null,
      "object_fit": null,
      "object_position": null,
      "order": null,
      "overflow": null,
      "overflow_x": null,
      "overflow_y": null,
      "padding": null,
      "right": null,
      "top": null,
      "visibility": null,
      "width": null
     }
    },
    "daea30b455ce44ffa4a454d0b50dc752": {
     "model_module": "@jupyter-widgets/controls",
     "model_module_version": "1.5.0",
     "model_name": "HBoxModel",
     "state": {
      "_dom_classes": [],
      "_model_module": "@jupyter-widgets/controls",
      "_model_module_version": "1.5.0",
      "_model_name": "HBoxModel",
      "_view_count": null,
      "_view_module": "@jupyter-widgets/controls",
      "_view_module_version": "1.5.0",
      "_view_name": "HBoxView",
      "box_style": "",
      "children": [
       "IPY_MODEL_deefc052a53e437ba461eebd0d50df6f",
       "IPY_MODEL_83d94ac8b6754d289792184d3987e6f9",
       "IPY_MODEL_f7f63b397fd348dc971794143b59a268"
      ],
      "layout": "IPY_MODEL_d2903bfbba3d4ebca1bd10abdc9b8579"
     }
    },
    "dec8d667ca0c481db428039d93246a9d": {
     "model_module": "@jupyter-widgets/controls",
     "model_module_version": "1.5.0",
     "model_name": "ProgressStyleModel",
     "state": {
      "_model_module": "@jupyter-widgets/controls",
      "_model_module_version": "1.5.0",
      "_model_name": "ProgressStyleModel",
      "_view_count": null,
      "_view_module": "@jupyter-widgets/base",
      "_view_module_version": "1.2.0",
      "_view_name": "StyleView",
      "bar_color": null,
      "description_width": ""
     }
    },
    "deefc052a53e437ba461eebd0d50df6f": {
     "model_module": "@jupyter-widgets/controls",
     "model_module_version": "1.5.0",
     "model_name": "HTMLModel",
     "state": {
      "_dom_classes": [],
      "_model_module": "@jupyter-widgets/controls",
      "_model_module_version": "1.5.0",
      "_model_name": "HTMLModel",
      "_view_count": null,
      "_view_module": "@jupyter-widgets/controls",
      "_view_module_version": "1.5.0",
      "_view_name": "HTMLView",
      "description": "",
      "description_tooltip": null,
      "layout": "IPY_MODEL_1f61992dbb9b4c7fad07d58f79cc526a",
      "placeholder": "​",
      "style": "IPY_MODEL_c897927f123549d4ab05b2ec7fcf4249",
      "value": "model.safetensors: 100%"
     }
    },
    "e0b77d6f757a4a8098467e0c6b90bde2": {
     "model_module": "@jupyter-widgets/controls",
     "model_module_version": "1.5.0",
     "model_name": "HBoxModel",
     "state": {
      "_dom_classes": [],
      "_model_module": "@jupyter-widgets/controls",
      "_model_module_version": "1.5.0",
      "_model_name": "HBoxModel",
      "_view_count": null,
      "_view_module": "@jupyter-widgets/controls",
      "_view_module_version": "1.5.0",
      "_view_name": "HBoxView",
      "box_style": "",
      "children": [
       "IPY_MODEL_4198f5a7186c4eeb8e9b246a605f0461",
       "IPY_MODEL_7bcfe283a09046edb35dd836b7c1817f",
       "IPY_MODEL_abd0fc7b89474b61879a8a03be08632c"
      ],
      "layout": "IPY_MODEL_4eb5d2a4947342d9b83e173106da85de"
     }
    },
    "e25b9c05423c4ad9abf1f02eac258e41": {
     "model_module": "@jupyter-widgets/controls",
     "model_module_version": "1.5.0",
     "model_name": "DescriptionStyleModel",
     "state": {
      "_model_module": "@jupyter-widgets/controls",
      "_model_module_version": "1.5.0",
      "_model_name": "DescriptionStyleModel",
      "_view_count": null,
      "_view_module": "@jupyter-widgets/base",
      "_view_module_version": "1.2.0",
      "_view_name": "StyleView",
      "description_width": ""
     }
    },
    "e5cb08429a6b4b86af5d7e4dea6ee816": {
     "model_module": "@jupyter-widgets/base",
     "model_module_version": "1.2.0",
     "model_name": "LayoutModel",
     "state": {
      "_model_module": "@jupyter-widgets/base",
      "_model_module_version": "1.2.0",
      "_model_name": "LayoutModel",
      "_view_count": null,
      "_view_module": "@jupyter-widgets/base",
      "_view_module_version": "1.2.0",
      "_view_name": "LayoutView",
      "align_content": null,
      "align_items": null,
      "align_self": null,
      "border": null,
      "bottom": null,
      "display": null,
      "flex": null,
      "flex_flow": null,
      "grid_area": null,
      "grid_auto_columns": null,
      "grid_auto_flow": null,
      "grid_auto_rows": null,
      "grid_column": null,
      "grid_gap": null,
      "grid_row": null,
      "grid_template_areas": null,
      "grid_template_columns": null,
      "grid_template_rows": null,
      "height": null,
      "justify_content": null,
      "justify_items": null,
      "left": null,
      "margin": null,
      "max_height": null,
      "max_width": null,
      "min_height": null,
      "min_width": null,
      "object_fit": null,
      "object_position": null,
      "order": null,
      "overflow": null,
      "overflow_x": null,
      "overflow_y": null,
      "padding": null,
      "right": null,
      "top": null,
      "visibility": null,
      "width": null
     }
    },
    "e80fbab6ce1743619cbcc0744f58dd24": {
     "model_module": "@jupyter-widgets/base",
     "model_module_version": "1.2.0",
     "model_name": "LayoutModel",
     "state": {
      "_model_module": "@jupyter-widgets/base",
      "_model_module_version": "1.2.0",
      "_model_name": "LayoutModel",
      "_view_count": null,
      "_view_module": "@jupyter-widgets/base",
      "_view_module_version": "1.2.0",
      "_view_name": "LayoutView",
      "align_content": null,
      "align_items": null,
      "align_self": null,
      "border": null,
      "bottom": null,
      "display": null,
      "flex": null,
      "flex_flow": null,
      "grid_area": null,
      "grid_auto_columns": null,
      "grid_auto_flow": null,
      "grid_auto_rows": null,
      "grid_column": null,
      "grid_gap": null,
      "grid_row": null,
      "grid_template_areas": null,
      "grid_template_columns": null,
      "grid_template_rows": null,
      "height": null,
      "justify_content": null,
      "justify_items": null,
      "left": null,
      "margin": null,
      "max_height": null,
      "max_width": null,
      "min_height": null,
      "min_width": null,
      "object_fit": null,
      "object_position": null,
      "order": null,
      "overflow": null,
      "overflow_x": null,
      "overflow_y": null,
      "padding": null,
      "right": null,
      "top": null,
      "visibility": null,
      "width": null
     }
    },
    "eafcdfc124604d2b8a26db36414d31fe": {
     "model_module": "@jupyter-widgets/base",
     "model_module_version": "1.2.0",
     "model_name": "LayoutModel",
     "state": {
      "_model_module": "@jupyter-widgets/base",
      "_model_module_version": "1.2.0",
      "_model_name": "LayoutModel",
      "_view_count": null,
      "_view_module": "@jupyter-widgets/base",
      "_view_module_version": "1.2.0",
      "_view_name": "LayoutView",
      "align_content": null,
      "align_items": null,
      "align_self": null,
      "border": null,
      "bottom": null,
      "display": null,
      "flex": null,
      "flex_flow": null,
      "grid_area": null,
      "grid_auto_columns": null,
      "grid_auto_flow": null,
      "grid_auto_rows": null,
      "grid_column": null,
      "grid_gap": null,
      "grid_row": null,
      "grid_template_areas": null,
      "grid_template_columns": null,
      "grid_template_rows": null,
      "height": null,
      "justify_content": null,
      "justify_items": null,
      "left": null,
      "margin": null,
      "max_height": null,
      "max_width": null,
      "min_height": null,
      "min_width": null,
      "object_fit": null,
      "object_position": null,
      "order": null,
      "overflow": null,
      "overflow_x": null,
      "overflow_y": null,
      "padding": null,
      "right": null,
      "top": null,
      "visibility": null,
      "width": null
     }
    },
    "ed1de7c682b341d69d015cd83773f20b": {
     "model_module": "@jupyter-widgets/base",
     "model_module_version": "1.2.0",
     "model_name": "LayoutModel",
     "state": {
      "_model_module": "@jupyter-widgets/base",
      "_model_module_version": "1.2.0",
      "_model_name": "LayoutModel",
      "_view_count": null,
      "_view_module": "@jupyter-widgets/base",
      "_view_module_version": "1.2.0",
      "_view_name": "LayoutView",
      "align_content": null,
      "align_items": null,
      "align_self": null,
      "border": null,
      "bottom": null,
      "display": null,
      "flex": null,
      "flex_flow": null,
      "grid_area": null,
      "grid_auto_columns": null,
      "grid_auto_flow": null,
      "grid_auto_rows": null,
      "grid_column": null,
      "grid_gap": null,
      "grid_row": null,
      "grid_template_areas": null,
      "grid_template_columns": null,
      "grid_template_rows": null,
      "height": null,
      "justify_content": null,
      "justify_items": null,
      "left": null,
      "margin": null,
      "max_height": null,
      "max_width": null,
      "min_height": null,
      "min_width": null,
      "object_fit": null,
      "object_position": null,
      "order": null,
      "overflow": null,
      "overflow_x": null,
      "overflow_y": null,
      "padding": null,
      "right": null,
      "top": null,
      "visibility": null,
      "width": null
     }
    },
    "ee1f69800ab0472a82c76e77f51a05e2": {
     "model_module": "@jupyter-widgets/controls",
     "model_module_version": "1.5.0",
     "model_name": "ProgressStyleModel",
     "state": {
      "_model_module": "@jupyter-widgets/controls",
      "_model_module_version": "1.5.0",
      "_model_name": "ProgressStyleModel",
      "_view_count": null,
      "_view_module": "@jupyter-widgets/base",
      "_view_module_version": "1.2.0",
      "_view_name": "StyleView",
      "bar_color": null,
      "description_width": ""
     }
    },
    "f0c9a7e1c99a48d0a635113b44e76e19": {
     "model_module": "@jupyter-widgets/controls",
     "model_module_version": "1.5.0",
     "model_name": "DescriptionStyleModel",
     "state": {
      "_model_module": "@jupyter-widgets/controls",
      "_model_module_version": "1.5.0",
      "_model_name": "DescriptionStyleModel",
      "_view_count": null,
      "_view_module": "@jupyter-widgets/base",
      "_view_module_version": "1.2.0",
      "_view_name": "StyleView",
      "description_width": ""
     }
    },
    "f0f72a4e851647039938b365116936d7": {
     "model_module": "@jupyter-widgets/controls",
     "model_module_version": "1.5.0",
     "model_name": "DescriptionStyleModel",
     "state": {
      "_model_module": "@jupyter-widgets/controls",
      "_model_module_version": "1.5.0",
      "_model_name": "DescriptionStyleModel",
      "_view_count": null,
      "_view_module": "@jupyter-widgets/base",
      "_view_module_version": "1.2.0",
      "_view_name": "StyleView",
      "description_width": ""
     }
    },
    "f20ce84eb4634718a32fdf345f40794c": {
     "model_module": "@jupyter-widgets/controls",
     "model_module_version": "1.5.0",
     "model_name": "HTMLModel",
     "state": {
      "_dom_classes": [],
      "_model_module": "@jupyter-widgets/controls",
      "_model_module_version": "1.5.0",
      "_model_name": "HTMLModel",
      "_view_count": null,
      "_view_module": "@jupyter-widgets/controls",
      "_view_module_version": "1.5.0",
      "_view_name": "HTMLView",
      "description": "",
      "description_tooltip": null,
      "layout": "IPY_MODEL_6033138c6ef14dd894b9a8922dc086fb",
      "placeholder": "​",
      "style": "IPY_MODEL_e25b9c05423c4ad9abf1f02eac258e41",
      "value": " 2923/2923 [00:01&lt;00:00, 1788.12 examples/s]"
     }
    },
    "f2fc9dfd31764183ad1aa5c2e116ec0d": {
     "model_module": "@jupyter-widgets/base",
     "model_module_version": "1.2.0",
     "model_name": "LayoutModel",
     "state": {
      "_model_module": "@jupyter-widgets/base",
      "_model_module_version": "1.2.0",
      "_model_name": "LayoutModel",
      "_view_count": null,
      "_view_module": "@jupyter-widgets/base",
      "_view_module_version": "1.2.0",
      "_view_name": "LayoutView",
      "align_content": null,
      "align_items": null,
      "align_self": null,
      "border": null,
      "bottom": null,
      "display": null,
      "flex": null,
      "flex_flow": null,
      "grid_area": null,
      "grid_auto_columns": null,
      "grid_auto_flow": null,
      "grid_auto_rows": null,
      "grid_column": null,
      "grid_gap": null,
      "grid_row": null,
      "grid_template_areas": null,
      "grid_template_columns": null,
      "grid_template_rows": null,
      "height": null,
      "justify_content": null,
      "justify_items": null,
      "left": null,
      "margin": null,
      "max_height": null,
      "max_width": null,
      "min_height": null,
      "min_width": null,
      "object_fit": null,
      "object_position": null,
      "order": null,
      "overflow": null,
      "overflow_x": null,
      "overflow_y": null,
      "padding": null,
      "right": null,
      "top": null,
      "visibility": null,
      "width": null
     }
    },
    "f7f63b397fd348dc971794143b59a268": {
     "model_module": "@jupyter-widgets/controls",
     "model_module_version": "1.5.0",
     "model_name": "HTMLModel",
     "state": {
      "_dom_classes": [],
      "_model_module": "@jupyter-widgets/controls",
      "_model_module_version": "1.5.0",
      "_model_name": "HTMLModel",
      "_view_count": null,
      "_view_module": "@jupyter-widgets/controls",
      "_view_module_version": "1.5.0",
      "_view_name": "HTMLView",
      "description": "",
      "description_tooltip": null,
      "layout": "IPY_MODEL_ed1de7c682b341d69d015cd83773f20b",
      "placeholder": "​",
      "style": "IPY_MODEL_d675ebc94f914a24ac6057f5521a3e35",
      "value": " 553M/553M [00:02&lt;00:00, 211MB/s]"
     }
    },
    "f9d6b42227b645c78e93ac87e05aa4bb": {
     "model_module": "@jupyter-widgets/controls",
     "model_module_version": "1.5.0",
     "model_name": "DescriptionStyleModel",
     "state": {
      "_model_module": "@jupyter-widgets/controls",
      "_model_module_version": "1.5.0",
      "_model_name": "DescriptionStyleModel",
      "_view_count": null,
      "_view_module": "@jupyter-widgets/base",
      "_view_module_version": "1.2.0",
      "_view_name": "StyleView",
      "description_width": ""
     }
    },
    "fd55b02700e84ede8d8b7ef6f34cd95f": {
     "model_module": "@jupyter-widgets/base",
     "model_module_version": "1.2.0",
     "model_name": "LayoutModel",
     "state": {
      "_model_module": "@jupyter-widgets/base",
      "_model_module_version": "1.2.0",
      "_model_name": "LayoutModel",
      "_view_count": null,
      "_view_module": "@jupyter-widgets/base",
      "_view_module_version": "1.2.0",
      "_view_name": "LayoutView",
      "align_content": null,
      "align_items": null,
      "align_self": null,
      "border": null,
      "bottom": null,
      "display": null,
      "flex": null,
      "flex_flow": null,
      "grid_area": null,
      "grid_auto_columns": null,
      "grid_auto_flow": null,
      "grid_auto_rows": null,
      "grid_column": null,
      "grid_gap": null,
      "grid_row": null,
      "grid_template_areas": null,
      "grid_template_columns": null,
      "grid_template_rows": null,
      "height": null,
      "justify_content": null,
      "justify_items": null,
      "left": null,
      "margin": null,
      "max_height": null,
      "max_width": null,
      "min_height": null,
      "min_width": null,
      "object_fit": null,
      "object_position": null,
      "order": null,
      "overflow": null,
      "overflow_x": null,
      "overflow_y": null,
      "padding": null,
      "right": null,
      "top": null,
      "visibility": null,
      "width": null
     }
    }
   }
  }
 },
 "nbformat": 4,
 "nbformat_minor": 4
}
